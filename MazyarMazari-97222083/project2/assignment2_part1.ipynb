{
  "nbformat": 4,
  "nbformat_minor": 0,
  "metadata": {
    "colab": {
      "name": "assignment2_part1.ipynb",
      "provenance": []
    },
    "kernelspec": {
      "name": "python3",
      "display_name": "Python 3"
    },
    "language_info": {
      "name": "python"
    }
  },
  "cells": [
    {
      "cell_type": "markdown",
      "metadata": {
        "id": "PRtCCSrarmPm"
      },
      "source": [
        "## loading data ##"
      ]
    },
    {
      "cell_type": "code",
      "metadata": {
        "colab": {
          "base_uri": "https://localhost:8080/"
        },
        "id": "9nG2Cei4q1mS",
        "outputId": "e76f386a-fd3d-4902-e2ba-e8951cceb0b5"
      },
      "source": [
        "#for access to google drive\n",
        "from google.colab import drive\n",
        "drive.mount('/content/drive')"
      ],
      "execution_count": 1,
      "outputs": [
        {
          "output_type": "stream",
          "text": [
            "Mounted at /content/drive\n"
          ],
          "name": "stdout"
        }
      ]
    },
    {
      "cell_type": "code",
      "metadata": {
        "colab": {
          "base_uri": "https://localhost:8080/"
        },
        "id": "5QwXjvyVsEb_",
        "outputId": "2916c9a0-211e-44df-c41e-89631fcc43d8"
      },
      "source": [
        "!ls 'drive/MyDrive/machine learning university/Apartments in Germany'"
      ],
      "execution_count": 4,
      "outputs": [
        {
          "output_type": "stream",
          "text": [
            "clean_data_x.csv  clean_data_y.csv\n"
          ],
          "name": "stdout"
        }
      ]
    },
    {
      "cell_type": "code",
      "metadata": {
        "id": "pEHVIZDd0dwB"
      },
      "source": [
        "#for read and manipulate data\n",
        "import pandas as pd\n",
        "import seaborn as sns\n",
        "import matplotlib.pyplot as plt\n",
        "%matplotlib inline\n",
        "import numpy as np\n",
        "from sklearn.model_selection import train_test_split\n",
        "from sklearn.preprocessing import StandardScaler\n",
        "from sklearn.preprocessing import LabelEncoder, OneHotEncoder"
      ],
      "execution_count": 6,
      "outputs": []
    },
    {
      "cell_type": "code",
      "metadata": {
        "colab": {
          "base_uri": "https://localhost:8080/",
          "height": 353
        },
        "id": "ox8_dIcJ0HET",
        "outputId": "d15d31ad-1705-4692-9c03-bc007115106f"
      },
      "source": [
        "clean_data_x = pd.read_csv('drive/MyDrive/machine learning university/Apartments in Germany/clean_data_x.csv')\n",
        "clean_data_x.head()"
      ],
      "execution_count": 8,
      "outputs": [
        {
          "output_type": "execute_result",
          "data": {
            "text/html": [
              "<div>\n",
              "<style scoped>\n",
              "    .dataframe tbody tr th:only-of-type {\n",
              "        vertical-align: middle;\n",
              "    }\n",
              "\n",
              "    .dataframe tbody tr th {\n",
              "        vertical-align: top;\n",
              "    }\n",
              "\n",
              "    .dataframe thead th {\n",
              "        text-align: right;\n",
              "    }\n",
              "</style>\n",
              "<table border=\"1\" class=\"dataframe\">\n",
              "  <thead>\n",
              "    <tr style=\"text-align: right;\">\n",
              "      <th></th>\n",
              "      <th>Unnamed: 0</th>\n",
              "      <th>serviceCharge</th>\n",
              "      <th>newlyConst</th>\n",
              "      <th>balcony</th>\n",
              "      <th>picturecount</th>\n",
              "      <th>pricetrend</th>\n",
              "      <th>telekomUploadSpeed</th>\n",
              "      <th>totalRent</th>\n",
              "      <th>yearConstructed</th>\n",
              "      <th>scoutId</th>\n",
              "      <th>hasKitchen</th>\n",
              "      <th>cellar</th>\n",
              "      <th>yearConstructedRange</th>\n",
              "      <th>baseRent</th>\n",
              "      <th>lift</th>\n",
              "      <th>baseRentRange</th>\n",
              "      <th>geo_plz</th>\n",
              "      <th>noRooms</th>\n",
              "      <th>thermalChar</th>\n",
              "      <th>floor</th>\n",
              "      <th>numberOfFloors</th>\n",
              "      <th>noRoomsRange</th>\n",
              "      <th>garden</th>\n",
              "      <th>livingSpaceRange</th>\n",
              "      <th>regio1_Baden_Württemberg</th>\n",
              "      <th>regio1_Bayern</th>\n",
              "      <th>regio1_Berlin</th>\n",
              "      <th>regio1_Brandenburg</th>\n",
              "      <th>regio1_Bremen</th>\n",
              "      <th>regio1_Hamburg</th>\n",
              "      <th>regio1_Hessen</th>\n",
              "      <th>regio1_Mecklenburg_Vorpommern</th>\n",
              "      <th>regio1_Niedersachsen</th>\n",
              "      <th>regio1_Nordrhein_Westfalen</th>\n",
              "      <th>regio1_Rheinland_Pfalz</th>\n",
              "      <th>regio1_Saarland</th>\n",
              "      <th>regio1_Sachsen</th>\n",
              "      <th>regio1_Sachsen_Anhalt</th>\n",
              "      <th>regio1_Schleswig_Holstein</th>\n",
              "      <th>regio1_Thüringen</th>\n",
              "      <th>...</th>\n",
              "      <th>firingTypes_solar_heating:oil</th>\n",
              "      <th>firingTypes_solar_heating:oil:electricity</th>\n",
              "      <th>firingTypes_solar_heating:oil:wood</th>\n",
              "      <th>firingTypes_solar_heating:pellet_heating</th>\n",
              "      <th>firingTypes_solar_heating:pellet_heating:bio_energy</th>\n",
              "      <th>firingTypes_solar_heating:pellet_heating:gas</th>\n",
              "      <th>firingTypes_solar_heating:wood</th>\n",
              "      <th>firingTypes_solar_heating:wood:environmental_thermal_energy</th>\n",
              "      <th>firingTypes_solar_heating:wood_chips</th>\n",
              "      <th>firingTypes_steam_district_heating</th>\n",
              "      <th>firingTypes_wind_energy</th>\n",
              "      <th>firingTypes_wood</th>\n",
              "      <th>firingTypes_wood_chips</th>\n",
              "      <th>condition_first_time_use</th>\n",
              "      <th>condition_first_time_use_after_refurbishment</th>\n",
              "      <th>condition_fully_renovated</th>\n",
              "      <th>condition_mint_condition</th>\n",
              "      <th>condition_modernized</th>\n",
              "      <th>condition_need_of_renovation</th>\n",
              "      <th>condition_negotiable</th>\n",
              "      <th>condition_refurbished</th>\n",
              "      <th>condition_ripe_for_demolition</th>\n",
              "      <th>condition_well_kept</th>\n",
              "      <th>interiorQual_luxury</th>\n",
              "      <th>interiorQual_normal</th>\n",
              "      <th>interiorQual_simple</th>\n",
              "      <th>interiorQual_sophisticated</th>\n",
              "      <th>petsAllowed_negotiable</th>\n",
              "      <th>petsAllowed_no</th>\n",
              "      <th>petsAllowed_yes</th>\n",
              "      <th>typeOfFlat_apartment</th>\n",
              "      <th>typeOfFlat_ground_floor</th>\n",
              "      <th>typeOfFlat_half_basement</th>\n",
              "      <th>typeOfFlat_loft</th>\n",
              "      <th>typeOfFlat_maisonette</th>\n",
              "      <th>typeOfFlat_other</th>\n",
              "      <th>typeOfFlat_penthouse</th>\n",
              "      <th>typeOfFlat_raised_ground_floor</th>\n",
              "      <th>typeOfFlat_roof_storey</th>\n",
              "      <th>typeOfFlat_terraced_flat</th>\n",
              "    </tr>\n",
              "  </thead>\n",
              "  <tbody>\n",
              "    <tr>\n",
              "      <th>0</th>\n",
              "      <td>0</td>\n",
              "      <td>0.308220</td>\n",
              "      <td>False</td>\n",
              "      <td>False</td>\n",
              "      <td>-0.591717</td>\n",
              "      <td>0.628648</td>\n",
              "      <td>-1.229879e+00</td>\n",
              "      <td>-2.002236e-03</td>\n",
              "      <td>-0.033579</td>\n",
              "      <td>-0.868944</td>\n",
              "      <td>False</td>\n",
              "      <td>True</td>\n",
              "      <td>-0.705474</td>\n",
              "      <td>-0.005074</td>\n",
              "      <td>False</td>\n",
              "      <td>0.106010</td>\n",
              "      <td>0.251312</td>\n",
              "      <td>0.515956</td>\n",
              "      <td>1.391175e+00</td>\n",
              "      <td>-3.432713e-01</td>\n",
              "      <td>-1.125204e-01</td>\n",
              "      <td>1.523536</td>\n",
              "      <td>True</td>\n",
              "      <td>0.660359</td>\n",
              "      <td>0</td>\n",
              "      <td>0</td>\n",
              "      <td>0</td>\n",
              "      <td>0</td>\n",
              "      <td>0</td>\n",
              "      <td>0</td>\n",
              "      <td>0</td>\n",
              "      <td>0</td>\n",
              "      <td>0</td>\n",
              "      <td>1</td>\n",
              "      <td>0</td>\n",
              "      <td>0</td>\n",
              "      <td>0</td>\n",
              "      <td>0</td>\n",
              "      <td>0</td>\n",
              "      <td>0</td>\n",
              "      <td>...</td>\n",
              "      <td>0</td>\n",
              "      <td>0</td>\n",
              "      <td>0</td>\n",
              "      <td>0</td>\n",
              "      <td>0</td>\n",
              "      <td>0</td>\n",
              "      <td>0</td>\n",
              "      <td>0</td>\n",
              "      <td>0</td>\n",
              "      <td>0</td>\n",
              "      <td>0</td>\n",
              "      <td>0</td>\n",
              "      <td>0</td>\n",
              "      <td>0</td>\n",
              "      <td>0</td>\n",
              "      <td>0</td>\n",
              "      <td>0</td>\n",
              "      <td>0</td>\n",
              "      <td>0</td>\n",
              "      <td>0</td>\n",
              "      <td>0</td>\n",
              "      <td>0</td>\n",
              "      <td>1</td>\n",
              "      <td>0</td>\n",
              "      <td>1</td>\n",
              "      <td>0</td>\n",
              "      <td>0</td>\n",
              "      <td>1</td>\n",
              "      <td>0</td>\n",
              "      <td>0</td>\n",
              "      <td>0</td>\n",
              "      <td>1</td>\n",
              "      <td>0</td>\n",
              "      <td>0</td>\n",
              "      <td>0</td>\n",
              "      <td>0</td>\n",
              "      <td>0</td>\n",
              "      <td>0</td>\n",
              "      <td>0</td>\n",
              "      <td>0</td>\n",
              "    </tr>\n",
              "    <tr>\n",
              "      <th>1</th>\n",
              "      <td>1</td>\n",
              "      <td>-0.056542</td>\n",
              "      <td>False</td>\n",
              "      <td>True</td>\n",
              "      <td>-0.279627</td>\n",
              "      <td>0.041365</td>\n",
              "      <td>-1.229879e+00</td>\n",
              "      <td>1.060728e-14</td>\n",
              "      <td>-2.287243</td>\n",
              "      <td>0.352699</td>\n",
              "      <td>False</td>\n",
              "      <td>False</td>\n",
              "      <td>-1.116939</td>\n",
              "      <td>0.005419</td>\n",
              "      <td>False</td>\n",
              "      <td>0.557608</td>\n",
              "      <td>1.085543</td>\n",
              "      <td>0.136224</td>\n",
              "      <td>1.341014e-12</td>\n",
              "      <td>1.113710e-13</td>\n",
              "      <td>1.296553e-12</td>\n",
              "      <td>0.456976</td>\n",
              "      <td>False</td>\n",
              "      <td>0.660359</td>\n",
              "      <td>0</td>\n",
              "      <td>0</td>\n",
              "      <td>0</td>\n",
              "      <td>0</td>\n",
              "      <td>0</td>\n",
              "      <td>0</td>\n",
              "      <td>0</td>\n",
              "      <td>0</td>\n",
              "      <td>0</td>\n",
              "      <td>0</td>\n",
              "      <td>1</td>\n",
              "      <td>0</td>\n",
              "      <td>0</td>\n",
              "      <td>0</td>\n",
              "      <td>0</td>\n",
              "      <td>0</td>\n",
              "      <td>...</td>\n",
              "      <td>0</td>\n",
              "      <td>0</td>\n",
              "      <td>0</td>\n",
              "      <td>0</td>\n",
              "      <td>0</td>\n",
              "      <td>0</td>\n",
              "      <td>0</td>\n",
              "      <td>0</td>\n",
              "      <td>0</td>\n",
              "      <td>0</td>\n",
              "      <td>0</td>\n",
              "      <td>0</td>\n",
              "      <td>0</td>\n",
              "      <td>0</td>\n",
              "      <td>0</td>\n",
              "      <td>0</td>\n",
              "      <td>0</td>\n",
              "      <td>0</td>\n",
              "      <td>0</td>\n",
              "      <td>0</td>\n",
              "      <td>1</td>\n",
              "      <td>0</td>\n",
              "      <td>0</td>\n",
              "      <td>0</td>\n",
              "      <td>1</td>\n",
              "      <td>0</td>\n",
              "      <td>0</td>\n",
              "      <td>0</td>\n",
              "      <td>1</td>\n",
              "      <td>0</td>\n",
              "      <td>0</td>\n",
              "      <td>1</td>\n",
              "      <td>0</td>\n",
              "      <td>0</td>\n",
              "      <td>0</td>\n",
              "      <td>0</td>\n",
              "      <td>0</td>\n",
              "      <td>0</td>\n",
              "      <td>0</td>\n",
              "      <td>0</td>\n",
              "    </tr>\n",
              "    <tr>\n",
              "      <th>2</th>\n",
              "      <td>2</td>\n",
              "      <td>0.341081</td>\n",
              "      <td>True</td>\n",
              "      <td>True</td>\n",
              "      <td>-0.279627</td>\n",
              "      <td>-0.341646</td>\n",
              "      <td>-1.726934e+00</td>\n",
              "      <td>1.301498e-02</td>\n",
              "      <td>1.261079</td>\n",
              "      <td>0.494191</td>\n",
              "      <td>False</td>\n",
              "      <td>True</td>\n",
              "      <td>2.174778</td>\n",
              "      <td>0.013865</td>\n",
              "      <td>True</td>\n",
              "      <td>1.009207</td>\n",
              "      <td>-1.301747</td>\n",
              "      <td>0.136224</td>\n",
              "      <td>1.341014e-12</td>\n",
              "      <td>2.684000e-01</td>\n",
              "      <td>8.408414e-02</td>\n",
              "      <td>0.456976</td>\n",
              "      <td>False</td>\n",
              "      <td>0.660359</td>\n",
              "      <td>0</td>\n",
              "      <td>0</td>\n",
              "      <td>0</td>\n",
              "      <td>0</td>\n",
              "      <td>0</td>\n",
              "      <td>0</td>\n",
              "      <td>0</td>\n",
              "      <td>0</td>\n",
              "      <td>0</td>\n",
              "      <td>0</td>\n",
              "      <td>0</td>\n",
              "      <td>0</td>\n",
              "      <td>1</td>\n",
              "      <td>0</td>\n",
              "      <td>0</td>\n",
              "      <td>0</td>\n",
              "      <td>...</td>\n",
              "      <td>0</td>\n",
              "      <td>0</td>\n",
              "      <td>0</td>\n",
              "      <td>0</td>\n",
              "      <td>0</td>\n",
              "      <td>0</td>\n",
              "      <td>0</td>\n",
              "      <td>0</td>\n",
              "      <td>0</td>\n",
              "      <td>0</td>\n",
              "      <td>0</td>\n",
              "      <td>0</td>\n",
              "      <td>0</td>\n",
              "      <td>1</td>\n",
              "      <td>0</td>\n",
              "      <td>0</td>\n",
              "      <td>0</td>\n",
              "      <td>0</td>\n",
              "      <td>0</td>\n",
              "      <td>0</td>\n",
              "      <td>0</td>\n",
              "      <td>0</td>\n",
              "      <td>0</td>\n",
              "      <td>0</td>\n",
              "      <td>0</td>\n",
              "      <td>0</td>\n",
              "      <td>1</td>\n",
              "      <td>1</td>\n",
              "      <td>0</td>\n",
              "      <td>0</td>\n",
              "      <td>1</td>\n",
              "      <td>0</td>\n",
              "      <td>0</td>\n",
              "      <td>0</td>\n",
              "      <td>0</td>\n",
              "      <td>0</td>\n",
              "      <td>0</td>\n",
              "      <td>0</td>\n",
              "      <td>0</td>\n",
              "      <td>0</td>\n",
              "    </tr>\n",
              "    <tr>\n",
              "      <th>3</th>\n",
              "      <td>3</td>\n",
              "      <td>-0.305795</td>\n",
              "      <td>False</td>\n",
              "      <td>True</td>\n",
              "      <td>-0.123581</td>\n",
              "      <td>-0.949357</td>\n",
              "      <td>7.321796e-01</td>\n",
              "      <td>1.060728e-14</td>\n",
              "      <td>-0.057555</td>\n",
              "      <td>0.153687</td>\n",
              "      <td>False</td>\n",
              "      <td>False</td>\n",
              "      <td>-0.705474</td>\n",
              "      <td>-0.017973</td>\n",
              "      <td>False</td>\n",
              "      <td>-0.797187</td>\n",
              "      <td>-0.995898</td>\n",
              "      <td>0.136224</td>\n",
              "      <td>-6.000803e-01</td>\n",
              "      <td>2.684000e-01</td>\n",
              "      <td>1.296553e-12</td>\n",
              "      <td>0.456976</td>\n",
              "      <td>False</td>\n",
              "      <td>-0.760976</td>\n",
              "      <td>0</td>\n",
              "      <td>0</td>\n",
              "      <td>0</td>\n",
              "      <td>0</td>\n",
              "      <td>0</td>\n",
              "      <td>0</td>\n",
              "      <td>0</td>\n",
              "      <td>0</td>\n",
              "      <td>0</td>\n",
              "      <td>0</td>\n",
              "      <td>0</td>\n",
              "      <td>0</td>\n",
              "      <td>1</td>\n",
              "      <td>0</td>\n",
              "      <td>0</td>\n",
              "      <td>0</td>\n",
              "      <td>...</td>\n",
              "      <td>0</td>\n",
              "      <td>0</td>\n",
              "      <td>0</td>\n",
              "      <td>0</td>\n",
              "      <td>0</td>\n",
              "      <td>0</td>\n",
              "      <td>0</td>\n",
              "      <td>0</td>\n",
              "      <td>0</td>\n",
              "      <td>0</td>\n",
              "      <td>0</td>\n",
              "      <td>0</td>\n",
              "      <td>0</td>\n",
              "      <td>0</td>\n",
              "      <td>0</td>\n",
              "      <td>0</td>\n",
              "      <td>0</td>\n",
              "      <td>0</td>\n",
              "      <td>0</td>\n",
              "      <td>0</td>\n",
              "      <td>0</td>\n",
              "      <td>0</td>\n",
              "      <td>1</td>\n",
              "      <td>0</td>\n",
              "      <td>1</td>\n",
              "      <td>0</td>\n",
              "      <td>0</td>\n",
              "      <td>1</td>\n",
              "      <td>0</td>\n",
              "      <td>0</td>\n",
              "      <td>0</td>\n",
              "      <td>0</td>\n",
              "      <td>0</td>\n",
              "      <td>0</td>\n",
              "      <td>0</td>\n",
              "      <td>1</td>\n",
              "      <td>0</td>\n",
              "      <td>0</td>\n",
              "      <td>0</td>\n",
              "      <td>0</td>\n",
              "    </tr>\n",
              "    <tr>\n",
              "      <th>4</th>\n",
              "      <td>4</td>\n",
              "      <td>-0.043397</td>\n",
              "      <td>False</td>\n",
              "      <td>True</td>\n",
              "      <td>1.436871</td>\n",
              "      <td>-0.474423</td>\n",
              "      <td>-2.156249e-13</td>\n",
              "      <td>5.446935e-05</td>\n",
              "      <td>-0.393207</td>\n",
              "      <td>0.622478</td>\n",
              "      <td>False</td>\n",
              "      <td>False</td>\n",
              "      <td>-1.116939</td>\n",
              "      <td>0.003628</td>\n",
              "      <td>False</td>\n",
              "      <td>0.557608</td>\n",
              "      <td>-0.326283</td>\n",
              "      <td>0.136224</td>\n",
              "      <td>1.547720e+00</td>\n",
              "      <td>-3.432713e-01</td>\n",
              "      <td>1.296553e-12</td>\n",
              "      <td>0.456976</td>\n",
              "      <td>False</td>\n",
              "      <td>0.660359</td>\n",
              "      <td>0</td>\n",
              "      <td>0</td>\n",
              "      <td>0</td>\n",
              "      <td>0</td>\n",
              "      <td>1</td>\n",
              "      <td>0</td>\n",
              "      <td>0</td>\n",
              "      <td>0</td>\n",
              "      <td>0</td>\n",
              "      <td>0</td>\n",
              "      <td>0</td>\n",
              "      <td>0</td>\n",
              "      <td>0</td>\n",
              "      <td>0</td>\n",
              "      <td>0</td>\n",
              "      <td>0</td>\n",
              "      <td>...</td>\n",
              "      <td>0</td>\n",
              "      <td>0</td>\n",
              "      <td>0</td>\n",
              "      <td>0</td>\n",
              "      <td>0</td>\n",
              "      <td>0</td>\n",
              "      <td>0</td>\n",
              "      <td>0</td>\n",
              "      <td>0</td>\n",
              "      <td>0</td>\n",
              "      <td>0</td>\n",
              "      <td>0</td>\n",
              "      <td>0</td>\n",
              "      <td>0</td>\n",
              "      <td>0</td>\n",
              "      <td>0</td>\n",
              "      <td>0</td>\n",
              "      <td>0</td>\n",
              "      <td>0</td>\n",
              "      <td>0</td>\n",
              "      <td>1</td>\n",
              "      <td>0</td>\n",
              "      <td>0</td>\n",
              "      <td>0</td>\n",
              "      <td>1</td>\n",
              "      <td>0</td>\n",
              "      <td>0</td>\n",
              "      <td>1</td>\n",
              "      <td>0</td>\n",
              "      <td>0</td>\n",
              "      <td>1</td>\n",
              "      <td>0</td>\n",
              "      <td>0</td>\n",
              "      <td>0</td>\n",
              "      <td>0</td>\n",
              "      <td>0</td>\n",
              "      <td>0</td>\n",
              "      <td>0</td>\n",
              "      <td>0</td>\n",
              "      <td>0</td>\n",
              "    </tr>\n",
              "  </tbody>\n",
              "</table>\n",
              "<p>5 rows × 211 columns</p>\n",
              "</div>"
            ],
            "text/plain": [
              "   Unnamed: 0  serviceCharge  ...  typeOfFlat_roof_storey  typeOfFlat_terraced_flat\n",
              "0           0       0.308220  ...                       0                         0\n",
              "1           1      -0.056542  ...                       0                         0\n",
              "2           2       0.341081  ...                       0                         0\n",
              "3           3      -0.305795  ...                       0                         0\n",
              "4           4      -0.043397  ...                       0                         0\n",
              "\n",
              "[5 rows x 211 columns]"
            ]
          },
          "metadata": {
            "tags": []
          },
          "execution_count": 8
        }
      ]
    },
    {
      "cell_type": "code",
      "metadata": {
        "colab": {
          "base_uri": "https://localhost:8080/",
          "height": 203
        },
        "id": "cfmL6aEX0smi",
        "outputId": "2c7ba436-07cb-474a-dc28-c2ba7f17267d"
      },
      "source": [
        "clean_data_y = pd.read_csv('drive/MyDrive/machine learning university/Apartments in Germany/clean_data_y.csv')\n",
        "clean_data_y.head()"
      ],
      "execution_count": 9,
      "outputs": [
        {
          "output_type": "execute_result",
          "data": {
            "text/html": [
              "<div>\n",
              "<style scoped>\n",
              "    .dataframe tbody tr th:only-of-type {\n",
              "        vertical-align: middle;\n",
              "    }\n",
              "\n",
              "    .dataframe tbody tr th {\n",
              "        vertical-align: top;\n",
              "    }\n",
              "\n",
              "    .dataframe thead th {\n",
              "        text-align: right;\n",
              "    }\n",
              "</style>\n",
              "<table border=\"1\" class=\"dataframe\">\n",
              "  <thead>\n",
              "    <tr style=\"text-align: right;\">\n",
              "      <th></th>\n",
              "      <th>Unnamed: 0</th>\n",
              "      <th>livingSpace</th>\n",
              "    </tr>\n",
              "  </thead>\n",
              "  <tbody>\n",
              "    <tr>\n",
              "      <th>0</th>\n",
              "      <td>0</td>\n",
              "      <td>86.00</td>\n",
              "    </tr>\n",
              "    <tr>\n",
              "      <th>1</th>\n",
              "      <td>1</td>\n",
              "      <td>89.00</td>\n",
              "    </tr>\n",
              "    <tr>\n",
              "      <th>2</th>\n",
              "      <td>2</td>\n",
              "      <td>83.80</td>\n",
              "    </tr>\n",
              "    <tr>\n",
              "      <th>3</th>\n",
              "      <td>3</td>\n",
              "      <td>58.15</td>\n",
              "    </tr>\n",
              "    <tr>\n",
              "      <th>4</th>\n",
              "      <td>4</td>\n",
              "      <td>84.97</td>\n",
              "    </tr>\n",
              "  </tbody>\n",
              "</table>\n",
              "</div>"
            ],
            "text/plain": [
              "   Unnamed: 0  livingSpace\n",
              "0           0        86.00\n",
              "1           1        89.00\n",
              "2           2        83.80\n",
              "3           3        58.15\n",
              "4           4        84.97"
            ]
          },
          "metadata": {
            "tags": []
          },
          "execution_count": 9
        }
      ]
    },
    {
      "cell_type": "markdown",
      "metadata": {
        "id": "7MEh9ZYWBdGc"
      },
      "source": [
        "## Train Test split ##"
      ]
    },
    {
      "cell_type": "code",
      "metadata": {
        "colab": {
          "base_uri": "https://localhost:8080/"
        },
        "id": "4Km-AsY7BaK-",
        "outputId": "d1e3bade-27ab-4025-e991-a60ffe923735"
      },
      "source": [
        "train_size = int(0.8 * clean_data_x.shape[0])\n",
        "train_size"
      ],
      "execution_count": 32,
      "outputs": [
        {
          "output_type": "execute_result",
          "data": {
            "text/plain": [
              "200380"
            ]
          },
          "metadata": {
            "tags": []
          },
          "execution_count": 32
        }
      ]
    },
    {
      "cell_type": "code",
      "metadata": {
        "colab": {
          "base_uri": "https://localhost:8080/"
        },
        "id": "chWYAY7RBn9f",
        "outputId": "e3cdd97a-7435-4ee8-802c-5f44324ae970"
      },
      "source": [
        "x_train = clean_data_x[:train_size]\n",
        "y_train = clean_data_y[:train_size]\n",
        "\n",
        "print(x_train.shape)\n",
        "print(y_train.shape)\n",
        "\n",
        "x_test = clean_data_x[train_size:]\n",
        "y_test = clean_data_y[train_size:]\n",
        "\n",
        "print(x_test.shape)\n",
        "print(y_test.shape)"
      ],
      "execution_count": 33,
      "outputs": [
        {
          "output_type": "stream",
          "text": [
            "(200380, 211)\n",
            "(200380, 2)\n",
            "(50096, 211)\n",
            "(50096, 2)\n"
          ],
          "name": "stdout"
        }
      ]
    },
    {
      "cell_type": "markdown",
      "metadata": {
        "id": "Yb1uScc31B7P"
      },
      "source": [
        "## linear regression ##"
      ]
    },
    {
      "cell_type": "code",
      "metadata": {
        "id": "j_wtw9kF2ngQ"
      },
      "source": [
        "from sklearn.metrics import mean_squared_error\n",
        "\n",
        "class LinearRegression:\n",
        "\n",
        "  def __init__(self, learning_rate=0.1, epochs=100, accuracy_rate=0.1):\n",
        "    self.learning_rate = learning_rate\n",
        "    self.epochs = epochs\n",
        "    self.accuracy_rate = accuracy_rate\n",
        "    self.history = {'loss': [], 'accuracy': []}\n",
        "\n",
        "  def gradient(self, X, y):\n",
        "    return 2/X.shape[0] * np.dot(X.T, (np.dot(X, self.weights) - y))\n",
        "\n",
        "  def fit(self, X, y, Xval, yval):\n",
        "    train = []\n",
        "    for i in range(len(X)):\n",
        "      x = list(X[i])\n",
        "      x.insert(0, 1)\n",
        "      train.append(np.array(x))\n",
        "    train = np.array(train)\n",
        "    self.weights = np.random.rand((train.shape[1]))\n",
        "    for i in range(self.epochs + 1):\n",
        "      pred = self.predict(Xval)\n",
        "      err = mean_squared_error(yval, pred)\n",
        "      acc = self.calculate_accuracy(pred, yval)\n",
        "      self.history['loss'].append(err)\n",
        "      self.history['accuracy'].append(acc)\n",
        "      self.weights = self.weights - self.learning_rate * self.gradient(train, y)\n",
        "\n",
        "  def predict(self, X):\n",
        "    pred = []\n",
        "    for i in range(len(X)):\n",
        "      x = list(X[i])\n",
        "      x.insert(0, 1)\n",
        "      pred.append(np.array(x))\n",
        "    return np.dot(pred, self.weights)\n",
        "\n",
        "  def calculate_accuracy(self, pred, val):\n",
        "    right = 0\n",
        "    for i in range(len(pred)):\n",
        "      if abs(pred[i] - val[i]) <= val[i] * self.accuracy_rate:\n",
        "        right += 1\n",
        "    return right / len(pred)"
      ],
      "execution_count": 35,
      "outputs": []
    },
    {
      "cell_type": "markdown",
      "metadata": {
        "id": "ga4p45J-2xaz"
      },
      "source": [
        "## k_fold ##"
      ]
    },
    {
      "cell_type": "code",
      "metadata": {
        "id": "yiIKuqHx2wER"
      },
      "source": [
        "from sklearn.utils import shuffle\n",
        "\n",
        "def k_fold(Model, X, y, k=10, epochs=50):\n",
        "  X, y = shuffle(X, y, random_state=0)\n",
        "  n = len(y)\n",
        "  X = np.array([X]).T\n",
        "  y = np.array(y)\n",
        "  folds_acc = []\n",
        "  sum = 0\n",
        "  j = 1\n",
        "  for i in range(0, n, n//k):\n",
        "    trainx = np.concatenate((X[0:i], X[i + n//k: n]), axis=0)\n",
        "    trainy = np.concatenate((y[0:i], y[i + n//k: n]), axis=0)\n",
        "    valx = X[i: i + n//k]\n",
        "    valy = y[i: i + n//k]\n",
        "    model = Model(epochs=epochs)\n",
        "    model.fit(trainx, trainy, valx, valy)\n",
        "    folds_acc.append(model.history['accuracy'][-1])\n",
        "    print('fold', j, ':', model.history['accuracy'][-1])\n",
        "    sum += model.history['accuracy'][-1]\n",
        "    j += 1\n",
        "  return sum/k, folds_acc"
      ],
      "execution_count": 36,
      "outputs": []
    },
    {
      "cell_type": "markdown",
      "metadata": {
        "id": "aDtUjIyj4B7m"
      },
      "source": [
        "## most correlated feature regression ##"
      ]
    },
    {
      "cell_type": "code",
      "metadata": {
        "colab": {
          "base_uri": "https://localhost:8080/"
        },
        "id": "2GzqTALi33pg",
        "outputId": "37b07bc5-a461-47b1-e4c8-ea17dccb9fde"
      },
      "source": [
        "x = x_train['livingSpaceRange']\n",
        "y = y_train['livingSpace']\n",
        "print('5-fold:')\n",
        "acc_5_fold, acc_list_5_fold = k_fold(LinearRegression, x, y, k=5)\n",
        "print ('accuracy:', acc_5_fold)\n",
        "\n",
        "print()\n",
        "\n",
        "print('10-fold:')\n",
        "acc_10_fold, acc_list_10_fold = k_fold(LinearRegression, x, y, k=10)\n",
        "print ('accuracy:', acc_10_fold)"
      ],
      "execution_count": 37,
      "outputs": [
        {
          "output_type": "stream",
          "text": [
            "5-fold:\n",
            "fold 1 : 0.5214093222876535\n",
            "fold 2 : 0.5242289649665636\n",
            "fold 3 : 0.5978391056991715\n",
            "fold 4 : 0.517491765645274\n",
            "fold 5 : 0.5242788701467213\n",
            "accuracy: 0.5370496057490768\n",
            "\n",
            "10-fold:\n",
            "fold 1 : 0.5291945303922547\n",
            "fold 2 : 0.5328875137239245\n",
            "fold 3 : 0.5307415909771435\n",
            "fold 4 : 0.528146521608943\n",
            "fold 5 : 0.5724124164088232\n",
            "fold 6 : 0.5639784409621719\n",
            "fold 7 : 0.5264497454835811\n",
            "fold 8 : 0.5260005988621619\n",
            "fold 9 : 0.5317396945802975\n",
            "fold 10 : 0.5287453837708355\n",
            "accuracy: 0.5370296436770137\n"
          ],
          "name": "stdout"
        }
      ]
    },
    {
      "cell_type": "markdown",
      "metadata": {
        "id": "iuHz9t9Q5GWv"
      },
      "source": [
        "## k_fold with pakages ##"
      ]
    },
    {
      "cell_type": "code",
      "metadata": {
        "id": "4F8P87qg5DAH"
      },
      "source": [
        "from sklearn.linear_model import LinearRegression\n",
        "from sklearn.model_selection import cross_val_score\n",
        "from sklearn.metrics import mean_squared_error\n",
        "from sklearn.model_selection import KFold"
      ],
      "execution_count": 38,
      "outputs": []
    },
    {
      "cell_type": "code",
      "metadata": {
        "colab": {
          "base_uri": "https://localhost:8080/"
        },
        "id": "zIgS3ObPC7qU",
        "outputId": "c298e63d-f2c4-4d35-a5be-352fc5d7dd6d"
      },
      "source": [
        "cv = KFold(n_splits=10, random_state=1, shuffle=True)\n",
        "model = LinearRegression()\n",
        "scores = cross_val_score(model, x_train['livingSpaceRange'].values.reshape(-1, 1), y_train['livingSpace']\n",
        "                         , scoring='neg_mean_squared_error', cv=cv)\n",
        "print(scores)"
      ],
      "execution_count": 40,
      "outputs": [
        {
          "output_type": "stream",
          "text": [
            "[-9.15780369e+01 -2.19403221e+05 -9.76805106e+02 -6.14411694e+05\n",
            " -1.06401333e+02 -3.71957236e+03 -1.10673699e+02 -1.07076041e+02\n",
            " -2.34871996e+02 -9.46926305e+01]\n"
          ],
          "name": "stdout"
        }
      ]
    },
    {
      "cell_type": "code",
      "metadata": {
        "colab": {
          "base_uri": "https://localhost:8080/"
        },
        "id": "9JQJ8THhEXq2",
        "outputId": "fe8ab7bc-dc8d-4925-facf-a810c18c4651"
      },
      "source": [
        "cv = KFold(n_splits=10, random_state=1, shuffle=True)\n",
        "model = LinearRegression()\n",
        "scores = cross_val_score(model, x_train[['livingSpaceRange', 'pricetrend', 'thermalChar', 'floor']], y_train['livingSpace']\n",
        "                         , scoring='neg_mean_squared_error', cv=cv)\n",
        "print(scores)"
      ],
      "execution_count": 42,
      "outputs": [
        {
          "output_type": "stream",
          "text": [
            "[-9.18390411e+01 -2.19401704e+05 -9.77462137e+02 -6.14410151e+05\n",
            " -1.06644331e+02 -3.71968867e+03 -1.10758107e+02 -1.07287904e+02\n",
            " -2.35366496e+02 -9.50846027e+01]\n"
          ],
          "name": "stdout"
        }
      ]
    },
    {
      "cell_type": "code",
      "metadata": {
        "colab": {
          "base_uri": "https://localhost:8080/"
        },
        "id": "gq8CHmvJGRtz",
        "outputId": "3b67cc38-599a-41e2-bd2a-053f50f45136"
      },
      "source": [
        "cv = KFold(n_splits=10, random_state=1, shuffle=True)\n",
        "model = LinearRegression()\n",
        "scores = cross_val_score(model, x_train, y_train['livingSpace']\n",
        "                         , scoring='neg_mean_squared_error', cv=cv)\n",
        "print(scores)"
      ],
      "execution_count": 43,
      "outputs": [
        {
          "output_type": "stream",
          "text": [
            "[-1.19956584e+02 -2.19417405e+05 -9.94840463e+02 -6.14468916e+05\n",
            " -1.29051674e+02 -3.73476724e+03 -1.33158944e+02 -1.33394651e+02\n",
            " -2.60580804e+02 -1.22743194e+02]\n"
          ],
          "name": "stdout"
        }
      ]
    },
    {
      "cell_type": "markdown",
      "metadata": {
        "id": "kYJ8fSD4jBlK"
      },
      "source": [
        "## Ridge and Lasso ##"
      ]
    },
    {
      "cell_type": "code",
      "metadata": {
        "id": "lSdCavZuGno3"
      },
      "source": [
        "from sklearn.linear_model import Ridge\n",
        "from sklearn.linear_model import Lasso"
      ],
      "execution_count": 45,
      "outputs": []
    },
    {
      "cell_type": "code",
      "metadata": {
        "colab": {
          "base_uri": "https://localhost:8080/"
        },
        "id": "GXkm1NlNhjWm",
        "outputId": "f517281f-f81e-4e00-dc7e-fc661701b2e5"
      },
      "source": [
        "cv = KFold(n_splits=10, random_state=1, shuffle=True)\n",
        "model = Ridge()\n",
        "scores = cross_val_score(model, x_train, y_train['livingSpace'], scoring='neg_mean_squared_error', cv=cv)\n",
        "print(scores)"
      ],
      "execution_count": 51,
      "outputs": [
        {
          "output_type": "stream",
          "text": [
            "[-1.20018641e+02 -2.19416678e+05 -9.94773279e+02 -6.14467954e+05\n",
            " -1.29273385e+02 -3.73481680e+03 -1.33324155e+02 -1.33148380e+02\n",
            " -2.60635011e+02 -1.22763347e+02]\n"
          ],
          "name": "stdout"
        }
      ]
    },
    {
      "cell_type": "code",
      "metadata": {
        "colab": {
          "base_uri": "https://localhost:8080/"
        },
        "id": "V_OzodLrhvc0",
        "outputId": "cfa2cbc8-a5d2-4037-c88c-da79b38b0120"
      },
      "source": [
        "cv = KFold(n_splits=10, random_state=1, shuffle=True)\n",
        "model = Lasso()\n",
        "scores = cross_val_score(model, x_train, y_train['livingSpace'], scoring='neg_mean_squared_error', cv=cv)\n",
        "print(scores)"
      ],
      "execution_count": 52,
      "outputs": [
        {
          "output_type": "stream",
          "text": [
            "[-8.64977508e+01 -2.19417812e+05 -9.73699754e+02 -6.14438116e+05\n",
            " -1.01990843e+02 -3.71868310e+03 -1.07178888e+02 -1.02551562e+02\n",
            " -2.31626666e+02 -8.99023678e+01]\n"
          ],
          "name": "stdout"
        }
      ]
    }
  ]
}