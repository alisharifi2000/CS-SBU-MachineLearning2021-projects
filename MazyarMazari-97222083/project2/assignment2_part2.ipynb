{
  "nbformat": 4,
  "nbformat_minor": 0,
  "metadata": {
    "colab": {
      "name": "assignment2_part2.ipynb",
      "provenance": []
    },
    "kernelspec": {
      "name": "python3",
      "display_name": "Python 3"
    },
    "language_info": {
      "name": "python"
    }
  },
  "cells": [
    {
      "cell_type": "markdown",
      "metadata": {
        "id": "sF4WinvBjbL6"
      },
      "source": [
        "# mobile price prediction #"
      ]
    },
    {
      "cell_type": "markdown",
      "metadata": {
        "id": "WOFghwkmjnaC"
      },
      "source": [
        "## Loading data ##"
      ]
    },
    {
      "cell_type": "code",
      "metadata": {
        "colab": {
          "base_uri": "https://localhost:8080/"
        },
        "id": "Lv03H0P_jX3N",
        "outputId": "998cad20-2904-4302-d803-1305027bd187"
      },
      "source": [
        "from google.colab import drive\n",
        "drive.mount('/content/drive')"
      ],
      "execution_count": 36,
      "outputs": [
        {
          "output_type": "stream",
          "text": [
            "Drive already mounted at /content/drive; to attempt to forcibly remount, call drive.mount(\"/content/drive\", force_remount=True).\n"
          ],
          "name": "stdout"
        }
      ]
    },
    {
      "cell_type": "code",
      "metadata": {
        "colab": {
          "base_uri": "https://localhost:8080/"
        },
        "id": "rFDNlRlekuRl",
        "outputId": "7be4bcd0-7b39-4ffb-bca7-ade761889f69"
      },
      "source": [
        "!ls 'drive/MyDrive/machine learning university/mobile price prediction'"
      ],
      "execution_count": 37,
      "outputs": [
        {
          "output_type": "stream",
          "text": [
            "test.csv  train.csv\n"
          ],
          "name": "stdout"
        }
      ]
    },
    {
      "cell_type": "code",
      "metadata": {
        "id": "rMtpEhSlk0HU"
      },
      "source": [
        "#for read and manipulate data\n",
        "import pandas as pd\n",
        "import seaborn as sns\n",
        "import matplotlib.pyplot as plt\n",
        "%matplotlib inline\n",
        "import numpy as np\n",
        "from sklearn.model_selection import train_test_split\n",
        "from sklearn.preprocessing import StandardScaler\n",
        "from sklearn.preprocessing import LabelEncoder, OneHotEncoder"
      ],
      "execution_count": 38,
      "outputs": []
    },
    {
      "cell_type": "code",
      "metadata": {
        "colab": {
          "base_uri": "https://localhost:8080/",
          "height": 0
        },
        "id": "xin7NAOBk01L",
        "outputId": "1e594cd7-76dd-4dae-9aa9-f2d9eb206456"
      },
      "source": [
        "train = pd.read_csv('drive/MyDrive/machine learning university/mobile price prediction/train.csv')\n",
        "train.head()"
      ],
      "execution_count": 39,
      "outputs": [
        {
          "output_type": "execute_result",
          "data": {
            "text/html": [
              "<div>\n",
              "<style scoped>\n",
              "    .dataframe tbody tr th:only-of-type {\n",
              "        vertical-align: middle;\n",
              "    }\n",
              "\n",
              "    .dataframe tbody tr th {\n",
              "        vertical-align: top;\n",
              "    }\n",
              "\n",
              "    .dataframe thead th {\n",
              "        text-align: right;\n",
              "    }\n",
              "</style>\n",
              "<table border=\"1\" class=\"dataframe\">\n",
              "  <thead>\n",
              "    <tr style=\"text-align: right;\">\n",
              "      <th></th>\n",
              "      <th>battery_power</th>\n",
              "      <th>blue</th>\n",
              "      <th>clock_speed</th>\n",
              "      <th>dual_sim</th>\n",
              "      <th>fc</th>\n",
              "      <th>four_g</th>\n",
              "      <th>int_memory</th>\n",
              "      <th>m_dep</th>\n",
              "      <th>mobile_wt</th>\n",
              "      <th>n_cores</th>\n",
              "      <th>pc</th>\n",
              "      <th>px_height</th>\n",
              "      <th>px_width</th>\n",
              "      <th>ram</th>\n",
              "      <th>sc_h</th>\n",
              "      <th>sc_w</th>\n",
              "      <th>talk_time</th>\n",
              "      <th>three_g</th>\n",
              "      <th>touch_screen</th>\n",
              "      <th>wifi</th>\n",
              "      <th>price_range</th>\n",
              "    </tr>\n",
              "  </thead>\n",
              "  <tbody>\n",
              "    <tr>\n",
              "      <th>0</th>\n",
              "      <td>842</td>\n",
              "      <td>0</td>\n",
              "      <td>2.2</td>\n",
              "      <td>0</td>\n",
              "      <td>1</td>\n",
              "      <td>0</td>\n",
              "      <td>7</td>\n",
              "      <td>0.6</td>\n",
              "      <td>188</td>\n",
              "      <td>2</td>\n",
              "      <td>2</td>\n",
              "      <td>20</td>\n",
              "      <td>756</td>\n",
              "      <td>2549</td>\n",
              "      <td>9</td>\n",
              "      <td>7</td>\n",
              "      <td>19</td>\n",
              "      <td>0</td>\n",
              "      <td>0</td>\n",
              "      <td>1</td>\n",
              "      <td>1</td>\n",
              "    </tr>\n",
              "    <tr>\n",
              "      <th>1</th>\n",
              "      <td>1021</td>\n",
              "      <td>1</td>\n",
              "      <td>0.5</td>\n",
              "      <td>1</td>\n",
              "      <td>0</td>\n",
              "      <td>1</td>\n",
              "      <td>53</td>\n",
              "      <td>0.7</td>\n",
              "      <td>136</td>\n",
              "      <td>3</td>\n",
              "      <td>6</td>\n",
              "      <td>905</td>\n",
              "      <td>1988</td>\n",
              "      <td>2631</td>\n",
              "      <td>17</td>\n",
              "      <td>3</td>\n",
              "      <td>7</td>\n",
              "      <td>1</td>\n",
              "      <td>1</td>\n",
              "      <td>0</td>\n",
              "      <td>2</td>\n",
              "    </tr>\n",
              "    <tr>\n",
              "      <th>2</th>\n",
              "      <td>563</td>\n",
              "      <td>1</td>\n",
              "      <td>0.5</td>\n",
              "      <td>1</td>\n",
              "      <td>2</td>\n",
              "      <td>1</td>\n",
              "      <td>41</td>\n",
              "      <td>0.9</td>\n",
              "      <td>145</td>\n",
              "      <td>5</td>\n",
              "      <td>6</td>\n",
              "      <td>1263</td>\n",
              "      <td>1716</td>\n",
              "      <td>2603</td>\n",
              "      <td>11</td>\n",
              "      <td>2</td>\n",
              "      <td>9</td>\n",
              "      <td>1</td>\n",
              "      <td>1</td>\n",
              "      <td>0</td>\n",
              "      <td>2</td>\n",
              "    </tr>\n",
              "    <tr>\n",
              "      <th>3</th>\n",
              "      <td>615</td>\n",
              "      <td>1</td>\n",
              "      <td>2.5</td>\n",
              "      <td>0</td>\n",
              "      <td>0</td>\n",
              "      <td>0</td>\n",
              "      <td>10</td>\n",
              "      <td>0.8</td>\n",
              "      <td>131</td>\n",
              "      <td>6</td>\n",
              "      <td>9</td>\n",
              "      <td>1216</td>\n",
              "      <td>1786</td>\n",
              "      <td>2769</td>\n",
              "      <td>16</td>\n",
              "      <td>8</td>\n",
              "      <td>11</td>\n",
              "      <td>1</td>\n",
              "      <td>0</td>\n",
              "      <td>0</td>\n",
              "      <td>2</td>\n",
              "    </tr>\n",
              "    <tr>\n",
              "      <th>4</th>\n",
              "      <td>1821</td>\n",
              "      <td>1</td>\n",
              "      <td>1.2</td>\n",
              "      <td>0</td>\n",
              "      <td>13</td>\n",
              "      <td>1</td>\n",
              "      <td>44</td>\n",
              "      <td>0.6</td>\n",
              "      <td>141</td>\n",
              "      <td>2</td>\n",
              "      <td>14</td>\n",
              "      <td>1208</td>\n",
              "      <td>1212</td>\n",
              "      <td>1411</td>\n",
              "      <td>8</td>\n",
              "      <td>2</td>\n",
              "      <td>15</td>\n",
              "      <td>1</td>\n",
              "      <td>1</td>\n",
              "      <td>0</td>\n",
              "      <td>1</td>\n",
              "    </tr>\n",
              "  </tbody>\n",
              "</table>\n",
              "</div>"
            ],
            "text/plain": [
              "   battery_power  blue  clock_speed  ...  touch_screen  wifi  price_range\n",
              "0            842     0          2.2  ...             0     1            1\n",
              "1           1021     1          0.5  ...             1     0            2\n",
              "2            563     1          0.5  ...             1     0            2\n",
              "3            615     1          2.5  ...             0     0            2\n",
              "4           1821     1          1.2  ...             1     0            1\n",
              "\n",
              "[5 rows x 21 columns]"
            ]
          },
          "metadata": {
            "tags": []
          },
          "execution_count": 39
        }
      ]
    },
    {
      "cell_type": "code",
      "metadata": {
        "colab": {
          "base_uri": "https://localhost:8080/"
        },
        "id": "Z41ICniNlN-9",
        "outputId": "a2a1836e-16e2-48d6-aef4-9196de06ae65"
      },
      "source": [
        "train.shape"
      ],
      "execution_count": 40,
      "outputs": [
        {
          "output_type": "execute_result",
          "data": {
            "text/plain": [
              "(2000, 21)"
            ]
          },
          "metadata": {
            "tags": []
          },
          "execution_count": 40
        }
      ]
    },
    {
      "cell_type": "code",
      "metadata": {
        "colab": {
          "base_uri": "https://localhost:8080/"
        },
        "id": "FyD658V1lSpY",
        "outputId": "af1db171-2a50-44bd-952e-1b519fdbf7fd"
      },
      "source": [
        "train.isna().sum()"
      ],
      "execution_count": 41,
      "outputs": [
        {
          "output_type": "execute_result",
          "data": {
            "text/plain": [
              "battery_power    0\n",
              "blue             0\n",
              "clock_speed      0\n",
              "dual_sim         0\n",
              "fc               0\n",
              "four_g           0\n",
              "int_memory       0\n",
              "m_dep            0\n",
              "mobile_wt        0\n",
              "n_cores          0\n",
              "pc               0\n",
              "px_height        0\n",
              "px_width         0\n",
              "ram              0\n",
              "sc_h             0\n",
              "sc_w             0\n",
              "talk_time        0\n",
              "three_g          0\n",
              "touch_screen     0\n",
              "wifi             0\n",
              "price_range      0\n",
              "dtype: int64"
            ]
          },
          "metadata": {
            "tags": []
          },
          "execution_count": 41
        }
      ]
    },
    {
      "cell_type": "code",
      "metadata": {
        "colab": {
          "base_uri": "https://localhost:8080/"
        },
        "id": "_J0DqkZBlYWo",
        "outputId": "021cad30-88e8-4053-a87a-d66092f29f86"
      },
      "source": [
        "train.info()"
      ],
      "execution_count": 42,
      "outputs": [
        {
          "output_type": "stream",
          "text": [
            "<class 'pandas.core.frame.DataFrame'>\n",
            "RangeIndex: 2000 entries, 0 to 1999\n",
            "Data columns (total 21 columns):\n",
            " #   Column         Non-Null Count  Dtype  \n",
            "---  ------         --------------  -----  \n",
            " 0   battery_power  2000 non-null   int64  \n",
            " 1   blue           2000 non-null   int64  \n",
            " 2   clock_speed    2000 non-null   float64\n",
            " 3   dual_sim       2000 non-null   int64  \n",
            " 4   fc             2000 non-null   int64  \n",
            " 5   four_g         2000 non-null   int64  \n",
            " 6   int_memory     2000 non-null   int64  \n",
            " 7   m_dep          2000 non-null   float64\n",
            " 8   mobile_wt      2000 non-null   int64  \n",
            " 9   n_cores        2000 non-null   int64  \n",
            " 10  pc             2000 non-null   int64  \n",
            " 11  px_height      2000 non-null   int64  \n",
            " 12  px_width       2000 non-null   int64  \n",
            " 13  ram            2000 non-null   int64  \n",
            " 14  sc_h           2000 non-null   int64  \n",
            " 15  sc_w           2000 non-null   int64  \n",
            " 16  talk_time      2000 non-null   int64  \n",
            " 17  three_g        2000 non-null   int64  \n",
            " 18  touch_screen   2000 non-null   int64  \n",
            " 19  wifi           2000 non-null   int64  \n",
            " 20  price_range    2000 non-null   int64  \n",
            "dtypes: float64(2), int64(19)\n",
            "memory usage: 328.2 KB\n"
          ],
          "name": "stdout"
        }
      ]
    },
    {
      "cell_type": "code",
      "metadata": {
        "colab": {
          "base_uri": "https://localhost:8080/"
        },
        "id": "InKuAPtnl6wQ",
        "outputId": "e04abefd-842e-46c1-d281-039c5be94f4a"
      },
      "source": [
        "train.price_range.nunique()"
      ],
      "execution_count": 43,
      "outputs": [
        {
          "output_type": "execute_result",
          "data": {
            "text/plain": [
              "4"
            ]
          },
          "metadata": {
            "tags": []
          },
          "execution_count": 43
        }
      ]
    },
    {
      "cell_type": "code",
      "metadata": {
        "colab": {
          "base_uri": "https://localhost:8080/",
          "height": 0
        },
        "id": "X7aIs--CmRHr",
        "outputId": "580cf501-07ba-4596-9b9b-3b73980d2546"
      },
      "source": [
        "train.groupby(['price_range']).count()"
      ],
      "execution_count": 44,
      "outputs": [
        {
          "output_type": "execute_result",
          "data": {
            "text/html": [
              "<div>\n",
              "<style scoped>\n",
              "    .dataframe tbody tr th:only-of-type {\n",
              "        vertical-align: middle;\n",
              "    }\n",
              "\n",
              "    .dataframe tbody tr th {\n",
              "        vertical-align: top;\n",
              "    }\n",
              "\n",
              "    .dataframe thead th {\n",
              "        text-align: right;\n",
              "    }\n",
              "</style>\n",
              "<table border=\"1\" class=\"dataframe\">\n",
              "  <thead>\n",
              "    <tr style=\"text-align: right;\">\n",
              "      <th></th>\n",
              "      <th>battery_power</th>\n",
              "      <th>blue</th>\n",
              "      <th>clock_speed</th>\n",
              "      <th>dual_sim</th>\n",
              "      <th>fc</th>\n",
              "      <th>four_g</th>\n",
              "      <th>int_memory</th>\n",
              "      <th>m_dep</th>\n",
              "      <th>mobile_wt</th>\n",
              "      <th>n_cores</th>\n",
              "      <th>pc</th>\n",
              "      <th>px_height</th>\n",
              "      <th>px_width</th>\n",
              "      <th>ram</th>\n",
              "      <th>sc_h</th>\n",
              "      <th>sc_w</th>\n",
              "      <th>talk_time</th>\n",
              "      <th>three_g</th>\n",
              "      <th>touch_screen</th>\n",
              "      <th>wifi</th>\n",
              "    </tr>\n",
              "    <tr>\n",
              "      <th>price_range</th>\n",
              "      <th></th>\n",
              "      <th></th>\n",
              "      <th></th>\n",
              "      <th></th>\n",
              "      <th></th>\n",
              "      <th></th>\n",
              "      <th></th>\n",
              "      <th></th>\n",
              "      <th></th>\n",
              "      <th></th>\n",
              "      <th></th>\n",
              "      <th></th>\n",
              "      <th></th>\n",
              "      <th></th>\n",
              "      <th></th>\n",
              "      <th></th>\n",
              "      <th></th>\n",
              "      <th></th>\n",
              "      <th></th>\n",
              "      <th></th>\n",
              "    </tr>\n",
              "  </thead>\n",
              "  <tbody>\n",
              "    <tr>\n",
              "      <th>0</th>\n",
              "      <td>500</td>\n",
              "      <td>500</td>\n",
              "      <td>500</td>\n",
              "      <td>500</td>\n",
              "      <td>500</td>\n",
              "      <td>500</td>\n",
              "      <td>500</td>\n",
              "      <td>500</td>\n",
              "      <td>500</td>\n",
              "      <td>500</td>\n",
              "      <td>500</td>\n",
              "      <td>500</td>\n",
              "      <td>500</td>\n",
              "      <td>500</td>\n",
              "      <td>500</td>\n",
              "      <td>500</td>\n",
              "      <td>500</td>\n",
              "      <td>500</td>\n",
              "      <td>500</td>\n",
              "      <td>500</td>\n",
              "    </tr>\n",
              "    <tr>\n",
              "      <th>1</th>\n",
              "      <td>500</td>\n",
              "      <td>500</td>\n",
              "      <td>500</td>\n",
              "      <td>500</td>\n",
              "      <td>500</td>\n",
              "      <td>500</td>\n",
              "      <td>500</td>\n",
              "      <td>500</td>\n",
              "      <td>500</td>\n",
              "      <td>500</td>\n",
              "      <td>500</td>\n",
              "      <td>500</td>\n",
              "      <td>500</td>\n",
              "      <td>500</td>\n",
              "      <td>500</td>\n",
              "      <td>500</td>\n",
              "      <td>500</td>\n",
              "      <td>500</td>\n",
              "      <td>500</td>\n",
              "      <td>500</td>\n",
              "    </tr>\n",
              "    <tr>\n",
              "      <th>2</th>\n",
              "      <td>500</td>\n",
              "      <td>500</td>\n",
              "      <td>500</td>\n",
              "      <td>500</td>\n",
              "      <td>500</td>\n",
              "      <td>500</td>\n",
              "      <td>500</td>\n",
              "      <td>500</td>\n",
              "      <td>500</td>\n",
              "      <td>500</td>\n",
              "      <td>500</td>\n",
              "      <td>500</td>\n",
              "      <td>500</td>\n",
              "      <td>500</td>\n",
              "      <td>500</td>\n",
              "      <td>500</td>\n",
              "      <td>500</td>\n",
              "      <td>500</td>\n",
              "      <td>500</td>\n",
              "      <td>500</td>\n",
              "    </tr>\n",
              "    <tr>\n",
              "      <th>3</th>\n",
              "      <td>500</td>\n",
              "      <td>500</td>\n",
              "      <td>500</td>\n",
              "      <td>500</td>\n",
              "      <td>500</td>\n",
              "      <td>500</td>\n",
              "      <td>500</td>\n",
              "      <td>500</td>\n",
              "      <td>500</td>\n",
              "      <td>500</td>\n",
              "      <td>500</td>\n",
              "      <td>500</td>\n",
              "      <td>500</td>\n",
              "      <td>500</td>\n",
              "      <td>500</td>\n",
              "      <td>500</td>\n",
              "      <td>500</td>\n",
              "      <td>500</td>\n",
              "      <td>500</td>\n",
              "      <td>500</td>\n",
              "    </tr>\n",
              "  </tbody>\n",
              "</table>\n",
              "</div>"
            ],
            "text/plain": [
              "             battery_power  blue  clock_speed  ...  three_g  touch_screen  wifi\n",
              "price_range                                    ...                             \n",
              "0                      500   500          500  ...      500           500   500\n",
              "1                      500   500          500  ...      500           500   500\n",
              "2                      500   500          500  ...      500           500   500\n",
              "3                      500   500          500  ...      500           500   500\n",
              "\n",
              "[4 rows x 20 columns]"
            ]
          },
          "metadata": {
            "tags": []
          },
          "execution_count": 44
        }
      ]
    },
    {
      "cell_type": "code",
      "metadata": {
        "colab": {
          "base_uri": "https://localhost:8080/",
          "height": 0
        },
        "id": "5Nw9Lvz7tVXc",
        "outputId": "9fbc4912-bf13-4ecd-cc39-0da5ee61f924"
      },
      "source": [
        "plt.hist(train.price_range)\n",
        "plt.xlabel('price_range')\n",
        "plt.ylabel('count')"
      ],
      "execution_count": 45,
      "outputs": [
        {
          "output_type": "execute_result",
          "data": {
            "text/plain": [
              "Text(0, 0.5, 'count')"
            ]
          },
          "metadata": {
            "tags": []
          },
          "execution_count": 45
        },
        {
          "output_type": "display_data",
          "data": {
            "image/png": "[encoded data removed]",
            "text/plain": [
              "<Figure size 432x288 with 1 Axes>"
            ]
          },
          "metadata": {
            "tags": [],
            "needs_background": "light"
          }
        }
      ]
    },
    {
      "cell_type": "markdown",
      "metadata": {
        "id": "7LgbwamepO54"
      },
      "source": [
        "## train test split ##"
      ]
    },
    {
      "cell_type": "code",
      "metadata": {
        "id": "dQztPDfwpRKe"
      },
      "source": [
        "x_train, x_test, y_train, y_test = train_test_split(train.drop(columns=['price_range']), train.price_range, test_size=0.2, random_state=0)"
      ],
      "execution_count": 46,
      "outputs": []
    },
    {
      "cell_type": "code",
      "metadata": {
        "colab": {
          "base_uri": "https://localhost:8080/"
        },
        "id": "7Zrx-4DGpsIb",
        "outputId": "112d82f0-bd92-44f2-9671-67f080249214"
      },
      "source": [
        "x_train.shape, x_test.shape, y_train.shape, y_test.shape"
      ],
      "execution_count": 47,
      "outputs": [
        {
          "output_type": "execute_result",
          "data": {
            "text/plain": [
              "((1600, 20), (400, 20), (1600,), (400,))"
            ]
          },
          "metadata": {
            "tags": []
          },
          "execution_count": 47
        }
      ]
    },
    {
      "cell_type": "markdown",
      "metadata": {
        "id": "-iF_0R-xnSSV"
      },
      "source": [
        "## Logistic Regression ##"
      ]
    },
    {
      "cell_type": "code",
      "metadata": {
        "colab": {
          "base_uri": "https://localhost:8080/"
        },
        "id": "YqO5CRH5nFZW",
        "outputId": "4a300edf-5695-4ced-98de-f80f84b9422f"
      },
      "source": [
        "from sklearn.linear_model import LogisticRegression\n",
        "logisticReg = LogisticRegression()\n",
        "logisticReg.fit(x_train, y_train)\n",
        "y_prd = logisticReg.predict(x_test)"
      ],
      "execution_count": 48,
      "outputs": [
        {
          "output_type": "stream",
          "text": [
            "/usr/local/lib/python3.7/dist-packages/sklearn/linear_model/_logistic.py:940: ConvergenceWarning: lbfgs failed to converge (status=1):\n",
            "STOP: TOTAL NO. of ITERATIONS REACHED LIMIT.\n",
            "\n",
            "Increase the number of iterations (max_iter) or scale the data as shown in:\n",
            "    https://scikit-learn.org/stable/modules/preprocessing.html\n",
            "Please also refer to the documentation for alternative solver options:\n",
            "    https://scikit-learn.org/stable/modules/linear_model.html#logistic-regression\n",
            "  extra_warning_msg=_LOGISTIC_SOLVER_CONVERGENCE_MSG)\n"
          ],
          "name": "stderr"
        }
      ]
    },
    {
      "cell_type": "code",
      "metadata": {
        "colab": {
          "base_uri": "https://localhost:8080/"
        },
        "id": "WBmCft5IrSax",
        "outputId": "b8739dc1-1f2d-4fa1-8328-decf58d6b1fd"
      },
      "source": [
        "from sklearn.metrics import precision_recall_fscore_support\n",
        "\n",
        "percision, recall, f1score, support = precision_recall_fscore_support(y_test, y_prd)\n",
        "print('percision:', percision)\n",
        "print('recall:', recall)\n",
        "print('f1score:', f1score)"
      ],
      "execution_count": 49,
      "outputs": [
        {
          "output_type": "stream",
          "text": [
            "percision: [0.84       0.56382979 0.44329897 0.71559633]\n",
            "recall: [0.88421053 0.57608696 0.43434343 0.68421053]\n",
            "f1score: [0.86153846 0.56989247 0.43877551 0.69955157]\n"
          ],
          "name": "stdout"
        }
      ]
    },
    {
      "cell_type": "code",
      "metadata": {
        "colab": {
          "base_uri": "https://localhost:8080/"
        },
        "id": "Wyh2D1syrqS5",
        "outputId": "94b99245-b7cb-48dd-9903-a53a17a8cc55"
      },
      "source": [
        "score = logisticReg.score(x_test, y_test)\n",
        "print(score)"
      ],
      "execution_count": 50,
      "outputs": [
        {
          "output_type": "stream",
          "text": [
            "0.645\n"
          ],
          "name": "stdout"
        }
      ]
    },
    {
      "cell_type": "markdown",
      "metadata": {
        "id": "14LreQ_sr954"
      },
      "source": [
        "## changing classes ##"
      ]
    },
    {
      "cell_type": "code",
      "metadata": {
        "id": "W5bQaI_FrzPe"
      },
      "source": [
        "train_bi = train.copy()"
      ],
      "execution_count": 51,
      "outputs": []
    },
    {
      "cell_type": "code",
      "metadata": {
        "colab": {
          "base_uri": "https://localhost:8080/"
        },
        "id": "Fa-rTjzfsRaC",
        "outputId": "220e7ee4-9004-43cb-b63b-5ae0842d6675"
      },
      "source": [
        "train_bi.price_range[(train_bi.price_range == 1) | (train_bi.price_range == 2) | (train_bi.price_range == 3)] = 1"
      ],
      "execution_count": 52,
      "outputs": [
        {
          "output_type": "stream",
          "text": [
            "/usr/local/lib/python3.7/dist-packages/ipykernel_launcher.py:1: SettingWithCopyWarning: \n",
            "A value is trying to be set on a copy of a slice from a DataFrame\n",
            "\n",
            "See the caveats in the documentation: https://pandas.pydata.org/pandas-docs/stable/user_guide/indexing.html#returning-a-view-versus-a-copy\n",
            "  \"\"\"Entry point for launching an IPython kernel.\n"
          ],
          "name": "stderr"
        }
      ]
    },
    {
      "cell_type": "code",
      "metadata": {
        "colab": {
          "base_uri": "https://localhost:8080/"
        },
        "id": "Y7AK1eIbsyhv",
        "outputId": "8c89b9ef-7ef3-4e47-cfdf-818bacfa12cd"
      },
      "source": [
        "train_bi.price_range.nunique()"
      ],
      "execution_count": 53,
      "outputs": [
        {
          "output_type": "execute_result",
          "data": {
            "text/plain": [
              "2"
            ]
          },
          "metadata": {
            "tags": []
          },
          "execution_count": 53
        }
      ]
    },
    {
      "cell_type": "code",
      "metadata": {
        "colab": {
          "base_uri": "https://localhost:8080/",
          "height": 0
        },
        "id": "7Mu-yJDxs4Q-",
        "outputId": "3802e17e-0ebf-4358-a62f-4c7b0974c738"
      },
      "source": [
        "train_bi.groupby(['price_range']).count()"
      ],
      "execution_count": 54,
      "outputs": [
        {
          "output_type": "execute_result",
          "data": {
            "text/html": [
              "<div>\n",
              "<style scoped>\n",
              "    .dataframe tbody tr th:only-of-type {\n",
              "        vertical-align: middle;\n",
              "    }\n",
              "\n",
              "    .dataframe tbody tr th {\n",
              "        vertical-align: top;\n",
              "    }\n",
              "\n",
              "    .dataframe thead th {\n",
              "        text-align: right;\n",
              "    }\n",
              "</style>\n",
              "<table border=\"1\" class=\"dataframe\">\n",
              "  <thead>\n",
              "    <tr style=\"text-align: right;\">\n",
              "      <th></th>\n",
              "      <th>battery_power</th>\n",
              "      <th>blue</th>\n",
              "      <th>clock_speed</th>\n",
              "      <th>dual_sim</th>\n",
              "      <th>fc</th>\n",
              "      <th>four_g</th>\n",
              "      <th>int_memory</th>\n",
              "      <th>m_dep</th>\n",
              "      <th>mobile_wt</th>\n",
              "      <th>n_cores</th>\n",
              "      <th>pc</th>\n",
              "      <th>px_height</th>\n",
              "      <th>px_width</th>\n",
              "      <th>ram</th>\n",
              "      <th>sc_h</th>\n",
              "      <th>sc_w</th>\n",
              "      <th>talk_time</th>\n",
              "      <th>three_g</th>\n",
              "      <th>touch_screen</th>\n",
              "      <th>wifi</th>\n",
              "    </tr>\n",
              "    <tr>\n",
              "      <th>price_range</th>\n",
              "      <th></th>\n",
              "      <th></th>\n",
              "      <th></th>\n",
              "      <th></th>\n",
              "      <th></th>\n",
              "      <th></th>\n",
              "      <th></th>\n",
              "      <th></th>\n",
              "      <th></th>\n",
              "      <th></th>\n",
              "      <th></th>\n",
              "      <th></th>\n",
              "      <th></th>\n",
              "      <th></th>\n",
              "      <th></th>\n",
              "      <th></th>\n",
              "      <th></th>\n",
              "      <th></th>\n",
              "      <th></th>\n",
              "      <th></th>\n",
              "    </tr>\n",
              "  </thead>\n",
              "  <tbody>\n",
              "    <tr>\n",
              "      <th>0</th>\n",
              "      <td>500</td>\n",
              "      <td>500</td>\n",
              "      <td>500</td>\n",
              "      <td>500</td>\n",
              "      <td>500</td>\n",
              "      <td>500</td>\n",
              "      <td>500</td>\n",
              "      <td>500</td>\n",
              "      <td>500</td>\n",
              "      <td>500</td>\n",
              "      <td>500</td>\n",
              "      <td>500</td>\n",
              "      <td>500</td>\n",
              "      <td>500</td>\n",
              "      <td>500</td>\n",
              "      <td>500</td>\n",
              "      <td>500</td>\n",
              "      <td>500</td>\n",
              "      <td>500</td>\n",
              "      <td>500</td>\n",
              "    </tr>\n",
              "    <tr>\n",
              "      <th>1</th>\n",
              "      <td>1500</td>\n",
              "      <td>1500</td>\n",
              "      <td>1500</td>\n",
              "      <td>1500</td>\n",
              "      <td>1500</td>\n",
              "      <td>1500</td>\n",
              "      <td>1500</td>\n",
              "      <td>1500</td>\n",
              "      <td>1500</td>\n",
              "      <td>1500</td>\n",
              "      <td>1500</td>\n",
              "      <td>1500</td>\n",
              "      <td>1500</td>\n",
              "      <td>1500</td>\n",
              "      <td>1500</td>\n",
              "      <td>1500</td>\n",
              "      <td>1500</td>\n",
              "      <td>1500</td>\n",
              "      <td>1500</td>\n",
              "      <td>1500</td>\n",
              "    </tr>\n",
              "  </tbody>\n",
              "</table>\n",
              "</div>"
            ],
            "text/plain": [
              "             battery_power  blue  clock_speed  ...  three_g  touch_screen  wifi\n",
              "price_range                                    ...                             \n",
              "0                      500   500          500  ...      500           500   500\n",
              "1                     1500  1500         1500  ...     1500          1500  1500\n",
              "\n",
              "[2 rows x 20 columns]"
            ]
          },
          "metadata": {
            "tags": []
          },
          "execution_count": 54
        }
      ]
    },
    {
      "cell_type": "code",
      "metadata": {
        "colab": {
          "base_uri": "https://localhost:8080/",
          "height": 0
        },
        "id": "XiLnuUB3tMfJ",
        "outputId": "6b1c9d56-a06d-4a09-e337-c01caa062196"
      },
      "source": [
        "plt.hist(train_bi.price_range)\n",
        "plt.xlabel('price_range')\n",
        "plt.ylabel('count')"
      ],
      "execution_count": 55,
      "outputs": [
        {
          "output_type": "execute_result",
          "data": {
            "text/plain": [
              "Text(0, 0.5, 'count')"
            ]
          },
          "metadata": {
            "tags": []
          },
          "execution_count": 55
        },
        {
          "output_type": "display_data",
          "data": {
            "image/png": "[encoded data removed]",
            "text/plain": [
              "<Figure size 432x288 with 1 Axes>"
            ]
          },
          "metadata": {
            "tags": [],
            "needs_background": "light"
          }
        }
      ]
    },
    {
      "cell_type": "markdown",
      "metadata": {
        "id": "u_6ewT0Qy916"
      },
      "source": [
        "## resampling ##"
      ]
    },
    {
      "cell_type": "code",
      "metadata": {
        "id": "HBVTrAVdtqEY"
      },
      "source": [
        "from sklearn.utils import resample"
      ],
      "execution_count": 56,
      "outputs": []
    },
    {
      "cell_type": "code",
      "metadata": {
        "colab": {
          "base_uri": "https://localhost:8080/"
        },
        "id": "A7r6o1g5zH_2",
        "outputId": "3f6882de-0a01-404a-faec-ab7683e1c3a7"
      },
      "source": [
        "#separate minroty and majority classes\n",
        "train_df_majority = train_bi[train_bi['price_range'] == 1].copy()\n",
        "train_df_minority = train_bi[train_bi['price_range'] == 0].copy()\n",
        "\n",
        "#upsampling minority class\n",
        "train_df_minority_upsampled = resample(train_df_minority, replace=True, n_samples=1500, random_state=123)\n",
        "\n",
        "#combind majority class with upsampled minority class\n",
        "train_df_upsampled = pd.concat([train_df_majority, train_df_minority_upsampled])\n",
        "\n",
        "train_df_upsampled.price_range.value_counts()"
      ],
      "execution_count": 57,
      "outputs": [
        {
          "output_type": "execute_result",
          "data": {
            "text/plain": [
              "1    1500\n",
              "0    1500\n",
              "Name: price_range, dtype: int64"
            ]
          },
          "metadata": {
            "tags": []
          },
          "execution_count": 57
        }
      ]
    },
    {
      "cell_type": "code",
      "metadata": {
        "id": "msdWoi3X1TIx"
      },
      "source": [
        "x_train_ups, x_test_ups, y_train_ups, y_test_ups = train_test_split(train_df_upsampled.drop(columns=['price_range']), \n",
        "                                                                    train_df_upsampled.price_range, test_size=0.2, random_state=0)"
      ],
      "execution_count": 58,
      "outputs": []
    },
    {
      "cell_type": "code",
      "metadata": {
        "colab": {
          "base_uri": "https://localhost:8080/"
        },
        "id": "340t6QLF1iQZ",
        "outputId": "7f09557a-f6d6-4e60-ff16-deaf06b0200f"
      },
      "source": [
        "x_train_ups.shape, x_test_ups.shape, y_train_ups.shape, y_test_ups.shape"
      ],
      "execution_count": 59,
      "outputs": [
        {
          "output_type": "execute_result",
          "data": {
            "text/plain": [
              "((2400, 20), (600, 20), (2400,), (600,))"
            ]
          },
          "metadata": {
            "tags": []
          },
          "execution_count": 59
        }
      ]
    },
    {
      "cell_type": "code",
      "metadata": {
        "colab": {
          "base_uri": "https://localhost:8080/"
        },
        "id": "SHwpkxar1KBR",
        "outputId": "94c5074d-b70f-4b7f-b231-d6e76836ba3b"
      },
      "source": [
        "from sklearn.linear_model import LogisticRegression\n",
        "logisticReg = LogisticRegression()\n",
        "logisticReg.fit(x_train_ups, y_train_ups)\n",
        "y_prd_ups = logisticReg.predict(x_test_ups)"
      ],
      "execution_count": 60,
      "outputs": [
        {
          "output_type": "stream",
          "text": [
            "/usr/local/lib/python3.7/dist-packages/sklearn/linear_model/_logistic.py:940: ConvergenceWarning: lbfgs failed to converge (status=1):\n",
            "STOP: TOTAL NO. of ITERATIONS REACHED LIMIT.\n",
            "\n",
            "Increase the number of iterations (max_iter) or scale the data as shown in:\n",
            "    https://scikit-learn.org/stable/modules/preprocessing.html\n",
            "Please also refer to the documentation for alternative solver options:\n",
            "    https://scikit-learn.org/stable/modules/linear_model.html#logistic-regression\n",
            "  extra_warning_msg=_LOGISTIC_SOLVER_CONVERGENCE_MSG)\n"
          ],
          "name": "stderr"
        }
      ]
    },
    {
      "cell_type": "code",
      "metadata": {
        "colab": {
          "base_uri": "https://localhost:8080/"
        },
        "id": "lKh7DV_11xCu",
        "outputId": "081404b1-5c75-44b1-890c-83c8da09bd36"
      },
      "source": [
        "percision, recall, f1score, support = precision_recall_fscore_support(y_test_ups, y_prd_ups)\n",
        "print('percision:', percision)\n",
        "print('recall:', recall)\n",
        "print('f1score:', f1score)"
      ],
      "execution_count": 61,
      "outputs": [
        {
          "output_type": "stream",
          "text": [
            "percision: [0.89259259 0.95151515]\n",
            "recall: [0.93774319 0.9154519 ]\n",
            "f1score: [0.91461101 0.93313522]\n"
          ],
          "name": "stdout"
        }
      ]
    },
    {
      "cell_type": "markdown",
      "metadata": {
        "id": "attzl4k32Ieh"
      },
      "source": [
        "## forward selection ##"
      ]
    },
    {
      "cell_type": "code",
      "metadata": {
        "id": "ZdnQnNVP2Hn6"
      },
      "source": [
        "from sklearn.metrics import auc\n",
        "\n",
        "def forward_selection(X, y):\n",
        "  features = []\n",
        "  final_features = {'features': [], 'scores': []}\n",
        "  rem_features = X.columns\n",
        "  for i in range(len(X.columns)):\n",
        "    max_score = 0\n",
        "    best_feature = \"\"\n",
        "    best_score = 0\n",
        "    for feature in rem_features:\n",
        "      new_X = X[features + [feature]]\n",
        "      X_train, X_test, y_train, y_test = train_test_split(new_X, y, test_size=0.2, random_state=0)\n",
        "      logisticRegr = LogisticRegression()\n",
        "      logisticRegr.fit(X_train, y_train)\n",
        "      score = logisticRegr.score(X_test, y_test)\n",
        "      if score > max_score :\n",
        "        max_score = score\n",
        "        best_feature = feature\n",
        "        best_score = score\n",
        "    rem_features = rem_features.drop(best_feature)\n",
        "    features.append(best_feature)\n",
        "\n",
        "    final_features['features'].append(best_feature)\n",
        "    final_features['scores'].append(best_score)\n",
        "  final_features['features_rank'] = range(len(X.columns))\n",
        "\n",
        "  best_index = 0\n",
        "  mx_feature = 0\n",
        "  for i in range(len(final_features['scores'])):\n",
        "    if final_features['scores'][i] > mx_feature:\n",
        "      mx_feature = final_features['scores'][i] \n",
        "      best_index = i\n",
        "\n",
        "  final_features['best_features'] = final_features['features'][:best_index]\n",
        "  return final_features"
      ],
      "execution_count": 62,
      "outputs": []
    },
    {
      "cell_type": "code",
      "metadata": {
        "id": "CdXPbZGU8BA5"
      },
      "source": [
        "#scaling\n",
        "standard_scaler = StandardScaler()\n",
        "x_train[x_train.columns] = standard_scaler.fit_transform(x_train[x_train.columns])"
      ],
      "execution_count": 63,
      "outputs": []
    },
    {
      "cell_type": "code",
      "metadata": {
        "id": "eeBA64bA-X2e"
      },
      "source": [
        "x_test[x_test.columns] = standard_scaler.transform(x_test[x_test.columns])"
      ],
      "execution_count": 76,
      "outputs": []
    },
    {
      "cell_type": "code",
      "metadata": {
        "colab": {
          "base_uri": "https://localhost:8080/",
          "height": 223
        },
        "id": "Y9G1MHdL8ezq",
        "outputId": "17a8afe8-b3ec-4350-ce1f-1074c0373099"
      },
      "source": [
        "x_train.head()"
      ],
      "execution_count": 64,
      "outputs": [
        {
          "output_type": "execute_result",
          "data": {
            "text/html": [
              "<div>\n",
              "<style scoped>\n",
              "    .dataframe tbody tr th:only-of-type {\n",
              "        vertical-align: middle;\n",
              "    }\n",
              "\n",
              "    .dataframe tbody tr th {\n",
              "        vertical-align: top;\n",
              "    }\n",
              "\n",
              "    .dataframe thead th {\n",
              "        text-align: right;\n",
              "    }\n",
              "</style>\n",
              "<table border=\"1\" class=\"dataframe\">\n",
              "  <thead>\n",
              "    <tr style=\"text-align: right;\">\n",
              "      <th></th>\n",
              "      <th>battery_power</th>\n",
              "      <th>blue</th>\n",
              "      <th>clock_speed</th>\n",
              "      <th>dual_sim</th>\n",
              "      <th>fc</th>\n",
              "      <th>four_g</th>\n",
              "      <th>int_memory</th>\n",
              "      <th>m_dep</th>\n",
              "      <th>mobile_wt</th>\n",
              "      <th>n_cores</th>\n",
              "      <th>pc</th>\n",
              "      <th>px_height</th>\n",
              "      <th>px_width</th>\n",
              "      <th>ram</th>\n",
              "      <th>sc_h</th>\n",
              "      <th>sc_w</th>\n",
              "      <th>talk_time</th>\n",
              "      <th>three_g</th>\n",
              "      <th>touch_screen</th>\n",
              "      <th>wifi</th>\n",
              "    </tr>\n",
              "  </thead>\n",
              "  <tbody>\n",
              "    <tr>\n",
              "      <th>582</th>\n",
              "      <td>-0.001608</td>\n",
              "      <td>-0.965592</td>\n",
              "      <td>1.671035</td>\n",
              "      <td>0.983880</td>\n",
              "      <td>-0.748114</td>\n",
              "      <td>0.976525</td>\n",
              "      <td>-0.430667</td>\n",
              "      <td>-0.692543</td>\n",
              "      <td>0.852842</td>\n",
              "      <td>0.216380</td>\n",
              "      <td>1.183752</td>\n",
              "      <td>-0.660982</td>\n",
              "      <td>-1.042159</td>\n",
              "      <td>-0.786095</td>\n",
              "      <td>0.882404</td>\n",
              "      <td>0.951809</td>\n",
              "      <td>0.911171</td>\n",
              "      <td>0.564840</td>\n",
              "      <td>-0.986343</td>\n",
              "      <td>-1.025320</td>\n",
              "    </tr>\n",
              "    <tr>\n",
              "      <th>159</th>\n",
              "      <td>1.374075</td>\n",
              "      <td>-0.965592</td>\n",
              "      <td>-1.270550</td>\n",
              "      <td>0.983880</td>\n",
              "      <td>1.810037</td>\n",
              "      <td>-1.024039</td>\n",
              "      <td>0.119443</td>\n",
              "      <td>0.693843</td>\n",
              "      <td>0.084708</td>\n",
              "      <td>-1.543255</td>\n",
              "      <td>1.018941</td>\n",
              "      <td>-0.773314</td>\n",
              "      <td>0.655005</td>\n",
              "      <td>-0.952286</td>\n",
              "      <td>-1.032614</td>\n",
              "      <td>-1.324225</td>\n",
              "      <td>-0.183466</td>\n",
              "      <td>-1.770414</td>\n",
              "      <td>-0.986343</td>\n",
              "      <td>-1.025320</td>\n",
              "    </tr>\n",
              "    <tr>\n",
              "      <th>1827</th>\n",
              "      <td>1.039205</td>\n",
              "      <td>-0.965592</td>\n",
              "      <td>0.690506</td>\n",
              "      <td>-1.016384</td>\n",
              "      <td>-0.050436</td>\n",
              "      <td>0.976525</td>\n",
              "      <td>-1.640908</td>\n",
              "      <td>1.387036</td>\n",
              "      <td>-0.939471</td>\n",
              "      <td>-1.543255</td>\n",
              "      <td>1.183752</td>\n",
              "      <td>2.794355</td>\n",
              "      <td>1.482833</td>\n",
              "      <td>1.555428</td>\n",
              "      <td>-0.793236</td>\n",
              "      <td>-0.641415</td>\n",
              "      <td>-0.730784</td>\n",
              "      <td>0.564840</td>\n",
              "      <td>1.013846</td>\n",
              "      <td>0.975305</td>\n",
              "    </tr>\n",
              "    <tr>\n",
              "      <th>318</th>\n",
              "      <td>-1.639756</td>\n",
              "      <td>-0.965592</td>\n",
              "      <td>-0.902852</td>\n",
              "      <td>-1.016384</td>\n",
              "      <td>0.647241</td>\n",
              "      <td>0.976525</td>\n",
              "      <td>0.559530</td>\n",
              "      <td>-0.692543</td>\n",
              "      <td>-1.280863</td>\n",
              "      <td>-1.543255</td>\n",
              "      <td>-0.299543</td>\n",
              "      <td>-1.384401</td>\n",
              "      <td>-1.623253</td>\n",
              "      <td>-1.337588</td>\n",
              "      <td>0.164273</td>\n",
              "      <td>1.407015</td>\n",
              "      <td>-0.730784</td>\n",
              "      <td>0.564840</td>\n",
              "      <td>-0.986343</td>\n",
              "      <td>-1.025320</td>\n",
              "    </tr>\n",
              "    <tr>\n",
              "      <th>708</th>\n",
              "      <td>-0.578580</td>\n",
              "      <td>1.035635</td>\n",
              "      <td>1.548469</td>\n",
              "      <td>0.983880</td>\n",
              "      <td>-0.515555</td>\n",
              "      <td>-1.024039</td>\n",
              "      <td>0.174453</td>\n",
              "      <td>0.347246</td>\n",
              "      <td>0.739044</td>\n",
              "      <td>-1.103346</td>\n",
              "      <td>0.854131</td>\n",
              "      <td>1.902438</td>\n",
              "      <td>1.385984</td>\n",
              "      <td>1.495079</td>\n",
              "      <td>1.600536</td>\n",
              "      <td>-0.641415</td>\n",
              "      <td>-0.183466</td>\n",
              "      <td>-1.770414</td>\n",
              "      <td>1.013846</td>\n",
              "      <td>0.975305</td>\n",
              "    </tr>\n",
              "  </tbody>\n",
              "</table>\n",
              "</div>"
            ],
            "text/plain": [
              "      battery_power      blue  clock_speed  ...   three_g  touch_screen      wifi\n",
              "582       -0.001608 -0.965592     1.671035  ...  0.564840     -0.986343 -1.025320\n",
              "159        1.374075 -0.965592    -1.270550  ... -1.770414     -0.986343 -1.025320\n",
              "1827       1.039205 -0.965592     0.690506  ...  0.564840      1.013846  0.975305\n",
              "318       -1.639756 -0.965592    -0.902852  ...  0.564840     -0.986343 -1.025320\n",
              "708       -0.578580  1.035635     1.548469  ... -1.770414      1.013846  0.975305\n",
              "\n",
              "[5 rows x 20 columns]"
            ]
          },
          "metadata": {
            "tags": []
          },
          "execution_count": 64
        }
      ]
    },
    {
      "cell_type": "code",
      "metadata": {
        "colab": {
          "base_uri": "https://localhost:8080/"
        },
        "id": "Nu0tOSj28t_K",
        "outputId": "eb74c679-5259-4e20-cf7d-6ecc1fa752e9"
      },
      "source": [
        "y_train.head()"
      ],
      "execution_count": 65,
      "outputs": [
        {
          "output_type": "execute_result",
          "data": {
            "text/plain": [
              "582     0\n",
              "159     1\n",
              "1827    3\n",
              "318     0\n",
              "708     3\n",
              "Name: price_range, dtype: int64"
            ]
          },
          "metadata": {
            "tags": []
          },
          "execution_count": 65
        }
      ]
    },
    {
      "cell_type": "code",
      "metadata": {
        "id": "rBFX-gtI7mEk"
      },
      "source": [
        "fs = forward_selection(x_train, y_train)"
      ],
      "execution_count": 66,
      "outputs": []
    },
    {
      "cell_type": "code",
      "metadata": {
        "colab": {
          "base_uri": "https://localhost:8080/"
        },
        "id": "wxMno6YN84Rg",
        "outputId": "313abe8f-9f83-4410-88ae-5d2cb0f2e60d"
      },
      "source": [
        "print(fs)"
      ],
      "execution_count": 67,
      "outputs": [
        {
          "output_type": "stream",
          "text": [
            "{'features': ['ram', 'battery_power', 'px_height', 'px_width', 'mobile_wt', 'clock_speed', 'blue', 'fc', 'n_cores', 'pc', 'm_dep', 'sc_w', 'sc_h', 'wifi', 'touch_screen', 'int_memory', 'dual_sim', 'talk_time', 'three_g', 'four_g'], 'scores': [0.775, 0.84375, 0.915625, 0.953125, 0.98125, 0.984375, 0.98125, 0.98125, 0.984375, 0.98125, 0.98125, 0.98125, 0.978125, 0.978125, 0.978125, 0.975, 0.971875, 0.96875, 0.965625, 0.953125], 'features_rank': range(0, 20), 'best_features': ['ram', 'battery_power', 'px_height', 'px_width', 'mobile_wt']}\n"
          ],
          "name": "stdout"
        }
      ]
    },
    {
      "cell_type": "code",
      "metadata": {
        "colab": {
          "base_uri": "https://localhost:8080/",
          "height": 282
        },
        "id": "AabajM4C7z8u",
        "outputId": "42e5b5cf-d786-44c0-b436-e925550a8477"
      },
      "source": [
        "plt.plot(fs['features_rank'], fs['scores'])"
      ],
      "execution_count": 68,
      "outputs": [
        {
          "output_type": "execute_result",
          "data": {
            "text/plain": [
              "[<matplotlib.lines.Line2D at 0x7f061c72b7d0>]"
            ]
          },
          "metadata": {
            "tags": []
          },
          "execution_count": 68
        },
        {
          "output_type": "display_data",
          "data": {
            "image/png": "[encoded data removed]",
            "text/plain": [
              "<Figure size 432x288 with 1 Axes>"
            ]
          },
          "metadata": {
            "tags": [],
            "needs_background": "light"
          }
        }
      ]
    },
    {
      "cell_type": "code",
      "metadata": {
        "colab": {
          "base_uri": "https://localhost:8080/"
        },
        "id": "JGDMD9hE89nd",
        "outputId": "8b167996-283e-4a8f-c2cb-55a2683df79e"
      },
      "source": [
        "print(fs['best_features'])"
      ],
      "execution_count": 69,
      "outputs": [
        {
          "output_type": "stream",
          "text": [
            "['ram', 'battery_power', 'px_height', 'px_width', 'mobile_wt']\n"
          ],
          "name": "stdout"
        }
      ]
    },
    {
      "cell_type": "code",
      "metadata": {
        "id": "NeGXrPwO9aP4"
      },
      "source": [
        "logisticReg = LogisticRegression()\n",
        "logisticReg.fit(x_train[['ram', 'battery_power', 'px_height', 'px_width', 'mobile_wt']], y_train)\n",
        "y_prd = logisticReg.predict(x_test[['ram', 'battery_power', 'px_height', 'px_width', 'mobile_wt']])"
      ],
      "execution_count": 78,
      "outputs": []
    },
    {
      "cell_type": "code",
      "metadata": {
        "colab": {
          "base_uri": "https://localhost:8080/"
        },
        "id": "FAsGhng5-I7L",
        "outputId": "bca29a33-2945-49d4-9ee0-aa55191c9276"
      },
      "source": [
        "y_prd"
      ],
      "execution_count": 79,
      "outputs": [
        {
          "output_type": "execute_result",
          "data": {
            "text/plain": [
              "array([3, 0, 2, 2, 2, 0, 0, 3, 3, 1, 1, 3, 0, 2, 3, 0, 3, 2, 2, 1, 0, 0,\n",
              "       3, 1, 2, 2, 3, 1, 3, 1, 1, 0, 2, 0, 1, 3, 0, 0, 3, 3, 2, 1, 3, 3,\n",
              "       1, 3, 0, 1, 3, 1, 1, 3, 0, 3, 0, 3, 2, 2, 0, 3, 3, 1, 3, 2, 1, 2,\n",
              "       3, 2, 2, 2, 3, 2, 1, 0, 1, 3, 2, 2, 1, 2, 3, 3, 3, 0, 0, 0, 2, 1,\n",
              "       2, 3, 1, 2, 2, 1, 0, 3, 3, 3, 0, 3, 1, 1, 2, 1, 3, 2, 2, 3, 2, 3,\n",
              "       3, 0, 0, 1, 3, 3, 0, 0, 1, 0, 0, 3, 2, 2, 1, 1, 1, 1, 0, 2, 1, 3,\n",
              "       3, 3, 3, 3, 3, 2, 0, 1, 1, 2, 1, 3, 0, 3, 0, 0, 2, 0, 1, 1, 1, 1,\n",
              "       3, 0, 0, 3, 1, 3, 2, 1, 3, 1, 2, 3, 3, 2, 1, 0, 3, 1, 2, 3, 3, 0,\n",
              "       2, 2, 3, 0, 2, 1, 0, 1, 2, 1, 2, 0, 3, 3, 1, 1, 0, 2, 3, 0, 1, 2,\n",
              "       2, 0, 3, 3, 3, 1, 2, 3, 3, 3, 0, 0, 0, 2, 3, 3, 0, 0, 1, 3, 1, 3,\n",
              "       3, 3, 0, 0, 2, 3, 3, 1, 0, 2, 0, 0, 0, 3, 2, 1, 2, 2, 1, 1, 0, 2,\n",
              "       3, 3, 0, 0, 1, 3, 3, 2, 3, 0, 3, 1, 1, 0, 2, 3, 3, 2, 0, 0, 1, 2,\n",
              "       3, 2, 2, 3, 1, 1, 0, 3, 3, 2, 1, 3, 2, 2, 2, 1, 0, 2, 2, 1, 0, 0,\n",
              "       2, 2, 2, 2, 0, 1, 3, 0, 1, 2, 3, 0, 2, 0, 1, 1, 3, 0, 0, 2, 3, 1,\n",
              "       2, 0, 1, 0, 3, 0, 3, 3, 2, 3, 1, 2, 2, 1, 1, 1, 0, 1, 0, 3, 1, 0,\n",
              "       3, 0, 0, 1, 3, 0, 3, 1, 2, 0, 1, 3, 0, 2, 1, 1, 2, 1, 1, 0, 2, 0,\n",
              "       1, 3, 1, 2, 3, 2, 2, 0, 3, 2, 2, 1, 3, 2, 3, 3, 3, 0, 2, 0, 3, 0,\n",
              "       1, 1, 2, 2, 1, 3, 1, 2, 0, 1, 2, 3, 0, 0, 1, 3, 0, 3, 0, 1, 2, 1,\n",
              "       1, 0, 2, 0])"
            ]
          },
          "metadata": {
            "tags": []
          },
          "execution_count": 79
        }
      ]
    },
    {
      "cell_type": "code",
      "metadata": {
        "colab": {
          "base_uri": "https://localhost:8080/"
        },
        "id": "m6z3Wn9C9-zP",
        "outputId": "6cafa845-af52-41db-bb36-87f5f3626c5d"
      },
      "source": [
        "percision, recall, f1score, support = precision_recall_fscore_support(y_test, y_prd)\n",
        "print('percision:', percision)\n",
        "print('recall:', recall)\n",
        "print('f1score:', f1score)"
      ],
      "execution_count": 80,
      "outputs": [
        {
          "output_type": "stream",
          "text": [
            "percision: [0.97894737 0.9375     0.98947368 0.99122807]\n",
            "recall: [0.97894737 0.97826087 0.94949495 0.99122807]\n",
            "f1score: [0.97894737 0.95744681 0.96907216 0.99122807]\n"
          ],
          "name": "stdout"
        }
      ]
    },
    {
      "cell_type": "markdown",
      "metadata": {
        "id": "Qmr8nA0T-v2J"
      },
      "source": [
        "## pca ##"
      ]
    },
    {
      "cell_type": "code",
      "metadata": {
        "id": "RafFTMtn-xq3"
      },
      "source": [
        "from sklearn.decomposition import PCA"
      ],
      "execution_count": 81,
      "outputs": []
    },
    {
      "cell_type": "code",
      "metadata": {
        "id": "7vXIlmE1_vCj"
      },
      "source": [
        "x_pca = train.drop(columns=['price_range'])\n",
        "y_pca = train.price_range"
      ],
      "execution_count": 87,
      "outputs": []
    },
    {
      "cell_type": "code",
      "metadata": {
        "colab": {
          "base_uri": "https://localhost:8080/"
        },
        "id": "IMdRApc-_COh",
        "outputId": "105d7ba7-3c20-43b1-a050-36ba61dc81c2"
      },
      "source": [
        "pca = PCA(n_components=5)\n",
        "x_pca = pca.fit_transform(x_pca)\n",
        "x_pca.shape"
      ],
      "execution_count": 88,
      "outputs": [
        {
          "output_type": "execute_result",
          "data": {
            "text/plain": [
              "(2000, 5)"
            ]
          },
          "metadata": {
            "tags": []
          },
          "execution_count": 88
        }
      ]
    },
    {
      "cell_type": "code",
      "metadata": {
        "id": "D8Ucdne7_NIB"
      },
      "source": [
        "x_pca_train, x_pca_test, y_pca_train, y_pca_test = train_test_split(x_pca, y_pca, test_size=0.2, random_state=0)"
      ],
      "execution_count": 89,
      "outputs": []
    },
    {
      "cell_type": "code",
      "metadata": {
        "colab": {
          "base_uri": "https://localhost:8080/"
        },
        "id": "0NoS4JzqAHmJ",
        "outputId": "c0a8dc84-6472-4797-f253-45f31d02a67d"
      },
      "source": [
        "logisticReg = LogisticRegression()\n",
        "logisticReg.fit(x_pca_train, y_pca_train)\n",
        "y_prd = logisticReg.predict(x_pca_test)"
      ],
      "execution_count": 90,
      "outputs": [
        {
          "output_type": "stream",
          "text": [
            "/usr/local/lib/python3.7/dist-packages/sklearn/linear_model/_logistic.py:940: ConvergenceWarning: lbfgs failed to converge (status=1):\n",
            "STOP: TOTAL NO. of ITERATIONS REACHED LIMIT.\n",
            "\n",
            "Increase the number of iterations (max_iter) or scale the data as shown in:\n",
            "    https://scikit-learn.org/stable/modules/preprocessing.html\n",
            "Please also refer to the documentation for alternative solver options:\n",
            "    https://scikit-learn.org/stable/modules/linear_model.html#logistic-regression\n",
            "  extra_warning_msg=_LOGISTIC_SOLVER_CONVERGENCE_MSG)\n"
          ],
          "name": "stderr"
        }
      ]
    },
    {
      "cell_type": "code",
      "metadata": {
        "colab": {
          "base_uri": "https://localhost:8080/"
        },
        "id": "8ex-MqvbAWlj",
        "outputId": "d28dc658-f433-4835-df08-e429903cd2fa"
      },
      "source": [
        "percision, recall, f1score, support = precision_recall_fscore_support(y_pca_test, y_prd)\n",
        "print('percision:', percision)\n",
        "print('recall:', recall)\n",
        "print('f1score:', f1score)"
      ],
      "execution_count": 91,
      "outputs": [
        {
          "output_type": "stream",
          "text": [
            "percision: [0.54285714 0.86666667 1.         0.61621622]\n",
            "recall: [1.         0.14130435 0.25252525 1.        ]\n",
            "f1score: [0.7037037  0.24299065 0.40322581 0.76254181]\n"
          ],
          "name": "stdout"
        }
      ]
    },
    {
      "cell_type": "markdown",
      "metadata": {
        "id": "QJ-ZfJGCAieA"
      },
      "source": [
        "## backward selection ##"
      ]
    },
    {
      "cell_type": "code",
      "metadata": {
        "id": "0umSaAFFAlD-"
      },
      "source": [
        "def backward_selection(X, y):\n",
        "  features = X.columns\n",
        "  final_features = {'features': [], 'scores': []}\n",
        "  rem_features = X.columns\n",
        "  for i in range(len(X.columns)):\n",
        "    max_score = 0\n",
        "    worst_feature = \"\"\n",
        "    worst_score = 0\n",
        "    for feature in rem_features:\n",
        "      new_X = X[features.drop(feature)]\n",
        "      X_train, X_test, y_train, y_test = train_test_split(new_X, y, test_size=0.2, random_state=0)\n",
        "      logisticRegr = LogisticRegression()\n",
        "      logisticRegr.fit(X_train, y_train)\n",
        "      score = logisticRegr.score(X_test, y_test)\n",
        "      if score > max_score :\n",
        "        max_score = score\n",
        "        worst_feature = feature\n",
        "        worst_score = score\n",
        "    rem_features = rem_features.drop(worst_feature)\n",
        "    features.drop(worst_feature)\n",
        "\n",
        "    final_features['features'].append(worst_feature)\n",
        "    final_features['scores'].append(worst_score)\n",
        "  final_features['features_rank'] = range(len(X.columns))\n",
        "\n",
        "  best_index = 0\n",
        "  mx_feature = 0\n",
        "  for i in range(len(final_features['scores'])):\n",
        "    if final_features['scores'][i] > mx_feature:\n",
        "      mx_feature = final_features['scores'][i] \n",
        "      best_index = i\n",
        "\n",
        "  final_features['best_features'] = final_features['features'][:best_index]\n",
        "\n",
        "  \n",
        "  return final_features"
      ],
      "execution_count": 96,
      "outputs": []
    },
    {
      "cell_type": "code",
      "metadata": {
        "colab": {
          "base_uri": "https://localhost:8080/",
          "height": 223
        },
        "id": "xybAcIBQAyAX",
        "outputId": "b00f6fa7-058a-4aa4-e1a4-2f479ac2c758"
      },
      "source": [
        "x_train.head()"
      ],
      "execution_count": 93,
      "outputs": [
        {
          "output_type": "execute_result",
          "data": {
            "text/html": [
              "<div>\n",
              "<style scoped>\n",
              "    .dataframe tbody tr th:only-of-type {\n",
              "        vertical-align: middle;\n",
              "    }\n",
              "\n",
              "    .dataframe tbody tr th {\n",
              "        vertical-align: top;\n",
              "    }\n",
              "\n",
              "    .dataframe thead th {\n",
              "        text-align: right;\n",
              "    }\n",
              "</style>\n",
              "<table border=\"1\" class=\"dataframe\">\n",
              "  <thead>\n",
              "    <tr style=\"text-align: right;\">\n",
              "      <th></th>\n",
              "      <th>battery_power</th>\n",
              "      <th>blue</th>\n",
              "      <th>clock_speed</th>\n",
              "      <th>dual_sim</th>\n",
              "      <th>fc</th>\n",
              "      <th>four_g</th>\n",
              "      <th>int_memory</th>\n",
              "      <th>m_dep</th>\n",
              "      <th>mobile_wt</th>\n",
              "      <th>n_cores</th>\n",
              "      <th>pc</th>\n",
              "      <th>px_height</th>\n",
              "      <th>px_width</th>\n",
              "      <th>ram</th>\n",
              "      <th>sc_h</th>\n",
              "      <th>sc_w</th>\n",
              "      <th>talk_time</th>\n",
              "      <th>three_g</th>\n",
              "      <th>touch_screen</th>\n",
              "      <th>wifi</th>\n",
              "    </tr>\n",
              "  </thead>\n",
              "  <tbody>\n",
              "    <tr>\n",
              "      <th>582</th>\n",
              "      <td>-0.001608</td>\n",
              "      <td>-0.965592</td>\n",
              "      <td>1.671035</td>\n",
              "      <td>0.983880</td>\n",
              "      <td>-0.748114</td>\n",
              "      <td>0.976525</td>\n",
              "      <td>-0.430667</td>\n",
              "      <td>-0.692543</td>\n",
              "      <td>0.852842</td>\n",
              "      <td>0.216380</td>\n",
              "      <td>1.183752</td>\n",
              "      <td>-0.660982</td>\n",
              "      <td>-1.042159</td>\n",
              "      <td>-0.786095</td>\n",
              "      <td>0.882404</td>\n",
              "      <td>0.951809</td>\n",
              "      <td>0.911171</td>\n",
              "      <td>0.564840</td>\n",
              "      <td>-0.986343</td>\n",
              "      <td>-1.025320</td>\n",
              "    </tr>\n",
              "    <tr>\n",
              "      <th>159</th>\n",
              "      <td>1.374075</td>\n",
              "      <td>-0.965592</td>\n",
              "      <td>-1.270550</td>\n",
              "      <td>0.983880</td>\n",
              "      <td>1.810037</td>\n",
              "      <td>-1.024039</td>\n",
              "      <td>0.119443</td>\n",
              "      <td>0.693843</td>\n",
              "      <td>0.084708</td>\n",
              "      <td>-1.543255</td>\n",
              "      <td>1.018941</td>\n",
              "      <td>-0.773314</td>\n",
              "      <td>0.655005</td>\n",
              "      <td>-0.952286</td>\n",
              "      <td>-1.032614</td>\n",
              "      <td>-1.324225</td>\n",
              "      <td>-0.183466</td>\n",
              "      <td>-1.770414</td>\n",
              "      <td>-0.986343</td>\n",
              "      <td>-1.025320</td>\n",
              "    </tr>\n",
              "    <tr>\n",
              "      <th>1827</th>\n",
              "      <td>1.039205</td>\n",
              "      <td>-0.965592</td>\n",
              "      <td>0.690506</td>\n",
              "      <td>-1.016384</td>\n",
              "      <td>-0.050436</td>\n",
              "      <td>0.976525</td>\n",
              "      <td>-1.640908</td>\n",
              "      <td>1.387036</td>\n",
              "      <td>-0.939471</td>\n",
              "      <td>-1.543255</td>\n",
              "      <td>1.183752</td>\n",
              "      <td>2.794355</td>\n",
              "      <td>1.482833</td>\n",
              "      <td>1.555428</td>\n",
              "      <td>-0.793236</td>\n",
              "      <td>-0.641415</td>\n",
              "      <td>-0.730784</td>\n",
              "      <td>0.564840</td>\n",
              "      <td>1.013846</td>\n",
              "      <td>0.975305</td>\n",
              "    </tr>\n",
              "    <tr>\n",
              "      <th>318</th>\n",
              "      <td>-1.639756</td>\n",
              "      <td>-0.965592</td>\n",
              "      <td>-0.902852</td>\n",
              "      <td>-1.016384</td>\n",
              "      <td>0.647241</td>\n",
              "      <td>0.976525</td>\n",
              "      <td>0.559530</td>\n",
              "      <td>-0.692543</td>\n",
              "      <td>-1.280863</td>\n",
              "      <td>-1.543255</td>\n",
              "      <td>-0.299543</td>\n",
              "      <td>-1.384401</td>\n",
              "      <td>-1.623253</td>\n",
              "      <td>-1.337588</td>\n",
              "      <td>0.164273</td>\n",
              "      <td>1.407015</td>\n",
              "      <td>-0.730784</td>\n",
              "      <td>0.564840</td>\n",
              "      <td>-0.986343</td>\n",
              "      <td>-1.025320</td>\n",
              "    </tr>\n",
              "    <tr>\n",
              "      <th>708</th>\n",
              "      <td>-0.578580</td>\n",
              "      <td>1.035635</td>\n",
              "      <td>1.548469</td>\n",
              "      <td>0.983880</td>\n",
              "      <td>-0.515555</td>\n",
              "      <td>-1.024039</td>\n",
              "      <td>0.174453</td>\n",
              "      <td>0.347246</td>\n",
              "      <td>0.739044</td>\n",
              "      <td>-1.103346</td>\n",
              "      <td>0.854131</td>\n",
              "      <td>1.902438</td>\n",
              "      <td>1.385984</td>\n",
              "      <td>1.495079</td>\n",
              "      <td>1.600536</td>\n",
              "      <td>-0.641415</td>\n",
              "      <td>-0.183466</td>\n",
              "      <td>-1.770414</td>\n",
              "      <td>1.013846</td>\n",
              "      <td>0.975305</td>\n",
              "    </tr>\n",
              "  </tbody>\n",
              "</table>\n",
              "</div>"
            ],
            "text/plain": [
              "      battery_power      blue  clock_speed  ...   three_g  touch_screen      wifi\n",
              "582       -0.001608 -0.965592     1.671035  ...  0.564840     -0.986343 -1.025320\n",
              "159        1.374075 -0.965592    -1.270550  ... -1.770414     -0.986343 -1.025320\n",
              "1827       1.039205 -0.965592     0.690506  ...  0.564840      1.013846  0.975305\n",
              "318       -1.639756 -0.965592    -0.902852  ...  0.564840     -0.986343 -1.025320\n",
              "708       -0.578580  1.035635     1.548469  ... -1.770414      1.013846  0.975305\n",
              "\n",
              "[5 rows x 20 columns]"
            ]
          },
          "metadata": {
            "tags": []
          },
          "execution_count": 93
        }
      ]
    },
    {
      "cell_type": "code",
      "metadata": {
        "colab": {
          "base_uri": "https://localhost:8080/"
        },
        "id": "lnHUK81AA8b3",
        "outputId": "7e89e7f3-6869-4f89-c67e-c494934caae3"
      },
      "source": [
        "bs = backward_selection(x_train, y_train)\n",
        "print(bs)"
      ],
      "execution_count": 97,
      "outputs": [
        {
          "output_type": "stream",
          "text": [
            "{'features': ['four_g', 'm_dep', 'n_cores', 'fc', 'sc_h', 'three_g', 'dual_sim', 'talk_time', 'clock_speed', 'sc_w', 'touch_screen', 'wifi', 'blue', 'pc', 'int_memory', 'mobile_wt', 'px_width', 'px_height', 'battery_power', 'ram'], 'scores': [0.965625, 0.965625, 0.9625, 0.959375, 0.959375, 0.959375, 0.95625, 0.95625, 0.953125, 0.953125, 0.953125, 0.953125, 0.95, 0.946875, 0.940625, 0.91875, 0.9125, 0.89375, 0.765625, 0.3125], 'features_rank': range(0, 20), 'best_features': []}\n"
          ],
          "name": "stdout"
        }
      ]
    },
    {
      "cell_type": "code",
      "metadata": {
        "colab": {
          "base_uri": "https://localhost:8080/",
          "height": 282
        },
        "id": "JrCIavh7BHu7",
        "outputId": "8c9c3752-9da3-4a3a-a94b-01a45dfcd92d"
      },
      "source": [
        "plt.plot(bs['features_rank'], bs['scores'])"
      ],
      "execution_count": 98,
      "outputs": [
        {
          "output_type": "execute_result",
          "data": {
            "text/plain": [
              "[<matplotlib.lines.Line2D at 0x7f061983c8d0>]"
            ]
          },
          "metadata": {
            "tags": []
          },
          "execution_count": 98
        },
        {
          "output_type": "display_data",
          "data": {
            "image/png": "[encoded data removed]",
            "text/plain": [
              "<Figure size 432x288 with 1 Axes>"
            ]
          },
          "metadata": {
            "tags": [],
            "needs_background": "light"
          }
        }
      ]
    },
    {
      "cell_type": "code",
      "metadata": {
        "id": "EWBzdCGjBlMO"
      },
      "source": [
        "logisticReg = LogisticRegression()\n",
        "logisticReg.fit(x_train[['sc_h', 'three_g', 'dual_sim', 'talk_time', 'clock_speed', 'sc_w', 'touch_screen',\n",
        "                        'wifi', 'blue', 'pc', 'int_memory', 'mobile_wt', 'px_width', 'px_height', 'battery_power', 'ram']], y_train)\n",
        "y_prd = logisticReg.predict(x_test[['sc_h', 'three_g', 'dual_sim', 'talk_time', 'clock_speed', 'sc_w', 'touch_screen',\n",
        "                                   'wifi', 'blue', 'pc', 'int_memory', 'mobile_wt', 'px_width', 'px_height', 'battery_power', 'ram']])"
      ],
      "execution_count": 102,
      "outputs": []
    },
    {
      "cell_type": "code",
      "metadata": {
        "colab": {
          "base_uri": "https://localhost:8080/"
        },
        "id": "YCPoNyVjBOu2",
        "outputId": "90936fb9-0d84-4205-f21b-8239b2ea4ef0"
      },
      "source": [
        "percision, recall, f1score, support = precision_recall_fscore_support(y_test, y_prd)\n",
        "print('percision:', percision)\n",
        "print('recall:', recall)\n",
        "print('f1score:', f1score)"
      ],
      "execution_count": 103,
      "outputs": [
        {
          "output_type": "stream",
          "text": [
            "percision: [0.97894737 0.89795918 0.95555556 0.95726496]\n",
            "recall: [0.97894737 0.95652174 0.86868687 0.98245614]\n",
            "f1score: [0.97894737 0.92631579 0.91005291 0.96969697]\n"
          ],
          "name": "stdout"
        }
      ]
    },
    {
      "cell_type": "markdown",
      "metadata": {
        "id": "btlgdzZGC2RT"
      },
      "source": [
        "## cross val ##"
      ]
    },
    {
      "cell_type": "code",
      "metadata": {
        "colab": {
          "base_uri": "https://localhost:8080/"
        },
        "id": "IM4_1hZsC5-7",
        "outputId": "4e59d353-630c-47e5-ae7f-049bdb77ba69"
      },
      "source": [
        "from sklearn.model_selection import cross_val_score\n",
        "\n",
        "logisticReg = LogisticRegression()\n",
        "scores_5 = cross_val_score(logisticReg, x_train, y_train, cv=5)\n",
        "print(scores_5)\n",
        "scores_10 = cross_val_score(logisticReg, x_train, y_train, cv=10)\n",
        "print(scores_10)"
      ],
      "execution_count": 106,
      "outputs": [
        {
          "output_type": "stream",
          "text": [
            "[0.965625 0.95625  0.9625   0.95     0.971875]\n",
            "[0.96875 0.96875 0.96875 0.9625  0.96875 0.95    0.9625  0.93125 0.9875\n",
            " 0.95   ]\n"
          ],
          "name": "stdout"
        }
      ]
    }
  ]
}