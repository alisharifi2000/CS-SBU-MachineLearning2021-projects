{
  "nbformat": 4,
  "nbformat_minor": 0,
  "metadata": {
    "colab": {
      "name": "assignment3.ipynb",
      "provenance": []
    },
    "kernelspec": {
      "name": "python3",
      "display_name": "Python 3"
    },
    "language_info": {
      "name": "python"
    }
  },
  "cells": [
    {
      "cell_type": "markdown",
      "metadata": {
        "id": "rHHSlefpkPG8"
      },
      "source": [
        "# mobile proce classification #"
      ]
    },
    {
      "cell_type": "markdown",
      "metadata": {
        "id": "LhXejv1Hko81"
      },
      "source": [
        "## loading data ##"
      ]
    },
    {
      "cell_type": "code",
      "metadata": {
        "colab": {
          "base_uri": "https://localhost:8080/"
        },
        "id": "N0i-PFQxERGL",
        "outputId": "932931ee-a26d-4191-968a-bceb03c3793f"
      },
      "source": [
        "from google.colab import drive\n",
        "drive.mount('/content/drive')"
      ],
      "execution_count": 1,
      "outputs": [
        {
          "output_type": "stream",
          "text": [
            "Mounted at /content/drive\n"
          ],
          "name": "stdout"
        }
      ]
    },
    {
      "cell_type": "code",
      "metadata": {
        "colab": {
          "base_uri": "https://localhost:8080/"
        },
        "id": "FrglGZR-kheG",
        "outputId": "8e3fabdc-cfdb-459e-bcc3-5aced43ca960"
      },
      "source": [
        "!ls 'drive/MyDrive/machine learning university/mobile price prediction'"
      ],
      "execution_count": 4,
      "outputs": [
        {
          "output_type": "stream",
          "text": [
            "test.csv  train.csv\n"
          ],
          "name": "stdout"
        }
      ]
    },
    {
      "cell_type": "code",
      "metadata": {
        "id": "aG1ymYj0k3ZJ"
      },
      "source": [
        "#for read and manipulate data\n",
        "import pandas as pd\n",
        "import seaborn as sns\n",
        "import matplotlib.pyplot as plt\n",
        "%matplotlib inline\n",
        "import numpy as np\n",
        "from sklearn.model_selection import train_test_split\n",
        "from sklearn.preprocessing import StandardScaler\n",
        "from sklearn.preprocessing import LabelEncoder, OneHotEncoder"
      ],
      "execution_count": 3,
      "outputs": []
    },
    {
      "cell_type": "code",
      "metadata": {
        "colab": {
          "base_uri": "https://localhost:8080/",
          "height": 223
        },
        "id": "SbfSlmOrk5hf",
        "outputId": "5ad5ecd0-25bd-48a0-9518-55aa41dcd804"
      },
      "source": [
        "train = pd.read_csv('drive/MyDrive/machine learning university/mobile price prediction/train.csv')\n",
        "train.head()"
      ],
      "execution_count": 5,
      "outputs": [
        {
          "output_type": "execute_result",
          "data": {
            "text/html": [
              "<div>\n",
              "<style scoped>\n",
              "    .dataframe tbody tr th:only-of-type {\n",
              "        vertical-align: middle;\n",
              "    }\n",
              "\n",
              "    .dataframe tbody tr th {\n",
              "        vertical-align: top;\n",
              "    }\n",
              "\n",
              "    .dataframe thead th {\n",
              "        text-align: right;\n",
              "    }\n",
              "</style>\n",
              "<table border=\"1\" class=\"dataframe\">\n",
              "  <thead>\n",
              "    <tr style=\"text-align: right;\">\n",
              "      <th></th>\n",
              "      <th>battery_power</th>\n",
              "      <th>blue</th>\n",
              "      <th>clock_speed</th>\n",
              "      <th>dual_sim</th>\n",
              "      <th>fc</th>\n",
              "      <th>four_g</th>\n",
              "      <th>int_memory</th>\n",
              "      <th>m_dep</th>\n",
              "      <th>mobile_wt</th>\n",
              "      <th>n_cores</th>\n",
              "      <th>pc</th>\n",
              "      <th>px_height</th>\n",
              "      <th>px_width</th>\n",
              "      <th>ram</th>\n",
              "      <th>sc_h</th>\n",
              "      <th>sc_w</th>\n",
              "      <th>talk_time</th>\n",
              "      <th>three_g</th>\n",
              "      <th>touch_screen</th>\n",
              "      <th>wifi</th>\n",
              "      <th>price_range</th>\n",
              "    </tr>\n",
              "  </thead>\n",
              "  <tbody>\n",
              "    <tr>\n",
              "      <th>0</th>\n",
              "      <td>842</td>\n",
              "      <td>0</td>\n",
              "      <td>2.2</td>\n",
              "      <td>0</td>\n",
              "      <td>1</td>\n",
              "      <td>0</td>\n",
              "      <td>7</td>\n",
              "      <td>0.6</td>\n",
              "      <td>188</td>\n",
              "      <td>2</td>\n",
              "      <td>2</td>\n",
              "      <td>20</td>\n",
              "      <td>756</td>\n",
              "      <td>2549</td>\n",
              "      <td>9</td>\n",
              "      <td>7</td>\n",
              "      <td>19</td>\n",
              "      <td>0</td>\n",
              "      <td>0</td>\n",
              "      <td>1</td>\n",
              "      <td>1</td>\n",
              "    </tr>\n",
              "    <tr>\n",
              "      <th>1</th>\n",
              "      <td>1021</td>\n",
              "      <td>1</td>\n",
              "      <td>0.5</td>\n",
              "      <td>1</td>\n",
              "      <td>0</td>\n",
              "      <td>1</td>\n",
              "      <td>53</td>\n",
              "      <td>0.7</td>\n",
              "      <td>136</td>\n",
              "      <td>3</td>\n",
              "      <td>6</td>\n",
              "      <td>905</td>\n",
              "      <td>1988</td>\n",
              "      <td>2631</td>\n",
              "      <td>17</td>\n",
              "      <td>3</td>\n",
              "      <td>7</td>\n",
              "      <td>1</td>\n",
              "      <td>1</td>\n",
              "      <td>0</td>\n",
              "      <td>2</td>\n",
              "    </tr>\n",
              "    <tr>\n",
              "      <th>2</th>\n",
              "      <td>563</td>\n",
              "      <td>1</td>\n",
              "      <td>0.5</td>\n",
              "      <td>1</td>\n",
              "      <td>2</td>\n",
              "      <td>1</td>\n",
              "      <td>41</td>\n",
              "      <td>0.9</td>\n",
              "      <td>145</td>\n",
              "      <td>5</td>\n",
              "      <td>6</td>\n",
              "      <td>1263</td>\n",
              "      <td>1716</td>\n",
              "      <td>2603</td>\n",
              "      <td>11</td>\n",
              "      <td>2</td>\n",
              "      <td>9</td>\n",
              "      <td>1</td>\n",
              "      <td>1</td>\n",
              "      <td>0</td>\n",
              "      <td>2</td>\n",
              "    </tr>\n",
              "    <tr>\n",
              "      <th>3</th>\n",
              "      <td>615</td>\n",
              "      <td>1</td>\n",
              "      <td>2.5</td>\n",
              "      <td>0</td>\n",
              "      <td>0</td>\n",
              "      <td>0</td>\n",
              "      <td>10</td>\n",
              "      <td>0.8</td>\n",
              "      <td>131</td>\n",
              "      <td>6</td>\n",
              "      <td>9</td>\n",
              "      <td>1216</td>\n",
              "      <td>1786</td>\n",
              "      <td>2769</td>\n",
              "      <td>16</td>\n",
              "      <td>8</td>\n",
              "      <td>11</td>\n",
              "      <td>1</td>\n",
              "      <td>0</td>\n",
              "      <td>0</td>\n",
              "      <td>2</td>\n",
              "    </tr>\n",
              "    <tr>\n",
              "      <th>4</th>\n",
              "      <td>1821</td>\n",
              "      <td>1</td>\n",
              "      <td>1.2</td>\n",
              "      <td>0</td>\n",
              "      <td>13</td>\n",
              "      <td>1</td>\n",
              "      <td>44</td>\n",
              "      <td>0.6</td>\n",
              "      <td>141</td>\n",
              "      <td>2</td>\n",
              "      <td>14</td>\n",
              "      <td>1208</td>\n",
              "      <td>1212</td>\n",
              "      <td>1411</td>\n",
              "      <td>8</td>\n",
              "      <td>2</td>\n",
              "      <td>15</td>\n",
              "      <td>1</td>\n",
              "      <td>1</td>\n",
              "      <td>0</td>\n",
              "      <td>1</td>\n",
              "    </tr>\n",
              "  </tbody>\n",
              "</table>\n",
              "</div>"
            ],
            "text/plain": [
              "   battery_power  blue  clock_speed  ...  touch_screen  wifi  price_range\n",
              "0            842     0          2.2  ...             0     1            1\n",
              "1           1021     1          0.5  ...             1     0            2\n",
              "2            563     1          0.5  ...             1     0            2\n",
              "3            615     1          2.5  ...             0     0            2\n",
              "4           1821     1          1.2  ...             1     0            1\n",
              "\n",
              "[5 rows x 21 columns]"
            ]
          },
          "metadata": {
            "tags": []
          },
          "execution_count": 5
        }
      ]
    },
    {
      "cell_type": "markdown",
      "metadata": {
        "id": "1sQ0iVBblENV"
      },
      "source": [
        "## train test split ##"
      ]
    },
    {
      "cell_type": "code",
      "metadata": {
        "id": "VxsYB9rVlC8M"
      },
      "source": [
        "x_train, x_test, y_train, y_test = train_test_split(train.drop(columns=['price_range']), train.price_range, test_size=0.2, random_state=0)"
      ],
      "execution_count": 6,
      "outputs": []
    },
    {
      "cell_type": "code",
      "metadata": {
        "colab": {
          "base_uri": "https://localhost:8080/"
        },
        "id": "JpzpQeKaln17",
        "outputId": "ba2df581-aa0d-4ba0-edb9-a4309fd75e65"
      },
      "source": [
        "x_train.shape, x_test.shape, y_train.shape, y_test.shape"
      ],
      "execution_count": 7,
      "outputs": [
        {
          "output_type": "execute_result",
          "data": {
            "text/plain": [
              "((1600, 20), (400, 20), (1600,), (400,))"
            ]
          },
          "metadata": {
            "tags": []
          },
          "execution_count": 7
        }
      ]
    },
    {
      "cell_type": "markdown",
      "metadata": {
        "id": "o5F1SnUalqu8"
      },
      "source": [
        "## scaling ##"
      ]
    },
    {
      "cell_type": "code",
      "metadata": {
        "id": "vgjaaGeoloWa"
      },
      "source": [
        "sc = StandardScaler()\n",
        "x_train[x_train.columns] = sc.fit_transform(x_train[x_train.columns])\n",
        "x_test[x_test.columns] = sc.transform(x_test[x_test.columns])"
      ],
      "execution_count": 8,
      "outputs": []
    },
    {
      "cell_type": "code",
      "metadata": {
        "colab": {
          "base_uri": "https://localhost:8080/",
          "height": 223
        },
        "id": "rf1gXWm4mEbc",
        "outputId": "9cb68f55-c8be-489c-8524-f1aae1b3cb67"
      },
      "source": [
        "x_train.head()"
      ],
      "execution_count": 9,
      "outputs": [
        {
          "output_type": "execute_result",
          "data": {
            "text/html": [
              "<div>\n",
              "<style scoped>\n",
              "    .dataframe tbody tr th:only-of-type {\n",
              "        vertical-align: middle;\n",
              "    }\n",
              "\n",
              "    .dataframe tbody tr th {\n",
              "        vertical-align: top;\n",
              "    }\n",
              "\n",
              "    .dataframe thead th {\n",
              "        text-align: right;\n",
              "    }\n",
              "</style>\n",
              "<table border=\"1\" class=\"dataframe\">\n",
              "  <thead>\n",
              "    <tr style=\"text-align: right;\">\n",
              "      <th></th>\n",
              "      <th>battery_power</th>\n",
              "      <th>blue</th>\n",
              "      <th>clock_speed</th>\n",
              "      <th>dual_sim</th>\n",
              "      <th>fc</th>\n",
              "      <th>four_g</th>\n",
              "      <th>int_memory</th>\n",
              "      <th>m_dep</th>\n",
              "      <th>mobile_wt</th>\n",
              "      <th>n_cores</th>\n",
              "      <th>pc</th>\n",
              "      <th>px_height</th>\n",
              "      <th>px_width</th>\n",
              "      <th>ram</th>\n",
              "      <th>sc_h</th>\n",
              "      <th>sc_w</th>\n",
              "      <th>talk_time</th>\n",
              "      <th>three_g</th>\n",
              "      <th>touch_screen</th>\n",
              "      <th>wifi</th>\n",
              "    </tr>\n",
              "  </thead>\n",
              "  <tbody>\n",
              "    <tr>\n",
              "      <th>582</th>\n",
              "      <td>-0.001608</td>\n",
              "      <td>-0.965592</td>\n",
              "      <td>1.671035</td>\n",
              "      <td>0.983880</td>\n",
              "      <td>-0.748114</td>\n",
              "      <td>0.976525</td>\n",
              "      <td>-0.430667</td>\n",
              "      <td>-0.692543</td>\n",
              "      <td>0.852842</td>\n",
              "      <td>0.216380</td>\n",
              "      <td>1.183752</td>\n",
              "      <td>-0.660982</td>\n",
              "      <td>-1.042159</td>\n",
              "      <td>-0.786095</td>\n",
              "      <td>0.882404</td>\n",
              "      <td>0.951809</td>\n",
              "      <td>0.911171</td>\n",
              "      <td>0.564840</td>\n",
              "      <td>-0.986343</td>\n",
              "      <td>-1.025320</td>\n",
              "    </tr>\n",
              "    <tr>\n",
              "      <th>159</th>\n",
              "      <td>1.374075</td>\n",
              "      <td>-0.965592</td>\n",
              "      <td>-1.270550</td>\n",
              "      <td>0.983880</td>\n",
              "      <td>1.810037</td>\n",
              "      <td>-1.024039</td>\n",
              "      <td>0.119443</td>\n",
              "      <td>0.693843</td>\n",
              "      <td>0.084708</td>\n",
              "      <td>-1.543255</td>\n",
              "      <td>1.018941</td>\n",
              "      <td>-0.773314</td>\n",
              "      <td>0.655005</td>\n",
              "      <td>-0.952286</td>\n",
              "      <td>-1.032614</td>\n",
              "      <td>-1.324225</td>\n",
              "      <td>-0.183466</td>\n",
              "      <td>-1.770414</td>\n",
              "      <td>-0.986343</td>\n",
              "      <td>-1.025320</td>\n",
              "    </tr>\n",
              "    <tr>\n",
              "      <th>1827</th>\n",
              "      <td>1.039205</td>\n",
              "      <td>-0.965592</td>\n",
              "      <td>0.690506</td>\n",
              "      <td>-1.016384</td>\n",
              "      <td>-0.050436</td>\n",
              "      <td>0.976525</td>\n",
              "      <td>-1.640908</td>\n",
              "      <td>1.387036</td>\n",
              "      <td>-0.939471</td>\n",
              "      <td>-1.543255</td>\n",
              "      <td>1.183752</td>\n",
              "      <td>2.794355</td>\n",
              "      <td>1.482833</td>\n",
              "      <td>1.555428</td>\n",
              "      <td>-0.793236</td>\n",
              "      <td>-0.641415</td>\n",
              "      <td>-0.730784</td>\n",
              "      <td>0.564840</td>\n",
              "      <td>1.013846</td>\n",
              "      <td>0.975305</td>\n",
              "    </tr>\n",
              "    <tr>\n",
              "      <th>318</th>\n",
              "      <td>-1.639756</td>\n",
              "      <td>-0.965592</td>\n",
              "      <td>-0.902852</td>\n",
              "      <td>-1.016384</td>\n",
              "      <td>0.647241</td>\n",
              "      <td>0.976525</td>\n",
              "      <td>0.559530</td>\n",
              "      <td>-0.692543</td>\n",
              "      <td>-1.280863</td>\n",
              "      <td>-1.543255</td>\n",
              "      <td>-0.299543</td>\n",
              "      <td>-1.384401</td>\n",
              "      <td>-1.623253</td>\n",
              "      <td>-1.337588</td>\n",
              "      <td>0.164273</td>\n",
              "      <td>1.407015</td>\n",
              "      <td>-0.730784</td>\n",
              "      <td>0.564840</td>\n",
              "      <td>-0.986343</td>\n",
              "      <td>-1.025320</td>\n",
              "    </tr>\n",
              "    <tr>\n",
              "      <th>708</th>\n",
              "      <td>-0.578580</td>\n",
              "      <td>1.035635</td>\n",
              "      <td>1.548469</td>\n",
              "      <td>0.983880</td>\n",
              "      <td>-0.515555</td>\n",
              "      <td>-1.024039</td>\n",
              "      <td>0.174453</td>\n",
              "      <td>0.347246</td>\n",
              "      <td>0.739044</td>\n",
              "      <td>-1.103346</td>\n",
              "      <td>0.854131</td>\n",
              "      <td>1.902438</td>\n",
              "      <td>1.385984</td>\n",
              "      <td>1.495079</td>\n",
              "      <td>1.600536</td>\n",
              "      <td>-0.641415</td>\n",
              "      <td>-0.183466</td>\n",
              "      <td>-1.770414</td>\n",
              "      <td>1.013846</td>\n",
              "      <td>0.975305</td>\n",
              "    </tr>\n",
              "  </tbody>\n",
              "</table>\n",
              "</div>"
            ],
            "text/plain": [
              "      battery_power      blue  clock_speed  ...   three_g  touch_screen      wifi\n",
              "582       -0.001608 -0.965592     1.671035  ...  0.564840     -0.986343 -1.025320\n",
              "159        1.374075 -0.965592    -1.270550  ... -1.770414     -0.986343 -1.025320\n",
              "1827       1.039205 -0.965592     0.690506  ...  0.564840      1.013846  0.975305\n",
              "318       -1.639756 -0.965592    -0.902852  ...  0.564840     -0.986343 -1.025320\n",
              "708       -0.578580  1.035635     1.548469  ... -1.770414      1.013846  0.975305\n",
              "\n",
              "[5 rows x 20 columns]"
            ]
          },
          "metadata": {
            "tags": []
          },
          "execution_count": 9
        }
      ]
    },
    {
      "cell_type": "code",
      "metadata": {
        "colab": {
          "base_uri": "https://localhost:8080/",
          "height": 223
        },
        "id": "rZOduA8LmGhA",
        "outputId": "8aacbe36-f87d-4439-cbf8-bafb2605a97d"
      },
      "source": [
        "x_test.head()"
      ],
      "execution_count": 10,
      "outputs": [
        {
          "output_type": "execute_result",
          "data": {
            "text/html": [
              "<div>\n",
              "<style scoped>\n",
              "    .dataframe tbody tr th:only-of-type {\n",
              "        vertical-align: middle;\n",
              "    }\n",
              "\n",
              "    .dataframe tbody tr th {\n",
              "        vertical-align: top;\n",
              "    }\n",
              "\n",
              "    .dataframe thead th {\n",
              "        text-align: right;\n",
              "    }\n",
              "</style>\n",
              "<table border=\"1\" class=\"dataframe\">\n",
              "  <thead>\n",
              "    <tr style=\"text-align: right;\">\n",
              "      <th></th>\n",
              "      <th>battery_power</th>\n",
              "      <th>blue</th>\n",
              "      <th>clock_speed</th>\n",
              "      <th>dual_sim</th>\n",
              "      <th>fc</th>\n",
              "      <th>four_g</th>\n",
              "      <th>int_memory</th>\n",
              "      <th>m_dep</th>\n",
              "      <th>mobile_wt</th>\n",
              "      <th>n_cores</th>\n",
              "      <th>pc</th>\n",
              "      <th>px_height</th>\n",
              "      <th>px_width</th>\n",
              "      <th>ram</th>\n",
              "      <th>sc_h</th>\n",
              "      <th>sc_w</th>\n",
              "      <th>talk_time</th>\n",
              "      <th>three_g</th>\n",
              "      <th>touch_screen</th>\n",
              "      <th>wifi</th>\n",
              "    </tr>\n",
              "  </thead>\n",
              "  <tbody>\n",
              "    <tr>\n",
              "      <th>405</th>\n",
              "      <td>0.500697</td>\n",
              "      <td>1.035635</td>\n",
              "      <td>-1.270550</td>\n",
              "      <td>0.983880</td>\n",
              "      <td>-0.748114</td>\n",
              "      <td>-1.024039</td>\n",
              "      <td>0.119443</td>\n",
              "      <td>0.693843</td>\n",
              "      <td>-1.593807</td>\n",
              "      <td>-0.223529</td>\n",
              "      <td>-1.123596</td>\n",
              "      <td>-0.910359</td>\n",
              "      <td>-0.525631</td>\n",
              "      <td>1.221190</td>\n",
              "      <td>-1.271991</td>\n",
              "      <td>-0.186208</td>\n",
              "      <td>-1.095663</td>\n",
              "      <td>0.564840</td>\n",
              "      <td>1.013846</td>\n",
              "      <td>-1.025320</td>\n",
              "    </tr>\n",
              "    <tr>\n",
              "      <th>1190</th>\n",
              "      <td>-0.318377</td>\n",
              "      <td>1.035635</td>\n",
              "      <td>-1.270550</td>\n",
              "      <td>0.983880</td>\n",
              "      <td>1.344919</td>\n",
              "      <td>-1.024039</td>\n",
              "      <td>-1.145809</td>\n",
              "      <td>0.000650</td>\n",
              "      <td>0.795943</td>\n",
              "      <td>-0.663437</td>\n",
              "      <td>0.689320</td>\n",
              "      <td>-0.420591</td>\n",
              "      <td>-1.590970</td>\n",
              "      <td>-1.268884</td>\n",
              "      <td>0.403650</td>\n",
              "      <td>-0.413811</td>\n",
              "      <td>-0.001026</td>\n",
              "      <td>-1.770414</td>\n",
              "      <td>1.013846</td>\n",
              "      <td>-1.025320</td>\n",
              "    </tr>\n",
              "    <tr>\n",
              "      <th>1132</th>\n",
              "      <td>0.659082</td>\n",
              "      <td>1.035635</td>\n",
              "      <td>0.322808</td>\n",
              "      <td>0.983880</td>\n",
              "      <td>-0.980673</td>\n",
              "      <td>-1.024039</td>\n",
              "      <td>-1.200820</td>\n",
              "      <td>0.347246</td>\n",
              "      <td>0.995089</td>\n",
              "      <td>-0.223529</td>\n",
              "      <td>-1.453217</td>\n",
              "      <td>-1.126037</td>\n",
              "      <td>-1.639394</td>\n",
              "      <td>0.533217</td>\n",
              "      <td>0.882404</td>\n",
              "      <td>-0.186208</td>\n",
              "      <td>0.363853</td>\n",
              "      <td>0.564840</td>\n",
              "      <td>-0.986343</td>\n",
              "      <td>0.975305</td>\n",
              "    </tr>\n",
              "    <tr>\n",
              "      <th>731</th>\n",
              "      <td>1.299408</td>\n",
              "      <td>1.035635</td>\n",
              "      <td>0.690506</td>\n",
              "      <td>-1.016384</td>\n",
              "      <td>-0.515555</td>\n",
              "      <td>-1.024039</td>\n",
              "      <td>0.944607</td>\n",
              "      <td>1.040440</td>\n",
              "      <td>-0.398932</td>\n",
              "      <td>-1.543255</td>\n",
              "      <td>0.030078</td>\n",
              "      <td>-0.714901</td>\n",
              "      <td>0.283750</td>\n",
              "      <td>-0.183538</td>\n",
              "      <td>1.121782</td>\n",
              "      <td>1.634619</td>\n",
              "      <td>0.363853</td>\n",
              "      <td>-1.770414</td>\n",
              "      <td>1.013846</td>\n",
              "      <td>0.975305</td>\n",
              "    </tr>\n",
              "    <tr>\n",
              "      <th>1754</th>\n",
              "      <td>-0.331953</td>\n",
              "      <td>1.035635</td>\n",
              "      <td>0.200242</td>\n",
              "      <td>0.983880</td>\n",
              "      <td>-0.980673</td>\n",
              "      <td>0.976525</td>\n",
              "      <td>0.614541</td>\n",
              "      <td>-1.039140</td>\n",
              "      <td>-0.797224</td>\n",
              "      <td>0.656289</td>\n",
              "      <td>-1.453217</td>\n",
              "      <td>-1.346208</td>\n",
              "      <td>-0.255837</td>\n",
              "      <td>1.096779</td>\n",
              "      <td>-0.314482</td>\n",
              "      <td>-0.186208</td>\n",
              "      <td>1.093610</td>\n",
              "      <td>0.564840</td>\n",
              "      <td>1.013846</td>\n",
              "      <td>-1.025320</td>\n",
              "    </tr>\n",
              "  </tbody>\n",
              "</table>\n",
              "</div>"
            ],
            "text/plain": [
              "      battery_power      blue  clock_speed  ...   three_g  touch_screen      wifi\n",
              "405        0.500697  1.035635    -1.270550  ...  0.564840      1.013846 -1.025320\n",
              "1190      -0.318377  1.035635    -1.270550  ... -1.770414      1.013846 -1.025320\n",
              "1132       0.659082  1.035635     0.322808  ...  0.564840     -0.986343  0.975305\n",
              "731        1.299408  1.035635     0.690506  ... -1.770414      1.013846  0.975305\n",
              "1754      -0.331953  1.035635     0.200242  ...  0.564840      1.013846 -1.025320\n",
              "\n",
              "[5 rows x 20 columns]"
            ]
          },
          "metadata": {
            "tags": []
          },
          "execution_count": 10
        }
      ]
    },
    {
      "cell_type": "markdown",
      "metadata": {
        "id": "lHApmU6emImj"
      },
      "source": [
        "## SVC Polynomial Kernel ##"
      ]
    },
    {
      "cell_type": "code",
      "metadata": {
        "colab": {
          "base_uri": "https://localhost:8080/"
        },
        "id": "83FNogXImQLY",
        "outputId": "cc955fe1-e890-4855-ab64-3a28844613b5"
      },
      "source": [
        "from sklearn.svm import SVC\n",
        "\n",
        "svc_poly_2 = SVC(kernel='poly', degree=2, decision_function_shape='ovr')\n",
        "svc_poly_2.fit(x_train, y_train)\n",
        "y_prd = svc_poly_2.predict(x_test)\n",
        "score = svc_poly_2.score(x_test, y_test)\n",
        "score"
      ],
      "execution_count": 16,
      "outputs": [
        {
          "output_type": "execute_result",
          "data": {
            "text/plain": [
              "0.465"
            ]
          },
          "metadata": {
            "tags": []
          },
          "execution_count": 16
        }
      ]
    },
    {
      "cell_type": "code",
      "metadata": {
        "colab": {
          "base_uri": "https://localhost:8080/"
        },
        "id": "J8OqUxtFnsGs",
        "outputId": "f9840002-87f0-418b-b933-80f23218869b"
      },
      "source": [
        "svc_poly_3 = SVC(kernel='poly', degree=3, decision_function_shape='ovr')\n",
        "svc_poly_3.fit(x_train, y_train)\n",
        "y_prd_3 = svc_poly_3.predict(x_test)\n",
        "score = svc_poly_3.score(x_test, y_test)\n",
        "score"
      ],
      "execution_count": 19,
      "outputs": [
        {
          "output_type": "execute_result",
          "data": {
            "text/plain": [
              "0.8025"
            ]
          },
          "metadata": {
            "tags": []
          },
          "execution_count": 19
        }
      ]
    },
    {
      "cell_type": "code",
      "metadata": {
        "colab": {
          "base_uri": "https://localhost:8080/"
        },
        "id": "DS8KQfSFn7gY",
        "outputId": "c5ae27c3-49c7-4d6c-db6c-c1eb33896dce"
      },
      "source": [
        "svc_poly_4 = SVC(kernel='poly', degree=4, decision_function_shape='ovr')\n",
        "svc_poly_4.fit(x_train, y_train)\n",
        "y_prd = svc_poly_4.predict(x_test)\n",
        "score = svc_poly_4.score(x_test, y_test)\n",
        "score"
      ],
      "execution_count": 18,
      "outputs": [
        {
          "output_type": "execute_result",
          "data": {
            "text/plain": [
              "0.4525"
            ]
          },
          "metadata": {
            "tags": []
          },
          "execution_count": 18
        }
      ]
    },
    {
      "cell_type": "code",
      "metadata": {
        "colab": {
          "base_uri": "https://localhost:8080/"
        },
        "id": "uSmZdUbGn-f0",
        "outputId": "6764cc42-ae3b-47e3-a367-6d29afd17704"
      },
      "source": [
        "from sklearn.metrics import precision_recall_fscore_support\n",
        "\n",
        "percision, recall, f1score, support = precision_recall_fscore_support(y_test, y_prd_3)\n",
        "print('percision:', percision)\n",
        "print('recall:', recall)\n",
        "print('f1score:', f1score)"
      ],
      "execution_count": 20,
      "outputs": [
        {
          "output_type": "stream",
          "text": [
            "percision: [0.94318182 0.69306931 0.66371681 0.94897959]\n",
            "recall: [0.87368421 0.76086957 0.75757576 0.81578947]\n",
            "f1score: [0.90710383 0.7253886  0.70754717 0.87735849]\n"
          ],
          "name": "stdout"
        }
      ]
    },
    {
      "cell_type": "markdown",
      "metadata": {
        "id": "5q-nv7yvoaF9"
      },
      "source": [
        "## SVC rbf kernel ##"
      ]
    },
    {
      "cell_type": "code",
      "metadata": {
        "colab": {
          "base_uri": "https://localhost:8080/"
        },
        "id": "bndMkcfSolan",
        "outputId": "49d0cf68-68c7-47ac-9857-26b92ee31b6c"
      },
      "source": [
        "svc_rbf = SVC(kernel='rbf', decision_function_shape='ovr')\n",
        "svc_rbf.fit(x_train, y_train)\n",
        "y_prd_rbf = svc_rbf.predict(x_test)\n",
        "score = svc_rbf.score(x_test, y_test)\n",
        "score"
      ],
      "execution_count": 22,
      "outputs": [
        {
          "output_type": "execute_result",
          "data": {
            "text/plain": [
              "0.89"
            ]
          },
          "metadata": {
            "tags": []
          },
          "execution_count": 22
        }
      ]
    },
    {
      "cell_type": "code",
      "metadata": {
        "colab": {
          "base_uri": "https://localhost:8080/"
        },
        "id": "Y47Lb7WWpDEE",
        "outputId": "a57f3112-65ef-45fa-dc42-1fbafdfc4b40"
      },
      "source": [
        "percision, recall, f1score, support = precision_recall_fscore_support(y_test, y_prd_rbf)\n",
        "print('percision:', percision)\n",
        "print('recall:', recall)\n",
        "print('f1score:', f1score)"
      ],
      "execution_count": 23,
      "outputs": [
        {
          "output_type": "stream",
          "text": [
            "percision: [0.95698925 0.82       0.82178218 0.96226415]\n",
            "recall: [0.93684211 0.89130435 0.83838384 0.89473684]\n",
            "f1score: [0.94680851 0.85416667 0.83       0.92727273]\n"
          ],
          "name": "stdout"
        }
      ]
    },
    {
      "cell_type": "markdown",
      "metadata": {
        "id": "E10_lLYLpoSa"
      },
      "source": [
        "## SVC sigmoid kernel ##"
      ]
    },
    {
      "cell_type": "code",
      "metadata": {
        "colab": {
          "base_uri": "https://localhost:8080/"
        },
        "id": "wqBOS385psB-",
        "outputId": "95f67b23-4588-46ef-86d4-4ed865742fb0"
      },
      "source": [
        "svc_sigmoid = SVC(kernel='sigmoid', decision_function_shape='ovr')\n",
        "svc_sigmoid.fit(x_train, y_train)\n",
        "y_prd_sig = svc_sigmoid.predict(x_test)\n",
        "score = svc_sigmoid.score(x_test, y_test)\n",
        "score"
      ],
      "execution_count": 25,
      "outputs": [
        {
          "output_type": "execute_result",
          "data": {
            "text/plain": [
              "0.915"
            ]
          },
          "metadata": {
            "tags": []
          },
          "execution_count": 25
        }
      ]
    },
    {
      "cell_type": "code",
      "metadata": {
        "colab": {
          "base_uri": "https://localhost:8080/"
        },
        "id": "CTkSINzopxlI",
        "outputId": "f4269f36-6495-4b60-9e4c-68224d91dd94"
      },
      "source": [
        "percision, recall, f1score, support = precision_recall_fscore_support(y_test, y_prd_sig)\n",
        "print('percision:', percision)\n",
        "print('recall:', recall)\n",
        "print('f1score:', f1score)"
      ],
      "execution_count": 26,
      "outputs": [
        {
          "output_type": "stream",
          "text": [
            "percision: [0.96774194 0.83495146 0.9010989  0.95575221]\n",
            "recall: [0.94736842 0.93478261 0.82828283 0.94736842]\n",
            "f1score: [0.95744681 0.88205128 0.86315789 0.95154185]\n"
          ],
          "name": "stdout"
        }
      ]
    },
    {
      "cell_type": "markdown",
      "metadata": {
        "id": "-kYEHVUdqMl0"
      },
      "source": [
        "## SVC Linear kernel ##"
      ]
    },
    {
      "cell_type": "code",
      "metadata": {
        "colab": {
          "base_uri": "https://localhost:8080/"
        },
        "id": "HbsgiMqOqRQg",
        "outputId": "9cd36d5c-a834-4c13-9539-d386d05714e6"
      },
      "source": [
        "svc_linear = SVC(kernel='linear', decision_function_shape='ovr')\n",
        "svc_linear.fit(x_train, y_train)\n",
        "y_prd_lin = svc_linear.predict(x_test)\n",
        "score = svc_linear.score(x_test, y_test)\n",
        "score"
      ],
      "execution_count": 27,
      "outputs": [
        {
          "output_type": "execute_result",
          "data": {
            "text/plain": [
              "0.9525"
            ]
          },
          "metadata": {
            "tags": []
          },
          "execution_count": 27
        }
      ]
    },
    {
      "cell_type": "code",
      "metadata": {
        "colab": {
          "base_uri": "https://localhost:8080/"
        },
        "id": "gt-HRv2LqdEV",
        "outputId": "53f55d13-b4c9-4f63-8b30-bb3e2ef8924b"
      },
      "source": [
        "percision, recall, f1score, support = precision_recall_fscore_support(y_test, y_prd_sig)\n",
        "print('percision:', percision)\n",
        "print('recall:', recall)\n",
        "print('f1score:', f1score)"
      ],
      "execution_count": 28,
      "outputs": [
        {
          "output_type": "stream",
          "text": [
            "percision: [0.96774194 0.83495146 0.9010989  0.95575221]\n",
            "recall: [0.94736842 0.93478261 0.82828283 0.94736842]\n",
            "f1score: [0.95744681 0.88205128 0.86315789 0.95154185]\n"
          ],
          "name": "stdout"
        }
      ]
    },
    {
      "cell_type": "markdown",
      "metadata": {
        "id": "m6nkxN2zrNq0"
      },
      "source": [
        "## SVC soft and hard margin ##"
      ]
    },
    {
      "cell_type": "markdown",
      "metadata": {
        "id": "YBjDxW8XrSUA"
      },
      "source": [
        "### hard margin ###"
      ]
    },
    {
      "cell_type": "code",
      "metadata": {
        "colab": {
          "base_uri": "https://localhost:8080/"
        },
        "id": "D49cz7FFrUdX",
        "outputId": "4fdcf77c-f7e7-4af0-d8ec-da88aa8b00c1"
      },
      "source": [
        "# on linear\n",
        "svc_linear = SVC(kernel='linear', decision_function_shape='ovr', C=0.001)\n",
        "svc_linear.fit(x_train, y_train)\n",
        "y_prd_lin = svc_linear.predict(x_test)\n",
        "score = svc_linear.score(x_test, y_test)\n",
        "score"
      ],
      "execution_count": 37,
      "outputs": [
        {
          "output_type": "execute_result",
          "data": {
            "text/plain": [
              "0.3175"
            ]
          },
          "metadata": {
            "tags": []
          },
          "execution_count": 37
        }
      ]
    },
    {
      "cell_type": "code",
      "metadata": {
        "colab": {
          "base_uri": "https://localhost:8080/"
        },
        "id": "Mzvfoiqvr1An",
        "outputId": "e9a9ed9f-d47e-4a5c-c35a-e552660408b5"
      },
      "source": [
        "svc_rbf = SVC(kernel='rbf', decision_function_shape='ovr' ,C=0.1)\n",
        "svc_rbf.fit(x_train, y_train)\n",
        "y_prd_rbf = svc_rbf.predict(x_test)\n",
        "score = svc_rbf.score(x_test, y_test)\n",
        "score"
      ],
      "execution_count": 38,
      "outputs": [
        {
          "output_type": "execute_result",
          "data": {
            "text/plain": [
              "0.6425"
            ]
          },
          "metadata": {
            "tags": []
          },
          "execution_count": 38
        }
      ]
    },
    {
      "cell_type": "markdown",
      "metadata": {
        "id": "OEWP2jTYrUzh"
      },
      "source": [
        "### soft margin ###"
      ]
    },
    {
      "cell_type": "code",
      "metadata": {
        "colab": {
          "base_uri": "https://localhost:8080/"
        },
        "id": "6rchs1zzrZoj",
        "outputId": "a6673311-f257-4865-abaa-a4197b1af602"
      },
      "source": [
        "# on linear\n",
        "svc_linear = SVC(kernel='linear', decision_function_shape='ovr', C=100.0)\n",
        "svc_linear.fit(x_train, y_train)\n",
        "y_prd_lin = svc_linear.predict(x_test)\n",
        "score = svc_linear.score(x_test, y_test)\n",
        "score"
      ],
      "execution_count": 36,
      "outputs": [
        {
          "output_type": "execute_result",
          "data": {
            "text/plain": [
              "0.9575"
            ]
          },
          "metadata": {
            "tags": []
          },
          "execution_count": 36
        }
      ]
    },
    {
      "cell_type": "code",
      "metadata": {
        "colab": {
          "base_uri": "https://localhost:8080/"
        },
        "id": "HAOuSjLbr_vE",
        "outputId": "2572c12e-fc3a-4cf2-bfd8-ad2e350afdc2"
      },
      "source": [
        "svc_rbf = SVC(kernel='rbf', decision_function_shape='ovr' ,C=100.0)\n",
        "svc_rbf.fit(x_train, y_train)\n",
        "y_prd_rbf = svc_rbf.predict(x_test)\n",
        "score = svc_rbf.score(x_test, y_test)\n",
        "score"
      ],
      "execution_count": 39,
      "outputs": [
        {
          "output_type": "execute_result",
          "data": {
            "text/plain": [
              "0.89"
            ]
          },
          "metadata": {
            "tags": []
          },
          "execution_count": 39
        }
      ]
    },
    {
      "cell_type": "markdown",
      "metadata": {
        "id": "8v8BIIB3swYr"
      },
      "source": [
        "## bining (battery power)##"
      ]
    },
    {
      "cell_type": "code",
      "metadata": {
        "colab": {
          "base_uri": "https://localhost:8080/"
        },
        "id": "19A8MAlksx9k",
        "outputId": "fa20e81b-d4d4-47b4-9620-74af1815473e"
      },
      "source": [
        "x_train_bp = train.drop(columns=['price_range'])\n",
        "y_train_bp = train['price_range']\n",
        "\n",
        "min_value = x_train_bp['battery_power'].min()\n",
        "max_value = x_train_bp['battery_power'].max()\n",
        "\n",
        "bins = np.linspace(min_value,max_value,4)\n",
        "bins"
      ],
      "execution_count": 40,
      "outputs": [
        {
          "output_type": "execute_result",
          "data": {
            "text/plain": [
              "array([ 501., 1000., 1499., 1998.])"
            ]
          },
          "metadata": {
            "tags": []
          },
          "execution_count": 40
        }
      ]
    },
    {
      "cell_type": "code",
      "metadata": {
        "colab": {
          "base_uri": "https://localhost:8080/",
          "height": 417
        },
        "id": "G4qUmRwxxpGN",
        "outputId": "bf9574c6-2423-4e7f-f303-eaae8b2d2c50"
      },
      "source": [
        "labels = ['low', 'medium', 'high']\n",
        "\n",
        "x_train_bp['battery_power'] = pd.cut(x_train_bp['battery_power'], bins=bins, labels=labels, include_lowest=True)\n",
        "x_train_bp"
      ],
      "execution_count": 41,
      "outputs": [
        {
          "output_type": "execute_result",
          "data": {
            "text/html": [
              "<div>\n",
              "<style scoped>\n",
              "    .dataframe tbody tr th:only-of-type {\n",
              "        vertical-align: middle;\n",
              "    }\n",
              "\n",
              "    .dataframe tbody tr th {\n",
              "        vertical-align: top;\n",
              "    }\n",
              "\n",
              "    .dataframe thead th {\n",
              "        text-align: right;\n",
              "    }\n",
              "</style>\n",
              "<table border=\"1\" class=\"dataframe\">\n",
              "  <thead>\n",
              "    <tr style=\"text-align: right;\">\n",
              "      <th></th>\n",
              "      <th>battery_power</th>\n",
              "      <th>blue</th>\n",
              "      <th>clock_speed</th>\n",
              "      <th>dual_sim</th>\n",
              "      <th>fc</th>\n",
              "      <th>four_g</th>\n",
              "      <th>int_memory</th>\n",
              "      <th>m_dep</th>\n",
              "      <th>mobile_wt</th>\n",
              "      <th>n_cores</th>\n",
              "      <th>pc</th>\n",
              "      <th>px_height</th>\n",
              "      <th>px_width</th>\n",
              "      <th>ram</th>\n",
              "      <th>sc_h</th>\n",
              "      <th>sc_w</th>\n",
              "      <th>talk_time</th>\n",
              "      <th>three_g</th>\n",
              "      <th>touch_screen</th>\n",
              "      <th>wifi</th>\n",
              "    </tr>\n",
              "  </thead>\n",
              "  <tbody>\n",
              "    <tr>\n",
              "      <th>0</th>\n",
              "      <td>low</td>\n",
              "      <td>0</td>\n",
              "      <td>2.2</td>\n",
              "      <td>0</td>\n",
              "      <td>1</td>\n",
              "      <td>0</td>\n",
              "      <td>7</td>\n",
              "      <td>0.6</td>\n",
              "      <td>188</td>\n",
              "      <td>2</td>\n",
              "      <td>2</td>\n",
              "      <td>20</td>\n",
              "      <td>756</td>\n",
              "      <td>2549</td>\n",
              "      <td>9</td>\n",
              "      <td>7</td>\n",
              "      <td>19</td>\n",
              "      <td>0</td>\n",
              "      <td>0</td>\n",
              "      <td>1</td>\n",
              "    </tr>\n",
              "    <tr>\n",
              "      <th>1</th>\n",
              "      <td>medium</td>\n",
              "      <td>1</td>\n",
              "      <td>0.5</td>\n",
              "      <td>1</td>\n",
              "      <td>0</td>\n",
              "      <td>1</td>\n",
              "      <td>53</td>\n",
              "      <td>0.7</td>\n",
              "      <td>136</td>\n",
              "      <td>3</td>\n",
              "      <td>6</td>\n",
              "      <td>905</td>\n",
              "      <td>1988</td>\n",
              "      <td>2631</td>\n",
              "      <td>17</td>\n",
              "      <td>3</td>\n",
              "      <td>7</td>\n",
              "      <td>1</td>\n",
              "      <td>1</td>\n",
              "      <td>0</td>\n",
              "    </tr>\n",
              "    <tr>\n",
              "      <th>2</th>\n",
              "      <td>low</td>\n",
              "      <td>1</td>\n",
              "      <td>0.5</td>\n",
              "      <td>1</td>\n",
              "      <td>2</td>\n",
              "      <td>1</td>\n",
              "      <td>41</td>\n",
              "      <td>0.9</td>\n",
              "      <td>145</td>\n",
              "      <td>5</td>\n",
              "      <td>6</td>\n",
              "      <td>1263</td>\n",
              "      <td>1716</td>\n",
              "      <td>2603</td>\n",
              "      <td>11</td>\n",
              "      <td>2</td>\n",
              "      <td>9</td>\n",
              "      <td>1</td>\n",
              "      <td>1</td>\n",
              "      <td>0</td>\n",
              "    </tr>\n",
              "    <tr>\n",
              "      <th>3</th>\n",
              "      <td>low</td>\n",
              "      <td>1</td>\n",
              "      <td>2.5</td>\n",
              "      <td>0</td>\n",
              "      <td>0</td>\n",
              "      <td>0</td>\n",
              "      <td>10</td>\n",
              "      <td>0.8</td>\n",
              "      <td>131</td>\n",
              "      <td>6</td>\n",
              "      <td>9</td>\n",
              "      <td>1216</td>\n",
              "      <td>1786</td>\n",
              "      <td>2769</td>\n",
              "      <td>16</td>\n",
              "      <td>8</td>\n",
              "      <td>11</td>\n",
              "      <td>1</td>\n",
              "      <td>0</td>\n",
              "      <td>0</td>\n",
              "    </tr>\n",
              "    <tr>\n",
              "      <th>4</th>\n",
              "      <td>high</td>\n",
              "      <td>1</td>\n",
              "      <td>1.2</td>\n",
              "      <td>0</td>\n",
              "      <td>13</td>\n",
              "      <td>1</td>\n",
              "      <td>44</td>\n",
              "      <td>0.6</td>\n",
              "      <td>141</td>\n",
              "      <td>2</td>\n",
              "      <td>14</td>\n",
              "      <td>1208</td>\n",
              "      <td>1212</td>\n",
              "      <td>1411</td>\n",
              "      <td>8</td>\n",
              "      <td>2</td>\n",
              "      <td>15</td>\n",
              "      <td>1</td>\n",
              "      <td>1</td>\n",
              "      <td>0</td>\n",
              "    </tr>\n",
              "    <tr>\n",
              "      <th>...</th>\n",
              "      <td>...</td>\n",
              "      <td>...</td>\n",
              "      <td>...</td>\n",
              "      <td>...</td>\n",
              "      <td>...</td>\n",
              "      <td>...</td>\n",
              "      <td>...</td>\n",
              "      <td>...</td>\n",
              "      <td>...</td>\n",
              "      <td>...</td>\n",
              "      <td>...</td>\n",
              "      <td>...</td>\n",
              "      <td>...</td>\n",
              "      <td>...</td>\n",
              "      <td>...</td>\n",
              "      <td>...</td>\n",
              "      <td>...</td>\n",
              "      <td>...</td>\n",
              "      <td>...</td>\n",
              "      <td>...</td>\n",
              "    </tr>\n",
              "    <tr>\n",
              "      <th>1995</th>\n",
              "      <td>low</td>\n",
              "      <td>1</td>\n",
              "      <td>0.5</td>\n",
              "      <td>1</td>\n",
              "      <td>0</td>\n",
              "      <td>1</td>\n",
              "      <td>2</td>\n",
              "      <td>0.8</td>\n",
              "      <td>106</td>\n",
              "      <td>6</td>\n",
              "      <td>14</td>\n",
              "      <td>1222</td>\n",
              "      <td>1890</td>\n",
              "      <td>668</td>\n",
              "      <td>13</td>\n",
              "      <td>4</td>\n",
              "      <td>19</td>\n",
              "      <td>1</td>\n",
              "      <td>1</td>\n",
              "      <td>0</td>\n",
              "    </tr>\n",
              "    <tr>\n",
              "      <th>1996</th>\n",
              "      <td>high</td>\n",
              "      <td>1</td>\n",
              "      <td>2.6</td>\n",
              "      <td>1</td>\n",
              "      <td>0</td>\n",
              "      <td>0</td>\n",
              "      <td>39</td>\n",
              "      <td>0.2</td>\n",
              "      <td>187</td>\n",
              "      <td>4</td>\n",
              "      <td>3</td>\n",
              "      <td>915</td>\n",
              "      <td>1965</td>\n",
              "      <td>2032</td>\n",
              "      <td>11</td>\n",
              "      <td>10</td>\n",
              "      <td>16</td>\n",
              "      <td>1</td>\n",
              "      <td>1</td>\n",
              "      <td>1</td>\n",
              "    </tr>\n",
              "    <tr>\n",
              "      <th>1997</th>\n",
              "      <td>high</td>\n",
              "      <td>0</td>\n",
              "      <td>0.9</td>\n",
              "      <td>1</td>\n",
              "      <td>1</td>\n",
              "      <td>1</td>\n",
              "      <td>36</td>\n",
              "      <td>0.7</td>\n",
              "      <td>108</td>\n",
              "      <td>8</td>\n",
              "      <td>3</td>\n",
              "      <td>868</td>\n",
              "      <td>1632</td>\n",
              "      <td>3057</td>\n",
              "      <td>9</td>\n",
              "      <td>1</td>\n",
              "      <td>5</td>\n",
              "      <td>1</td>\n",
              "      <td>1</td>\n",
              "      <td>0</td>\n",
              "    </tr>\n",
              "    <tr>\n",
              "      <th>1998</th>\n",
              "      <td>high</td>\n",
              "      <td>0</td>\n",
              "      <td>0.9</td>\n",
              "      <td>0</td>\n",
              "      <td>4</td>\n",
              "      <td>1</td>\n",
              "      <td>46</td>\n",
              "      <td>0.1</td>\n",
              "      <td>145</td>\n",
              "      <td>5</td>\n",
              "      <td>5</td>\n",
              "      <td>336</td>\n",
              "      <td>670</td>\n",
              "      <td>869</td>\n",
              "      <td>18</td>\n",
              "      <td>10</td>\n",
              "      <td>19</td>\n",
              "      <td>1</td>\n",
              "      <td>1</td>\n",
              "      <td>1</td>\n",
              "    </tr>\n",
              "    <tr>\n",
              "      <th>1999</th>\n",
              "      <td>low</td>\n",
              "      <td>1</td>\n",
              "      <td>2.0</td>\n",
              "      <td>1</td>\n",
              "      <td>5</td>\n",
              "      <td>1</td>\n",
              "      <td>45</td>\n",
              "      <td>0.9</td>\n",
              "      <td>168</td>\n",
              "      <td>6</td>\n",
              "      <td>16</td>\n",
              "      <td>483</td>\n",
              "      <td>754</td>\n",
              "      <td>3919</td>\n",
              "      <td>19</td>\n",
              "      <td>4</td>\n",
              "      <td>2</td>\n",
              "      <td>1</td>\n",
              "      <td>1</td>\n",
              "      <td>1</td>\n",
              "    </tr>\n",
              "  </tbody>\n",
              "</table>\n",
              "<p>2000 rows × 20 columns</p>\n",
              "</div>"
            ],
            "text/plain": [
              "     battery_power  blue  clock_speed  ...  three_g  touch_screen  wifi\n",
              "0              low     0          2.2  ...        0             0     1\n",
              "1           medium     1          0.5  ...        1             1     0\n",
              "2              low     1          0.5  ...        1             1     0\n",
              "3              low     1          2.5  ...        1             0     0\n",
              "4             high     1          1.2  ...        1             1     0\n",
              "...            ...   ...          ...  ...      ...           ...   ...\n",
              "1995           low     1          0.5  ...        1             1     0\n",
              "1996          high     1          2.6  ...        1             1     1\n",
              "1997          high     0          0.9  ...        1             1     0\n",
              "1998          high     0          0.9  ...        1             1     1\n",
              "1999           low     1          2.0  ...        1             1     1\n",
              "\n",
              "[2000 rows x 20 columns]"
            ]
          },
          "metadata": {
            "tags": []
          },
          "execution_count": 41
        }
      ]
    },
    {
      "cell_type": "code",
      "metadata": {
        "colab": {
          "base_uri": "https://localhost:8080/",
          "height": 315
        },
        "id": "8ULkXFbsxwb0",
        "outputId": "f9655728-0f02-44da-82a2-86963c587e02"
      },
      "source": [
        "plt.hist(x_train_bp['battery_power'], bins=3)"
      ],
      "execution_count": 43,
      "outputs": [
        {
          "output_type": "execute_result",
          "data": {
            "text/plain": [
              "(array([697., 641., 662.]),\n",
              " array([0.        , 0.66666667, 1.33333333, 2.        ]),\n",
              " <a list of 3 Patch objects>)"
            ]
          },
          "metadata": {
            "tags": []
          },
          "execution_count": 43
        },
        {
          "output_type": "display_data",
          "data": {
            "image/png": "[encoded data removed]",
            "text/plain": [
              "<Figure size 432x288 with 1 Axes>"
            ]
          },
          "metadata": {
            "tags": [],
            "needs_background": "light"
          }
        }
      ]
    },
    {
      "cell_type": "markdown",
      "metadata": {
        "id": "sR6kVkLKx7y5"
      },
      "source": [
        "## one hot encoding ##"
      ]
    },
    {
      "cell_type": "code",
      "metadata": {
        "colab": {
          "base_uri": "https://localhost:8080/",
          "height": 203
        },
        "id": "LC_Nkmnnx-tE",
        "outputId": "66c444d7-53c2-4d4f-f368-07a9db381ae3"
      },
      "source": [
        "# there is no categorical feature in the actual dataset so we use the binnig result on \n",
        "# battery power column\n",
        "categorical_subset = x_train_bp['battery_power']\n",
        "categorical_subset = pd.get_dummies(categorical_subset)\n",
        "categorical_subset.head()"
      ],
      "execution_count": 44,
      "outputs": [
        {
          "output_type": "execute_result",
          "data": {
            "text/html": [
              "<div>\n",
              "<style scoped>\n",
              "    .dataframe tbody tr th:only-of-type {\n",
              "        vertical-align: middle;\n",
              "    }\n",
              "\n",
              "    .dataframe tbody tr th {\n",
              "        vertical-align: top;\n",
              "    }\n",
              "\n",
              "    .dataframe thead th {\n",
              "        text-align: right;\n",
              "    }\n",
              "</style>\n",
              "<table border=\"1\" class=\"dataframe\">\n",
              "  <thead>\n",
              "    <tr style=\"text-align: right;\">\n",
              "      <th></th>\n",
              "      <th>low</th>\n",
              "      <th>medium</th>\n",
              "      <th>high</th>\n",
              "    </tr>\n",
              "  </thead>\n",
              "  <tbody>\n",
              "    <tr>\n",
              "      <th>0</th>\n",
              "      <td>1</td>\n",
              "      <td>0</td>\n",
              "      <td>0</td>\n",
              "    </tr>\n",
              "    <tr>\n",
              "      <th>1</th>\n",
              "      <td>0</td>\n",
              "      <td>1</td>\n",
              "      <td>0</td>\n",
              "    </tr>\n",
              "    <tr>\n",
              "      <th>2</th>\n",
              "      <td>1</td>\n",
              "      <td>0</td>\n",
              "      <td>0</td>\n",
              "    </tr>\n",
              "    <tr>\n",
              "      <th>3</th>\n",
              "      <td>1</td>\n",
              "      <td>0</td>\n",
              "      <td>0</td>\n",
              "    </tr>\n",
              "    <tr>\n",
              "      <th>4</th>\n",
              "      <td>0</td>\n",
              "      <td>0</td>\n",
              "      <td>1</td>\n",
              "    </tr>\n",
              "  </tbody>\n",
              "</table>\n",
              "</div>"
            ],
            "text/plain": [
              "   low  medium  high\n",
              "0    1       0     0\n",
              "1    0       1     0\n",
              "2    1       0     0\n",
              "3    1       0     0\n",
              "4    0       0     1"
            ]
          },
          "metadata": {
            "tags": []
          },
          "execution_count": 44
        }
      ]
    },
    {
      "cell_type": "code",
      "metadata": {
        "colab": {
          "base_uri": "https://localhost:8080/",
          "height": 203
        },
        "id": "LIRuh271yw1d",
        "outputId": "6577b94f-64e6-4d16-e505-add086320e44"
      },
      "source": [
        "x_train_bp.head()"
      ],
      "execution_count": 46,
      "outputs": [
        {
          "output_type": "execute_result",
          "data": {
            "text/html": [
              "<div>\n",
              "<style scoped>\n",
              "    .dataframe tbody tr th:only-of-type {\n",
              "        vertical-align: middle;\n",
              "    }\n",
              "\n",
              "    .dataframe tbody tr th {\n",
              "        vertical-align: top;\n",
              "    }\n",
              "\n",
              "    .dataframe thead th {\n",
              "        text-align: right;\n",
              "    }\n",
              "</style>\n",
              "<table border=\"1\" class=\"dataframe\">\n",
              "  <thead>\n",
              "    <tr style=\"text-align: right;\">\n",
              "      <th></th>\n",
              "      <th>battery_power</th>\n",
              "      <th>blue</th>\n",
              "      <th>clock_speed</th>\n",
              "      <th>dual_sim</th>\n",
              "      <th>fc</th>\n",
              "      <th>four_g</th>\n",
              "      <th>int_memory</th>\n",
              "      <th>m_dep</th>\n",
              "      <th>mobile_wt</th>\n",
              "      <th>n_cores</th>\n",
              "      <th>pc</th>\n",
              "      <th>px_height</th>\n",
              "      <th>px_width</th>\n",
              "      <th>ram</th>\n",
              "      <th>sc_h</th>\n",
              "      <th>sc_w</th>\n",
              "      <th>talk_time</th>\n",
              "      <th>three_g</th>\n",
              "      <th>touch_screen</th>\n",
              "      <th>wifi</th>\n",
              "    </tr>\n",
              "  </thead>\n",
              "  <tbody>\n",
              "    <tr>\n",
              "      <th>0</th>\n",
              "      <td>low</td>\n",
              "      <td>0</td>\n",
              "      <td>2.2</td>\n",
              "      <td>0</td>\n",
              "      <td>1</td>\n",
              "      <td>0</td>\n",
              "      <td>7</td>\n",
              "      <td>0.6</td>\n",
              "      <td>188</td>\n",
              "      <td>2</td>\n",
              "      <td>2</td>\n",
              "      <td>20</td>\n",
              "      <td>756</td>\n",
              "      <td>2549</td>\n",
              "      <td>9</td>\n",
              "      <td>7</td>\n",
              "      <td>19</td>\n",
              "      <td>0</td>\n",
              "      <td>0</td>\n",
              "      <td>1</td>\n",
              "    </tr>\n",
              "    <tr>\n",
              "      <th>1</th>\n",
              "      <td>medium</td>\n",
              "      <td>1</td>\n",
              "      <td>0.5</td>\n",
              "      <td>1</td>\n",
              "      <td>0</td>\n",
              "      <td>1</td>\n",
              "      <td>53</td>\n",
              "      <td>0.7</td>\n",
              "      <td>136</td>\n",
              "      <td>3</td>\n",
              "      <td>6</td>\n",
              "      <td>905</td>\n",
              "      <td>1988</td>\n",
              "      <td>2631</td>\n",
              "      <td>17</td>\n",
              "      <td>3</td>\n",
              "      <td>7</td>\n",
              "      <td>1</td>\n",
              "      <td>1</td>\n",
              "      <td>0</td>\n",
              "    </tr>\n",
              "    <tr>\n",
              "      <th>2</th>\n",
              "      <td>low</td>\n",
              "      <td>1</td>\n",
              "      <td>0.5</td>\n",
              "      <td>1</td>\n",
              "      <td>2</td>\n",
              "      <td>1</td>\n",
              "      <td>41</td>\n",
              "      <td>0.9</td>\n",
              "      <td>145</td>\n",
              "      <td>5</td>\n",
              "      <td>6</td>\n",
              "      <td>1263</td>\n",
              "      <td>1716</td>\n",
              "      <td>2603</td>\n",
              "      <td>11</td>\n",
              "      <td>2</td>\n",
              "      <td>9</td>\n",
              "      <td>1</td>\n",
              "      <td>1</td>\n",
              "      <td>0</td>\n",
              "    </tr>\n",
              "    <tr>\n",
              "      <th>3</th>\n",
              "      <td>low</td>\n",
              "      <td>1</td>\n",
              "      <td>2.5</td>\n",
              "      <td>0</td>\n",
              "      <td>0</td>\n",
              "      <td>0</td>\n",
              "      <td>10</td>\n",
              "      <td>0.8</td>\n",
              "      <td>131</td>\n",
              "      <td>6</td>\n",
              "      <td>9</td>\n",
              "      <td>1216</td>\n",
              "      <td>1786</td>\n",
              "      <td>2769</td>\n",
              "      <td>16</td>\n",
              "      <td>8</td>\n",
              "      <td>11</td>\n",
              "      <td>1</td>\n",
              "      <td>0</td>\n",
              "      <td>0</td>\n",
              "    </tr>\n",
              "    <tr>\n",
              "      <th>4</th>\n",
              "      <td>high</td>\n",
              "      <td>1</td>\n",
              "      <td>1.2</td>\n",
              "      <td>0</td>\n",
              "      <td>13</td>\n",
              "      <td>1</td>\n",
              "      <td>44</td>\n",
              "      <td>0.6</td>\n",
              "      <td>141</td>\n",
              "      <td>2</td>\n",
              "      <td>14</td>\n",
              "      <td>1208</td>\n",
              "      <td>1212</td>\n",
              "      <td>1411</td>\n",
              "      <td>8</td>\n",
              "      <td>2</td>\n",
              "      <td>15</td>\n",
              "      <td>1</td>\n",
              "      <td>1</td>\n",
              "      <td>0</td>\n",
              "    </tr>\n",
              "  </tbody>\n",
              "</table>\n",
              "</div>"
            ],
            "text/plain": [
              "  battery_power  blue  clock_speed  ...  three_g  touch_screen  wifi\n",
              "0           low     0          2.2  ...        0             0     1\n",
              "1        medium     1          0.5  ...        1             1     0\n",
              "2           low     1          0.5  ...        1             1     0\n",
              "3           low     1          2.5  ...        1             0     0\n",
              "4          high     1          1.2  ...        1             1     0\n",
              "\n",
              "[5 rows x 20 columns]"
            ]
          },
          "metadata": {
            "tags": []
          },
          "execution_count": 46
        }
      ]
    },
    {
      "cell_type": "code",
      "metadata": {
        "colab": {
          "base_uri": "https://localhost:8080/",
          "height": 195
        },
        "id": "n1PUQhyxy4QF",
        "outputId": "123a8d5b-618e-45ed-d162-af73320dbdf5"
      },
      "source": [
        "x_train_ohe = x_train_bp.drop(columns=['battery_power'])\n",
        "x_train_ohe = pd.concat([x_train_ohe, categorical_subset], axis=1)"
      ],
      "execution_count": 47,
      "outputs": [
        {
          "output_type": "error",
          "ename": "NameError",
          "evalue": "ignored",
          "traceback": [
            "\u001b[0;31m---------------------------------------------------------------------------\u001b[0m",
            "\u001b[0;31mNameError\u001b[0m                                 Traceback (most recent call last)",
            "\u001b[0;32m<ipython-input-47-0bbe4fd8ffb3>\u001b[0m in \u001b[0;36m<module>\u001b[0;34m()\u001b[0m\n\u001b[1;32m      1\u001b[0m \u001b[0mx_train_ohe\u001b[0m \u001b[0;34m=\u001b[0m \u001b[0mx_train_bp\u001b[0m\u001b[0;34m.\u001b[0m\u001b[0mdrop\u001b[0m\u001b[0;34m(\u001b[0m\u001b[0mcolumns\u001b[0m\u001b[0;34m=\u001b[0m\u001b[0;34m[\u001b[0m\u001b[0;34m'battery_power'\u001b[0m\u001b[0;34m]\u001b[0m\u001b[0;34m)\u001b[0m\u001b[0;34m\u001b[0m\u001b[0;34m\u001b[0m\u001b[0m\n\u001b[1;32m      2\u001b[0m \u001b[0mx_train_ohe\u001b[0m \u001b[0;34m=\u001b[0m \u001b[0mpd\u001b[0m\u001b[0;34m.\u001b[0m\u001b[0mconcat\u001b[0m\u001b[0;34m(\u001b[0m\u001b[0;34m[\u001b[0m\u001b[0mx_train_ohe\u001b[0m\u001b[0;34m,\u001b[0m \u001b[0mcategorical_subset\u001b[0m\u001b[0;34m]\u001b[0m\u001b[0;34m,\u001b[0m \u001b[0maxis\u001b[0m\u001b[0;34m=\u001b[0m\u001b[0;36m1\u001b[0m\u001b[0;34m)\u001b[0m\u001b[0;34m\u001b[0m\u001b[0;34m\u001b[0m\u001b[0m\n\u001b[0;32m----> 3\u001b[0;31m \u001b[0mx_trin_ohe\u001b[0m\u001b[0;34m.\u001b[0m\u001b[0mhead\u001b[0m\u001b[0;34m(\u001b[0m\u001b[0;34m)\u001b[0m\u001b[0;34m\u001b[0m\u001b[0;34m\u001b[0m\u001b[0m\n\u001b[0m",
            "\u001b[0;31mNameError\u001b[0m: name 'x_trin_ohe' is not defined"
          ]
        }
      ]
    },
    {
      "cell_type": "code",
      "metadata": {
        "colab": {
          "base_uri": "https://localhost:8080/",
          "height": 203
        },
        "id": "pYhqqzVvzPgI",
        "outputId": "e3b55917-cc11-4c64-f5d9-61c0b483c43a"
      },
      "source": [
        "x_train_ohe.head()"
      ],
      "execution_count": 48,
      "outputs": [
        {
          "output_type": "execute_result",
          "data": {
            "text/html": [
              "<div>\n",
              "<style scoped>\n",
              "    .dataframe tbody tr th:only-of-type {\n",
              "        vertical-align: middle;\n",
              "    }\n",
              "\n",
              "    .dataframe tbody tr th {\n",
              "        vertical-align: top;\n",
              "    }\n",
              "\n",
              "    .dataframe thead th {\n",
              "        text-align: right;\n",
              "    }\n",
              "</style>\n",
              "<table border=\"1\" class=\"dataframe\">\n",
              "  <thead>\n",
              "    <tr style=\"text-align: right;\">\n",
              "      <th></th>\n",
              "      <th>blue</th>\n",
              "      <th>clock_speed</th>\n",
              "      <th>dual_sim</th>\n",
              "      <th>fc</th>\n",
              "      <th>four_g</th>\n",
              "      <th>int_memory</th>\n",
              "      <th>m_dep</th>\n",
              "      <th>mobile_wt</th>\n",
              "      <th>n_cores</th>\n",
              "      <th>pc</th>\n",
              "      <th>px_height</th>\n",
              "      <th>px_width</th>\n",
              "      <th>ram</th>\n",
              "      <th>sc_h</th>\n",
              "      <th>sc_w</th>\n",
              "      <th>talk_time</th>\n",
              "      <th>three_g</th>\n",
              "      <th>touch_screen</th>\n",
              "      <th>wifi</th>\n",
              "      <th>low</th>\n",
              "      <th>medium</th>\n",
              "      <th>high</th>\n",
              "    </tr>\n",
              "  </thead>\n",
              "  <tbody>\n",
              "    <tr>\n",
              "      <th>0</th>\n",
              "      <td>0</td>\n",
              "      <td>2.2</td>\n",
              "      <td>0</td>\n",
              "      <td>1</td>\n",
              "      <td>0</td>\n",
              "      <td>7</td>\n",
              "      <td>0.6</td>\n",
              "      <td>188</td>\n",
              "      <td>2</td>\n",
              "      <td>2</td>\n",
              "      <td>20</td>\n",
              "      <td>756</td>\n",
              "      <td>2549</td>\n",
              "      <td>9</td>\n",
              "      <td>7</td>\n",
              "      <td>19</td>\n",
              "      <td>0</td>\n",
              "      <td>0</td>\n",
              "      <td>1</td>\n",
              "      <td>1</td>\n",
              "      <td>0</td>\n",
              "      <td>0</td>\n",
              "    </tr>\n",
              "    <tr>\n",
              "      <th>1</th>\n",
              "      <td>1</td>\n",
              "      <td>0.5</td>\n",
              "      <td>1</td>\n",
              "      <td>0</td>\n",
              "      <td>1</td>\n",
              "      <td>53</td>\n",
              "      <td>0.7</td>\n",
              "      <td>136</td>\n",
              "      <td>3</td>\n",
              "      <td>6</td>\n",
              "      <td>905</td>\n",
              "      <td>1988</td>\n",
              "      <td>2631</td>\n",
              "      <td>17</td>\n",
              "      <td>3</td>\n",
              "      <td>7</td>\n",
              "      <td>1</td>\n",
              "      <td>1</td>\n",
              "      <td>0</td>\n",
              "      <td>0</td>\n",
              "      <td>1</td>\n",
              "      <td>0</td>\n",
              "    </tr>\n",
              "    <tr>\n",
              "      <th>2</th>\n",
              "      <td>1</td>\n",
              "      <td>0.5</td>\n",
              "      <td>1</td>\n",
              "      <td>2</td>\n",
              "      <td>1</td>\n",
              "      <td>41</td>\n",
              "      <td>0.9</td>\n",
              "      <td>145</td>\n",
              "      <td>5</td>\n",
              "      <td>6</td>\n",
              "      <td>1263</td>\n",
              "      <td>1716</td>\n",
              "      <td>2603</td>\n",
              "      <td>11</td>\n",
              "      <td>2</td>\n",
              "      <td>9</td>\n",
              "      <td>1</td>\n",
              "      <td>1</td>\n",
              "      <td>0</td>\n",
              "      <td>1</td>\n",
              "      <td>0</td>\n",
              "      <td>0</td>\n",
              "    </tr>\n",
              "    <tr>\n",
              "      <th>3</th>\n",
              "      <td>1</td>\n",
              "      <td>2.5</td>\n",
              "      <td>0</td>\n",
              "      <td>0</td>\n",
              "      <td>0</td>\n",
              "      <td>10</td>\n",
              "      <td>0.8</td>\n",
              "      <td>131</td>\n",
              "      <td>6</td>\n",
              "      <td>9</td>\n",
              "      <td>1216</td>\n",
              "      <td>1786</td>\n",
              "      <td>2769</td>\n",
              "      <td>16</td>\n",
              "      <td>8</td>\n",
              "      <td>11</td>\n",
              "      <td>1</td>\n",
              "      <td>0</td>\n",
              "      <td>0</td>\n",
              "      <td>1</td>\n",
              "      <td>0</td>\n",
              "      <td>0</td>\n",
              "    </tr>\n",
              "    <tr>\n",
              "      <th>4</th>\n",
              "      <td>1</td>\n",
              "      <td>1.2</td>\n",
              "      <td>0</td>\n",
              "      <td>13</td>\n",
              "      <td>1</td>\n",
              "      <td>44</td>\n",
              "      <td>0.6</td>\n",
              "      <td>141</td>\n",
              "      <td>2</td>\n",
              "      <td>14</td>\n",
              "      <td>1208</td>\n",
              "      <td>1212</td>\n",
              "      <td>1411</td>\n",
              "      <td>8</td>\n",
              "      <td>2</td>\n",
              "      <td>15</td>\n",
              "      <td>1</td>\n",
              "      <td>1</td>\n",
              "      <td>0</td>\n",
              "      <td>0</td>\n",
              "      <td>0</td>\n",
              "      <td>1</td>\n",
              "    </tr>\n",
              "  </tbody>\n",
              "</table>\n",
              "</div>"
            ],
            "text/plain": [
              "   blue  clock_speed  dual_sim  fc  ...  wifi  low  medium  high\n",
              "0     0          2.2         0   1  ...     1    1       0     0\n",
              "1     1          0.5         1   0  ...     0    0       1     0\n",
              "2     1          0.5         1   2  ...     0    1       0     0\n",
              "3     1          2.5         0   0  ...     0    1       0     0\n",
              "4     1          1.2         0  13  ...     0    0       0     1\n",
              "\n",
              "[5 rows x 22 columns]"
            ]
          },
          "metadata": {
            "tags": []
          },
          "execution_count": 48
        }
      ]
    },
    {
      "cell_type": "markdown",
      "metadata": {
        "id": "hrbsk1fy0zss"
      },
      "source": [
        "## log transform ##"
      ]
    },
    {
      "cell_type": "code",
      "metadata": {
        "colab": {
          "base_uri": "https://localhost:8080/",
          "height": 1000
        },
        "id": "ATcpIqcU1zch",
        "outputId": "48ce8002-5d42-45d6-915f-2d38dc852e12"
      },
      "source": [
        "fig, axes = plt.subplots(nrows=5, ncols=5, figsize=(20,20))\n",
        "for i, column in enumerate(train.columns):\n",
        "    sns.histplot(train[column],ax=axes[i//5,i%5])"
      ],
      "execution_count": 58,
      "outputs": [
        {
          "output_type": "display_data",
          "data": {
            "image/png": "[encoded data removed]",
            "text/plain": [
              "<Figure size 1440x1440 with 25 Axes>"
            ]
          },
          "metadata": {
            "tags": [],
            "needs_background": "light"
          }
        }
      ]
    },
    {
      "cell_type": "code",
      "metadata": {
        "colab": {
          "base_uri": "https://localhost:8080/"
        },
        "id": "oVLk_KRH3rnb",
        "outputId": "4140ee34-822d-4bb8-9255-410edfce7d8c"
      },
      "source": [
        "# sc_w and fc can be log transformed\n",
        "train_log = train.copy()\n",
        "train_log['sc_w'] = train['sc_w'].apply(lambda x: np.log(x+1))\n",
        "train_log['fc'] = train['fc'].apply(lambda x: np.log(x+1))\n",
        "train_log['fc']"
      ],
      "execution_count": 69,
      "outputs": [
        {
          "output_type": "execute_result",
          "data": {
            "text/plain": [
              "0       0.693147\n",
              "1       0.000000\n",
              "2       1.098612\n",
              "3       0.000000\n",
              "4       2.639057\n",
              "          ...   \n",
              "1995    0.000000\n",
              "1996    0.000000\n",
              "1997    0.693147\n",
              "1998    1.609438\n",
              "1999    1.791759\n",
              "Name: fc, Length: 2000, dtype: float64"
            ]
          },
          "metadata": {
            "tags": []
          },
          "execution_count": 69
        }
      ]
    },
    {
      "cell_type": "code",
      "metadata": {
        "colab": {
          "base_uri": "https://localhost:8080/",
          "height": 296
        },
        "id": "jOeK6hRLCQiW",
        "outputId": "604f668c-25e9-4a43-cd23-3bd2744fa39d"
      },
      "source": [
        "sns.histplot(train_log['fc'])"
      ],
      "execution_count": 61,
      "outputs": [
        {
          "output_type": "execute_result",
          "data": {
            "text/plain": [
              "<matplotlib.axes._subplots.AxesSubplot at 0x7f337ecef990>"
            ]
          },
          "metadata": {
            "tags": []
          },
          "execution_count": 61
        },
        {
          "output_type": "display_data",
          "data": {
            "image/png": "[encoded data removed]",
            "text/plain": [
              "<Figure size 432x288 with 1 Axes>"
            ]
          },
          "metadata": {
            "tags": [],
            "needs_background": "light"
          }
        }
      ]
    },
    {
      "cell_type": "markdown",
      "metadata": {
        "id": "NSlGbr4yCr81"
      },
      "source": [
        "## area ##"
      ]
    },
    {
      "cell_type": "code",
      "metadata": {
        "colab": {
          "base_uri": "https://localhost:8080/",
          "height": 223
        },
        "id": "Yd5e393jDG99",
        "outputId": "4c6a9232-cebd-4198-e9cc-3d6254d088e3"
      },
      "source": [
        "train_ar = train.copy()\n",
        "train_ar['area'] = train['px_width'] * train['px_height']\n",
        "train_ar.head()"
      ],
      "execution_count": 62,
      "outputs": [
        {
          "output_type": "execute_result",
          "data": {
            "text/html": [
              "<div>\n",
              "<style scoped>\n",
              "    .dataframe tbody tr th:only-of-type {\n",
              "        vertical-align: middle;\n",
              "    }\n",
              "\n",
              "    .dataframe tbody tr th {\n",
              "        vertical-align: top;\n",
              "    }\n",
              "\n",
              "    .dataframe thead th {\n",
              "        text-align: right;\n",
              "    }\n",
              "</style>\n",
              "<table border=\"1\" class=\"dataframe\">\n",
              "  <thead>\n",
              "    <tr style=\"text-align: right;\">\n",
              "      <th></th>\n",
              "      <th>battery_power</th>\n",
              "      <th>blue</th>\n",
              "      <th>clock_speed</th>\n",
              "      <th>dual_sim</th>\n",
              "      <th>fc</th>\n",
              "      <th>four_g</th>\n",
              "      <th>int_memory</th>\n",
              "      <th>m_dep</th>\n",
              "      <th>mobile_wt</th>\n",
              "      <th>n_cores</th>\n",
              "      <th>pc</th>\n",
              "      <th>px_height</th>\n",
              "      <th>px_width</th>\n",
              "      <th>ram</th>\n",
              "      <th>sc_h</th>\n",
              "      <th>sc_w</th>\n",
              "      <th>talk_time</th>\n",
              "      <th>three_g</th>\n",
              "      <th>touch_screen</th>\n",
              "      <th>wifi</th>\n",
              "      <th>price_range</th>\n",
              "      <th>area</th>\n",
              "    </tr>\n",
              "  </thead>\n",
              "  <tbody>\n",
              "    <tr>\n",
              "      <th>0</th>\n",
              "      <td>842</td>\n",
              "      <td>0</td>\n",
              "      <td>2.2</td>\n",
              "      <td>0</td>\n",
              "      <td>1</td>\n",
              "      <td>0</td>\n",
              "      <td>7</td>\n",
              "      <td>0.6</td>\n",
              "      <td>188</td>\n",
              "      <td>2</td>\n",
              "      <td>2</td>\n",
              "      <td>20</td>\n",
              "      <td>756</td>\n",
              "      <td>2549</td>\n",
              "      <td>9</td>\n",
              "      <td>7</td>\n",
              "      <td>19</td>\n",
              "      <td>0</td>\n",
              "      <td>0</td>\n",
              "      <td>1</td>\n",
              "      <td>1</td>\n",
              "      <td>15120</td>\n",
              "    </tr>\n",
              "    <tr>\n",
              "      <th>1</th>\n",
              "      <td>1021</td>\n",
              "      <td>1</td>\n",
              "      <td>0.5</td>\n",
              "      <td>1</td>\n",
              "      <td>0</td>\n",
              "      <td>1</td>\n",
              "      <td>53</td>\n",
              "      <td>0.7</td>\n",
              "      <td>136</td>\n",
              "      <td>3</td>\n",
              "      <td>6</td>\n",
              "      <td>905</td>\n",
              "      <td>1988</td>\n",
              "      <td>2631</td>\n",
              "      <td>17</td>\n",
              "      <td>3</td>\n",
              "      <td>7</td>\n",
              "      <td>1</td>\n",
              "      <td>1</td>\n",
              "      <td>0</td>\n",
              "      <td>2</td>\n",
              "      <td>1799140</td>\n",
              "    </tr>\n",
              "    <tr>\n",
              "      <th>2</th>\n",
              "      <td>563</td>\n",
              "      <td>1</td>\n",
              "      <td>0.5</td>\n",
              "      <td>1</td>\n",
              "      <td>2</td>\n",
              "      <td>1</td>\n",
              "      <td>41</td>\n",
              "      <td>0.9</td>\n",
              "      <td>145</td>\n",
              "      <td>5</td>\n",
              "      <td>6</td>\n",
              "      <td>1263</td>\n",
              "      <td>1716</td>\n",
              "      <td>2603</td>\n",
              "      <td>11</td>\n",
              "      <td>2</td>\n",
              "      <td>9</td>\n",
              "      <td>1</td>\n",
              "      <td>1</td>\n",
              "      <td>0</td>\n",
              "      <td>2</td>\n",
              "      <td>2167308</td>\n",
              "    </tr>\n",
              "    <tr>\n",
              "      <th>3</th>\n",
              "      <td>615</td>\n",
              "      <td>1</td>\n",
              "      <td>2.5</td>\n",
              "      <td>0</td>\n",
              "      <td>0</td>\n",
              "      <td>0</td>\n",
              "      <td>10</td>\n",
              "      <td>0.8</td>\n",
              "      <td>131</td>\n",
              "      <td>6</td>\n",
              "      <td>9</td>\n",
              "      <td>1216</td>\n",
              "      <td>1786</td>\n",
              "      <td>2769</td>\n",
              "      <td>16</td>\n",
              "      <td>8</td>\n",
              "      <td>11</td>\n",
              "      <td>1</td>\n",
              "      <td>0</td>\n",
              "      <td>0</td>\n",
              "      <td>2</td>\n",
              "      <td>2171776</td>\n",
              "    </tr>\n",
              "    <tr>\n",
              "      <th>4</th>\n",
              "      <td>1821</td>\n",
              "      <td>1</td>\n",
              "      <td>1.2</td>\n",
              "      <td>0</td>\n",
              "      <td>13</td>\n",
              "      <td>1</td>\n",
              "      <td>44</td>\n",
              "      <td>0.6</td>\n",
              "      <td>141</td>\n",
              "      <td>2</td>\n",
              "      <td>14</td>\n",
              "      <td>1208</td>\n",
              "      <td>1212</td>\n",
              "      <td>1411</td>\n",
              "      <td>8</td>\n",
              "      <td>2</td>\n",
              "      <td>15</td>\n",
              "      <td>1</td>\n",
              "      <td>1</td>\n",
              "      <td>0</td>\n",
              "      <td>1</td>\n",
              "      <td>1464096</td>\n",
              "    </tr>\n",
              "  </tbody>\n",
              "</table>\n",
              "</div>"
            ],
            "text/plain": [
              "   battery_power  blue  clock_speed  ...  wifi  price_range     area\n",
              "0            842     0          2.2  ...     1            1    15120\n",
              "1           1021     1          0.5  ...     0            2  1799140\n",
              "2            563     1          0.5  ...     0            2  2167308\n",
              "3            615     1          2.5  ...     0            2  2171776\n",
              "4           1821     1          1.2  ...     0            1  1464096\n",
              "\n",
              "[5 rows x 22 columns]"
            ]
          },
          "metadata": {
            "tags": []
          },
          "execution_count": 62
        }
      ]
    },
    {
      "cell_type": "markdown",
      "metadata": {
        "id": "ZTCcW-lSDjAU"
      },
      "source": [
        "## SVC on new features ##"
      ]
    },
    {
      "cell_type": "markdown",
      "metadata": {
        "id": "3p0-4ZhCDpX5"
      },
      "source": [
        "### SVC on binning battery power ###"
      ]
    },
    {
      "cell_type": "code",
      "metadata": {
        "id": "eMr8UZ38ESRH"
      },
      "source": [
        "x_trn_ohe, x_tst_ohe, y_trn_ohe, y_tst_ohe = train_test_split(x_train_ohe, y_train_bp, test_size=0.2, random_state=0)"
      ],
      "execution_count": 64,
      "outputs": []
    },
    {
      "cell_type": "code",
      "metadata": {
        "colab": {
          "base_uri": "https://localhost:8080/"
        },
        "id": "2x46GhbHDokE",
        "outputId": "48ab0048-113a-4b5c-a407-f804a5be1ccc"
      },
      "source": [
        "svc_linear = SVC(kernel='linear', decision_function_shape='ovr')\n",
        "svc_linear.fit(x_trn_ohe, y_trn_ohe)\n",
        "y_prd_lin = svc_linear.predict(x_tst_ohe)\n",
        "score = svc_linear.score(x_tst_ohe, y_tst_ohe)\n",
        "score"
      ],
      "execution_count": 65,
      "outputs": [
        {
          "output_type": "execute_result",
          "data": {
            "text/plain": [
              "0.94"
            ]
          },
          "metadata": {
            "tags": []
          },
          "execution_count": 65
        }
      ]
    },
    {
      "cell_type": "code",
      "metadata": {
        "colab": {
          "base_uri": "https://localhost:8080/"
        },
        "id": "_zuVYoKXFGb9",
        "outputId": "9e0c3dbf-897d-4f04-d45a-a38eb0accf81"
      },
      "source": [
        "percision, recall, f1score, support = precision_recall_fscore_support(y_tst_ohe, y_prd_lin)\n",
        "print('percision:', percision)\n",
        "print('recall:', recall)\n",
        "print('f1score:', f1score)"
      ],
      "execution_count": 66,
      "outputs": [
        {
          "output_type": "stream",
          "text": [
            "percision: [0.95876289 0.93333333 0.91752577 0.94827586]\n",
            "recall: [0.97894737 0.91304348 0.8989899  0.96491228]\n",
            "f1score: [0.96875    0.92307692 0.90816327 0.95652174]\n"
          ],
          "name": "stdout"
        }
      ]
    },
    {
      "cell_type": "markdown",
      "metadata": {
        "id": "sLADIxO8FOxK"
      },
      "source": [
        "### SVC on log transform ###"
      ]
    },
    {
      "cell_type": "code",
      "metadata": {
        "id": "FexMi1t8FSaT"
      },
      "source": [
        "x_train_lg, x_test_lg, y_train_lg, y_test_lg = train_test_split(train_log.drop(columns=['price_range']), train_log.price_range, test_size=0.2, random_state=0)"
      ],
      "execution_count": 70,
      "outputs": []
    },
    {
      "cell_type": "code",
      "metadata": {
        "colab": {
          "base_uri": "https://localhost:8080/",
          "height": 223
        },
        "id": "zt1OkH2fFs_L",
        "outputId": "7059fe0f-10c6-4108-f61f-95904709bdbf"
      },
      "source": [
        "x_train_lg.head()"
      ],
      "execution_count": 71,
      "outputs": [
        {
          "output_type": "execute_result",
          "data": {
            "text/html": [
              "<div>\n",
              "<style scoped>\n",
              "    .dataframe tbody tr th:only-of-type {\n",
              "        vertical-align: middle;\n",
              "    }\n",
              "\n",
              "    .dataframe tbody tr th {\n",
              "        vertical-align: top;\n",
              "    }\n",
              "\n",
              "    .dataframe thead th {\n",
              "        text-align: right;\n",
              "    }\n",
              "</style>\n",
              "<table border=\"1\" class=\"dataframe\">\n",
              "  <thead>\n",
              "    <tr style=\"text-align: right;\">\n",
              "      <th></th>\n",
              "      <th>battery_power</th>\n",
              "      <th>blue</th>\n",
              "      <th>clock_speed</th>\n",
              "      <th>dual_sim</th>\n",
              "      <th>fc</th>\n",
              "      <th>four_g</th>\n",
              "      <th>int_memory</th>\n",
              "      <th>m_dep</th>\n",
              "      <th>mobile_wt</th>\n",
              "      <th>n_cores</th>\n",
              "      <th>pc</th>\n",
              "      <th>px_height</th>\n",
              "      <th>px_width</th>\n",
              "      <th>ram</th>\n",
              "      <th>sc_h</th>\n",
              "      <th>sc_w</th>\n",
              "      <th>talk_time</th>\n",
              "      <th>three_g</th>\n",
              "      <th>touch_screen</th>\n",
              "      <th>wifi</th>\n",
              "    </tr>\n",
              "  </thead>\n",
              "  <tbody>\n",
              "    <tr>\n",
              "      <th>582</th>\n",
              "      <td>1232</td>\n",
              "      <td>0</td>\n",
              "      <td>2.9</td>\n",
              "      <td>1</td>\n",
              "      <td>0.693147</td>\n",
              "      <td>1</td>\n",
              "      <td>24</td>\n",
              "      <td>0.3</td>\n",
              "      <td>169</td>\n",
              "      <td>5</td>\n",
              "      <td>17</td>\n",
              "      <td>361</td>\n",
              "      <td>809</td>\n",
              "      <td>1257</td>\n",
              "      <td>16</td>\n",
              "      <td>2.397895</td>\n",
              "      <td>16</td>\n",
              "      <td>1</td>\n",
              "      <td>0</td>\n",
              "      <td>0</td>\n",
              "    </tr>\n",
              "    <tr>\n",
              "      <th>159</th>\n",
              "      <td>1840</td>\n",
              "      <td>0</td>\n",
              "      <td>0.5</td>\n",
              "      <td>1</td>\n",
              "      <td>2.564949</td>\n",
              "      <td>0</td>\n",
              "      <td>34</td>\n",
              "      <td>0.7</td>\n",
              "      <td>142</td>\n",
              "      <td>1</td>\n",
              "      <td>16</td>\n",
              "      <td>311</td>\n",
              "      <td>1545</td>\n",
              "      <td>1078</td>\n",
              "      <td>8</td>\n",
              "      <td>0.000000</td>\n",
              "      <td>10</td>\n",
              "      <td>0</td>\n",
              "      <td>0</td>\n",
              "      <td>0</td>\n",
              "    </tr>\n",
              "    <tr>\n",
              "      <th>1827</th>\n",
              "      <td>1692</td>\n",
              "      <td>0</td>\n",
              "      <td>2.1</td>\n",
              "      <td>0</td>\n",
              "      <td>1.609438</td>\n",
              "      <td>1</td>\n",
              "      <td>2</td>\n",
              "      <td>0.9</td>\n",
              "      <td>106</td>\n",
              "      <td>1</td>\n",
              "      <td>17</td>\n",
              "      <td>1899</td>\n",
              "      <td>1904</td>\n",
              "      <td>3779</td>\n",
              "      <td>9</td>\n",
              "      <td>1.386294</td>\n",
              "      <td>7</td>\n",
              "      <td>1</td>\n",
              "      <td>1</td>\n",
              "      <td>1</td>\n",
              "    </tr>\n",
              "    <tr>\n",
              "      <th>318</th>\n",
              "      <td>508</td>\n",
              "      <td>0</td>\n",
              "      <td>0.8</td>\n",
              "      <td>0</td>\n",
              "      <td>2.079442</td>\n",
              "      <td>1</td>\n",
              "      <td>42</td>\n",
              "      <td>0.3</td>\n",
              "      <td>94</td>\n",
              "      <td>1</td>\n",
              "      <td>8</td>\n",
              "      <td>39</td>\n",
              "      <td>557</td>\n",
              "      <td>663</td>\n",
              "      <td>13</td>\n",
              "      <td>2.564949</td>\n",
              "      <td>7</td>\n",
              "      <td>1</td>\n",
              "      <td>0</td>\n",
              "      <td>0</td>\n",
              "    </tr>\n",
              "    <tr>\n",
              "      <th>708</th>\n",
              "      <td>977</td>\n",
              "      <td>1</td>\n",
              "      <td>2.8</td>\n",
              "      <td>1</td>\n",
              "      <td>1.098612</td>\n",
              "      <td>0</td>\n",
              "      <td>35</td>\n",
              "      <td>0.6</td>\n",
              "      <td>165</td>\n",
              "      <td>2</td>\n",
              "      <td>15</td>\n",
              "      <td>1502</td>\n",
              "      <td>1862</td>\n",
              "      <td>3714</td>\n",
              "      <td>19</td>\n",
              "      <td>1.386294</td>\n",
              "      <td>10</td>\n",
              "      <td>0</td>\n",
              "      <td>1</td>\n",
              "      <td>1</td>\n",
              "    </tr>\n",
              "  </tbody>\n",
              "</table>\n",
              "</div>"
            ],
            "text/plain": [
              "      battery_power  blue  clock_speed  ...  three_g  touch_screen  wifi\n",
              "582            1232     0          2.9  ...        1             0     0\n",
              "159            1840     0          0.5  ...        0             0     0\n",
              "1827           1692     0          2.1  ...        1             1     1\n",
              "318             508     0          0.8  ...        1             0     0\n",
              "708             977     1          2.8  ...        0             1     1\n",
              "\n",
              "[5 rows x 20 columns]"
            ]
          },
          "metadata": {
            "tags": []
          },
          "execution_count": 71
        }
      ]
    },
    {
      "cell_type": "code",
      "metadata": {
        "id": "jd0ftOSCGKeb"
      },
      "source": [
        "sc = StandardScaler()\n",
        "x_train_lg[x_train_lg.columns] = sc.fit_transform(x_train_lg[x_train_lg.columns])\n",
        "x_test_lg[x_test_lg.columns] = sc.transform(x_test_lg[x_test_lg.columns])"
      ],
      "execution_count": 72,
      "outputs": []
    },
    {
      "cell_type": "code",
      "metadata": {
        "colab": {
          "base_uri": "https://localhost:8080/",
          "height": 223
        },
        "id": "I6bPmTHFGbgX",
        "outputId": "4efe5ba2-c8e6-46af-a436-1743b3229816"
      },
      "source": [
        "x_test_lg.head()"
      ],
      "execution_count": 73,
      "outputs": [
        {
          "output_type": "execute_result",
          "data": {
            "text/html": [
              "<div>\n",
              "<style scoped>\n",
              "    .dataframe tbody tr th:only-of-type {\n",
              "        vertical-align: middle;\n",
              "    }\n",
              "\n",
              "    .dataframe tbody tr th {\n",
              "        vertical-align: top;\n",
              "    }\n",
              "\n",
              "    .dataframe thead th {\n",
              "        text-align: right;\n",
              "    }\n",
              "</style>\n",
              "<table border=\"1\" class=\"dataframe\">\n",
              "  <thead>\n",
              "    <tr style=\"text-align: right;\">\n",
              "      <th></th>\n",
              "      <th>battery_power</th>\n",
              "      <th>blue</th>\n",
              "      <th>clock_speed</th>\n",
              "      <th>dual_sim</th>\n",
              "      <th>fc</th>\n",
              "      <th>four_g</th>\n",
              "      <th>int_memory</th>\n",
              "      <th>m_dep</th>\n",
              "      <th>mobile_wt</th>\n",
              "      <th>n_cores</th>\n",
              "      <th>pc</th>\n",
              "      <th>px_height</th>\n",
              "      <th>px_width</th>\n",
              "      <th>ram</th>\n",
              "      <th>sc_h</th>\n",
              "      <th>sc_w</th>\n",
              "      <th>talk_time</th>\n",
              "      <th>three_g</th>\n",
              "      <th>touch_screen</th>\n",
              "      <th>wifi</th>\n",
              "    </tr>\n",
              "  </thead>\n",
              "  <tbody>\n",
              "    <tr>\n",
              "      <th>405</th>\n",
              "      <td>0.500697</td>\n",
              "      <td>1.035635</td>\n",
              "      <td>-1.270550</td>\n",
              "      <td>0.983880</td>\n",
              "      <td>-0.641549</td>\n",
              "      <td>-1.024039</td>\n",
              "      <td>0.119443</td>\n",
              "      <td>0.693843</td>\n",
              "      <td>-1.593807</td>\n",
              "      <td>-0.223529</td>\n",
              "      <td>-1.123596</td>\n",
              "      <td>-0.910359</td>\n",
              "      <td>-0.525631</td>\n",
              "      <td>1.221190</td>\n",
              "      <td>-1.271991</td>\n",
              "      <td>0.169781</td>\n",
              "      <td>-1.095663</td>\n",
              "      <td>0.564840</td>\n",
              "      <td>1.013846</td>\n",
              "      <td>-1.025320</td>\n",
              "    </tr>\n",
              "    <tr>\n",
              "      <th>1190</th>\n",
              "      <td>-0.318377</td>\n",
              "      <td>1.035635</td>\n",
              "      <td>-1.270550</td>\n",
              "      <td>0.983880</td>\n",
              "      <td>1.231190</td>\n",
              "      <td>-1.024039</td>\n",
              "      <td>-1.145809</td>\n",
              "      <td>0.000650</td>\n",
              "      <td>0.795943</td>\n",
              "      <td>-0.663437</td>\n",
              "      <td>0.689320</td>\n",
              "      <td>-0.420591</td>\n",
              "      <td>-1.590970</td>\n",
              "      <td>-1.268884</td>\n",
              "      <td>0.403650</td>\n",
              "      <td>-0.059452</td>\n",
              "      <td>-0.001026</td>\n",
              "      <td>-1.770414</td>\n",
              "      <td>1.013846</td>\n",
              "      <td>-1.025320</td>\n",
              "    </tr>\n",
              "    <tr>\n",
              "      <th>1132</th>\n",
              "      <td>0.659082</td>\n",
              "      <td>1.035635</td>\n",
              "      <td>0.322808</td>\n",
              "      <td>0.983880</td>\n",
              "      <td>-1.403001</td>\n",
              "      <td>-1.024039</td>\n",
              "      <td>-1.200820</td>\n",
              "      <td>0.347246</td>\n",
              "      <td>0.995089</td>\n",
              "      <td>-0.223529</td>\n",
              "      <td>-1.453217</td>\n",
              "      <td>-1.126037</td>\n",
              "      <td>-1.639394</td>\n",
              "      <td>0.533217</td>\n",
              "      <td>0.882404</td>\n",
              "      <td>0.169781</td>\n",
              "      <td>0.363853</td>\n",
              "      <td>0.564840</td>\n",
              "      <td>-0.986343</td>\n",
              "      <td>0.975305</td>\n",
              "    </tr>\n",
              "    <tr>\n",
              "      <th>731</th>\n",
              "      <td>1.299408</td>\n",
              "      <td>1.035635</td>\n",
              "      <td>0.690506</td>\n",
              "      <td>-1.016384</td>\n",
              "      <td>-0.196128</td>\n",
              "      <td>-1.024039</td>\n",
              "      <td>0.944607</td>\n",
              "      <td>1.040440</td>\n",
              "      <td>-0.398932</td>\n",
              "      <td>-1.543255</td>\n",
              "      <td>0.030078</td>\n",
              "      <td>-0.714901</td>\n",
              "      <td>0.283750</td>\n",
              "      <td>-0.183538</td>\n",
              "      <td>1.121782</td>\n",
              "      <td>1.235092</td>\n",
              "      <td>0.363853</td>\n",
              "      <td>-1.770414</td>\n",
              "      <td>1.013846</td>\n",
              "      <td>0.975305</td>\n",
              "    </tr>\n",
              "    <tr>\n",
              "      <th>1754</th>\n",
              "      <td>-0.331953</td>\n",
              "      <td>1.035635</td>\n",
              "      <td>0.200242</td>\n",
              "      <td>0.983880</td>\n",
              "      <td>-1.403001</td>\n",
              "      <td>0.976525</td>\n",
              "      <td>0.614541</td>\n",
              "      <td>-1.039140</td>\n",
              "      <td>-0.797224</td>\n",
              "      <td>0.656289</td>\n",
              "      <td>-1.453217</td>\n",
              "      <td>-1.346208</td>\n",
              "      <td>-0.255837</td>\n",
              "      <td>1.096779</td>\n",
              "      <td>-0.314482</td>\n",
              "      <td>0.169781</td>\n",
              "      <td>1.093610</td>\n",
              "      <td>0.564840</td>\n",
              "      <td>1.013846</td>\n",
              "      <td>-1.025320</td>\n",
              "    </tr>\n",
              "  </tbody>\n",
              "</table>\n",
              "</div>"
            ],
            "text/plain": [
              "      battery_power      blue  clock_speed  ...   three_g  touch_screen      wifi\n",
              "405        0.500697  1.035635    -1.270550  ...  0.564840      1.013846 -1.025320\n",
              "1190      -0.318377  1.035635    -1.270550  ... -1.770414      1.013846 -1.025320\n",
              "1132       0.659082  1.035635     0.322808  ...  0.564840     -0.986343  0.975305\n",
              "731        1.299408  1.035635     0.690506  ... -1.770414      1.013846  0.975305\n",
              "1754      -0.331953  1.035635     0.200242  ...  0.564840      1.013846 -1.025320\n",
              "\n",
              "[5 rows x 20 columns]"
            ]
          },
          "metadata": {
            "tags": []
          },
          "execution_count": 73
        }
      ]
    },
    {
      "cell_type": "code",
      "metadata": {
        "colab": {
          "base_uri": "https://localhost:8080/"
        },
        "id": "5pkvkel2GePX",
        "outputId": "8ce30af7-88f5-4e17-c6c3-c2addf9bd1d5"
      },
      "source": [
        "svc_linear = SVC(kernel='linear', decision_function_shape='ovr')\n",
        "svc_linear.fit(x_train_lg, y_train_lg)\n",
        "y_prd_lin = svc_linear.predict(x_test_lg)\n",
        "score = svc_linear.score(x_test_lg, y_test_lg)\n",
        "score"
      ],
      "execution_count": 77,
      "outputs": [
        {
          "output_type": "execute_result",
          "data": {
            "text/plain": [
              "0.955"
            ]
          },
          "metadata": {
            "tags": []
          },
          "execution_count": 77
        }
      ]
    },
    {
      "cell_type": "code",
      "metadata": {
        "colab": {
          "base_uri": "https://localhost:8080/"
        },
        "id": "NinTCiYHGsGj",
        "outputId": "a430ddf5-accb-41af-d64d-41284d9bfad2"
      },
      "source": [
        "percision, recall, f1score, support = precision_recall_fscore_support(y_test_lg, y_prd_lin)\n",
        "print('percision:', percision)\n",
        "print('recall:', recall)\n",
        "print('f1score:', f1score)"
      ],
      "execution_count": 78,
      "outputs": [
        {
          "output_type": "stream",
          "text": [
            "percision: [0.96875    0.93478261 0.95744681 0.95762712]\n",
            "recall: [0.97894737 0.93478261 0.90909091 0.99122807]\n",
            "f1score: [0.97382199 0.93478261 0.93264249 0.97413793]\n"
          ],
          "name": "stdout"
        }
      ]
    },
    {
      "cell_type": "markdown",
      "metadata": {
        "id": "Dy1YQmYxG-my"
      },
      "source": [
        "### SVC on area ###"
      ]
    },
    {
      "cell_type": "code",
      "metadata": {
        "id": "Vsa6NovCHMJ6"
      },
      "source": [
        "x_train_ar, x_test_ar, y_train_ar, y_test_ar = train_test_split(train_ar.drop(columns=['price_range']), train_ar.price_range, test_size=0.2, random_state=0)"
      ],
      "execution_count": 79,
      "outputs": []
    },
    {
      "cell_type": "code",
      "metadata": {
        "id": "KKVePKeJHaeW"
      },
      "source": [
        "sc = StandardScaler()\n",
        "x_train_ar[x_train_ar.columns] = sc.fit_transform(x_train_ar[x_train_ar.columns])\n",
        "x_test_ar[x_test_ar.columns] = sc.transform(x_test_ar[x_test_ar.columns])"
      ],
      "execution_count": 80,
      "outputs": []
    },
    {
      "cell_type": "code",
      "metadata": {
        "colab": {
          "base_uri": "https://localhost:8080/",
          "height": 223
        },
        "id": "zIr4ZKYtHhqc",
        "outputId": "5092c3c6-9128-40d8-8b4b-298536dcb697"
      },
      "source": [
        "x_test_ar.head()"
      ],
      "execution_count": 82,
      "outputs": [
        {
          "output_type": "execute_result",
          "data": {
            "text/html": [
              "<div>\n",
              "<style scoped>\n",
              "    .dataframe tbody tr th:only-of-type {\n",
              "        vertical-align: middle;\n",
              "    }\n",
              "\n",
              "    .dataframe tbody tr th {\n",
              "        vertical-align: top;\n",
              "    }\n",
              "\n",
              "    .dataframe thead th {\n",
              "        text-align: right;\n",
              "    }\n",
              "</style>\n",
              "<table border=\"1\" class=\"dataframe\">\n",
              "  <thead>\n",
              "    <tr style=\"text-align: right;\">\n",
              "      <th></th>\n",
              "      <th>battery_power</th>\n",
              "      <th>blue</th>\n",
              "      <th>clock_speed</th>\n",
              "      <th>dual_sim</th>\n",
              "      <th>fc</th>\n",
              "      <th>four_g</th>\n",
              "      <th>int_memory</th>\n",
              "      <th>m_dep</th>\n",
              "      <th>mobile_wt</th>\n",
              "      <th>n_cores</th>\n",
              "      <th>pc</th>\n",
              "      <th>px_height</th>\n",
              "      <th>px_width</th>\n",
              "      <th>ram</th>\n",
              "      <th>sc_h</th>\n",
              "      <th>sc_w</th>\n",
              "      <th>talk_time</th>\n",
              "      <th>three_g</th>\n",
              "      <th>touch_screen</th>\n",
              "      <th>wifi</th>\n",
              "      <th>area</th>\n",
              "    </tr>\n",
              "  </thead>\n",
              "  <tbody>\n",
              "    <tr>\n",
              "      <th>405</th>\n",
              "      <td>0.500697</td>\n",
              "      <td>1.035635</td>\n",
              "      <td>-1.270550</td>\n",
              "      <td>0.983880</td>\n",
              "      <td>-0.748114</td>\n",
              "      <td>-1.024039</td>\n",
              "      <td>0.119443</td>\n",
              "      <td>0.693843</td>\n",
              "      <td>-1.593807</td>\n",
              "      <td>-0.223529</td>\n",
              "      <td>-1.123596</td>\n",
              "      <td>-0.910359</td>\n",
              "      <td>-0.525631</td>\n",
              "      <td>1.221190</td>\n",
              "      <td>-1.271991</td>\n",
              "      <td>-0.186208</td>\n",
              "      <td>-1.095663</td>\n",
              "      <td>0.564840</td>\n",
              "      <td>1.013846</td>\n",
              "      <td>-1.025320</td>\n",
              "      <td>-0.798764</td>\n",
              "    </tr>\n",
              "    <tr>\n",
              "      <th>1190</th>\n",
              "      <td>-0.318377</td>\n",
              "      <td>1.035635</td>\n",
              "      <td>-1.270550</td>\n",
              "      <td>0.983880</td>\n",
              "      <td>1.344919</td>\n",
              "      <td>-1.024039</td>\n",
              "      <td>-1.145809</td>\n",
              "      <td>0.000650</td>\n",
              "      <td>0.795943</td>\n",
              "      <td>-0.663437</td>\n",
              "      <td>0.689320</td>\n",
              "      <td>-0.420591</td>\n",
              "      <td>-1.590970</td>\n",
              "      <td>-1.268884</td>\n",
              "      <td>0.403650</td>\n",
              "      <td>-0.413811</td>\n",
              "      <td>-0.001026</td>\n",
              "      <td>-1.770414</td>\n",
              "      <td>1.013846</td>\n",
              "      <td>-1.025320</td>\n",
              "      <td>-0.787987</td>\n",
              "    </tr>\n",
              "    <tr>\n",
              "      <th>1132</th>\n",
              "      <td>0.659082</td>\n",
              "      <td>1.035635</td>\n",
              "      <td>0.322808</td>\n",
              "      <td>0.983880</td>\n",
              "      <td>-0.980673</td>\n",
              "      <td>-1.024039</td>\n",
              "      <td>-1.200820</td>\n",
              "      <td>0.347246</td>\n",
              "      <td>0.995089</td>\n",
              "      <td>-0.223529</td>\n",
              "      <td>-1.453217</td>\n",
              "      <td>-1.126037</td>\n",
              "      <td>-1.639394</td>\n",
              "      <td>0.533217</td>\n",
              "      <td>0.882404</td>\n",
              "      <td>-0.186208</td>\n",
              "      <td>0.363853</td>\n",
              "      <td>0.564840</td>\n",
              "      <td>-0.986343</td>\n",
              "      <td>0.975305</td>\n",
              "      <td>-1.007095</td>\n",
              "    </tr>\n",
              "    <tr>\n",
              "      <th>731</th>\n",
              "      <td>1.299408</td>\n",
              "      <td>1.035635</td>\n",
              "      <td>0.690506</td>\n",
              "      <td>-1.016384</td>\n",
              "      <td>-0.515555</td>\n",
              "      <td>-1.024039</td>\n",
              "      <td>0.944607</td>\n",
              "      <td>1.040440</td>\n",
              "      <td>-0.398932</td>\n",
              "      <td>-1.543255</td>\n",
              "      <td>0.030078</td>\n",
              "      <td>-0.714901</td>\n",
              "      <td>0.283750</td>\n",
              "      <td>-0.183538</td>\n",
              "      <td>1.121782</td>\n",
              "      <td>1.634619</td>\n",
              "      <td>0.363853</td>\n",
              "      <td>-1.770414</td>\n",
              "      <td>1.013846</td>\n",
              "      <td>0.975305</td>\n",
              "      <td>-0.548890</td>\n",
              "    </tr>\n",
              "    <tr>\n",
              "      <th>1754</th>\n",
              "      <td>-0.331953</td>\n",
              "      <td>1.035635</td>\n",
              "      <td>0.200242</td>\n",
              "      <td>0.983880</td>\n",
              "      <td>-0.980673</td>\n",
              "      <td>0.976525</td>\n",
              "      <td>0.614541</td>\n",
              "      <td>-1.039140</td>\n",
              "      <td>-0.797224</td>\n",
              "      <td>0.656289</td>\n",
              "      <td>-1.453217</td>\n",
              "      <td>-1.346208</td>\n",
              "      <td>-0.255837</td>\n",
              "      <td>1.096779</td>\n",
              "      <td>-0.314482</td>\n",
              "      <td>-0.186208</td>\n",
              "      <td>1.093610</td>\n",
              "      <td>0.564840</td>\n",
              "      <td>1.013846</td>\n",
              "      <td>-1.025320</td>\n",
              "      <td>-1.031463</td>\n",
              "    </tr>\n",
              "  </tbody>\n",
              "</table>\n",
              "</div>"
            ],
            "text/plain": [
              "      battery_power      blue  clock_speed  ...  touch_screen      wifi      area\n",
              "405        0.500697  1.035635    -1.270550  ...      1.013846 -1.025320 -0.798764\n",
              "1190      -0.318377  1.035635    -1.270550  ...      1.013846 -1.025320 -0.787987\n",
              "1132       0.659082  1.035635     0.322808  ...     -0.986343  0.975305 -1.007095\n",
              "731        1.299408  1.035635     0.690506  ...      1.013846  0.975305 -0.548890\n",
              "1754      -0.331953  1.035635     0.200242  ...      1.013846 -1.025320 -1.031463\n",
              "\n",
              "[5 rows x 21 columns]"
            ]
          },
          "metadata": {
            "tags": []
          },
          "execution_count": 82
        }
      ]
    },
    {
      "cell_type": "code",
      "metadata": {
        "colab": {
          "base_uri": "https://localhost:8080/"
        },
        "id": "6BNY5JoZHizX",
        "outputId": "f552d970-a188-4703-8903-826aa4b664f4"
      },
      "source": [
        "svc_linear = SVC(kernel='linear', decision_function_shape='ovr')\n",
        "svc_linear.fit(x_train_ar, y_train_ar)\n",
        "y_prd_lin = svc_linear.predict(x_test_ar)\n",
        "score = svc_linear.score(x_test_ar, y_test_ar)\n",
        "score"
      ],
      "execution_count": 83,
      "outputs": [
        {
          "output_type": "execute_result",
          "data": {
            "text/plain": [
              "0.9575"
            ]
          },
          "metadata": {
            "tags": []
          },
          "execution_count": 83
        }
      ]
    },
    {
      "cell_type": "code",
      "metadata": {
        "colab": {
          "base_uri": "https://localhost:8080/"
        },
        "id": "bjtYqfy3Hnsd",
        "outputId": "b1761ccc-b175-43d5-aab7-38d26031594f"
      },
      "source": [
        "percision, recall, f1score, support = precision_recall_fscore_support(y_test_ar, y_prd_lin)\n",
        "print('percision:', percision)\n",
        "print('recall:', recall)\n",
        "print('f1score:', f1score)"
      ],
      "execution_count": 84,
      "outputs": [
        {
          "output_type": "stream",
          "text": [
            "percision: [0.97916667 0.93548387 0.95698925 0.95762712]\n",
            "recall: [0.98947368 0.94565217 0.8989899  0.99122807]\n",
            "f1score: [0.98429319 0.94054054 0.92708333 0.97413793]\n"
          ],
          "name": "stdout"
        }
      ]
    },
    {
      "cell_type": "markdown",
      "metadata": {
        "id": "3PWqOmptIBSF"
      },
      "source": [
        "## Decision tree ##"
      ]
    },
    {
      "cell_type": "code",
      "metadata": {
        "colab": {
          "base_uri": "https://localhost:8080/"
        },
        "id": "uz5Kgp0dIE2A",
        "outputId": "dbca4fce-8433-4007-9a11-cbfe2ffa88e2"
      },
      "source": [
        "from sklearn.tree import DecisionTreeClassifier\n",
        "dt_clf = DecisionTreeClassifier(min_samples_split=4, min_samples_leaf=2)\n",
        "dt_clf = dt_clf.fit(x_train, y_train)\n",
        "y_prd_dt = dt_clf.predict(x_test)\n",
        "score = dt_clf.score(x_test, y_test)\n",
        "score"
      ],
      "execution_count": 90,
      "outputs": [
        {
          "output_type": "execute_result",
          "data": {
            "text/plain": [
              "0.8425"
            ]
          },
          "metadata": {
            "tags": []
          },
          "execution_count": 90
        }
      ]
    },
    {
      "cell_type": "code",
      "metadata": {
        "colab": {
          "base_uri": "https://localhost:8080/"
        },
        "id": "ro4Pc7ZEJLjC",
        "outputId": "0fa529d5-5a77-4d7f-a977-e21dd80160b1"
      },
      "source": [
        "percision, recall, f1score, support = precision_recall_fscore_support(y_test, y_prd_dt)\n",
        "print('percision:', percision)\n",
        "print('recall:', recall)\n",
        "print('f1score:', f1score)"
      ],
      "execution_count": 91,
      "outputs": [
        {
          "output_type": "stream",
          "text": [
            "percision: [0.92857143 0.80681818 0.74       0.88596491]\n",
            "recall: [0.95789474 0.77173913 0.74747475 0.88596491]\n",
            "f1score: [0.94300518 0.78888889 0.74371859 0.88596491]\n"
          ],
          "name": "stdout"
        }
      ]
    },
    {
      "cell_type": "code",
      "metadata": {
        "colab": {
          "base_uri": "https://localhost:8080/"
        },
        "id": "3e4Ei5BeJYQW",
        "outputId": "c5e419fa-9e3a-49ce-ca98-fa099d65e13c"
      },
      "source": [
        "#different parameters\n",
        "dt_clf = DecisionTreeClassifier(criterion='entropy', min_samples_split=4, min_samples_leaf=2, max_features='sqrt')\n",
        "dt_clf = dt_clf.fit(x_train, y_train)\n",
        "y_prd_dt = dt_clf.predict(x_test)\n",
        "score = dt_clf.score(x_test, y_test)\n",
        "score"
      ],
      "execution_count": 92,
      "outputs": [
        {
          "output_type": "execute_result",
          "data": {
            "text/plain": [
              "0.59"
            ]
          },
          "metadata": {
            "tags": []
          },
          "execution_count": 92
        }
      ]
    },
    {
      "cell_type": "code",
      "metadata": {
        "colab": {
          "base_uri": "https://localhost:8080/"
        },
        "id": "5oiLBbn6J2Sp",
        "outputId": "b0984fff-f3f7-4527-b765-819431efe927"
      },
      "source": [
        "#different parameters\n",
        "dt_clf = DecisionTreeClassifier(min_samples_split=8, min_samples_leaf=4, max_features='sqrt')\n",
        "dt_clf = dt_clf.fit(x_train, y_train)\n",
        "y_prd_dt = dt_clf.predict(x_test)\n",
        "score = dt_clf.score(x_test, y_test)\n",
        "score"
      ],
      "execution_count": 93,
      "outputs": [
        {
          "output_type": "execute_result",
          "data": {
            "text/plain": [
              "0.62"
            ]
          },
          "metadata": {
            "tags": []
          },
          "execution_count": 93
        }
      ]
    },
    {
      "cell_type": "markdown",
      "metadata": {
        "id": "awE6z9c1J_8r"
      },
      "source": [
        "## Random forest ##"
      ]
    },
    {
      "cell_type": "code",
      "metadata": {
        "colab": {
          "base_uri": "https://localhost:8080/"
        },
        "id": "sLFF8SskKC8f",
        "outputId": "5b626047-f4fd-41c5-dc80-2646802e8f35"
      },
      "source": [
        "from sklearn.ensemble import RandomForestClassifier\n",
        "rnd_clf = RandomForestClassifier(n_estimators=700, min_samples_split=5, min_samples_leaf=3)\n",
        "rnd_clf.fit(x_train, y_train)\n",
        "y_pred_rf = rnd_clf.predict(x_test)\n",
        "score = rnd_clf.score(x_test, y_test)\n",
        "score"
      ],
      "execution_count": 101,
      "outputs": [
        {
          "output_type": "execute_result",
          "data": {
            "text/plain": [
              "0.8625"
            ]
          },
          "metadata": {
            "tags": []
          },
          "execution_count": 101
        }
      ]
    },
    {
      "cell_type": "code",
      "metadata": {
        "colab": {
          "base_uri": "https://localhost:8080/"
        },
        "id": "YmqpLBr4LkUs",
        "outputId": "a4638596-0bfa-4021-9ee1-24f32fad1411"
      },
      "source": [
        "percision, recall, f1score, support = precision_recall_fscore_support(y_test, y_pred_rf)\n",
        "print('percision:', percision)\n",
        "print('recall:', recall)\n",
        "print('f1score:', f1score)"
      ],
      "execution_count": 102,
      "outputs": [
        {
          "output_type": "stream",
          "text": [
            "percision: [0.93877551 0.77419355 0.77894737 0.93859649]\n",
            "recall: [0.96842105 0.7826087  0.74747475 0.93859649]\n",
            "f1score: [0.95336788 0.77837838 0.7628866  0.93859649]\n"
          ],
          "name": "stdout"
        }
      ]
    }
  ]
}