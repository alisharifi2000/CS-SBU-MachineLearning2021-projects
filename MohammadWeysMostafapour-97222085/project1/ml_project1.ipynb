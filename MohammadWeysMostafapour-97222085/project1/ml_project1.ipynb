{
  "nbformat": 4,
  "nbformat_minor": 0,
  "metadata": {
    "colab": {
      "name": "ml project1.ipynb",
      "provenance": [],
      "collapsed_sections": []
    },
    "kernelspec": {
      "name": "python3",
      "display_name": "Python 3"
    },
    "language_info": {
      "name": "python"
    }
  },
  "cells": [
    {
      "cell_type": "code",
      "metadata": {
        "id": "i4rRVhlsLS46"
      },
      "source": [
        "import numpy as np\n",
        "import pandas as pd\n",
        "import seaborn as sns\n",
        "import matplotlib.pyplot as plt\n",
        "from scipy import stats"
      ],
      "execution_count": 2,
      "outputs": []
    },
    {
      "cell_type": "code",
      "metadata": {
        "colab": {
          "base_uri": "https://localhost:8080/"
        },
        "id": "T0EEaxlQLgYB",
        "outputId": "ad2d648e-596c-4275-911c-f214f4abe9a2"
      },
      "source": [
        "from google.colab import drive\n",
        "drive.mount('/content/gdrive')\n"
      ],
      "execution_count": 3,
      "outputs": [
        {
          "output_type": "stream",
          "text": [
            "Mounted at /content/gdrive\n"
          ],
          "name": "stdout"
        }
      ]
    },
    {
      "cell_type": "code",
      "metadata": {
        "colab": {
          "base_uri": "https://localhost:8080/"
        },
        "id": "eZjU4ODJLjDf",
        "outputId": "207d23e8-2714-4455-e9f8-5d09a241dd87"
      },
      "source": [
        "!ls \"gdrive/My Drive\"\n"
      ],
      "execution_count": 4,
      "outputs": [
        {
          "output_type": "stream",
          "text": [
            " 4_5839220966210667668.cpp.gdoc     'qat-vkfi-bcs - Mar 8, 2021.gjam'\n",
            "'Colab Notebooks'\t\t    'Untitled document.gdoc'\n",
            "'Getting started.pdf'\t\t    'Untitled spreadsheet.gsheet'\n",
            "'Google Keep Document.gdoc'\t    'ایده زبان تخصصی.gdoc'\n",
            "'hgj-qzuf-opn - Jan 4, 2021.gjam'   'ایده سایت.gdoc'\n",
            "'lتحلیل بنیادی.pdf'\t\t    'ایده سمینار هوش.gdoc'\n",
            "'Minx3 os.pdf'\t\t\t    'انسان خردمند.pdf'\n",
            "'New Text Document.gdoc'\t    'اینستاگرام!'\n",
            "'NN Projects'\t\t\t    'حساب دیفرانسیل و انتگرال-سیلورمن.pdf'\n",
            " Pic\t\t\t\t    'کارگاه اول.gdoc'\n",
            "'pics.zip (Unzipped Files)'\t    'کارگاه دوم.gdoc'\n",
            "'Presentationدانش آموزان .pdf.pdf'  'محتوای سمینار پزشکی.gdoc'\n"
          ],
          "name": "stdout"
        }
      ]
    },
    {
      "cell_type": "code",
      "metadata": {
        "id": "641396R8Lyvq"
      },
      "source": [
        "\n",
        "\n",
        "path = \"/content/drive/MyDrive/NN Projects/proj1ml/\"\n",
        "\n",
        "\n",
        "# import zipfile\n",
        "# zip_ref = zipfile.ZipFile(path + \"data.zip\", 'r')\n",
        "# zip_ref.extractall(path )\n",
        "# zip_ref.close()"
      ],
      "execution_count": 6,
      "outputs": []
    },
    {
      "cell_type": "code",
      "metadata": {
        "colab": {
          "base_uri": "https://localhost:8080/",
          "height": 494
        },
        "id": "r-ceW5gbMd4J",
        "outputId": "5497c64a-8bf5-450a-cc7f-babbaeb7d517"
      },
      "source": [
        "pd.set_option('display.max_columns', None)\n",
        "path = \"/content/drive/MyDrive/NN Projects/proj1ml/\"\n",
        "df = pd.read_csv(path + \"immo_data.csv\")\n",
        "df.head()"
      ],
      "execution_count": 10,
      "outputs": [
        {
          "output_type": "execute_result",
          "data": {
            "text/html": [
              "<div>\n",
              "<style scoped>\n",
              "    .dataframe tbody tr th:only-of-type {\n",
              "        vertical-align: middle;\n",
              "    }\n",
              "\n",
              "    .dataframe tbody tr th {\n",
              "        vertical-align: top;\n",
              "    }\n",
              "\n",
              "    .dataframe thead th {\n",
              "        text-align: right;\n",
              "    }\n",
              "</style>\n",
              "<table border=\"1\" class=\"dataframe\">\n",
              "  <thead>\n",
              "    <tr style=\"text-align: right;\">\n",
              "      <th></th>\n",
              "      <th>regio1</th>\n",
              "      <th>serviceCharge</th>\n",
              "      <th>heatingType</th>\n",
              "      <th>telekomTvOffer</th>\n",
              "      <th>telekomHybridUploadSpeed</th>\n",
              "      <th>newlyConst</th>\n",
              "      <th>balcony</th>\n",
              "      <th>picturecount</th>\n",
              "      <th>pricetrend</th>\n",
              "      <th>telekomUploadSpeed</th>\n",
              "      <th>totalRent</th>\n",
              "      <th>yearConstructed</th>\n",
              "      <th>scoutId</th>\n",
              "      <th>noParkSpaces</th>\n",
              "      <th>firingTypes</th>\n",
              "      <th>hasKitchen</th>\n",
              "      <th>geo_bln</th>\n",
              "      <th>cellar</th>\n",
              "      <th>yearConstructedRange</th>\n",
              "      <th>baseRent</th>\n",
              "      <th>houseNumber</th>\n",
              "      <th>livingSpace</th>\n",
              "      <th>geo_krs</th>\n",
              "      <th>condition</th>\n",
              "      <th>interiorQual</th>\n",
              "      <th>petsAllowed</th>\n",
              "      <th>street</th>\n",
              "      <th>streetPlain</th>\n",
              "      <th>lift</th>\n",
              "      <th>baseRentRange</th>\n",
              "      <th>typeOfFlat</th>\n",
              "      <th>geo_plz</th>\n",
              "      <th>noRooms</th>\n",
              "      <th>thermalChar</th>\n",
              "      <th>floor</th>\n",
              "      <th>numberOfFloors</th>\n",
              "      <th>noRoomsRange</th>\n",
              "      <th>garden</th>\n",
              "      <th>livingSpaceRange</th>\n",
              "      <th>regio2</th>\n",
              "      <th>regio3</th>\n",
              "      <th>description</th>\n",
              "      <th>facilities</th>\n",
              "      <th>heatingCosts</th>\n",
              "      <th>energyEfficiencyClass</th>\n",
              "      <th>lastRefurbish</th>\n",
              "      <th>electricityBasePrice</th>\n",
              "      <th>electricityKwhPrice</th>\n",
              "      <th>date</th>\n",
              "    </tr>\n",
              "  </thead>\n",
              "  <tbody>\n",
              "    <tr>\n",
              "      <th>0</th>\n",
              "      <td>Nordrhein_Westfalen</td>\n",
              "      <td>245.00</td>\n",
              "      <td>central_heating</td>\n",
              "      <td>ONE_YEAR_FREE</td>\n",
              "      <td>NaN</td>\n",
              "      <td>False</td>\n",
              "      <td>False</td>\n",
              "      <td>6</td>\n",
              "      <td>4.62</td>\n",
              "      <td>10.0</td>\n",
              "      <td>840.0</td>\n",
              "      <td>1965.0</td>\n",
              "      <td>96107057</td>\n",
              "      <td>1.0</td>\n",
              "      <td>oil</td>\n",
              "      <td>False</td>\n",
              "      <td>Nordrhein_Westfalen</td>\n",
              "      <td>True</td>\n",
              "      <td>2.0</td>\n",
              "      <td>595.0</td>\n",
              "      <td>244</td>\n",
              "      <td>86.00</td>\n",
              "      <td>Dortmund</td>\n",
              "      <td>well_kept</td>\n",
              "      <td>normal</td>\n",
              "      <td>NaN</td>\n",
              "      <td>Sch&amp;uuml;ruferstra&amp;szlig;e</td>\n",
              "      <td>Schüruferstraße</td>\n",
              "      <td>False</td>\n",
              "      <td>4</td>\n",
              "      <td>ground_floor</td>\n",
              "      <td>44269</td>\n",
              "      <td>4.0</td>\n",
              "      <td>181.4</td>\n",
              "      <td>1.0</td>\n",
              "      <td>3.0</td>\n",
              "      <td>4</td>\n",
              "      <td>True</td>\n",
              "      <td>4</td>\n",
              "      <td>Dortmund</td>\n",
              "      <td>Schüren</td>\n",
              "      <td>Die ebenerdig zu erreichende Erdgeschosswohnun...</td>\n",
              "      <td>Die Wohnung ist mit Laminat ausgelegt. Das Bad...</td>\n",
              "      <td>NaN</td>\n",
              "      <td>NaN</td>\n",
              "      <td>NaN</td>\n",
              "      <td>NaN</td>\n",
              "      <td>NaN</td>\n",
              "      <td>May19</td>\n",
              "    </tr>\n",
              "    <tr>\n",
              "      <th>1</th>\n",
              "      <td>Rheinland_Pfalz</td>\n",
              "      <td>134.00</td>\n",
              "      <td>self_contained_central_heating</td>\n",
              "      <td>ONE_YEAR_FREE</td>\n",
              "      <td>NaN</td>\n",
              "      <td>False</td>\n",
              "      <td>True</td>\n",
              "      <td>8</td>\n",
              "      <td>3.47</td>\n",
              "      <td>10.0</td>\n",
              "      <td>NaN</td>\n",
              "      <td>1871.0</td>\n",
              "      <td>111378734</td>\n",
              "      <td>2.0</td>\n",
              "      <td>gas</td>\n",
              "      <td>False</td>\n",
              "      <td>Rheinland_Pfalz</td>\n",
              "      <td>False</td>\n",
              "      <td>1.0</td>\n",
              "      <td>800.0</td>\n",
              "      <td>NaN</td>\n",
              "      <td>89.00</td>\n",
              "      <td>Rhein_Pfalz_Kreis</td>\n",
              "      <td>refurbished</td>\n",
              "      <td>normal</td>\n",
              "      <td>no</td>\n",
              "      <td>no_information</td>\n",
              "      <td>NaN</td>\n",
              "      <td>False</td>\n",
              "      <td>5</td>\n",
              "      <td>ground_floor</td>\n",
              "      <td>67459</td>\n",
              "      <td>3.0</td>\n",
              "      <td>NaN</td>\n",
              "      <td>NaN</td>\n",
              "      <td>NaN</td>\n",
              "      <td>3</td>\n",
              "      <td>False</td>\n",
              "      <td>4</td>\n",
              "      <td>Rhein_Pfalz_Kreis</td>\n",
              "      <td>Böhl_Iggelheim</td>\n",
              "      <td>Alles neu macht der Mai – so kann es auch für ...</td>\n",
              "      <td>NaN</td>\n",
              "      <td>NaN</td>\n",
              "      <td>NaN</td>\n",
              "      <td>2019.0</td>\n",
              "      <td>NaN</td>\n",
              "      <td>NaN</td>\n",
              "      <td>May19</td>\n",
              "    </tr>\n",
              "    <tr>\n",
              "      <th>2</th>\n",
              "      <td>Sachsen</td>\n",
              "      <td>255.00</td>\n",
              "      <td>floor_heating</td>\n",
              "      <td>ONE_YEAR_FREE</td>\n",
              "      <td>10.0</td>\n",
              "      <td>True</td>\n",
              "      <td>True</td>\n",
              "      <td>8</td>\n",
              "      <td>2.72</td>\n",
              "      <td>2.4</td>\n",
              "      <td>1300.0</td>\n",
              "      <td>2019.0</td>\n",
              "      <td>113147523</td>\n",
              "      <td>1.0</td>\n",
              "      <td>NaN</td>\n",
              "      <td>False</td>\n",
              "      <td>Sachsen</td>\n",
              "      <td>True</td>\n",
              "      <td>9.0</td>\n",
              "      <td>965.0</td>\n",
              "      <td>4</td>\n",
              "      <td>83.80</td>\n",
              "      <td>Dresden</td>\n",
              "      <td>first_time_use</td>\n",
              "      <td>sophisticated</td>\n",
              "      <td>NaN</td>\n",
              "      <td>Turnerweg</td>\n",
              "      <td>Turnerweg</td>\n",
              "      <td>True</td>\n",
              "      <td>6</td>\n",
              "      <td>apartment</td>\n",
              "      <td>1097</td>\n",
              "      <td>3.0</td>\n",
              "      <td>NaN</td>\n",
              "      <td>3.0</td>\n",
              "      <td>4.0</td>\n",
              "      <td>3</td>\n",
              "      <td>False</td>\n",
              "      <td>4</td>\n",
              "      <td>Dresden</td>\n",
              "      <td>Äußere_Neustadt_Antonstadt</td>\n",
              "      <td>Der Neubau entsteht im Herzen der Dresdner Neu...</td>\n",
              "      <td>* 9 m² Balkon\\n* Bad mit bodengleicher Dusche,...</td>\n",
              "      <td>NaN</td>\n",
              "      <td>NaN</td>\n",
              "      <td>NaN</td>\n",
              "      <td>NaN</td>\n",
              "      <td>NaN</td>\n",
              "      <td>Oct19</td>\n",
              "    </tr>\n",
              "    <tr>\n",
              "      <th>3</th>\n",
              "      <td>Sachsen</td>\n",
              "      <td>58.15</td>\n",
              "      <td>district_heating</td>\n",
              "      <td>ONE_YEAR_FREE</td>\n",
              "      <td>NaN</td>\n",
              "      <td>False</td>\n",
              "      <td>True</td>\n",
              "      <td>9</td>\n",
              "      <td>1.53</td>\n",
              "      <td>40.0</td>\n",
              "      <td>NaN</td>\n",
              "      <td>1964.0</td>\n",
              "      <td>108890903</td>\n",
              "      <td>NaN</td>\n",
              "      <td>district_heating</td>\n",
              "      <td>False</td>\n",
              "      <td>Sachsen</td>\n",
              "      <td>False</td>\n",
              "      <td>2.0</td>\n",
              "      <td>343.0</td>\n",
              "      <td>35</td>\n",
              "      <td>58.15</td>\n",
              "      <td>Mittelsachsen_Kreis</td>\n",
              "      <td>NaN</td>\n",
              "      <td>NaN</td>\n",
              "      <td>NaN</td>\n",
              "      <td>Gl&amp;uuml;ck-Auf-Stra&amp;szlig;e</td>\n",
              "      <td>Glück-Auf-Straße</td>\n",
              "      <td>False</td>\n",
              "      <td>2</td>\n",
              "      <td>other</td>\n",
              "      <td>9599</td>\n",
              "      <td>3.0</td>\n",
              "      <td>86.0</td>\n",
              "      <td>3.0</td>\n",
              "      <td>NaN</td>\n",
              "      <td>3</td>\n",
              "      <td>False</td>\n",
              "      <td>2</td>\n",
              "      <td>Mittelsachsen_Kreis</td>\n",
              "      <td>Freiberg</td>\n",
              "      <td>Abseits von Lärm und Abgasen in Ihre neue Wohn...</td>\n",
              "      <td>NaN</td>\n",
              "      <td>87.23</td>\n",
              "      <td>NaN</td>\n",
              "      <td>NaN</td>\n",
              "      <td>NaN</td>\n",
              "      <td>NaN</td>\n",
              "      <td>May19</td>\n",
              "    </tr>\n",
              "    <tr>\n",
              "      <th>4</th>\n",
              "      <td>Bremen</td>\n",
              "      <td>138.00</td>\n",
              "      <td>self_contained_central_heating</td>\n",
              "      <td>NaN</td>\n",
              "      <td>NaN</td>\n",
              "      <td>False</td>\n",
              "      <td>True</td>\n",
              "      <td>19</td>\n",
              "      <td>2.46</td>\n",
              "      <td>NaN</td>\n",
              "      <td>903.0</td>\n",
              "      <td>1950.0</td>\n",
              "      <td>114751222</td>\n",
              "      <td>NaN</td>\n",
              "      <td>gas</td>\n",
              "      <td>False</td>\n",
              "      <td>Bremen</td>\n",
              "      <td>False</td>\n",
              "      <td>1.0</td>\n",
              "      <td>765.0</td>\n",
              "      <td>10</td>\n",
              "      <td>84.97</td>\n",
              "      <td>Bremen</td>\n",
              "      <td>refurbished</td>\n",
              "      <td>NaN</td>\n",
              "      <td>NaN</td>\n",
              "      <td>Hermann-Henrich-Meier-Allee</td>\n",
              "      <td>Hermann-Henrich-Meier-Allee</td>\n",
              "      <td>False</td>\n",
              "      <td>5</td>\n",
              "      <td>apartment</td>\n",
              "      <td>28213</td>\n",
              "      <td>3.0</td>\n",
              "      <td>188.9</td>\n",
              "      <td>1.0</td>\n",
              "      <td>NaN</td>\n",
              "      <td>3</td>\n",
              "      <td>False</td>\n",
              "      <td>4</td>\n",
              "      <td>Bremen</td>\n",
              "      <td>Neu_Schwachhausen</td>\n",
              "      <td>Es handelt sich hier um ein saniertes Mehrfami...</td>\n",
              "      <td>Diese Wohnung wurde neu saniert und ist wie fo...</td>\n",
              "      <td>NaN</td>\n",
              "      <td>NaN</td>\n",
              "      <td>NaN</td>\n",
              "      <td>NaN</td>\n",
              "      <td>NaN</td>\n",
              "      <td>Feb20</td>\n",
              "    </tr>\n",
              "  </tbody>\n",
              "</table>\n",
              "</div>"
            ],
            "text/plain": [
              "                regio1  serviceCharge                     heatingType  \\\n",
              "0  Nordrhein_Westfalen         245.00                 central_heating   \n",
              "1      Rheinland_Pfalz         134.00  self_contained_central_heating   \n",
              "2              Sachsen         255.00                   floor_heating   \n",
              "3              Sachsen          58.15                district_heating   \n",
              "4               Bremen         138.00  self_contained_central_heating   \n",
              "\n",
              "  telekomTvOffer  telekomHybridUploadSpeed  newlyConst  balcony  picturecount  \\\n",
              "0  ONE_YEAR_FREE                       NaN       False    False             6   \n",
              "1  ONE_YEAR_FREE                       NaN       False     True             8   \n",
              "2  ONE_YEAR_FREE                      10.0        True     True             8   \n",
              "3  ONE_YEAR_FREE                       NaN       False     True             9   \n",
              "4            NaN                       NaN       False     True            19   \n",
              "\n",
              "   pricetrend  telekomUploadSpeed  totalRent  yearConstructed    scoutId  \\\n",
              "0        4.62                10.0      840.0           1965.0   96107057   \n",
              "1        3.47                10.0        NaN           1871.0  111378734   \n",
              "2        2.72                 2.4     1300.0           2019.0  113147523   \n",
              "3        1.53                40.0        NaN           1964.0  108890903   \n",
              "4        2.46                 NaN      903.0           1950.0  114751222   \n",
              "\n",
              "   noParkSpaces       firingTypes  hasKitchen              geo_bln  cellar  \\\n",
              "0           1.0               oil       False  Nordrhein_Westfalen    True   \n",
              "1           2.0               gas       False      Rheinland_Pfalz   False   \n",
              "2           1.0               NaN       False              Sachsen    True   \n",
              "3           NaN  district_heating       False              Sachsen   False   \n",
              "4           NaN               gas       False               Bremen   False   \n",
              "\n",
              "   yearConstructedRange  baseRent houseNumber  livingSpace  \\\n",
              "0                   2.0     595.0         244        86.00   \n",
              "1                   1.0     800.0         NaN        89.00   \n",
              "2                   9.0     965.0           4        83.80   \n",
              "3                   2.0     343.0          35        58.15   \n",
              "4                   1.0     765.0          10        84.97   \n",
              "\n",
              "               geo_krs       condition   interiorQual petsAllowed  \\\n",
              "0             Dortmund       well_kept         normal         NaN   \n",
              "1    Rhein_Pfalz_Kreis     refurbished         normal          no   \n",
              "2              Dresden  first_time_use  sophisticated         NaN   \n",
              "3  Mittelsachsen_Kreis             NaN            NaN         NaN   \n",
              "4               Bremen     refurbished            NaN         NaN   \n",
              "\n",
              "                        street                  streetPlain   lift  \\\n",
              "0   Sch&uuml;ruferstra&szlig;e              Schüruferstraße  False   \n",
              "1               no_information                          NaN  False   \n",
              "2                    Turnerweg                    Turnerweg   True   \n",
              "3  Gl&uuml;ck-Auf-Stra&szlig;e             Glück-Auf-Straße  False   \n",
              "4  Hermann-Henrich-Meier-Allee  Hermann-Henrich-Meier-Allee  False   \n",
              "\n",
              "   baseRentRange    typeOfFlat  geo_plz  noRooms  thermalChar  floor  \\\n",
              "0              4  ground_floor    44269      4.0        181.4    1.0   \n",
              "1              5  ground_floor    67459      3.0          NaN    NaN   \n",
              "2              6     apartment     1097      3.0          NaN    3.0   \n",
              "3              2         other     9599      3.0         86.0    3.0   \n",
              "4              5     apartment    28213      3.0        188.9    1.0   \n",
              "\n",
              "   numberOfFloors  noRoomsRange  garden  livingSpaceRange  \\\n",
              "0             3.0             4    True                 4   \n",
              "1             NaN             3   False                 4   \n",
              "2             4.0             3   False                 4   \n",
              "3             NaN             3   False                 2   \n",
              "4             NaN             3   False                 4   \n",
              "\n",
              "                regio2                      regio3  \\\n",
              "0             Dortmund                     Schüren   \n",
              "1    Rhein_Pfalz_Kreis              Böhl_Iggelheim   \n",
              "2              Dresden  Äußere_Neustadt_Antonstadt   \n",
              "3  Mittelsachsen_Kreis                    Freiberg   \n",
              "4               Bremen           Neu_Schwachhausen   \n",
              "\n",
              "                                         description  \\\n",
              "0  Die ebenerdig zu erreichende Erdgeschosswohnun...   \n",
              "1  Alles neu macht der Mai – so kann es auch für ...   \n",
              "2  Der Neubau entsteht im Herzen der Dresdner Neu...   \n",
              "3  Abseits von Lärm und Abgasen in Ihre neue Wohn...   \n",
              "4  Es handelt sich hier um ein saniertes Mehrfami...   \n",
              "\n",
              "                                          facilities  heatingCosts  \\\n",
              "0  Die Wohnung ist mit Laminat ausgelegt. Das Bad...           NaN   \n",
              "1                                                NaN           NaN   \n",
              "2  * 9 m² Balkon\\n* Bad mit bodengleicher Dusche,...           NaN   \n",
              "3                                                NaN         87.23   \n",
              "4  Diese Wohnung wurde neu saniert und ist wie fo...           NaN   \n",
              "\n",
              "  energyEfficiencyClass  lastRefurbish  electricityBasePrice  \\\n",
              "0                   NaN            NaN                   NaN   \n",
              "1                   NaN         2019.0                   NaN   \n",
              "2                   NaN            NaN                   NaN   \n",
              "3                   NaN            NaN                   NaN   \n",
              "4                   NaN            NaN                   NaN   \n",
              "\n",
              "   electricityKwhPrice   date  \n",
              "0                  NaN  May19  \n",
              "1                  NaN  May19  \n",
              "2                  NaN  Oct19  \n",
              "3                  NaN  May19  \n",
              "4                  NaN  Feb20  "
            ]
          },
          "metadata": {
            "tags": []
          },
          "execution_count": 10
        }
      ]
    },
    {
      "cell_type": "code",
      "metadata": {
        "colab": {
          "base_uri": "https://localhost:8080/"
        },
        "id": "KFYw5YEMM-q4",
        "outputId": "a73806dc-ff66-463d-f404-eeb0b3a9179f"
      },
      "source": [
        "df.columns[((df.isna().sum()/len(df)) > 0.50)]\n"
      ],
      "execution_count": 12,
      "outputs": [
        {
          "output_type": "execute_result",
          "data": {
            "text/plain": [
              "Index(['telekomHybridUploadSpeed', 'noParkSpaces', 'heatingCosts',\n",
              "       'energyEfficiencyClass', 'lastRefurbish', 'electricityBasePrice',\n",
              "       'electricityKwhPrice'],\n",
              "      dtype='object')"
            ]
          },
          "metadata": {
            "tags": []
          },
          "execution_count": 12
        }
      ]
    },
    {
      "cell_type": "code",
      "metadata": {
        "colab": {
          "base_uri": "https://localhost:8080/"
        },
        "id": "elJ7iDYtNNy5",
        "outputId": "db2d1b86-bc93-4038-90b4-e6a853f0288c"
      },
      "source": [
        "df = df.drop(columns=df.columns[((df.isna().sum()/len(df)) > 0.50)])\n",
        "df.columns"
      ],
      "execution_count": 13,
      "outputs": [
        {
          "output_type": "execute_result",
          "data": {
            "text/plain": [
              "Index(['regio1', 'serviceCharge', 'heatingType', 'telekomTvOffer',\n",
              "       'newlyConst', 'balcony', 'picturecount', 'pricetrend',\n",
              "       'telekomUploadSpeed', 'totalRent', 'yearConstructed', 'scoutId',\n",
              "       'firingTypes', 'hasKitchen', 'geo_bln', 'cellar',\n",
              "       'yearConstructedRange', 'baseRent', 'houseNumber', 'livingSpace',\n",
              "       'geo_krs', 'condition', 'interiorQual', 'petsAllowed', 'street',\n",
              "       'streetPlain', 'lift', 'baseRentRange', 'typeOfFlat', 'geo_plz',\n",
              "       'noRooms', 'thermalChar', 'floor', 'numberOfFloors', 'noRoomsRange',\n",
              "       'garden', 'livingSpaceRange', 'regio2', 'regio3', 'description',\n",
              "       'facilities', 'date'],\n",
              "      dtype='object')"
            ]
          },
          "metadata": {
            "tags": []
          },
          "execution_count": 13
        }
      ]
    },
    {
      "cell_type": "code",
      "metadata": {
        "colab": {
          "base_uri": "https://localhost:8080/"
        },
        "id": "-ORxM1knN2lm",
        "outputId": "90a62ab5-939a-48c2-c0e0-26f0a29bc089"
      },
      "source": [
        "df[df['livingSpace'] == 0.0].shape[0]\n"
      ],
      "execution_count": 14,
      "outputs": [
        {
          "output_type": "execute_result",
          "data": {
            "text/plain": [
              "75"
            ]
          },
          "metadata": {
            "tags": []
          },
          "execution_count": 14
        }
      ]
    },
    {
      "cell_type": "code",
      "metadata": {
        "colab": {
          "base_uri": "https://localhost:8080/"
        },
        "id": "2atmFafFN5IW",
        "outputId": "56f7a42e-1ba9-4e7e-dac2-d99dea0699a4"
      },
      "source": [
        "df[df['livingSpace'] == 0.0].index\n"
      ],
      "execution_count": 15,
      "outputs": [
        {
          "output_type": "execute_result",
          "data": {
            "text/plain": [
              "Int64Index([  3444,   6601,  11127,  15014,  17278,  18433,  20165,  27339,\n",
              "             30124,  30982,  33083,  33595,  34612,  35630,  40629,  63174,\n",
              "             67648,  69577,  70482,  71569,  75213,  77146,  77381,  78489,\n",
              "             86437,  91491,  92982,  93073,  94343,  97255, 106586, 115056,\n",
              "            115921, 119028, 119150, 119711, 120544, 120972, 124278, 132002,\n",
              "            135088, 137334, 138819, 140420, 141794, 142114, 145902, 151681,\n",
              "            153600, 162195, 165063, 169929, 175135, 182693, 186918, 187186,\n",
              "            195037, 199402, 203713, 208913, 213220, 219914, 223897, 228138,\n",
              "            228960, 229099, 231174, 232236, 238489, 243369, 247111, 248599,\n",
              "            254055, 266160, 267604],\n",
              "           dtype='int64')"
            ]
          },
          "metadata": {
            "tags": []
          },
          "execution_count": 15
        }
      ]
    },
    {
      "cell_type": "code",
      "metadata": {
        "colab": {
          "base_uri": "https://localhost:8080/"
        },
        "id": "9fYGZLYYN8ML",
        "outputId": "9f5c86b2-f06f-412d-c436-727271e46c2d"
      },
      "source": [
        "df = df.drop(df[df['livingSpace'] == 0.0].index)\n",
        "df.shape\n"
      ],
      "execution_count": 16,
      "outputs": [
        {
          "output_type": "execute_result",
          "data": {
            "text/plain": [
              "(268775, 42)"
            ]
          },
          "metadata": {
            "tags": []
          },
          "execution_count": 16
        }
      ]
    },
    {
      "cell_type": "code",
      "metadata": {
        "colab": {
          "base_uri": "https://localhost:8080/"
        },
        "id": "RCFfCvn0N_hd",
        "outputId": "23506641-06d8-470a-e452-c06ae544460b"
      },
      "source": [
        "df = df.drop(df[df['totalRent'] == 0.0].index)\n",
        "df.shape"
      ],
      "execution_count": 17,
      "outputs": [
        {
          "output_type": "execute_result",
          "data": {
            "text/plain": [
              "(268544, 42)"
            ]
          },
          "metadata": {
            "tags": []
          },
          "execution_count": 17
        }
      ]
    },
    {
      "cell_type": "code",
      "metadata": {
        "colab": {
          "base_uri": "https://localhost:8080/",
          "height": 494
        },
        "id": "G6abGwCJOCY3",
        "outputId": "03f2216c-9d4b-472c-ea6c-73b375d2584c"
      },
      "source": [
        "df.head()\n"
      ],
      "execution_count": 18,
      "outputs": [
        {
          "output_type": "execute_result",
          "data": {
            "text/html": [
              "<div>\n",
              "<style scoped>\n",
              "    .dataframe tbody tr th:only-of-type {\n",
              "        vertical-align: middle;\n",
              "    }\n",
              "\n",
              "    .dataframe tbody tr th {\n",
              "        vertical-align: top;\n",
              "    }\n",
              "\n",
              "    .dataframe thead th {\n",
              "        text-align: right;\n",
              "    }\n",
              "</style>\n",
              "<table border=\"1\" class=\"dataframe\">\n",
              "  <thead>\n",
              "    <tr style=\"text-align: right;\">\n",
              "      <th></th>\n",
              "      <th>regio1</th>\n",
              "      <th>serviceCharge</th>\n",
              "      <th>heatingType</th>\n",
              "      <th>telekomTvOffer</th>\n",
              "      <th>newlyConst</th>\n",
              "      <th>balcony</th>\n",
              "      <th>picturecount</th>\n",
              "      <th>pricetrend</th>\n",
              "      <th>telekomUploadSpeed</th>\n",
              "      <th>totalRent</th>\n",
              "      <th>yearConstructed</th>\n",
              "      <th>scoutId</th>\n",
              "      <th>firingTypes</th>\n",
              "      <th>hasKitchen</th>\n",
              "      <th>geo_bln</th>\n",
              "      <th>cellar</th>\n",
              "      <th>yearConstructedRange</th>\n",
              "      <th>baseRent</th>\n",
              "      <th>houseNumber</th>\n",
              "      <th>livingSpace</th>\n",
              "      <th>geo_krs</th>\n",
              "      <th>condition</th>\n",
              "      <th>interiorQual</th>\n",
              "      <th>petsAllowed</th>\n",
              "      <th>street</th>\n",
              "      <th>streetPlain</th>\n",
              "      <th>lift</th>\n",
              "      <th>baseRentRange</th>\n",
              "      <th>typeOfFlat</th>\n",
              "      <th>geo_plz</th>\n",
              "      <th>noRooms</th>\n",
              "      <th>thermalChar</th>\n",
              "      <th>floor</th>\n",
              "      <th>numberOfFloors</th>\n",
              "      <th>noRoomsRange</th>\n",
              "      <th>garden</th>\n",
              "      <th>livingSpaceRange</th>\n",
              "      <th>regio2</th>\n",
              "      <th>regio3</th>\n",
              "      <th>description</th>\n",
              "      <th>facilities</th>\n",
              "      <th>date</th>\n",
              "    </tr>\n",
              "  </thead>\n",
              "  <tbody>\n",
              "    <tr>\n",
              "      <th>0</th>\n",
              "      <td>Nordrhein_Westfalen</td>\n",
              "      <td>245.00</td>\n",
              "      <td>central_heating</td>\n",
              "      <td>ONE_YEAR_FREE</td>\n",
              "      <td>False</td>\n",
              "      <td>False</td>\n",
              "      <td>6</td>\n",
              "      <td>4.62</td>\n",
              "      <td>10.0</td>\n",
              "      <td>840.0</td>\n",
              "      <td>1965.0</td>\n",
              "      <td>96107057</td>\n",
              "      <td>oil</td>\n",
              "      <td>False</td>\n",
              "      <td>Nordrhein_Westfalen</td>\n",
              "      <td>True</td>\n",
              "      <td>2.0</td>\n",
              "      <td>595.0</td>\n",
              "      <td>244</td>\n",
              "      <td>86.00</td>\n",
              "      <td>Dortmund</td>\n",
              "      <td>well_kept</td>\n",
              "      <td>normal</td>\n",
              "      <td>NaN</td>\n",
              "      <td>Sch&amp;uuml;ruferstra&amp;szlig;e</td>\n",
              "      <td>Schüruferstraße</td>\n",
              "      <td>False</td>\n",
              "      <td>4</td>\n",
              "      <td>ground_floor</td>\n",
              "      <td>44269</td>\n",
              "      <td>4.0</td>\n",
              "      <td>181.4</td>\n",
              "      <td>1.0</td>\n",
              "      <td>3.0</td>\n",
              "      <td>4</td>\n",
              "      <td>True</td>\n",
              "      <td>4</td>\n",
              "      <td>Dortmund</td>\n",
              "      <td>Schüren</td>\n",
              "      <td>Die ebenerdig zu erreichende Erdgeschosswohnun...</td>\n",
              "      <td>Die Wohnung ist mit Laminat ausgelegt. Das Bad...</td>\n",
              "      <td>May19</td>\n",
              "    </tr>\n",
              "    <tr>\n",
              "      <th>1</th>\n",
              "      <td>Rheinland_Pfalz</td>\n",
              "      <td>134.00</td>\n",
              "      <td>self_contained_central_heating</td>\n",
              "      <td>ONE_YEAR_FREE</td>\n",
              "      <td>False</td>\n",
              "      <td>True</td>\n",
              "      <td>8</td>\n",
              "      <td>3.47</td>\n",
              "      <td>10.0</td>\n",
              "      <td>NaN</td>\n",
              "      <td>1871.0</td>\n",
              "      <td>111378734</td>\n",
              "      <td>gas</td>\n",
              "      <td>False</td>\n",
              "      <td>Rheinland_Pfalz</td>\n",
              "      <td>False</td>\n",
              "      <td>1.0</td>\n",
              "      <td>800.0</td>\n",
              "      <td>NaN</td>\n",
              "      <td>89.00</td>\n",
              "      <td>Rhein_Pfalz_Kreis</td>\n",
              "      <td>refurbished</td>\n",
              "      <td>normal</td>\n",
              "      <td>no</td>\n",
              "      <td>no_information</td>\n",
              "      <td>NaN</td>\n",
              "      <td>False</td>\n",
              "      <td>5</td>\n",
              "      <td>ground_floor</td>\n",
              "      <td>67459</td>\n",
              "      <td>3.0</td>\n",
              "      <td>NaN</td>\n",
              "      <td>NaN</td>\n",
              "      <td>NaN</td>\n",
              "      <td>3</td>\n",
              "      <td>False</td>\n",
              "      <td>4</td>\n",
              "      <td>Rhein_Pfalz_Kreis</td>\n",
              "      <td>Böhl_Iggelheim</td>\n",
              "      <td>Alles neu macht der Mai – so kann es auch für ...</td>\n",
              "      <td>NaN</td>\n",
              "      <td>May19</td>\n",
              "    </tr>\n",
              "    <tr>\n",
              "      <th>2</th>\n",
              "      <td>Sachsen</td>\n",
              "      <td>255.00</td>\n",
              "      <td>floor_heating</td>\n",
              "      <td>ONE_YEAR_FREE</td>\n",
              "      <td>True</td>\n",
              "      <td>True</td>\n",
              "      <td>8</td>\n",
              "      <td>2.72</td>\n",
              "      <td>2.4</td>\n",
              "      <td>1300.0</td>\n",
              "      <td>2019.0</td>\n",
              "      <td>113147523</td>\n",
              "      <td>NaN</td>\n",
              "      <td>False</td>\n",
              "      <td>Sachsen</td>\n",
              "      <td>True</td>\n",
              "      <td>9.0</td>\n",
              "      <td>965.0</td>\n",
              "      <td>4</td>\n",
              "      <td>83.80</td>\n",
              "      <td>Dresden</td>\n",
              "      <td>first_time_use</td>\n",
              "      <td>sophisticated</td>\n",
              "      <td>NaN</td>\n",
              "      <td>Turnerweg</td>\n",
              "      <td>Turnerweg</td>\n",
              "      <td>True</td>\n",
              "      <td>6</td>\n",
              "      <td>apartment</td>\n",
              "      <td>1097</td>\n",
              "      <td>3.0</td>\n",
              "      <td>NaN</td>\n",
              "      <td>3.0</td>\n",
              "      <td>4.0</td>\n",
              "      <td>3</td>\n",
              "      <td>False</td>\n",
              "      <td>4</td>\n",
              "      <td>Dresden</td>\n",
              "      <td>Äußere_Neustadt_Antonstadt</td>\n",
              "      <td>Der Neubau entsteht im Herzen der Dresdner Neu...</td>\n",
              "      <td>* 9 m² Balkon\\n* Bad mit bodengleicher Dusche,...</td>\n",
              "      <td>Oct19</td>\n",
              "    </tr>\n",
              "    <tr>\n",
              "      <th>3</th>\n",
              "      <td>Sachsen</td>\n",
              "      <td>58.15</td>\n",
              "      <td>district_heating</td>\n",
              "      <td>ONE_YEAR_FREE</td>\n",
              "      <td>False</td>\n",
              "      <td>True</td>\n",
              "      <td>9</td>\n",
              "      <td>1.53</td>\n",
              "      <td>40.0</td>\n",
              "      <td>NaN</td>\n",
              "      <td>1964.0</td>\n",
              "      <td>108890903</td>\n",
              "      <td>district_heating</td>\n",
              "      <td>False</td>\n",
              "      <td>Sachsen</td>\n",
              "      <td>False</td>\n",
              "      <td>2.0</td>\n",
              "      <td>343.0</td>\n",
              "      <td>35</td>\n",
              "      <td>58.15</td>\n",
              "      <td>Mittelsachsen_Kreis</td>\n",
              "      <td>NaN</td>\n",
              "      <td>NaN</td>\n",
              "      <td>NaN</td>\n",
              "      <td>Gl&amp;uuml;ck-Auf-Stra&amp;szlig;e</td>\n",
              "      <td>Glück-Auf-Straße</td>\n",
              "      <td>False</td>\n",
              "      <td>2</td>\n",
              "      <td>other</td>\n",
              "      <td>9599</td>\n",
              "      <td>3.0</td>\n",
              "      <td>86.0</td>\n",
              "      <td>3.0</td>\n",
              "      <td>NaN</td>\n",
              "      <td>3</td>\n",
              "      <td>False</td>\n",
              "      <td>2</td>\n",
              "      <td>Mittelsachsen_Kreis</td>\n",
              "      <td>Freiberg</td>\n",
              "      <td>Abseits von Lärm und Abgasen in Ihre neue Wohn...</td>\n",
              "      <td>NaN</td>\n",
              "      <td>May19</td>\n",
              "    </tr>\n",
              "    <tr>\n",
              "      <th>4</th>\n",
              "      <td>Bremen</td>\n",
              "      <td>138.00</td>\n",
              "      <td>self_contained_central_heating</td>\n",
              "      <td>NaN</td>\n",
              "      <td>False</td>\n",
              "      <td>True</td>\n",
              "      <td>19</td>\n",
              "      <td>2.46</td>\n",
              "      <td>NaN</td>\n",
              "      <td>903.0</td>\n",
              "      <td>1950.0</td>\n",
              "      <td>114751222</td>\n",
              "      <td>gas</td>\n",
              "      <td>False</td>\n",
              "      <td>Bremen</td>\n",
              "      <td>False</td>\n",
              "      <td>1.0</td>\n",
              "      <td>765.0</td>\n",
              "      <td>10</td>\n",
              "      <td>84.97</td>\n",
              "      <td>Bremen</td>\n",
              "      <td>refurbished</td>\n",
              "      <td>NaN</td>\n",
              "      <td>NaN</td>\n",
              "      <td>Hermann-Henrich-Meier-Allee</td>\n",
              "      <td>Hermann-Henrich-Meier-Allee</td>\n",
              "      <td>False</td>\n",
              "      <td>5</td>\n",
              "      <td>apartment</td>\n",
              "      <td>28213</td>\n",
              "      <td>3.0</td>\n",
              "      <td>188.9</td>\n",
              "      <td>1.0</td>\n",
              "      <td>NaN</td>\n",
              "      <td>3</td>\n",
              "      <td>False</td>\n",
              "      <td>4</td>\n",
              "      <td>Bremen</td>\n",
              "      <td>Neu_Schwachhausen</td>\n",
              "      <td>Es handelt sich hier um ein saniertes Mehrfami...</td>\n",
              "      <td>Diese Wohnung wurde neu saniert und ist wie fo...</td>\n",
              "      <td>Feb20</td>\n",
              "    </tr>\n",
              "  </tbody>\n",
              "</table>\n",
              "</div>"
            ],
            "text/plain": [
              "                regio1  serviceCharge                     heatingType  \\\n",
              "0  Nordrhein_Westfalen         245.00                 central_heating   \n",
              "1      Rheinland_Pfalz         134.00  self_contained_central_heating   \n",
              "2              Sachsen         255.00                   floor_heating   \n",
              "3              Sachsen          58.15                district_heating   \n",
              "4               Bremen         138.00  self_contained_central_heating   \n",
              "\n",
              "  telekomTvOffer  newlyConst  balcony  picturecount  pricetrend  \\\n",
              "0  ONE_YEAR_FREE       False    False             6        4.62   \n",
              "1  ONE_YEAR_FREE       False     True             8        3.47   \n",
              "2  ONE_YEAR_FREE        True     True             8        2.72   \n",
              "3  ONE_YEAR_FREE       False     True             9        1.53   \n",
              "4            NaN       False     True            19        2.46   \n",
              "\n",
              "   telekomUploadSpeed  totalRent  yearConstructed    scoutId  \\\n",
              "0                10.0      840.0           1965.0   96107057   \n",
              "1                10.0        NaN           1871.0  111378734   \n",
              "2                 2.4     1300.0           2019.0  113147523   \n",
              "3                40.0        NaN           1964.0  108890903   \n",
              "4                 NaN      903.0           1950.0  114751222   \n",
              "\n",
              "        firingTypes  hasKitchen              geo_bln  cellar  \\\n",
              "0               oil       False  Nordrhein_Westfalen    True   \n",
              "1               gas       False      Rheinland_Pfalz   False   \n",
              "2               NaN       False              Sachsen    True   \n",
              "3  district_heating       False              Sachsen   False   \n",
              "4               gas       False               Bremen   False   \n",
              "\n",
              "   yearConstructedRange  baseRent houseNumber  livingSpace  \\\n",
              "0                   2.0     595.0         244        86.00   \n",
              "1                   1.0     800.0         NaN        89.00   \n",
              "2                   9.0     965.0           4        83.80   \n",
              "3                   2.0     343.0          35        58.15   \n",
              "4                   1.0     765.0          10        84.97   \n",
              "\n",
              "               geo_krs       condition   interiorQual petsAllowed  \\\n",
              "0             Dortmund       well_kept         normal         NaN   \n",
              "1    Rhein_Pfalz_Kreis     refurbished         normal          no   \n",
              "2              Dresden  first_time_use  sophisticated         NaN   \n",
              "3  Mittelsachsen_Kreis             NaN            NaN         NaN   \n",
              "4               Bremen     refurbished            NaN         NaN   \n",
              "\n",
              "                        street                  streetPlain   lift  \\\n",
              "0   Sch&uuml;ruferstra&szlig;e              Schüruferstraße  False   \n",
              "1               no_information                          NaN  False   \n",
              "2                    Turnerweg                    Turnerweg   True   \n",
              "3  Gl&uuml;ck-Auf-Stra&szlig;e             Glück-Auf-Straße  False   \n",
              "4  Hermann-Henrich-Meier-Allee  Hermann-Henrich-Meier-Allee  False   \n",
              "\n",
              "   baseRentRange    typeOfFlat  geo_plz  noRooms  thermalChar  floor  \\\n",
              "0              4  ground_floor    44269      4.0        181.4    1.0   \n",
              "1              5  ground_floor    67459      3.0          NaN    NaN   \n",
              "2              6     apartment     1097      3.0          NaN    3.0   \n",
              "3              2         other     9599      3.0         86.0    3.0   \n",
              "4              5     apartment    28213      3.0        188.9    1.0   \n",
              "\n",
              "   numberOfFloors  noRoomsRange  garden  livingSpaceRange  \\\n",
              "0             3.0             4    True                 4   \n",
              "1             NaN             3   False                 4   \n",
              "2             4.0             3   False                 4   \n",
              "3             NaN             3   False                 2   \n",
              "4             NaN             3   False                 4   \n",
              "\n",
              "                regio2                      regio3  \\\n",
              "0             Dortmund                     Schüren   \n",
              "1    Rhein_Pfalz_Kreis              Böhl_Iggelheim   \n",
              "2              Dresden  Äußere_Neustadt_Antonstadt   \n",
              "3  Mittelsachsen_Kreis                    Freiberg   \n",
              "4               Bremen           Neu_Schwachhausen   \n",
              "\n",
              "                                         description  \\\n",
              "0  Die ebenerdig zu erreichende Erdgeschosswohnun...   \n",
              "1  Alles neu macht der Mai – so kann es auch für ...   \n",
              "2  Der Neubau entsteht im Herzen der Dresdner Neu...   \n",
              "3  Abseits von Lärm und Abgasen in Ihre neue Wohn...   \n",
              "4  Es handelt sich hier um ein saniertes Mehrfami...   \n",
              "\n",
              "                                          facilities   date  \n",
              "0  Die Wohnung ist mit Laminat ausgelegt. Das Bad...  May19  \n",
              "1                                                NaN  May19  \n",
              "2  * 9 m² Balkon\\n* Bad mit bodengleicher Dusche,...  Oct19  \n",
              "3                                                NaN  May19  \n",
              "4  Diese Wohnung wurde neu saniert und ist wie fo...  Feb20  "
            ]
          },
          "metadata": {
            "tags": []
          },
          "execution_count": 18
        }
      ]
    },
    {
      "cell_type": "code",
      "metadata": {
        "colab": {
          "base_uri": "https://localhost:8080/"
        },
        "id": "fWqAh8T3OHQj",
        "outputId": "b0962b38-ed8d-452e-b7be-d90319098366"
      },
      "source": [
        "df['date'].value_counts()\n"
      ],
      "execution_count": 19,
      "outputs": [
        {
          "output_type": "execute_result",
          "data": {
            "text/plain": [
              "Feb20    79213\n",
              "May19    75957\n",
              "Oct19    66594\n",
              "Sep18    46780\n",
              "Name: date, dtype: int64"
            ]
          },
          "metadata": {
            "tags": []
          },
          "execution_count": 19
        }
      ]
    },
    {
      "cell_type": "code",
      "metadata": {
        "id": "Xn0wsBqLOJgA"
      },
      "source": [
        "df = df.drop(columns=['facilities','description','livingSpaceRange','scoutId','street','streetPlain','houseNumber','date'])\n"
      ],
      "execution_count": 20,
      "outputs": []
    },
    {
      "cell_type": "code",
      "metadata": {
        "colab": {
          "base_uri": "https://localhost:8080/"
        },
        "id": "B8QhE21UOLjm",
        "outputId": "44453a30-3d59-4e35-dd5b-4d28e8b60bcc"
      },
      "source": [
        "df._get_numeric_data().mean()\n"
      ],
      "execution_count": 21,
      "outputs": [
        {
          "output_type": "execute_result",
          "data": {
            "text/plain": [
              "serviceCharge             151.227420\n",
              "newlyConst                  0.078795\n",
              "balcony                     0.616748\n",
              "picturecount                9.791271\n",
              "pricetrend                  3.390026\n",
              "telekomUploadSpeed         28.808085\n",
              "totalRent                 902.268665\n",
              "yearConstructed          1966.411388\n",
              "hasKitchen                  0.342603\n",
              "cellar                      0.640588\n",
              "yearConstructedRange        3.715457\n",
              "baseRent                  694.394653\n",
              "livingSpace                74.378458\n",
              "lift                        0.235697\n",
              "baseRentRange               3.766437\n",
              "geo_plz                 37287.142074\n",
              "noRooms                     2.641139\n",
              "thermalChar               114.725740\n",
              "floor                       2.122786\n",
              "numberOfFloors              3.574554\n",
              "noRoomsRange                2.571493\n",
              "garden                      0.196191\n",
              "dtype: float64"
            ]
          },
          "metadata": {
            "tags": []
          },
          "execution_count": 21
        }
      ]
    },
    {
      "cell_type": "code",
      "metadata": {
        "id": "kUAhd-PDONwt"
      },
      "source": [
        "df.fillna(df._get_numeric_data().mean(),inplace = True)\n"
      ],
      "execution_count": 22,
      "outputs": []
    },
    {
      "cell_type": "code",
      "metadata": {
        "colab": {
          "base_uri": "https://localhost:8080/"
        },
        "id": "Kg4x6qhDOPgV",
        "outputId": "681195cd-1c63-4583-a7d9-596262d79083"
      },
      "source": [
        "df.isna().sum()\n"
      ],
      "execution_count": 23,
      "outputs": [
        {
          "output_type": "execute_result",
          "data": {
            "text/plain": [
              "regio1                       0\n",
              "serviceCharge                0\n",
              "heatingType              44828\n",
              "telekomTvOffer           32580\n",
              "newlyConst                   0\n",
              "balcony                      0\n",
              "picturecount                 0\n",
              "pricetrend                   0\n",
              "telekomUploadSpeed           0\n",
              "totalRent                    0\n",
              "yearConstructed              0\n",
              "firingTypes              56915\n",
              "hasKitchen                   0\n",
              "geo_bln                      0\n",
              "cellar                       0\n",
              "yearConstructedRange         0\n",
              "baseRent                     0\n",
              "livingSpace                  0\n",
              "geo_krs                      0\n",
              "condition                68333\n",
              "interiorQual            112489\n",
              "petsAllowed             114400\n",
              "lift                         0\n",
              "baseRentRange                0\n",
              "typeOfFlat               36594\n",
              "geo_plz                      0\n",
              "noRooms                      0\n",
              "thermalChar                  0\n",
              "floor                        0\n",
              "numberOfFloors               0\n",
              "noRoomsRange                 0\n",
              "garden                       0\n",
              "regio2                       0\n",
              "regio3                       0\n",
              "dtype: int64"
            ]
          },
          "metadata": {
            "tags": []
          },
          "execution_count": 23
        }
      ]
    },
    {
      "cell_type": "code",
      "metadata": {
        "colab": {
          "base_uri": "https://localhost:8080/"
        },
        "id": "42n2F_SCOQ6i",
        "outputId": "41a7b273-598c-4084-bd46-5530a14d5c41"
      },
      "source": [
        "for cols in df.columns:\n",
        "    print(df[cols].dtype)\n"
      ],
      "execution_count": 24,
      "outputs": [
        {
          "output_type": "stream",
          "text": [
            "object\n",
            "float64\n",
            "object\n",
            "object\n",
            "bool\n",
            "bool\n",
            "int64\n",
            "float64\n",
            "float64\n",
            "float64\n",
            "float64\n",
            "object\n",
            "bool\n",
            "object\n",
            "bool\n",
            "float64\n",
            "float64\n",
            "float64\n",
            "object\n",
            "object\n",
            "object\n",
            "object\n",
            "bool\n",
            "int64\n",
            "object\n",
            "int64\n",
            "float64\n",
            "float64\n",
            "float64\n",
            "float64\n",
            "int64\n",
            "bool\n",
            "object\n",
            "object\n"
          ],
          "name": "stdout"
        }
      ]
    },
    {
      "cell_type": "code",
      "metadata": {
        "colab": {
          "base_uri": "https://localhost:8080/"
        },
        "id": "p2uvHkuROTpT",
        "outputId": "d352c596-2fac-4cf8-a33d-0f4c8dcce986"
      },
      "source": [
        "print('col mean : ' ,df['serviceCharge'].mean())\n",
        "print('col std : ' ,df['serviceCharge'].std())\n",
        "\n",
        "upper_range = df['serviceCharge'].mean() + 3 * df['serviceCharge'].std()\n",
        "print('upper range : ',upper_range)\n",
        "lower_range = df['serviceCharge'].mean() - 3 * df['serviceCharge'].std()\n",
        "print('lower range : ',lower_range)"
      ],
      "execution_count": 25,
      "outputs": [
        {
          "output_type": "stream",
          "text": [
            "col mean :  151.22741958044435\n",
            "col std :  304.46828396749567\n",
            "upper range :  1064.6322714829314\n",
            "lower range :  -762.1774323220427\n"
          ],
          "name": "stdout"
        }
      ]
    },
    {
      "cell_type": "code",
      "metadata": {
        "colab": {
          "base_uri": "https://localhost:8080/",
          "height": 438
        },
        "id": "1fogFTM8OWdW",
        "outputId": "39329663-3d53-4b36-b0c3-44d34614b8ee"
      },
      "source": [
        "df[(df['serviceCharge'] > upper_range) | (df['serviceCharge'] < lower_range)]\n"
      ],
      "execution_count": 26,
      "outputs": [
        {
          "output_type": "execute_result",
          "data": {
            "text/html": [
              "<div>\n",
              "<style scoped>\n",
              "    .dataframe tbody tr th:only-of-type {\n",
              "        vertical-align: middle;\n",
              "    }\n",
              "\n",
              "    .dataframe tbody tr th {\n",
              "        vertical-align: top;\n",
              "    }\n",
              "\n",
              "    .dataframe thead th {\n",
              "        text-align: right;\n",
              "    }\n",
              "</style>\n",
              "<table border=\"1\" class=\"dataframe\">\n",
              "  <thead>\n",
              "    <tr style=\"text-align: right;\">\n",
              "      <th></th>\n",
              "      <th>regio1</th>\n",
              "      <th>serviceCharge</th>\n",
              "      <th>heatingType</th>\n",
              "      <th>telekomTvOffer</th>\n",
              "      <th>newlyConst</th>\n",
              "      <th>balcony</th>\n",
              "      <th>picturecount</th>\n",
              "      <th>pricetrend</th>\n",
              "      <th>telekomUploadSpeed</th>\n",
              "      <th>totalRent</th>\n",
              "      <th>yearConstructed</th>\n",
              "      <th>firingTypes</th>\n",
              "      <th>hasKitchen</th>\n",
              "      <th>geo_bln</th>\n",
              "      <th>cellar</th>\n",
              "      <th>yearConstructedRange</th>\n",
              "      <th>baseRent</th>\n",
              "      <th>livingSpace</th>\n",
              "      <th>geo_krs</th>\n",
              "      <th>condition</th>\n",
              "      <th>interiorQual</th>\n",
              "      <th>petsAllowed</th>\n",
              "      <th>lift</th>\n",
              "      <th>baseRentRange</th>\n",
              "      <th>typeOfFlat</th>\n",
              "      <th>geo_plz</th>\n",
              "      <th>noRooms</th>\n",
              "      <th>thermalChar</th>\n",
              "      <th>floor</th>\n",
              "      <th>numberOfFloors</th>\n",
              "      <th>noRoomsRange</th>\n",
              "      <th>garden</th>\n",
              "      <th>regio2</th>\n",
              "      <th>regio3</th>\n",
              "    </tr>\n",
              "  </thead>\n",
              "  <tbody>\n",
              "    <tr>\n",
              "      <th>1311</th>\n",
              "      <td>Hessen</td>\n",
              "      <td>1150.0</td>\n",
              "      <td>central_heating</td>\n",
              "      <td>ONE_YEAR_FREE</td>\n",
              "      <td>False</td>\n",
              "      <td>False</td>\n",
              "      <td>8</td>\n",
              "      <td>4.07</td>\n",
              "      <td>40.000000</td>\n",
              "      <td>200.000000</td>\n",
              "      <td>1966.411388</td>\n",
              "      <td>natural_gas_light</td>\n",
              "      <td>False</td>\n",
              "      <td>Hessen</td>\n",
              "      <td>False</td>\n",
              "      <td>3.715457</td>\n",
              "      <td>950.00</td>\n",
              "      <td>120.00</td>\n",
              "      <td>Main_Taunus_Kreis</td>\n",
              "      <td>well_kept</td>\n",
              "      <td>normal</td>\n",
              "      <td>no</td>\n",
              "      <td>False</td>\n",
              "      <td>6</td>\n",
              "      <td>maisonette</td>\n",
              "      <td>65439</td>\n",
              "      <td>4.0</td>\n",
              "      <td>166.80000</td>\n",
              "      <td>2.122786</td>\n",
              "      <td>3.000000</td>\n",
              "      <td>4</td>\n",
              "      <td>False</td>\n",
              "      <td>Main_Taunus_Kreis</td>\n",
              "      <td>Flörsheim_am_Main</td>\n",
              "    </tr>\n",
              "    <tr>\n",
              "      <th>1648</th>\n",
              "      <td>Hessen</td>\n",
              "      <td>1200.0</td>\n",
              "      <td>central_heating</td>\n",
              "      <td>ONE_YEAR_FREE</td>\n",
              "      <td>True</td>\n",
              "      <td>True</td>\n",
              "      <td>3</td>\n",
              "      <td>5.10</td>\n",
              "      <td>40.000000</td>\n",
              "      <td>902.268665</td>\n",
              "      <td>2019.000000</td>\n",
              "      <td>gas</td>\n",
              "      <td>True</td>\n",
              "      <td>Hessen</td>\n",
              "      <td>True</td>\n",
              "      <td>9.000000</td>\n",
              "      <td>10000.00</td>\n",
              "      <td>440.00</td>\n",
              "      <td>Frankfurt_am_Main</td>\n",
              "      <td>first_time_use</td>\n",
              "      <td>luxury</td>\n",
              "      <td>negotiable</td>\n",
              "      <td>True</td>\n",
              "      <td>9</td>\n",
              "      <td>apartment</td>\n",
              "      <td>60487</td>\n",
              "      <td>8.5</td>\n",
              "      <td>114.72574</td>\n",
              "      <td>1.000000</td>\n",
              "      <td>4.000000</td>\n",
              "      <td>5</td>\n",
              "      <td>False</td>\n",
              "      <td>Frankfurt_am_Main</td>\n",
              "      <td>Bockenheim</td>\n",
              "    </tr>\n",
              "    <tr>\n",
              "      <th>4733</th>\n",
              "      <td>Berlin</td>\n",
              "      <td>1290.0</td>\n",
              "      <td>floor_heating</td>\n",
              "      <td>ONE_YEAR_FREE</td>\n",
              "      <td>False</td>\n",
              "      <td>True</td>\n",
              "      <td>22</td>\n",
              "      <td>5.91</td>\n",
              "      <td>40.000000</td>\n",
              "      <td>5705.000000</td>\n",
              "      <td>2011.000000</td>\n",
              "      <td>district_heating</td>\n",
              "      <td>True</td>\n",
              "      <td>Berlin</td>\n",
              "      <td>True</td>\n",
              "      <td>8.000000</td>\n",
              "      <td>4415.00</td>\n",
              "      <td>260.00</td>\n",
              "      <td>Berlin</td>\n",
              "      <td>mint_condition</td>\n",
              "      <td>NaN</td>\n",
              "      <td>NaN</td>\n",
              "      <td>True</td>\n",
              "      <td>9</td>\n",
              "      <td>other</td>\n",
              "      <td>10117</td>\n",
              "      <td>3.0</td>\n",
              "      <td>63.80000</td>\n",
              "      <td>2.122786</td>\n",
              "      <td>7.000000</td>\n",
              "      <td>3</td>\n",
              "      <td>False</td>\n",
              "      <td>Berlin</td>\n",
              "      <td>Mitte_Mitte</td>\n",
              "    </tr>\n",
              "    <tr>\n",
              "      <th>14123</th>\n",
              "      <td>Hessen</td>\n",
              "      <td>1400.0</td>\n",
              "      <td>self_contained_central_heating</td>\n",
              "      <td>ONE_YEAR_FREE</td>\n",
              "      <td>False</td>\n",
              "      <td>True</td>\n",
              "      <td>2</td>\n",
              "      <td>5.13</td>\n",
              "      <td>40.000000</td>\n",
              "      <td>13400.000000</td>\n",
              "      <td>1900.000000</td>\n",
              "      <td>gas</td>\n",
              "      <td>False</td>\n",
              "      <td>Hessen</td>\n",
              "      <td>False</td>\n",
              "      <td>1.000000</td>\n",
              "      <td>12000.00</td>\n",
              "      <td>600.00</td>\n",
              "      <td>Frankfurt_am_Main</td>\n",
              "      <td>negotiable</td>\n",
              "      <td>luxury</td>\n",
              "      <td>negotiable</td>\n",
              "      <td>True</td>\n",
              "      <td>9</td>\n",
              "      <td>maisonette</td>\n",
              "      <td>60322</td>\n",
              "      <td>15.0</td>\n",
              "      <td>114.72574</td>\n",
              "      <td>4.000000</td>\n",
              "      <td>5.000000</td>\n",
              "      <td>5</td>\n",
              "      <td>False</td>\n",
              "      <td>Frankfurt_am_Main</td>\n",
              "      <td>Westend_Nord</td>\n",
              "    </tr>\n",
              "    <tr>\n",
              "      <th>14591</th>\n",
              "      <td>Berlin</td>\n",
              "      <td>2150.0</td>\n",
              "      <td>central_heating</td>\n",
              "      <td>NaN</td>\n",
              "      <td>False</td>\n",
              "      <td>True</td>\n",
              "      <td>25</td>\n",
              "      <td>6.22</td>\n",
              "      <td>28.808085</td>\n",
              "      <td>6985.000000</td>\n",
              "      <td>2010.000000</td>\n",
              "      <td>NaN</td>\n",
              "      <td>True</td>\n",
              "      <td>Berlin</td>\n",
              "      <td>True</td>\n",
              "      <td>7.000000</td>\n",
              "      <td>4835.00</td>\n",
              "      <td>310.00</td>\n",
              "      <td>Berlin</td>\n",
              "      <td>mint_condition</td>\n",
              "      <td>NaN</td>\n",
              "      <td>NaN</td>\n",
              "      <td>True</td>\n",
              "      <td>9</td>\n",
              "      <td>apartment</td>\n",
              "      <td>10117</td>\n",
              "      <td>5.0</td>\n",
              "      <td>63.80000</td>\n",
              "      <td>0.000000</td>\n",
              "      <td>7.000000</td>\n",
              "      <td>5</td>\n",
              "      <td>False</td>\n",
              "      <td>Berlin</td>\n",
              "      <td>Mitte_Mitte</td>\n",
              "    </tr>\n",
              "    <tr>\n",
              "      <th>...</th>\n",
              "      <td>...</td>\n",
              "      <td>...</td>\n",
              "      <td>...</td>\n",
              "      <td>...</td>\n",
              "      <td>...</td>\n",
              "      <td>...</td>\n",
              "      <td>...</td>\n",
              "      <td>...</td>\n",
              "      <td>...</td>\n",
              "      <td>...</td>\n",
              "      <td>...</td>\n",
              "      <td>...</td>\n",
              "      <td>...</td>\n",
              "      <td>...</td>\n",
              "      <td>...</td>\n",
              "      <td>...</td>\n",
              "      <td>...</td>\n",
              "      <td>...</td>\n",
              "      <td>...</td>\n",
              "      <td>...</td>\n",
              "      <td>...</td>\n",
              "      <td>...</td>\n",
              "      <td>...</td>\n",
              "      <td>...</td>\n",
              "      <td>...</td>\n",
              "      <td>...</td>\n",
              "      <td>...</td>\n",
              "      <td>...</td>\n",
              "      <td>...</td>\n",
              "      <td>...</td>\n",
              "      <td>...</td>\n",
              "      <td>...</td>\n",
              "      <td>...</td>\n",
              "      <td>...</td>\n",
              "    </tr>\n",
              "    <tr>\n",
              "      <th>251364</th>\n",
              "      <td>Sachsen_Anhalt</td>\n",
              "      <td>6045.0</td>\n",
              "      <td>NaN</td>\n",
              "      <td>NaN</td>\n",
              "      <td>False</td>\n",
              "      <td>False</td>\n",
              "      <td>5</td>\n",
              "      <td>2.49</td>\n",
              "      <td>28.808085</td>\n",
              "      <td>6343.070000</td>\n",
              "      <td>1964.000000</td>\n",
              "      <td>NaN</td>\n",
              "      <td>False</td>\n",
              "      <td>Sachsen_Anhalt</td>\n",
              "      <td>False</td>\n",
              "      <td>2.000000</td>\n",
              "      <td>251.57</td>\n",
              "      <td>46.50</td>\n",
              "      <td>Magdeburg</td>\n",
              "      <td>NaN</td>\n",
              "      <td>NaN</td>\n",
              "      <td>NaN</td>\n",
              "      <td>False</td>\n",
              "      <td>1</td>\n",
              "      <td>NaN</td>\n",
              "      <td>39124</td>\n",
              "      <td>2.0</td>\n",
              "      <td>80.20000</td>\n",
              "      <td>1.000000</td>\n",
              "      <td>3.574554</td>\n",
              "      <td>2</td>\n",
              "      <td>False</td>\n",
              "      <td>Magdeburg</td>\n",
              "      <td>Neue_Neustadt</td>\n",
              "    </tr>\n",
              "    <tr>\n",
              "      <th>263502</th>\n",
              "      <td>Niedersachsen</td>\n",
              "      <td>9999.0</td>\n",
              "      <td>central_heating</td>\n",
              "      <td>NaN</td>\n",
              "      <td>False</td>\n",
              "      <td>True</td>\n",
              "      <td>13</td>\n",
              "      <td>4.27</td>\n",
              "      <td>28.808085</td>\n",
              "      <td>902.268665</td>\n",
              "      <td>1989.000000</td>\n",
              "      <td>gas</td>\n",
              "      <td>True</td>\n",
              "      <td>Niedersachsen</td>\n",
              "      <td>True</td>\n",
              "      <td>4.000000</td>\n",
              "      <td>9999.00</td>\n",
              "      <td>97.60</td>\n",
              "      <td>Hannover_Kreis</td>\n",
              "      <td>fully_renovated</td>\n",
              "      <td>NaN</td>\n",
              "      <td>NaN</td>\n",
              "      <td>False</td>\n",
              "      <td>9</td>\n",
              "      <td>terraced_flat</td>\n",
              "      <td>30966</td>\n",
              "      <td>3.0</td>\n",
              "      <td>100.00000</td>\n",
              "      <td>0.000000</td>\n",
              "      <td>2.000000</td>\n",
              "      <td>3</td>\n",
              "      <td>True</td>\n",
              "      <td>Hannover_Kreis</td>\n",
              "      <td>Hemmingen</td>\n",
              "    </tr>\n",
              "    <tr>\n",
              "      <th>265489</th>\n",
              "      <td>Nordrhein_Westfalen</td>\n",
              "      <td>1350.0</td>\n",
              "      <td>central_heating</td>\n",
              "      <td>NaN</td>\n",
              "      <td>False</td>\n",
              "      <td>False</td>\n",
              "      <td>10</td>\n",
              "      <td>4.84</td>\n",
              "      <td>28.808085</td>\n",
              "      <td>902.268665</td>\n",
              "      <td>2017.000000</td>\n",
              "      <td>district_heating</td>\n",
              "      <td>False</td>\n",
              "      <td>Nordrhein_Westfalen</td>\n",
              "      <td>True</td>\n",
              "      <td>9.000000</td>\n",
              "      <td>4995.00</td>\n",
              "      <td>243.42</td>\n",
              "      <td>Köln</td>\n",
              "      <td>mint_condition</td>\n",
              "      <td>luxury</td>\n",
              "      <td>no</td>\n",
              "      <td>True</td>\n",
              "      <td>9</td>\n",
              "      <td>apartment</td>\n",
              "      <td>50670</td>\n",
              "      <td>3.0</td>\n",
              "      <td>54.00000</td>\n",
              "      <td>1.000000</td>\n",
              "      <td>14.000000</td>\n",
              "      <td>3</td>\n",
              "      <td>False</td>\n",
              "      <td>Köln</td>\n",
              "      <td>Altstadt_&amp;_Neustadt_Nord</td>\n",
              "    </tr>\n",
              "    <tr>\n",
              "      <th>266809</th>\n",
              "      <td>Berlin</td>\n",
              "      <td>2100.0</td>\n",
              "      <td>gas_heating</td>\n",
              "      <td>ONE_YEAR_FREE</td>\n",
              "      <td>False</td>\n",
              "      <td>True</td>\n",
              "      <td>25</td>\n",
              "      <td>6.15</td>\n",
              "      <td>10.000000</td>\n",
              "      <td>11100.000000</td>\n",
              "      <td>1920.000000</td>\n",
              "      <td>gas</td>\n",
              "      <td>True</td>\n",
              "      <td>Berlin</td>\n",
              "      <td>True</td>\n",
              "      <td>1.000000</td>\n",
              "      <td>9000.00</td>\n",
              "      <td>520.00</td>\n",
              "      <td>Berlin</td>\n",
              "      <td>refurbished</td>\n",
              "      <td>sophisticated</td>\n",
              "      <td>negotiable</td>\n",
              "      <td>False</td>\n",
              "      <td>9</td>\n",
              "      <td>maisonette</td>\n",
              "      <td>14109</td>\n",
              "      <td>11.0</td>\n",
              "      <td>253.00000</td>\n",
              "      <td>2.122786</td>\n",
              "      <td>3.574554</td>\n",
              "      <td>5</td>\n",
              "      <td>True</td>\n",
              "      <td>Berlin</td>\n",
              "      <td>Wannsee_Zehlendorf</td>\n",
              "    </tr>\n",
              "    <tr>\n",
              "      <th>268606</th>\n",
              "      <td>Hessen</td>\n",
              "      <td>1100.0</td>\n",
              "      <td>NaN</td>\n",
              "      <td>ONE_YEAR_FREE</td>\n",
              "      <td>True</td>\n",
              "      <td>True</td>\n",
              "      <td>6</td>\n",
              "      <td>4.38</td>\n",
              "      <td>10.000000</td>\n",
              "      <td>5700.000000</td>\n",
              "      <td>2019.000000</td>\n",
              "      <td>NaN</td>\n",
              "      <td>True</td>\n",
              "      <td>Hessen</td>\n",
              "      <td>True</td>\n",
              "      <td>9.000000</td>\n",
              "      <td>4600.00</td>\n",
              "      <td>153.00</td>\n",
              "      <td>Frankfurt_am_Main</td>\n",
              "      <td>first_time_use</td>\n",
              "      <td>luxury</td>\n",
              "      <td>negotiable</td>\n",
              "      <td>True</td>\n",
              "      <td>9</td>\n",
              "      <td>apartment</td>\n",
              "      <td>60323</td>\n",
              "      <td>3.0</td>\n",
              "      <td>114.72574</td>\n",
              "      <td>6.000000</td>\n",
              "      <td>13.000000</td>\n",
              "      <td>3</td>\n",
              "      <td>False</td>\n",
              "      <td>Frankfurt_am_Main</td>\n",
              "      <td>Westend_Süd</td>\n",
              "    </tr>\n",
              "  </tbody>\n",
              "</table>\n",
              "<p>98 rows × 34 columns</p>\n",
              "</div>"
            ],
            "text/plain": [
              "                     regio1  serviceCharge                     heatingType  \\\n",
              "1311                 Hessen         1150.0                 central_heating   \n",
              "1648                 Hessen         1200.0                 central_heating   \n",
              "4733                 Berlin         1290.0                   floor_heating   \n",
              "14123                Hessen         1400.0  self_contained_central_heating   \n",
              "14591                Berlin         2150.0                 central_heating   \n",
              "...                     ...            ...                             ...   \n",
              "251364       Sachsen_Anhalt         6045.0                             NaN   \n",
              "263502        Niedersachsen         9999.0                 central_heating   \n",
              "265489  Nordrhein_Westfalen         1350.0                 central_heating   \n",
              "266809               Berlin         2100.0                     gas_heating   \n",
              "268606               Hessen         1100.0                             NaN   \n",
              "\n",
              "       telekomTvOffer  newlyConst  balcony  picturecount  pricetrend  \\\n",
              "1311    ONE_YEAR_FREE       False    False             8        4.07   \n",
              "1648    ONE_YEAR_FREE        True     True             3        5.10   \n",
              "4733    ONE_YEAR_FREE       False     True            22        5.91   \n",
              "14123   ONE_YEAR_FREE       False     True             2        5.13   \n",
              "14591             NaN       False     True            25        6.22   \n",
              "...               ...         ...      ...           ...         ...   \n",
              "251364            NaN       False    False             5        2.49   \n",
              "263502            NaN       False     True            13        4.27   \n",
              "265489            NaN       False    False            10        4.84   \n",
              "266809  ONE_YEAR_FREE       False     True            25        6.15   \n",
              "268606  ONE_YEAR_FREE        True     True             6        4.38   \n",
              "\n",
              "        telekomUploadSpeed     totalRent  yearConstructed        firingTypes  \\\n",
              "1311             40.000000    200.000000      1966.411388  natural_gas_light   \n",
              "1648             40.000000    902.268665      2019.000000                gas   \n",
              "4733             40.000000   5705.000000      2011.000000   district_heating   \n",
              "14123            40.000000  13400.000000      1900.000000                gas   \n",
              "14591            28.808085   6985.000000      2010.000000                NaN   \n",
              "...                    ...           ...              ...                ...   \n",
              "251364           28.808085   6343.070000      1964.000000                NaN   \n",
              "263502           28.808085    902.268665      1989.000000                gas   \n",
              "265489           28.808085    902.268665      2017.000000   district_heating   \n",
              "266809           10.000000  11100.000000      1920.000000                gas   \n",
              "268606           10.000000   5700.000000      2019.000000                NaN   \n",
              "\n",
              "        hasKitchen              geo_bln  cellar  yearConstructedRange  \\\n",
              "1311         False               Hessen   False              3.715457   \n",
              "1648          True               Hessen    True              9.000000   \n",
              "4733          True               Berlin    True              8.000000   \n",
              "14123        False               Hessen   False              1.000000   \n",
              "14591         True               Berlin    True              7.000000   \n",
              "...            ...                  ...     ...                   ...   \n",
              "251364       False       Sachsen_Anhalt   False              2.000000   \n",
              "263502        True        Niedersachsen    True              4.000000   \n",
              "265489       False  Nordrhein_Westfalen    True              9.000000   \n",
              "266809        True               Berlin    True              1.000000   \n",
              "268606        True               Hessen    True              9.000000   \n",
              "\n",
              "        baseRent  livingSpace            geo_krs        condition  \\\n",
              "1311      950.00       120.00  Main_Taunus_Kreis        well_kept   \n",
              "1648    10000.00       440.00  Frankfurt_am_Main   first_time_use   \n",
              "4733     4415.00       260.00             Berlin   mint_condition   \n",
              "14123   12000.00       600.00  Frankfurt_am_Main       negotiable   \n",
              "14591    4835.00       310.00             Berlin   mint_condition   \n",
              "...          ...          ...                ...              ...   \n",
              "251364    251.57        46.50          Magdeburg              NaN   \n",
              "263502   9999.00        97.60     Hannover_Kreis  fully_renovated   \n",
              "265489   4995.00       243.42               Köln   mint_condition   \n",
              "266809   9000.00       520.00             Berlin      refurbished   \n",
              "268606   4600.00       153.00  Frankfurt_am_Main   first_time_use   \n",
              "\n",
              "         interiorQual petsAllowed   lift  baseRentRange     typeOfFlat  \\\n",
              "1311           normal          no  False              6     maisonette   \n",
              "1648           luxury  negotiable   True              9      apartment   \n",
              "4733              NaN         NaN   True              9          other   \n",
              "14123          luxury  negotiable   True              9     maisonette   \n",
              "14591             NaN         NaN   True              9      apartment   \n",
              "...               ...         ...    ...            ...            ...   \n",
              "251364            NaN         NaN  False              1            NaN   \n",
              "263502            NaN         NaN  False              9  terraced_flat   \n",
              "265489         luxury          no   True              9      apartment   \n",
              "266809  sophisticated  negotiable  False              9     maisonette   \n",
              "268606         luxury  negotiable   True              9      apartment   \n",
              "\n",
              "        geo_plz  noRooms  thermalChar     floor  numberOfFloors  noRoomsRange  \\\n",
              "1311      65439      4.0    166.80000  2.122786        3.000000             4   \n",
              "1648      60487      8.5    114.72574  1.000000        4.000000             5   \n",
              "4733      10117      3.0     63.80000  2.122786        7.000000             3   \n",
              "14123     60322     15.0    114.72574  4.000000        5.000000             5   \n",
              "14591     10117      5.0     63.80000  0.000000        7.000000             5   \n",
              "...         ...      ...          ...       ...             ...           ...   \n",
              "251364    39124      2.0     80.20000  1.000000        3.574554             2   \n",
              "263502    30966      3.0    100.00000  0.000000        2.000000             3   \n",
              "265489    50670      3.0     54.00000  1.000000       14.000000             3   \n",
              "266809    14109     11.0    253.00000  2.122786        3.574554             5   \n",
              "268606    60323      3.0    114.72574  6.000000       13.000000             3   \n",
              "\n",
              "        garden             regio2                    regio3  \n",
              "1311     False  Main_Taunus_Kreis         Flörsheim_am_Main  \n",
              "1648     False  Frankfurt_am_Main                Bockenheim  \n",
              "4733     False             Berlin               Mitte_Mitte  \n",
              "14123    False  Frankfurt_am_Main              Westend_Nord  \n",
              "14591    False             Berlin               Mitte_Mitte  \n",
              "...        ...                ...                       ...  \n",
              "251364   False          Magdeburg             Neue_Neustadt  \n",
              "263502    True     Hannover_Kreis                 Hemmingen  \n",
              "265489   False               Köln  Altstadt_&_Neustadt_Nord  \n",
              "266809    True             Berlin        Wannsee_Zehlendorf  \n",
              "268606   False  Frankfurt_am_Main               Westend_Süd  \n",
              "\n",
              "[98 rows x 34 columns]"
            ]
          },
          "metadata": {
            "tags": []
          },
          "execution_count": 26
        }
      ]
    },
    {
      "cell_type": "code",
      "metadata": {
        "id": "XTGWHXvcOXu0"
      },
      "source": [
        "for cols in df.columns:\n",
        "    if df[cols].dtype == 'int64' or df[cols].dtype == 'float64':\n",
        "        upper_range = df[cols].mean() + 3 * df[cols].std()\n",
        "        lower_range = df[cols].mean() - 3 * df[cols].std()\n",
        "        \n",
        "        indexs = df[(df[cols] > upper_range) | (df[cols] < lower_range)].index\n",
        "        df = df.drop(indexs)"
      ],
      "execution_count": 27,
      "outputs": []
    },
    {
      "cell_type": "code",
      "metadata": {
        "colab": {
          "base_uri": "https://localhost:8080/"
        },
        "id": "DRQv5F2nOZu5",
        "outputId": "551c2f92-40ab-46db-a99d-a2deda592729"
      },
      "source": [
        "for cols in df.columns:\n",
        "    if df[cols].dtype == 'object' or df[cols].dtype == 'bool':\n",
        "        print('column : ',cols)\n",
        "        print(df[cols].value_counts().head(1))"
      ],
      "execution_count": 28,
      "outputs": [
        {
          "output_type": "stream",
          "text": [
            "column :  regio1\n",
            "Nordrhein_Westfalen    60590\n",
            "Name: regio1, dtype: int64\n",
            "column :  heatingType\n",
            "central_heating    123962\n",
            "Name: heatingType, dtype: int64\n",
            "column :  telekomTvOffer\n",
            "ONE_YEAR_FREE    218571\n",
            "Name: telekomTvOffer, dtype: int64\n",
            "column :  newlyConst\n",
            "False    237876\n",
            "Name: newlyConst, dtype: int64\n",
            "column :  balcony\n",
            "True    159377\n",
            "Name: balcony, dtype: int64\n",
            "column :  firingTypes\n",
            "gas    106460\n",
            "Name: firingTypes, dtype: int64\n",
            "column :  hasKitchen\n",
            "False    170970\n",
            "Name: hasKitchen, dtype: int64\n",
            "column :  geo_bln\n",
            "Nordrhein_Westfalen    60590\n",
            "Name: geo_bln, dtype: int64\n",
            "column :  cellar\n",
            "True    166012\n",
            "Name: cellar, dtype: int64\n",
            "column :  geo_krs\n",
            "Leipzig    13411\n",
            "Name: geo_krs, dtype: int64\n",
            "column :  condition\n",
            "well_kept    64421\n",
            "Name: condition, dtype: int64\n",
            "column :  interiorQual\n",
            "normal    79371\n",
            "Name: interiorQual, dtype: int64\n",
            "column :  petsAllowed\n",
            "negotiable    88192\n",
            "Name: petsAllowed, dtype: int64\n",
            "column :  lift\n",
            "False    198064\n",
            "Name: lift, dtype: int64\n",
            "column :  typeOfFlat\n",
            "apartment    126139\n",
            "Name: typeOfFlat, dtype: int64\n",
            "column :  garden\n",
            "False    207870\n",
            "Name: garden, dtype: int64\n",
            "column :  regio2\n",
            "Leipzig    13411\n",
            "Name: regio2, dtype: int64\n",
            "column :  regio3\n",
            "Innenstadt    4567\n",
            "Name: regio3, dtype: int64\n"
          ],
          "name": "stdout"
        }
      ]
    },
    {
      "cell_type": "code",
      "metadata": {
        "colab": {
          "base_uri": "https://localhost:8080/"
        },
        "id": "h0tCo94oOb3f",
        "outputId": "b49f85d9-507a-41af-dd84-65db047ab96a"
      },
      "source": [
        "for cols in df.columns:\n",
        "    if df[cols].dtype == 'object' or df[cols].dtype == 'bool':\n",
        "        print(df[cols].value_counts().head(1).index[0])"
      ],
      "execution_count": 29,
      "outputs": [
        {
          "output_type": "stream",
          "text": [
            "Nordrhein_Westfalen\n",
            "central_heating\n",
            "ONE_YEAR_FREE\n",
            "False\n",
            "True\n",
            "gas\n",
            "False\n",
            "Nordrhein_Westfalen\n",
            "True\n",
            "Leipzig\n",
            "well_kept\n",
            "normal\n",
            "negotiable\n",
            "False\n",
            "apartment\n",
            "False\n",
            "Leipzig\n",
            "Innenstadt\n"
          ],
          "name": "stdout"
        }
      ]
    },
    {
      "cell_type": "code",
      "metadata": {
        "colab": {
          "base_uri": "https://localhost:8080/"
        },
        "id": "lAWDm4kROeTI",
        "outputId": "58429dd9-368c-4d9f-b358-5b5d36db5247"
      },
      "source": [
        "for cols in df.columns:\n",
        "    if df[cols].dtype == 'object' or df[cols].dtype == 'bool':\n",
        "        print('cols : {} , value : {}'.format(cols , df[cols].value_counts().head(1).index[0]))\n",
        "        df[cols].fillna(df[cols].value_counts().head(1).index[0],inplace = True)"
      ],
      "execution_count": 30,
      "outputs": [
        {
          "output_type": "stream",
          "text": [
            "cols : regio1 , value : Nordrhein_Westfalen\n",
            "cols : heatingType , value : central_heating\n",
            "cols : telekomTvOffer , value : ONE_YEAR_FREE\n",
            "cols : newlyConst , value : False\n",
            "cols : balcony , value : True\n",
            "cols : firingTypes , value : gas\n",
            "cols : hasKitchen , value : False\n",
            "cols : geo_bln , value : Nordrhein_Westfalen\n",
            "cols : cellar , value : True\n",
            "cols : geo_krs , value : Leipzig\n",
            "cols : condition , value : well_kept\n",
            "cols : interiorQual , value : normal\n",
            "cols : petsAllowed , value : negotiable\n",
            "cols : lift , value : False\n",
            "cols : typeOfFlat , value : apartment\n",
            "cols : garden , value : False\n",
            "cols : regio2 , value : Leipzig\n",
            "cols : regio3 , value : Innenstadt\n"
          ],
          "name": "stdout"
        }
      ]
    },
    {
      "cell_type": "code",
      "metadata": {
        "colab": {
          "base_uri": "https://localhost:8080/"
        },
        "id": "sYaizihHOf--",
        "outputId": "878ff824-2c86-4501-df2c-fc3df867b11d"
      },
      "source": [
        "df.isna().sum()\n"
      ],
      "execution_count": 31,
      "outputs": [
        {
          "output_type": "execute_result",
          "data": {
            "text/plain": [
              "regio1                  0\n",
              "serviceCharge           0\n",
              "heatingType             0\n",
              "telekomTvOffer          0\n",
              "newlyConst              0\n",
              "balcony                 0\n",
              "picturecount            0\n",
              "pricetrend              0\n",
              "telekomUploadSpeed      0\n",
              "totalRent               0\n",
              "yearConstructed         0\n",
              "firingTypes             0\n",
              "hasKitchen              0\n",
              "geo_bln                 0\n",
              "cellar                  0\n",
              "yearConstructedRange    0\n",
              "baseRent                0\n",
              "livingSpace             0\n",
              "geo_krs                 0\n",
              "condition               0\n",
              "interiorQual            0\n",
              "petsAllowed             0\n",
              "lift                    0\n",
              "baseRentRange           0\n",
              "typeOfFlat              0\n",
              "geo_plz                 0\n",
              "noRooms                 0\n",
              "thermalChar             0\n",
              "floor                   0\n",
              "numberOfFloors          0\n",
              "noRoomsRange            0\n",
              "garden                  0\n",
              "regio2                  0\n",
              "regio3                  0\n",
              "dtype: int64"
            ]
          },
          "metadata": {
            "tags": []
          },
          "execution_count": 31
        }
      ]
    },
    {
      "cell_type": "code",
      "metadata": {
        "colab": {
          "base_uri": "https://localhost:8080/"
        },
        "id": "d6cw1qVgOhzM",
        "outputId": "b214c965-5209-4d9d-d043-b612dfa425b5"
      },
      "source": [
        "for cols in df.columns:\n",
        "    if df[cols].dtype == 'object' or df[cols].dtype == 'bool':\n",
        "        print('cols : {} , unique values : {}'.format(cols,df[cols].nunique()))"
      ],
      "execution_count": 32,
      "outputs": [
        {
          "output_type": "stream",
          "text": [
            "cols : regio1 , unique values : 16\n",
            "cols : heatingType , unique values : 13\n",
            "cols : telekomTvOffer , unique values : 3\n",
            "cols : newlyConst , unique values : 2\n",
            "cols : balcony , unique values : 2\n",
            "cols : firingTypes , unique values : 130\n",
            "cols : hasKitchen , unique values : 2\n",
            "cols : geo_bln , unique values : 16\n",
            "cols : cellar , unique values : 2\n",
            "cols : geo_krs , unique values : 419\n",
            "cols : condition , unique values : 10\n",
            "cols : interiorQual , unique values : 4\n",
            "cols : petsAllowed , unique values : 3\n",
            "cols : lift , unique values : 2\n",
            "cols : typeOfFlat , unique values : 10\n",
            "cols : garden , unique values : 2\n",
            "cols : regio2 , unique values : 419\n",
            "cols : regio3 , unique values : 8593\n"
          ],
          "name": "stdout"
        }
      ]
    },
    {
      "cell_type": "code",
      "metadata": {
        "colab": {
          "base_uri": "https://localhost:8080/"
        },
        "id": "53njTUkGOj_m",
        "outputId": "a01a04a9-d406-41c1-9cbe-e73a1ac2faf2"
      },
      "source": [
        "df = df.drop(columns=['firingTypes','geo_krs','regio2','regio3','geo_bln'])\n",
        "df.shape"
      ],
      "execution_count": 33,
      "outputs": [
        {
          "output_type": "execute_result",
          "data": {
            "text/plain": [
              "(258253, 29)"
            ]
          },
          "metadata": {
            "tags": []
          },
          "execution_count": 33
        }
      ]
    },
    {
      "cell_type": "code",
      "metadata": {
        "colab": {
          "base_uri": "https://localhost:8080/"
        },
        "id": "qZLU_id3Ol8h",
        "outputId": "1cae25e2-27df-4be2-81df-abf4eeca031e"
      },
      "source": [
        "df['regio1'].value_counts()*100/len(df)\n"
      ],
      "execution_count": 34,
      "outputs": [
        {
          "output_type": "execute_result",
          "data": {
            "text/plain": [
              "Nordrhein_Westfalen       23.461489\n",
              "Sachsen                   21.993162\n",
              "Bayern                     8.026238\n",
              "Sachsen_Anhalt             7.645216\n",
              "Hessen                     6.620252\n",
              "Niedersachsen              6.198186\n",
              "Baden_Württemberg          5.992960\n",
              "Thüringen                  3.186410\n",
              "Rheinland_Pfalz            3.139944\n",
              "Berlin                     3.075279\n",
              "Brandenburg                2.612554\n",
              "Mecklenburg_Vorpommern     2.509942\n",
              "Schleswig_Holstein         2.488258\n",
              "Hamburg                    1.397467\n",
              "Bremen                     1.121768\n",
              "Saarland                   0.530875\n",
              "Name: regio1, dtype: float64"
            ]
          },
          "metadata": {
            "tags": []
          },
          "execution_count": 34
        }
      ]
    },
    {
      "cell_type": "code",
      "metadata": {
        "id": "v77VO7VdOoje"
      },
      "source": [
        "def edit_regio1(x):\n",
        "    if x in ['Hamburg','Bremen','Saarland']:\n",
        "        return 'other'\n",
        "    else:\n",
        "        return x\n",
        "    \n",
        "df['regio1_edit'] = df['regio1'].apply(edit_regio1)\n",
        "df = df.drop(columns = ['regio1'])\n"
      ],
      "execution_count": 35,
      "outputs": []
    },
    {
      "cell_type": "code",
      "metadata": {
        "colab": {
          "base_uri": "https://localhost:8080/"
        },
        "id": "KU0Ina3dOqoY",
        "outputId": "1147f526-c73c-4bbf-9b36-f0dd7de2f233"
      },
      "source": [
        "df['regio1_edit'].value_counts()*100/len(df)\n"
      ],
      "execution_count": 36,
      "outputs": [
        {
          "output_type": "execute_result",
          "data": {
            "text/plain": [
              "Nordrhein_Westfalen       23.461489\n",
              "Sachsen                   21.993162\n",
              "Bayern                     8.026238\n",
              "Sachsen_Anhalt             7.645216\n",
              "Hessen                     6.620252\n",
              "Niedersachsen              6.198186\n",
              "Baden_Württemberg          5.992960\n",
              "Thüringen                  3.186410\n",
              "Rheinland_Pfalz            3.139944\n",
              "Berlin                     3.075279\n",
              "other                      3.050110\n",
              "Brandenburg                2.612554\n",
              "Mecklenburg_Vorpommern     2.509942\n",
              "Schleswig_Holstein         2.488258\n",
              "Name: regio1_edit, dtype: float64"
            ]
          },
          "metadata": {
            "tags": []
          },
          "execution_count": 36
        }
      ]
    },
    {
      "cell_type": "code",
      "metadata": {
        "colab": {
          "base_uri": "https://localhost:8080/"
        },
        "id": "UHOTLHRIOsIK",
        "outputId": "c87a82e6-0a65-496d-b5b5-c59d15381b8a"
      },
      "source": [
        "df['heatingType'].value_counts()*100 / len(df)\n"
      ],
      "execution_count": 37,
      "outputs": [
        {
          "output_type": "execute_result",
          "data": {
            "text/plain": [
              "central_heating                   64.857717\n",
              "district_heating                   9.245198\n",
              "gas_heating                        7.442702\n",
              "self_contained_central_heating     6.910278\n",
              "floor_heating                      6.536613\n",
              "oil_heating                        1.870646\n",
              "heat_pump                          1.030385\n",
              "combined_heat_and_power_plant      0.739585\n",
              "night_storage_heater               0.496800\n",
              "wood_pellet_heating                0.357401\n",
              "electric_heating                   0.333394\n",
              "stove_heating                      0.117714\n",
              "solar_heating                      0.061568\n",
              "Name: heatingType, dtype: float64"
            ]
          },
          "metadata": {
            "tags": []
          },
          "execution_count": 37
        }
      ]
    },
    {
      "cell_type": "code",
      "metadata": {
        "colab": {
          "base_uri": "https://localhost:8080/"
        },
        "id": "oAk9cWwuOuGh",
        "outputId": "1a63119a-f1b9-4499-c43a-10324d26d36c"
      },
      "source": [
        "list(df['heatingType'].value_counts().tail(8).index)\n"
      ],
      "execution_count": 38,
      "outputs": [
        {
          "output_type": "execute_result",
          "data": {
            "text/plain": [
              "['oil_heating',\n",
              " 'heat_pump',\n",
              " 'combined_heat_and_power_plant',\n",
              " 'night_storage_heater',\n",
              " 'wood_pellet_heating',\n",
              " 'electric_heating',\n",
              " 'stove_heating',\n",
              " 'solar_heating']"
            ]
          },
          "metadata": {
            "tags": []
          },
          "execution_count": 38
        }
      ]
    },
    {
      "cell_type": "code",
      "metadata": {
        "colab": {
          "base_uri": "https://localhost:8080/"
        },
        "id": "s7rP6CqXOvfo",
        "outputId": "00e42022-a81d-4286-d3a3-3cd23e5506b1"
      },
      "source": [
        "others = list(df['heatingType'].value_counts().tail(8).index)\n",
        "def edit_heating(x):\n",
        "    if x in others:\n",
        "        return 'other'\n",
        "    else:\n",
        "        return x\n",
        "\n",
        "df['heatingType_edit'] = df['heatingType'].apply(edit_heating)\n",
        "df = df.drop(columns = ['heatingType'])\n",
        "df['heatingType_edit'].value_counts()*100 / len(df)"
      ],
      "execution_count": 39,
      "outputs": [
        {
          "output_type": "execute_result",
          "data": {
            "text/plain": [
              "central_heating                   64.857717\n",
              "district_heating                   9.245198\n",
              "gas_heating                        7.442702\n",
              "self_contained_central_heating     6.910278\n",
              "floor_heating                      6.536613\n",
              "other                              5.007493\n",
              "Name: heatingType_edit, dtype: float64"
            ]
          },
          "metadata": {
            "tags": []
          },
          "execution_count": 39
        }
      ]
    },
    {
      "cell_type": "code",
      "metadata": {
        "colab": {
          "base_uri": "https://localhost:8080/"
        },
        "id": "NdhfItu1OxV8",
        "outputId": "5622255c-15ba-450e-a32a-156432fcc45b"
      },
      "source": [
        "df['condition'].value_counts()\n"
      ],
      "execution_count": 40,
      "outputs": [
        {
          "output_type": "execute_result",
          "data": {
            "text/plain": [
              "well_kept                             130308\n",
              "refurbished                            26022\n",
              "fully_renovated                        25332\n",
              "first_time_use                         21037\n",
              "mint_condition                         20837\n",
              "modernized                             16463\n",
              "first_time_use_after_refurbishment     14775\n",
              "negotiable                              2170\n",
              "need_of_renovation                      1305\n",
              "ripe_for_demolition                        4\n",
              "Name: condition, dtype: int64"
            ]
          },
          "metadata": {
            "tags": []
          },
          "execution_count": 40
        }
      ]
    },
    {
      "cell_type": "code",
      "metadata": {
        "colab": {
          "base_uri": "https://localhost:8080/"
        },
        "id": "0tJuPnmiOywo",
        "outputId": "0f506ba8-ccfb-491f-d08d-b0f6c19db8b0"
      },
      "source": [
        "list(df['condition'].value_counts().tail(4).index)\n"
      ],
      "execution_count": 41,
      "outputs": [
        {
          "output_type": "execute_result",
          "data": {
            "text/plain": [
              "['first_time_use_after_refurbishment',\n",
              " 'negotiable',\n",
              " 'need_of_renovation',\n",
              " 'ripe_for_demolition']"
            ]
          },
          "metadata": {
            "tags": []
          },
          "execution_count": 41
        }
      ]
    },
    {
      "cell_type": "code",
      "metadata": {
        "colab": {
          "base_uri": "https://localhost:8080/"
        },
        "id": "gCabqZn_O0QE",
        "outputId": "7feeb137-66bd-4181-e799-959f8dc9fd1f"
      },
      "source": [
        "others = list(df['condition'].value_counts().tail(4).index)\n",
        "\n",
        "def edit_condition(x):\n",
        "    if x in others:\n",
        "        return 'other'\n",
        "    else:\n",
        "        return x\n",
        "    \n",
        "df['condition_edit'] = df['condition'].apply(edit_condition)\n",
        "df = df.drop(columns=['condition'])\n",
        "df['condition_edit'].value_counts()"
      ],
      "execution_count": 42,
      "outputs": [
        {
          "output_type": "execute_result",
          "data": {
            "text/plain": [
              "well_kept          130308\n",
              "refurbished         26022\n",
              "fully_renovated     25332\n",
              "first_time_use      21037\n",
              "mint_condition      20837\n",
              "other               18254\n",
              "modernized          16463\n",
              "Name: condition_edit, dtype: int64"
            ]
          },
          "metadata": {
            "tags": []
          },
          "execution_count": 42
        }
      ]
    },
    {
      "cell_type": "code",
      "metadata": {
        "colab": {
          "base_uri": "https://localhost:8080/"
        },
        "id": "Szi0IlemO1tT",
        "outputId": "754d4203-9ab6-4697-92a1-330abcb4c6b0"
      },
      "source": [
        "df['typeOfFlat'].value_counts()\n"
      ],
      "execution_count": 43,
      "outputs": [
        {
          "output_type": "execute_result",
          "data": {
            "text/plain": [
              "apartment              161549\n",
              "roof_storey             33565\n",
              "ground_floor            30432\n",
              "other                    9140\n",
              "maisonette               8708\n",
              "raised_ground_floor      5456\n",
              "penthouse                3332\n",
              "terraced_flat            3215\n",
              "half_basement            1970\n",
              "loft                      886\n",
              "Name: typeOfFlat, dtype: int64"
            ]
          },
          "metadata": {
            "tags": []
          },
          "execution_count": 43
        }
      ]
    },
    {
      "cell_type": "code",
      "metadata": {
        "colab": {
          "base_uri": "https://localhost:8080/"
        },
        "id": "cOB1M847O3Ji",
        "outputId": "351f824d-4824-46dd-d26e-6e023d566ec7"
      },
      "source": [
        "list(df['typeOfFlat'].value_counts().tail(2).index)\n"
      ],
      "execution_count": 44,
      "outputs": [
        {
          "output_type": "execute_result",
          "data": {
            "text/plain": [
              "['half_basement', 'loft']"
            ]
          },
          "metadata": {
            "tags": []
          },
          "execution_count": 44
        }
      ]
    },
    {
      "cell_type": "code",
      "metadata": {
        "colab": {
          "base_uri": "https://localhost:8080/"
        },
        "id": "6mTWya2jO44M",
        "outputId": "9597b284-75e0-457d-9d2d-2bf8189bd805"
      },
      "source": [
        "def edit_typeOfFlat(x):\n",
        "    if x in ['half_basement', 'loft']:\n",
        "        return 'half_loft'\n",
        "    else:\n",
        "        return x\n",
        "    \n",
        "df['typeOfFlat_edit'] = df['typeOfFlat'].apply(edit_typeOfFlat)\n",
        "df = df.drop(columns=['typeOfFlat'])\n",
        "df['typeOfFlat_edit'].value_counts()"
      ],
      "execution_count": 45,
      "outputs": [
        {
          "output_type": "execute_result",
          "data": {
            "text/plain": [
              "apartment              161549\n",
              "roof_storey             33565\n",
              "ground_floor            30432\n",
              "other                    9140\n",
              "maisonette               8708\n",
              "raised_ground_floor      5456\n",
              "penthouse                3332\n",
              "terraced_flat            3215\n",
              "half_loft                2856\n",
              "Name: typeOfFlat_edit, dtype: int64"
            ]
          },
          "metadata": {
            "tags": []
          },
          "execution_count": 45
        }
      ]
    },
    {
      "cell_type": "code",
      "metadata": {
        "colab": {
          "base_uri": "https://localhost:8080/",
          "height": 684
        },
        "id": "fE8m0rGqO6ud",
        "outputId": "8bdd3f53-802e-4936-b3aa-dcaf6e8f2a63"
      },
      "source": [
        "sns.set(rc={'figure.figsize':(15,10)})\n",
        "sns.distplot(df['livingSpace'],kde_kws={\"label\": 'livingSpace'}, bins=20)"
      ],
      "execution_count": 46,
      "outputs": [
        {
          "output_type": "stream",
          "text": [
            "/usr/local/lib/python3.7/dist-packages/seaborn/distributions.py:2557: FutureWarning: `distplot` is a deprecated function and will be removed in a future version. Please adapt your code to use either `displot` (a figure-level function with similar flexibility) or `histplot` (an axes-level function for histograms).\n",
            "  warnings.warn(msg, FutureWarning)\n"
          ],
          "name": "stderr"
        },
        {
          "output_type": "execute_result",
          "data": {
            "text/plain": [
              "<matplotlib.axes._subplots.AxesSubplot at 0x7f550b388110>"
            ]
          },
          "metadata": {
            "tags": []
          },
          "execution_count": 46
        },
        {
          "output_type": "display_data",
          "data": {
            "image/png": "[encoded data removed]",
            "text/plain": [
              "<Figure size 1080x720 with 1 Axes>"
            ]
          },
          "metadata": {
            "tags": []
          }
        }
      ]
    },
    {
      "cell_type": "code",
      "metadata": {
        "colab": {
          "base_uri": "https://localhost:8080/"
        },
        "id": "VJQOnWTHPJ2z",
        "outputId": "aacce148-4817-4273-d6b8-e46cc938762a"
      },
      "source": [
        "stats.normaltest(df[\"livingSpace\"])"
      ],
      "execution_count": 47,
      "outputs": [
        {
          "output_type": "execute_result",
          "data": {
            "text/plain": [
              "NormaltestResult(statistic=100416.61470386863, pvalue=0.0)"
            ]
          },
          "metadata": {
            "tags": []
          },
          "execution_count": 47
        }
      ]
    },
    {
      "cell_type": "code",
      "metadata": {
        "colab": {
          "base_uri": "https://localhost:8080/",
          "height": 684
        },
        "id": "15oSPgX7PMSw",
        "outputId": "c88da1e1-67cb-4341-9b98-ad90865b6348"
      },
      "source": [
        "sns.set(rc={'figure.figsize':(15,10)})\n",
        "sns.distplot(np.sqrt(df[\"livingSpace\"]),kde_kws={\"label\": 'livingSpace'}, bins=20)"
      ],
      "execution_count": 48,
      "outputs": [
        {
          "output_type": "stream",
          "text": [
            "/usr/local/lib/python3.7/dist-packages/seaborn/distributions.py:2557: FutureWarning: `distplot` is a deprecated function and will be removed in a future version. Please adapt your code to use either `displot` (a figure-level function with similar flexibility) or `histplot` (an axes-level function for histograms).\n",
            "  warnings.warn(msg, FutureWarning)\n"
          ],
          "name": "stderr"
        },
        {
          "output_type": "execute_result",
          "data": {
            "text/plain": [
              "<matplotlib.axes._subplots.AxesSubplot at 0x7f5502af5890>"
            ]
          },
          "metadata": {
            "tags": []
          },
          "execution_count": 48
        },
        {
          "output_type": "display_data",
          "data": {
            "image/png": "[encoded data removed]",
            "text/plain": [
              "<Figure size 1080x720 with 1 Axes>"
            ]
          },
          "metadata": {
            "tags": []
          }
        }
      ]
    },
    {
      "cell_type": "code",
      "metadata": {
        "colab": {
          "base_uri": "https://localhost:8080/"
        },
        "id": "IITFJn0oPOC-",
        "outputId": "52ac7b27-40fc-4b56-e959-e7a5db1df934"
      },
      "source": [
        "stats.normaltest(np.sqrt(df[\"livingSpace\"]))\n"
      ],
      "execution_count": 49,
      "outputs": [
        {
          "output_type": "execute_result",
          "data": {
            "text/plain": [
              "NormaltestResult(statistic=25149.3340530453, pvalue=0.0)"
            ]
          },
          "metadata": {
            "tags": []
          },
          "execution_count": 49
        }
      ]
    },
    {
      "cell_type": "code",
      "metadata": {
        "colab": {
          "base_uri": "https://localhost:8080/",
          "height": 684
        },
        "id": "Ue0Ml6wSPQQ3",
        "outputId": "fdc26f29-b565-4b82-daac-fd00ebaeb274"
      },
      "source": [
        "sns.set(rc={'figure.figsize':(15,10)})\n",
        "sns.distplot(np.log(df[\"livingSpace\"]),kde_kws={\"label\": 'livingSpace'}, bins=20)"
      ],
      "execution_count": 50,
      "outputs": [
        {
          "output_type": "stream",
          "text": [
            "/usr/local/lib/python3.7/dist-packages/seaborn/distributions.py:2557: FutureWarning: `distplot` is a deprecated function and will be removed in a future version. Please adapt your code to use either `displot` (a figure-level function with similar flexibility) or `histplot` (an axes-level function for histograms).\n",
            "  warnings.warn(msg, FutureWarning)\n"
          ],
          "name": "stderr"
        },
        {
          "output_type": "execute_result",
          "data": {
            "text/plain": [
              "<matplotlib.axes._subplots.AxesSubplot at 0x7f5502570f10>"
            ]
          },
          "metadata": {
            "tags": []
          },
          "execution_count": 50
        },
        {
          "output_type": "display_data",
          "data": {
            "image/png": "[encoded data removed]",
            "text/plain": [
              "<Figure size 1080x720 with 1 Axes>"
            ]
          },
          "metadata": {
            "tags": []
          }
        }
      ]
    },
    {
      "cell_type": "code",
      "metadata": {
        "colab": {
          "base_uri": "https://localhost:8080/"
        },
        "id": "8FGT7U-JPSkV",
        "outputId": "9f6d8b7b-1c83-4a68-92b8-9ee92431a12d"
      },
      "source": [
        "stats.normaltest(np.log(df[\"livingSpace\"]))"
      ],
      "execution_count": 51,
      "outputs": [
        {
          "output_type": "execute_result",
          "data": {
            "text/plain": [
              "NormaltestResult(statistic=15722.707406757247, pvalue=0.0)"
            ]
          },
          "metadata": {
            "tags": []
          },
          "execution_count": 51
        }
      ]
    },
    {
      "cell_type": "code",
      "metadata": {
        "colab": {
          "base_uri": "https://localhost:8080/"
        },
        "id": "JgTw59F4PUs2",
        "outputId": "98e3ec6f-4efd-43a5-ded0-fb825728d71e"
      },
      "source": [
        "stats.normaltest(np.log10(df[\"livingSpace\"]))"
      ],
      "execution_count": 52,
      "outputs": [
        {
          "output_type": "execute_result",
          "data": {
            "text/plain": [
              "NormaltestResult(statistic=15722.707406757301, pvalue=0.0)"
            ]
          },
          "metadata": {
            "tags": []
          },
          "execution_count": 52
        }
      ]
    },
    {
      "cell_type": "code",
      "metadata": {
        "colab": {
          "base_uri": "https://localhost:8080/",
          "height": 686
        },
        "id": "Zd6FifWuPWHh",
        "outputId": "7c9ad114-fece-40a5-9ad5-3caf23a1209f"
      },
      "source": [
        "sns.set(rc={'figure.figsize':(15,10)})\n",
        "sns.distplot(1/df[\"livingSpace\"],kde_kws={\"label\": 'livingSpace'}, bins=20)"
      ],
      "execution_count": 53,
      "outputs": [
        {
          "output_type": "stream",
          "text": [
            "/usr/local/lib/python3.7/dist-packages/seaborn/distributions.py:2557: FutureWarning: `distplot` is a deprecated function and will be removed in a future version. Please adapt your code to use either `displot` (a figure-level function with similar flexibility) or `histplot` (an axes-level function for histograms).\n",
            "  warnings.warn(msg, FutureWarning)\n"
          ],
          "name": "stderr"
        },
        {
          "output_type": "execute_result",
          "data": {
            "text/plain": [
              "<matplotlib.axes._subplots.AxesSubplot at 0x7f5502502a10>"
            ]
          },
          "metadata": {
            "tags": []
          },
          "execution_count": 53
        },
        {
          "output_type": "display_data",
          "data": {
            "image/png": "[encoded data removed]",
            "text/plain": [
              "<Figure size 1080x720 with 1 Axes>"
            ]
          },
          "metadata": {
            "tags": []
          }
        }
      ]
    },
    {
      "cell_type": "code",
      "metadata": {
        "colab": {
          "base_uri": "https://localhost:8080/"
        },
        "id": "t1-gHXlRPXui",
        "outputId": "a194f491-d96a-4dc5-b654-f1c9248fd156"
      },
      "source": [
        "stats.normaltest(1/df[\"livingSpace\"])"
      ],
      "execution_count": 54,
      "outputs": [
        {
          "output_type": "execute_result",
          "data": {
            "text/plain": [
              "NormaltestResult(statistic=761675.6215507342, pvalue=0.0)"
            ]
          },
          "metadata": {
            "tags": []
          },
          "execution_count": 54
        }
      ]
    },
    {
      "cell_type": "code",
      "metadata": {
        "colab": {
          "base_uri": "https://localhost:8080/",
          "height": 684
        },
        "id": "3yLSGo9NPZYy",
        "outputId": "77cfad58-4608-4871-c95f-51a6642ac17c"
      },
      "source": [
        "sns.set(rc={'figure.figsize':(15,10)})\n",
        "sns.distplot(df[\"livingSpace\"]**2,kde_kws={\"label\": 'livingSpace'}, bins=20)"
      ],
      "execution_count": 55,
      "outputs": [
        {
          "output_type": "stream",
          "text": [
            "/usr/local/lib/python3.7/dist-packages/seaborn/distributions.py:2557: FutureWarning: `distplot` is a deprecated function and will be removed in a future version. Please adapt your code to use either `displot` (a figure-level function with similar flexibility) or `histplot` (an axes-level function for histograms).\n",
            "  warnings.warn(msg, FutureWarning)\n"
          ],
          "name": "stderr"
        },
        {
          "output_type": "execute_result",
          "data": {
            "text/plain": [
              "<matplotlib.axes._subplots.AxesSubplot at 0x7f5502ae91d0>"
            ]
          },
          "metadata": {
            "tags": []
          },
          "execution_count": 55
        },
        {
          "output_type": "display_data",
          "data": {
            "image/png": "[encoded data removed]",
            "text/plain": [
              "<Figure size 1080x720 with 1 Axes>"
            ]
          },
          "metadata": {
            "tags": []
          }
        }
      ]
    },
    {
      "cell_type": "code",
      "metadata": {
        "colab": {
          "base_uri": "https://localhost:8080/"
        },
        "id": "oPq3F9JLPa92",
        "outputId": "5115f20f-5380-4914-d923-b199f1eacc8f"
      },
      "source": [
        "stats.normaltest(df[\"livingSpace\"]**2)"
      ],
      "execution_count": 56,
      "outputs": [
        {
          "output_type": "execute_result",
          "data": {
            "text/plain": [
              "NormaltestResult(statistic=338461.38102759304, pvalue=0.0)"
            ]
          },
          "metadata": {
            "tags": []
          },
          "execution_count": 56
        }
      ]
    },
    {
      "cell_type": "code",
      "metadata": {
        "colab": {
          "base_uri": "https://localhost:8080/"
        },
        "id": "GgLUtvtUPchg",
        "outputId": "fe7a86e5-c0a8-4dd3-fb76-c62f1a7b5355"
      },
      "source": [
        "stats.stats.spearmanr(df['livingSpace'],df['totalRent'])"
      ],
      "execution_count": 57,
      "outputs": [
        {
          "output_type": "execute_result",
          "data": {
            "text/plain": [
              "SpearmanrResult(correlation=0.670881309530835, pvalue=0.0)"
            ]
          },
          "metadata": {
            "tags": []
          },
          "execution_count": 57
        }
      ]
    },
    {
      "cell_type": "code",
      "metadata": {
        "colab": {
          "base_uri": "https://localhost:8080/"
        },
        "id": "2l_fS3j6Pe3m",
        "outputId": "7b7c9661-2423-481e-cfe7-ec18217316d9"
      },
      "source": [
        "# q2.relation between region1 and totalRent\n",
        "\n",
        "fstat, pval = stats.f_oneway(*[df.totalRent[df.regio1_edit == s]\n",
        "for s in df.regio1_edit.unique()])\n",
        "print(\"Oneway Anova totalRent ~ edit region1 F=%.2f, p-value=%E\" % (fstat, pval))"
      ],
      "execution_count": 58,
      "outputs": [
        {
          "output_type": "stream",
          "text": [
            "Oneway Anova totalRent ~ edit region1 F=3903.59, p-value=0.000000E+00\n"
          ],
          "name": "stdout"
        }
      ]
    },
    {
      "cell_type": "code",
      "metadata": {
        "colab": {
          "base_uri": "https://localhost:8080/",
          "height": 519
        },
        "id": "hx_fG9KzPhCm",
        "outputId": "3c985160-2875-431c-ac1d-adf1cffe4c90"
      },
      "source": [
        "plt.figure(figsize=(25,8))\n",
        "sns.violinplot(\"regio1_edit\", \"livingSpace\", data=df)"
      ],
      "execution_count": 59,
      "outputs": [
        {
          "output_type": "stream",
          "text": [
            "/usr/local/lib/python3.7/dist-packages/seaborn/_decorators.py:43: FutureWarning: Pass the following variables as keyword args: x, y. From version 0.12, the only valid positional argument will be `data`, and passing other arguments without an explicit keyword will result in an error or misinterpretation.\n",
            "  FutureWarning\n"
          ],
          "name": "stderr"
        },
        {
          "output_type": "execute_result",
          "data": {
            "text/plain": [
              "<matplotlib.axes._subplots.AxesSubplot at 0x7f55023da1d0>"
            ]
          },
          "metadata": {
            "tags": []
          },
          "execution_count": 59
        },
        {
          "output_type": "display_data",
          "data": {
            "image/png": "[encoded data removed]",
            "text/plain": [
              "<Figure size 1800x576 with 1 Axes>"
            ]
          },
          "metadata": {
            "tags": []
          }
        }
      ]
    },
    {
      "cell_type": "code",
      "metadata": {
        "colab": {
          "base_uri": "https://localhost:8080/"
        },
        "id": "YPvJD2bbPiVK",
        "outputId": "6d04a0c9-2bc7-4544-d9ab-2012e217855b"
      },
      "source": [
        "#q3  independence of having serviceCharge and havingKitchen\n",
        "\n",
        "def edit(x):\n",
        "    if x == 0.0:\n",
        "        return 0\n",
        "    else:\n",
        "        return 1\n",
        "    \n",
        "df['has_serviceCharge'] = df['serviceCharge'].apply(edit)\n",
        "stats.chi2_contingency(df[['has_serviceCharge',\"livingSpace\"]])"
      ],
      "execution_count": 60,
      "outputs": [
        {
          "output_type": "execute_result",
          "data": {
            "text/plain": [
              "(50370.422139266404, 1.0, 258252, array([[ 1.16137496, 85.83862504],\n",
              "        [ 1.20142237, 88.79857763],\n",
              "        [ 1.13200686, 83.66799314],\n",
              "        ...,\n",
              "        [ 1.2815172 , 94.7184828 ],\n",
              "        [ 0.94778876, 70.05221124],\n",
              "        [ 1.04123272, 76.95876728]]))"
            ]
          },
          "metadata": {
            "tags": []
          },
          "execution_count": 60
        }
      ]
    },
    {
      "cell_type": "code",
      "metadata": {
        "colab": {
          "base_uri": "https://localhost:8080/"
        },
        "id": "X5Aq_WbUPkIM",
        "outputId": "8890e2a4-a610-4dcf-ec14-adbb5d5551ac"
      },
      "source": [
        "#q4 realation between having serviceCharge and livingSpace\n",
        "\n",
        "stats.pointbiserialr(df['has_serviceCharge'],df[\"livingSpace\"])"
      ],
      "execution_count": 61,
      "outputs": [
        {
          "output_type": "execute_result",
          "data": {
            "text/plain": [
              "PointbiserialrResult(correlation=0.055706369977531166, pvalue=1.4326633713854854e-176)"
            ]
          },
          "metadata": {
            "tags": []
          },
          "execution_count": 61
        }
      ]
    },
    {
      "cell_type": "code",
      "metadata": {
        "id": "q3ML7NPpPmNX"
      },
      "source": [
        "del df['has_serviceCharge']\n"
      ],
      "execution_count": 62,
      "outputs": []
    },
    {
      "cell_type": "code",
      "metadata": {
        "colab": {
          "base_uri": "https://localhost:8080/",
          "height": 224
        },
        "id": "Vpz7ud3uPo8d",
        "outputId": "f8e1850f-c8ab-4d56-9e29-c17a02f7ed60"
      },
      "source": [
        "#q5 in Berlin relation hasKitchen and totalRent\n",
        "berlin_df = df[df['regio1_edit'] == 'Berlin']\n",
        "berlin_df.head()"
      ],
      "execution_count": 63,
      "outputs": [
        {
          "output_type": "execute_result",
          "data": {
            "text/html": [
              "<div>\n",
              "<style scoped>\n",
              "    .dataframe tbody tr th:only-of-type {\n",
              "        vertical-align: middle;\n",
              "    }\n",
              "\n",
              "    .dataframe tbody tr th {\n",
              "        vertical-align: top;\n",
              "    }\n",
              "\n",
              "    .dataframe thead th {\n",
              "        text-align: right;\n",
              "    }\n",
              "</style>\n",
              "<table border=\"1\" class=\"dataframe\">\n",
              "  <thead>\n",
              "    <tr style=\"text-align: right;\">\n",
              "      <th></th>\n",
              "      <th>serviceCharge</th>\n",
              "      <th>telekomTvOffer</th>\n",
              "      <th>newlyConst</th>\n",
              "      <th>balcony</th>\n",
              "      <th>picturecount</th>\n",
              "      <th>pricetrend</th>\n",
              "      <th>telekomUploadSpeed</th>\n",
              "      <th>totalRent</th>\n",
              "      <th>yearConstructed</th>\n",
              "      <th>hasKitchen</th>\n",
              "      <th>cellar</th>\n",
              "      <th>yearConstructedRange</th>\n",
              "      <th>baseRent</th>\n",
              "      <th>livingSpace</th>\n",
              "      <th>interiorQual</th>\n",
              "      <th>petsAllowed</th>\n",
              "      <th>lift</th>\n",
              "      <th>baseRentRange</th>\n",
              "      <th>geo_plz</th>\n",
              "      <th>noRooms</th>\n",
              "      <th>thermalChar</th>\n",
              "      <th>floor</th>\n",
              "      <th>numberOfFloors</th>\n",
              "      <th>noRoomsRange</th>\n",
              "      <th>garden</th>\n",
              "      <th>regio1_edit</th>\n",
              "      <th>heatingType_edit</th>\n",
              "      <th>condition_edit</th>\n",
              "      <th>typeOfFlat_edit</th>\n",
              "    </tr>\n",
              "  </thead>\n",
              "  <tbody>\n",
              "    <tr>\n",
              "      <th>45</th>\n",
              "      <td>320.00</td>\n",
              "      <td>ONE_YEAR_FREE</td>\n",
              "      <td>False</td>\n",
              "      <td>True</td>\n",
              "      <td>10</td>\n",
              "      <td>4.99</td>\n",
              "      <td>28.808085</td>\n",
              "      <td>1140.00</td>\n",
              "      <td>1966.411388</td>\n",
              "      <td>True</td>\n",
              "      <td>False</td>\n",
              "      <td>3.715457</td>\n",
              "      <td>820.00</td>\n",
              "      <td>77.00</td>\n",
              "      <td>normal</td>\n",
              "      <td>negotiable</td>\n",
              "      <td>True</td>\n",
              "      <td>6</td>\n",
              "      <td>13591</td>\n",
              "      <td>3.0</td>\n",
              "      <td>114.72574</td>\n",
              "      <td>0.0</td>\n",
              "      <td>3.0</td>\n",
              "      <td>3</td>\n",
              "      <td>False</td>\n",
              "      <td>Berlin</td>\n",
              "      <td>central_heating</td>\n",
              "      <td>well_kept</td>\n",
              "      <td>ground_floor</td>\n",
              "    </tr>\n",
              "    <tr>\n",
              "      <th>61</th>\n",
              "      <td>79.00</td>\n",
              "      <td>ONE_YEAR_FREE</td>\n",
              "      <td>False</td>\n",
              "      <td>False</td>\n",
              "      <td>17</td>\n",
              "      <td>7.35</td>\n",
              "      <td>40.000000</td>\n",
              "      <td>955.00</td>\n",
              "      <td>1918.000000</td>\n",
              "      <td>False</td>\n",
              "      <td>False</td>\n",
              "      <td>1.000000</td>\n",
              "      <td>808.00</td>\n",
              "      <td>62.63</td>\n",
              "      <td>normal</td>\n",
              "      <td>negotiable</td>\n",
              "      <td>False</td>\n",
              "      <td>6</td>\n",
              "      <td>13086</td>\n",
              "      <td>2.0</td>\n",
              "      <td>100.40000</td>\n",
              "      <td>0.0</td>\n",
              "      <td>3.0</td>\n",
              "      <td>2</td>\n",
              "      <td>False</td>\n",
              "      <td>Berlin</td>\n",
              "      <td>central_heating</td>\n",
              "      <td>refurbished</td>\n",
              "      <td>ground_floor</td>\n",
              "    </tr>\n",
              "    <tr>\n",
              "      <th>77</th>\n",
              "      <td>150.00</td>\n",
              "      <td>ONE_YEAR_FREE</td>\n",
              "      <td>True</td>\n",
              "      <td>True</td>\n",
              "      <td>15</td>\n",
              "      <td>6.60</td>\n",
              "      <td>40.000000</td>\n",
              "      <td>1300.00</td>\n",
              "      <td>2019.000000</td>\n",
              "      <td>True</td>\n",
              "      <td>True</td>\n",
              "      <td>9.000000</td>\n",
              "      <td>1150.00</td>\n",
              "      <td>46.40</td>\n",
              "      <td>luxury</td>\n",
              "      <td>no</td>\n",
              "      <td>True</td>\n",
              "      <td>7</td>\n",
              "      <td>10179</td>\n",
              "      <td>2.0</td>\n",
              "      <td>114.72574</td>\n",
              "      <td>3.0</td>\n",
              "      <td>5.0</td>\n",
              "      <td>2</td>\n",
              "      <td>False</td>\n",
              "      <td>Berlin</td>\n",
              "      <td>floor_heating</td>\n",
              "      <td>first_time_use</td>\n",
              "      <td>apartment</td>\n",
              "    </tr>\n",
              "    <tr>\n",
              "      <th>86</th>\n",
              "      <td>228.78</td>\n",
              "      <td>ONE_YEAR_FREE</td>\n",
              "      <td>False</td>\n",
              "      <td>True</td>\n",
              "      <td>2</td>\n",
              "      <td>8.63</td>\n",
              "      <td>28.808085</td>\n",
              "      <td>1428.78</td>\n",
              "      <td>2017.000000</td>\n",
              "      <td>True</td>\n",
              "      <td>True</td>\n",
              "      <td>9.000000</td>\n",
              "      <td>1200.00</td>\n",
              "      <td>67.00</td>\n",
              "      <td>sophisticated</td>\n",
              "      <td>negotiable</td>\n",
              "      <td>True</td>\n",
              "      <td>7</td>\n",
              "      <td>10963</td>\n",
              "      <td>2.5</td>\n",
              "      <td>114.72574</td>\n",
              "      <td>6.0</td>\n",
              "      <td>7.0</td>\n",
              "      <td>2</td>\n",
              "      <td>False</td>\n",
              "      <td>Berlin</td>\n",
              "      <td>floor_heating</td>\n",
              "      <td>mint_condition</td>\n",
              "      <td>apartment</td>\n",
              "    </tr>\n",
              "    <tr>\n",
              "      <th>87</th>\n",
              "      <td>147.08</td>\n",
              "      <td>ONE_YEAR_FREE</td>\n",
              "      <td>True</td>\n",
              "      <td>True</td>\n",
              "      <td>9</td>\n",
              "      <td>7.56</td>\n",
              "      <td>40.000000</td>\n",
              "      <td>1559.05</td>\n",
              "      <td>2019.000000</td>\n",
              "      <td>True</td>\n",
              "      <td>True</td>\n",
              "      <td>9.000000</td>\n",
              "      <td>1338.43</td>\n",
              "      <td>73.54</td>\n",
              "      <td>sophisticated</td>\n",
              "      <td>negotiable</td>\n",
              "      <td>True</td>\n",
              "      <td>7</td>\n",
              "      <td>10557</td>\n",
              "      <td>2.0</td>\n",
              "      <td>66.20000</td>\n",
              "      <td>0.0</td>\n",
              "      <td>6.0</td>\n",
              "      <td>2</td>\n",
              "      <td>False</td>\n",
              "      <td>Berlin</td>\n",
              "      <td>district_heating</td>\n",
              "      <td>first_time_use</td>\n",
              "      <td>ground_floor</td>\n",
              "    </tr>\n",
              "  </tbody>\n",
              "</table>\n",
              "</div>"
            ],
            "text/plain": [
              "    serviceCharge telekomTvOffer  newlyConst  balcony  picturecount  \\\n",
              "45         320.00  ONE_YEAR_FREE       False     True            10   \n",
              "61          79.00  ONE_YEAR_FREE       False    False            17   \n",
              "77         150.00  ONE_YEAR_FREE        True     True            15   \n",
              "86         228.78  ONE_YEAR_FREE       False     True             2   \n",
              "87         147.08  ONE_YEAR_FREE        True     True             9   \n",
              "\n",
              "    pricetrend  telekomUploadSpeed  totalRent  yearConstructed  hasKitchen  \\\n",
              "45        4.99           28.808085    1140.00      1966.411388        True   \n",
              "61        7.35           40.000000     955.00      1918.000000       False   \n",
              "77        6.60           40.000000    1300.00      2019.000000        True   \n",
              "86        8.63           28.808085    1428.78      2017.000000        True   \n",
              "87        7.56           40.000000    1559.05      2019.000000        True   \n",
              "\n",
              "    cellar  yearConstructedRange  baseRent  livingSpace   interiorQual  \\\n",
              "45   False              3.715457    820.00        77.00         normal   \n",
              "61   False              1.000000    808.00        62.63         normal   \n",
              "77    True              9.000000   1150.00        46.40         luxury   \n",
              "86    True              9.000000   1200.00        67.00  sophisticated   \n",
              "87    True              9.000000   1338.43        73.54  sophisticated   \n",
              "\n",
              "   petsAllowed   lift  baseRentRange  geo_plz  noRooms  thermalChar  floor  \\\n",
              "45  negotiable   True              6    13591      3.0    114.72574    0.0   \n",
              "61  negotiable  False              6    13086      2.0    100.40000    0.0   \n",
              "77          no   True              7    10179      2.0    114.72574    3.0   \n",
              "86  negotiable   True              7    10963      2.5    114.72574    6.0   \n",
              "87  negotiable   True              7    10557      2.0     66.20000    0.0   \n",
              "\n",
              "    numberOfFloors  noRoomsRange  garden regio1_edit  heatingType_edit  \\\n",
              "45             3.0             3   False      Berlin   central_heating   \n",
              "61             3.0             2   False      Berlin   central_heating   \n",
              "77             5.0             2   False      Berlin     floor_heating   \n",
              "86             7.0             2   False      Berlin     floor_heating   \n",
              "87             6.0             2   False      Berlin  district_heating   \n",
              "\n",
              "    condition_edit typeOfFlat_edit  \n",
              "45       well_kept    ground_floor  \n",
              "61     refurbished    ground_floor  \n",
              "77  first_time_use       apartment  \n",
              "86  mint_condition       apartment  \n",
              "87  first_time_use    ground_floor  "
            ]
          },
          "metadata": {
            "tags": []
          },
          "execution_count": 63
        }
      ]
    },
    {
      "cell_type": "code",
      "metadata": {
        "colab": {
          "base_uri": "https://localhost:8080/"
        },
        "id": "jrdO_pyVPqkW",
        "outputId": "430a2c75-e54b-4f68-fea6-6f63f3405480"
      },
      "source": [
        "stats.ttest_ind(berlin_df['hasKitchen'],berlin_df['totalRent'])"
      ],
      "execution_count": 64,
      "outputs": [
        {
          "output_type": "execute_result",
          "data": {
            "text/plain": [
              "Ttest_indResult(statistic=-134.4330047744755, pvalue=0.0)"
            ]
          },
          "metadata": {
            "tags": []
          },
          "execution_count": 64
        }
      ]
    },
    {
      "cell_type": "code",
      "metadata": {
        "colab": {
          "base_uri": "https://localhost:8080/"
        },
        "id": "6cN6l8d2PsBP",
        "outputId": "69b1e54b-df03-47f2-b883-36f30b81bced"
      },
      "source": [
        "#q6 test is mean of living space is 60\n",
        "stats.ttest_1samp(berlin_df['livingSpace'],popmean = 60)"
      ],
      "execution_count": 65,
      "outputs": [
        {
          "output_type": "execute_result",
          "data": {
            "text/plain": [
              "Ttest_1sampResult(statistic=44.80151287755178, pvalue=0.0)"
            ]
          },
          "metadata": {
            "tags": []
          },
          "execution_count": 65
        }
      ]
    },
    {
      "cell_type": "code",
      "metadata": {
        "id": "BEz-a5CsP37Z"
      },
      "source": [
        "del berlin_df\n"
      ],
      "execution_count": 66,
      "outputs": []
    },
    {
      "cell_type": "code",
      "metadata": {
        "id": "lnlGcfleP5U8"
      },
      "source": [
        "for cols in df.columns:\n",
        "    if df[cols].dtype == 'int64' or df[cols].dtype == 'float64':\n",
        "        if cols != 'livingSpace':\n",
        "            df[cols] = ((df[cols] - df[cols].mean())/(df[cols].std()))"
      ],
      "execution_count": 67,
      "outputs": []
    },
    {
      "cell_type": "code",
      "metadata": {
        "colab": {
          "base_uri": "https://localhost:8080/",
          "height": 224
        },
        "id": "-1YMoew3P9Av",
        "outputId": "eecaf47f-3571-46e8-9736-84c05a8881d7"
      },
      "source": [
        "df.head()\n"
      ],
      "execution_count": 68,
      "outputs": [
        {
          "output_type": "execute_result",
          "data": {
            "text/html": [
              "<div>\n",
              "<style scoped>\n",
              "    .dataframe tbody tr th:only-of-type {\n",
              "        vertical-align: middle;\n",
              "    }\n",
              "\n",
              "    .dataframe tbody tr th {\n",
              "        vertical-align: top;\n",
              "    }\n",
              "\n",
              "    .dataframe thead th {\n",
              "        text-align: right;\n",
              "    }\n",
              "</style>\n",
              "<table border=\"1\" class=\"dataframe\">\n",
              "  <thead>\n",
              "    <tr style=\"text-align: right;\">\n",
              "      <th></th>\n",
              "      <th>serviceCharge</th>\n",
              "      <th>telekomTvOffer</th>\n",
              "      <th>newlyConst</th>\n",
              "      <th>balcony</th>\n",
              "      <th>picturecount</th>\n",
              "      <th>pricetrend</th>\n",
              "      <th>telekomUploadSpeed</th>\n",
              "      <th>totalRent</th>\n",
              "      <th>yearConstructed</th>\n",
              "      <th>hasKitchen</th>\n",
              "      <th>cellar</th>\n",
              "      <th>yearConstructedRange</th>\n",
              "      <th>baseRent</th>\n",
              "      <th>livingSpace</th>\n",
              "      <th>interiorQual</th>\n",
              "      <th>petsAllowed</th>\n",
              "      <th>lift</th>\n",
              "      <th>baseRentRange</th>\n",
              "      <th>geo_plz</th>\n",
              "      <th>noRooms</th>\n",
              "      <th>thermalChar</th>\n",
              "      <th>floor</th>\n",
              "      <th>numberOfFloors</th>\n",
              "      <th>noRoomsRange</th>\n",
              "      <th>garden</th>\n",
              "      <th>regio1_edit</th>\n",
              "      <th>heatingType_edit</th>\n",
              "      <th>condition_edit</th>\n",
              "      <th>typeOfFlat_edit</th>\n",
              "    </tr>\n",
              "  </thead>\n",
              "  <tbody>\n",
              "    <tr>\n",
              "      <th>0</th>\n",
              "      <td>1.182582</td>\n",
              "      <td>ONE_YEAR_FREE</td>\n",
              "      <td>False</td>\n",
              "      <td>False</td>\n",
              "      <td>-0.616843</td>\n",
              "      <td>0.697705</td>\n",
              "      <td>-1.234871</td>\n",
              "      <td>0.043970</td>\n",
              "      <td>-0.088681</td>\n",
              "      <td>False</td>\n",
              "      <td>True</td>\n",
              "      <td>-0.716696</td>\n",
              "      <td>-0.083932</td>\n",
              "      <td>86.00</td>\n",
              "      <td>normal</td>\n",
              "      <td>negotiable</td>\n",
              "      <td>False</td>\n",
              "      <td>0.126976</td>\n",
              "      <td>0.248967</td>\n",
              "      <td>1.423003</td>\n",
              "      <td>1.917976</td>\n",
              "      <td>-0.787933</td>\n",
              "      <td>-0.371019</td>\n",
              "      <td>1.539847</td>\n",
              "      <td>True</td>\n",
              "      <td>Nordrhein_Westfalen</td>\n",
              "      <td>central_heating</td>\n",
              "      <td>well_kept</td>\n",
              "      <td>ground_floor</td>\n",
              "    </tr>\n",
              "    <tr>\n",
              "      <th>1</th>\n",
              "      <td>-0.182054</td>\n",
              "      <td>ONE_YEAR_FREE</td>\n",
              "      <td>False</td>\n",
              "      <td>True</td>\n",
              "      <td>-0.258971</td>\n",
              "      <td>0.079133</td>\n",
              "      <td>-1.234871</td>\n",
              "      <td>0.162040</td>\n",
              "      <td>-2.876077</td>\n",
              "      <td>False</td>\n",
              "      <td>False</td>\n",
              "      <td>-1.129778</td>\n",
              "      <td>0.333799</td>\n",
              "      <td>89.00</td>\n",
              "      <td>normal</td>\n",
              "      <td>no</td>\n",
              "      <td>False</td>\n",
              "      <td>0.582635</td>\n",
              "      <td>1.082717</td>\n",
              "      <td>0.392039</td>\n",
              "      <td>0.063039</td>\n",
              "      <td>0.036360</td>\n",
              "      <td>0.049512</td>\n",
              "      <td>0.466722</td>\n",
              "      <td>False</td>\n",
              "      <td>Rheinland_Pfalz</td>\n",
              "      <td>self_contained_central_heating</td>\n",
              "      <td>refurbished</td>\n",
              "      <td>ground_floor</td>\n",
              "    </tr>\n",
              "    <tr>\n",
              "      <th>2</th>\n",
              "      <td>1.305523</td>\n",
              "      <td>ONE_YEAR_FREE</td>\n",
              "      <td>True</td>\n",
              "      <td>True</td>\n",
              "      <td>-0.258971</td>\n",
              "      <td>-0.324284</td>\n",
              "      <td>-1.734516</td>\n",
              "      <td>0.916191</td>\n",
              "      <td>1.512589</td>\n",
              "      <td>False</td>\n",
              "      <td>True</td>\n",
              "      <td>2.174881</td>\n",
              "      <td>0.670021</td>\n",
              "      <td>83.80</td>\n",
              "      <td>sophisticated</td>\n",
              "      <td>negotiable</td>\n",
              "      <td>True</td>\n",
              "      <td>1.038294</td>\n",
              "      <td>-1.303195</td>\n",
              "      <td>0.392039</td>\n",
              "      <td>0.063039</td>\n",
              "      <td>0.680365</td>\n",
              "      <td>0.360908</td>\n",
              "      <td>0.466722</td>\n",
              "      <td>False</td>\n",
              "      <td>Sachsen</td>\n",
              "      <td>floor_heating</td>\n",
              "      <td>first_time_use</td>\n",
              "      <td>apartment</td>\n",
              "    </tr>\n",
              "    <tr>\n",
              "      <th>3</th>\n",
              "      <td>-1.114555</td>\n",
              "      <td>ONE_YEAR_FREE</td>\n",
              "      <td>False</td>\n",
              "      <td>True</td>\n",
              "      <td>-0.080034</td>\n",
              "      <td>-0.964373</td>\n",
              "      <td>0.737411</td>\n",
              "      <td>0.162040</td>\n",
              "      <td>-0.118334</td>\n",
              "      <td>False</td>\n",
              "      <td>False</td>\n",
              "      <td>-0.716696</td>\n",
              "      <td>-0.597435</td>\n",
              "      <td>58.15</td>\n",
              "      <td>normal</td>\n",
              "      <td>negotiable</td>\n",
              "      <td>False</td>\n",
              "      <td>-0.784342</td>\n",
              "      <td>-0.997523</td>\n",
              "      <td>0.392039</td>\n",
              "      <td>-0.736137</td>\n",
              "      <td>0.680365</td>\n",
              "      <td>0.049512</td>\n",
              "      <td>0.466722</td>\n",
              "      <td>False</td>\n",
              "      <td>Sachsen</td>\n",
              "      <td>district_heating</td>\n",
              "      <td>well_kept</td>\n",
              "      <td>other</td>\n",
              "    </tr>\n",
              "    <tr>\n",
              "      <th>4</th>\n",
              "      <td>-0.132878</td>\n",
              "      <td>ONE_YEAR_FREE</td>\n",
              "      <td>False</td>\n",
              "      <td>True</td>\n",
              "      <td>1.709328</td>\n",
              "      <td>-0.464136</td>\n",
              "      <td>0.001624</td>\n",
              "      <td>0.163426</td>\n",
              "      <td>-0.533478</td>\n",
              "      <td>False</td>\n",
              "      <td>False</td>\n",
              "      <td>-1.129778</td>\n",
              "      <td>0.262479</td>\n",
              "      <td>84.97</td>\n",
              "      <td>normal</td>\n",
              "      <td>negotiable</td>\n",
              "      <td>False</td>\n",
              "      <td>0.582635</td>\n",
              "      <td>-0.328294</td>\n",
              "      <td>0.392039</td>\n",
              "      <td>2.126633</td>\n",
              "      <td>-0.787933</td>\n",
              "      <td>0.049512</td>\n",
              "      <td>0.466722</td>\n",
              "      <td>False</td>\n",
              "      <td>other</td>\n",
              "      <td>self_contained_central_heating</td>\n",
              "      <td>refurbished</td>\n",
              "      <td>apartment</td>\n",
              "    </tr>\n",
              "  </tbody>\n",
              "</table>\n",
              "</div>"
            ],
            "text/plain": [
              "   serviceCharge telekomTvOffer  newlyConst  balcony  picturecount  \\\n",
              "0       1.182582  ONE_YEAR_FREE       False    False     -0.616843   \n",
              "1      -0.182054  ONE_YEAR_FREE       False     True     -0.258971   \n",
              "2       1.305523  ONE_YEAR_FREE        True     True     -0.258971   \n",
              "3      -1.114555  ONE_YEAR_FREE       False     True     -0.080034   \n",
              "4      -0.132878  ONE_YEAR_FREE       False     True      1.709328   \n",
              "\n",
              "   pricetrend  telekomUploadSpeed  totalRent  yearConstructed  hasKitchen  \\\n",
              "0    0.697705           -1.234871   0.043970        -0.088681       False   \n",
              "1    0.079133           -1.234871   0.162040        -2.876077       False   \n",
              "2   -0.324284           -1.734516   0.916191         1.512589       False   \n",
              "3   -0.964373            0.737411   0.162040        -0.118334       False   \n",
              "4   -0.464136            0.001624   0.163426        -0.533478       False   \n",
              "\n",
              "   cellar  yearConstructedRange  baseRent  livingSpace   interiorQual  \\\n",
              "0    True             -0.716696 -0.083932        86.00         normal   \n",
              "1   False             -1.129778  0.333799        89.00         normal   \n",
              "2    True              2.174881  0.670021        83.80  sophisticated   \n",
              "3   False             -0.716696 -0.597435        58.15         normal   \n",
              "4   False             -1.129778  0.262479        84.97         normal   \n",
              "\n",
              "  petsAllowed   lift  baseRentRange   geo_plz   noRooms  thermalChar  \\\n",
              "0  negotiable  False       0.126976  0.248967  1.423003     1.917976   \n",
              "1          no  False       0.582635  1.082717  0.392039     0.063039   \n",
              "2  negotiable   True       1.038294 -1.303195  0.392039     0.063039   \n",
              "3  negotiable  False      -0.784342 -0.997523  0.392039    -0.736137   \n",
              "4  negotiable  False       0.582635 -0.328294  0.392039     2.126633   \n",
              "\n",
              "      floor  numberOfFloors  noRoomsRange  garden          regio1_edit  \\\n",
              "0 -0.787933       -0.371019      1.539847    True  Nordrhein_Westfalen   \n",
              "1  0.036360        0.049512      0.466722   False      Rheinland_Pfalz   \n",
              "2  0.680365        0.360908      0.466722   False              Sachsen   \n",
              "3  0.680365        0.049512      0.466722   False              Sachsen   \n",
              "4 -0.787933        0.049512      0.466722   False                other   \n",
              "\n",
              "                 heatingType_edit  condition_edit typeOfFlat_edit  \n",
              "0                 central_heating       well_kept    ground_floor  \n",
              "1  self_contained_central_heating     refurbished    ground_floor  \n",
              "2                   floor_heating  first_time_use       apartment  \n",
              "3                district_heating       well_kept           other  \n",
              "4  self_contained_central_heating     refurbished       apartment  "
            ]
          },
          "metadata": {
            "tags": []
          },
          "execution_count": 68
        }
      ]
    },
    {
      "cell_type": "code",
      "metadata": {
        "colab": {
          "base_uri": "https://localhost:8080/",
          "height": 316
        },
        "id": "5XRbbPcZP-iH",
        "outputId": "636dbd58-972e-4acc-c78e-86f5f7c0a78d"
      },
      "source": [
        "df.describe()\n"
      ],
      "execution_count": 69,
      "outputs": [
        {
          "output_type": "execute_result",
          "data": {
            "text/html": [
              "<div>\n",
              "<style scoped>\n",
              "    .dataframe tbody tr th:only-of-type {\n",
              "        vertical-align: middle;\n",
              "    }\n",
              "\n",
              "    .dataframe tbody tr th {\n",
              "        vertical-align: top;\n",
              "    }\n",
              "\n",
              "    .dataframe thead th {\n",
              "        text-align: right;\n",
              "    }\n",
              "</style>\n",
              "<table border=\"1\" class=\"dataframe\">\n",
              "  <thead>\n",
              "    <tr style=\"text-align: right;\">\n",
              "      <th></th>\n",
              "      <th>serviceCharge</th>\n",
              "      <th>picturecount</th>\n",
              "      <th>pricetrend</th>\n",
              "      <th>telekomUploadSpeed</th>\n",
              "      <th>totalRent</th>\n",
              "      <th>yearConstructed</th>\n",
              "      <th>yearConstructedRange</th>\n",
              "      <th>baseRent</th>\n",
              "      <th>livingSpace</th>\n",
              "      <th>baseRentRange</th>\n",
              "      <th>geo_plz</th>\n",
              "      <th>noRooms</th>\n",
              "      <th>thermalChar</th>\n",
              "      <th>floor</th>\n",
              "      <th>numberOfFloors</th>\n",
              "      <th>noRoomsRange</th>\n",
              "    </tr>\n",
              "  </thead>\n",
              "  <tbody>\n",
              "    <tr>\n",
              "      <th>count</th>\n",
              "      <td>2.582530e+05</td>\n",
              "      <td>2.582530e+05</td>\n",
              "      <td>2.582530e+05</td>\n",
              "      <td>2.582530e+05</td>\n",
              "      <td>2.582530e+05</td>\n",
              "      <td>2.582530e+05</td>\n",
              "      <td>2.582530e+05</td>\n",
              "      <td>2.582530e+05</td>\n",
              "      <td>258253.000000</td>\n",
              "      <td>2.582530e+05</td>\n",
              "      <td>2.582530e+05</td>\n",
              "      <td>2.582530e+05</td>\n",
              "      <td>2.582530e+05</td>\n",
              "      <td>2.582530e+05</td>\n",
              "      <td>2.582530e+05</td>\n",
              "      <td>2.582530e+05</td>\n",
              "    </tr>\n",
              "    <tr>\n",
              "      <th>mean</th>\n",
              "      <td>-2.834846e-14</td>\n",
              "      <td>1.503008e-14</td>\n",
              "      <td>2.279464e-13</td>\n",
              "      <td>-2.412092e-12</td>\n",
              "      <td>-8.502470e-13</td>\n",
              "      <td>7.364835e-11</td>\n",
              "      <td>-7.863597e-13</td>\n",
              "      <td>-1.722068e-15</td>\n",
              "      <td>72.988794</td>\n",
              "      <td>-5.523028e-15</td>\n",
              "      <td>1.866997e-15</td>\n",
              "      <td>7.437212e-15</td>\n",
              "      <td>-3.929933e-12</td>\n",
              "      <td>1.284564e-12</td>\n",
              "      <td>5.227225e-12</td>\n",
              "      <td>-4.755904e-15</td>\n",
              "    </tr>\n",
              "    <tr>\n",
              "      <th>std</th>\n",
              "      <td>1.000000e+00</td>\n",
              "      <td>1.000000e+00</td>\n",
              "      <td>1.000000e+00</td>\n",
              "      <td>1.000000e+00</td>\n",
              "      <td>1.000000e+00</td>\n",
              "      <td>1.000000e+00</td>\n",
              "      <td>1.000000e+00</td>\n",
              "      <td>1.000000e+00</td>\n",
              "      <td>31.161360</td>\n",
              "      <td>1.000000e+00</td>\n",
              "      <td>1.000000e+00</td>\n",
              "      <td>1.000000e+00</td>\n",
              "      <td>1.000000e+00</td>\n",
              "      <td>1.000000e+00</td>\n",
              "      <td>1.000000e+00</td>\n",
              "      <td>1.000000e+00</td>\n",
              "    </tr>\n",
              "    <tr>\n",
              "      <th>min</th>\n",
              "      <td>-1.829452e+00</td>\n",
              "      <td>-1.690460e+00</td>\n",
              "      <td>-3.115930e+00</td>\n",
              "      <td>-1.826556e+00</td>\n",
              "      <td>-1.546886e+00</td>\n",
              "      <td>-3.736018e+00</td>\n",
              "      <td>-1.129778e+00</td>\n",
              "      <td>-1.296369e+00</td>\n",
              "      <td>1.000000</td>\n",
              "      <td>-1.240001e+00</td>\n",
              "      <td>-1.312004e+00</td>\n",
              "      <td>-1.669889e+00</td>\n",
              "      <td>-3.125951e+00</td>\n",
              "      <td>-2.256232e+00</td>\n",
              "      <td>-2.566799e+00</td>\n",
              "      <td>-1.679528e+00</td>\n",
              "    </tr>\n",
              "    <tr>\n",
              "      <th>25%</th>\n",
              "      <td>-6.615204e-01</td>\n",
              "      <td>-6.168430e-01</td>\n",
              "      <td>-7.277015e-01</td>\n",
              "      <td>-1.234871e+00</td>\n",
              "      <td>-6.177804e-01</td>\n",
              "      <td>-2.665999e-01</td>\n",
              "      <td>-7.166955e-01</td>\n",
              "      <td>-6.137362e-01</td>\n",
              "      <td>54.000000</td>\n",
              "      <td>-7.843420e-01</td>\n",
              "      <td>-1.014529e+00</td>\n",
              "      <td>-6.389251e-01</td>\n",
              "      <td>-4.273247e-01</td>\n",
              "      <td>-7.879331e-01</td>\n",
              "      <td>-3.710189e-01</td>\n",
              "      <td>-6.064032e-01</td>\n",
              "    </tr>\n",
              "    <tr>\n",
              "      <th>50%</th>\n",
              "      <td>-1.274683e-01</td>\n",
              "      <td>-8.003431e-02</td>\n",
              "      <td>2.534358e-02</td>\n",
              "      <td>7.374110e-01</td>\n",
              "      <td>-1.608123e-01</td>\n",
              "      <td>-4.682897e-02</td>\n",
              "      <td>-8.070468e-03</td>\n",
              "      <td>-3.080798e-01</td>\n",
              "      <td>67.000000</td>\n",
              "      <td>-3.286830e-01</td>\n",
              "      <td>5.305936e-02</td>\n",
              "      <td>3.920390e-01</td>\n",
              "      <td>6.303895e-02</td>\n",
              "      <td>-5.378393e-02</td>\n",
              "      <td>4.951228e-02</td>\n",
              "      <td>4.667220e-01</td>\n",
              "    </tr>\n",
              "    <tr>\n",
              "      <th>75%</th>\n",
              "      <td>4.203532e-01</td>\n",
              "      <td>4.567743e-01</td>\n",
              "      <td>6.439163e-01</td>\n",
              "      <td>7.374110e-01</td>\n",
              "      <td>1.620398e-01</td>\n",
              "      <td>7.119539e-01</td>\n",
              "      <td>5.225514e-01</td>\n",
              "      <td>3.134215e-01</td>\n",
              "      <td>86.000000</td>\n",
              "      <td>5.826352e-01</td>\n",
              "      <td>7.093453e-01</td>\n",
              "      <td>3.920390e-01</td>\n",
              "      <td>9.292581e-02</td>\n",
              "      <td>6.803653e-01</td>\n",
              "      <td>3.609079e-01</td>\n",
              "      <td>4.667220e-01</td>\n",
              "    </tr>\n",
              "    <tr>\n",
              "      <th>max</th>\n",
              "      <td>1.117147e+01</td>\n",
              "      <td>3.498690e+00</td>\n",
              "      <td>3.182754e+00</td>\n",
              "      <td>7.374110e-01</td>\n",
              "      <td>1.210381e+02</td>\n",
              "      <td>3.617962e+00</td>\n",
              "      <td>2.174881e+00</td>\n",
              "      <td>7.858183e+01</td>\n",
              "      <td>649.000000</td>\n",
              "      <td>2.405271e+00</td>\n",
              "      <td>2.252592e+00</td>\n",
              "      <td>7.608787e+00</td>\n",
              "      <td>4.074094e+00</td>\n",
              "      <td>6.553559e+00</td>\n",
              "      <td>1.060788e+01</td>\n",
              "      <td>2.612972e+00</td>\n",
              "    </tr>\n",
              "  </tbody>\n",
              "</table>\n",
              "</div>"
            ],
            "text/plain": [
              "       serviceCharge  picturecount    pricetrend  telekomUploadSpeed  \\\n",
              "count   2.582530e+05  2.582530e+05  2.582530e+05        2.582530e+05   \n",
              "mean   -2.834846e-14  1.503008e-14  2.279464e-13       -2.412092e-12   \n",
              "std     1.000000e+00  1.000000e+00  1.000000e+00        1.000000e+00   \n",
              "min    -1.829452e+00 -1.690460e+00 -3.115930e+00       -1.826556e+00   \n",
              "25%    -6.615204e-01 -6.168430e-01 -7.277015e-01       -1.234871e+00   \n",
              "50%    -1.274683e-01 -8.003431e-02  2.534358e-02        7.374110e-01   \n",
              "75%     4.203532e-01  4.567743e-01  6.439163e-01        7.374110e-01   \n",
              "max     1.117147e+01  3.498690e+00  3.182754e+00        7.374110e-01   \n",
              "\n",
              "          totalRent  yearConstructed  yearConstructedRange      baseRent  \\\n",
              "count  2.582530e+05     2.582530e+05          2.582530e+05  2.582530e+05   \n",
              "mean  -8.502470e-13     7.364835e-11         -7.863597e-13 -1.722068e-15   \n",
              "std    1.000000e+00     1.000000e+00          1.000000e+00  1.000000e+00   \n",
              "min   -1.546886e+00    -3.736018e+00         -1.129778e+00 -1.296369e+00   \n",
              "25%   -6.177804e-01    -2.665999e-01         -7.166955e-01 -6.137362e-01   \n",
              "50%   -1.608123e-01    -4.682897e-02         -8.070468e-03 -3.080798e-01   \n",
              "75%    1.620398e-01     7.119539e-01          5.225514e-01  3.134215e-01   \n",
              "max    1.210381e+02     3.617962e+00          2.174881e+00  7.858183e+01   \n",
              "\n",
              "         livingSpace  baseRentRange       geo_plz       noRooms   thermalChar  \\\n",
              "count  258253.000000   2.582530e+05  2.582530e+05  2.582530e+05  2.582530e+05   \n",
              "mean       72.988794  -5.523028e-15  1.866997e-15  7.437212e-15 -3.929933e-12   \n",
              "std        31.161360   1.000000e+00  1.000000e+00  1.000000e+00  1.000000e+00   \n",
              "min         1.000000  -1.240001e+00 -1.312004e+00 -1.669889e+00 -3.125951e+00   \n",
              "25%        54.000000  -7.843420e-01 -1.014529e+00 -6.389251e-01 -4.273247e-01   \n",
              "50%        67.000000  -3.286830e-01  5.305936e-02  3.920390e-01  6.303895e-02   \n",
              "75%        86.000000   5.826352e-01  7.093453e-01  3.920390e-01  9.292581e-02   \n",
              "max       649.000000   2.405271e+00  2.252592e+00  7.608787e+00  4.074094e+00   \n",
              "\n",
              "              floor  numberOfFloors  noRoomsRange  \n",
              "count  2.582530e+05    2.582530e+05  2.582530e+05  \n",
              "mean   1.284564e-12    5.227225e-12 -4.755904e-15  \n",
              "std    1.000000e+00    1.000000e+00  1.000000e+00  \n",
              "min   -2.256232e+00   -2.566799e+00 -1.679528e+00  \n",
              "25%   -7.879331e-01   -3.710189e-01 -6.064032e-01  \n",
              "50%   -5.378393e-02    4.951228e-02  4.667220e-01  \n",
              "75%    6.803653e-01    3.609079e-01  4.667220e-01  \n",
              "max    6.553559e+00    1.060788e+01  2.612972e+00  "
            ]
          },
          "metadata": {
            "tags": []
          },
          "execution_count": 69
        }
      ]
    },
    {
      "cell_type": "code",
      "metadata": {
        "id": "OiMHpDnBQAIS"
      },
      "source": [
        "corr = df.corr()\n"
      ],
      "execution_count": 70,
      "outputs": []
    },
    {
      "cell_type": "code",
      "metadata": {
        "colab": {
          "base_uri": "https://localhost:8080/",
          "height": 1000
        },
        "id": "Dd63gtAFQB0C",
        "outputId": "170b1fa0-a39e-4784-a8c9-3a060965924e"
      },
      "source": [
        "f, ax = plt.subplots(figsize=(20, 20))\n",
        "\n",
        "sns.heatmap(corr, square = True,fmt='.2f' ,annot = True)"
      ],
      "execution_count": 71,
      "outputs": [
        {
          "output_type": "execute_result",
          "data": {
            "text/plain": [
              "<matplotlib.axes._subplots.AxesSubplot at 0x7f55022abfd0>"
            ]
          },
          "metadata": {
            "tags": []
          },
          "execution_count": 71
        },
        {
          "output_type": "display_data",
          "data": {
            "image/png": "[encoded data removed]",
            "text/plain": [
              "<Figure size 1440x1440 with 2 Axes>"
            ]
          },
          "metadata": {
            "tags": []
          }
        }
      ]
    },
    {
      "cell_type": "code",
      "metadata": {
        "colab": {
          "base_uri": "https://localhost:8080/"
        },
        "id": "mFzRhgnqQDDs",
        "outputId": "5e7ce8f1-9bdd-4cd4-c85c-6e7af3bfbc19"
      },
      "source": [
        "columns = []\n",
        "for cols in df.columns:\n",
        "    if df[cols].dtype == 'object' or df[cols].dtype == 'bool':\n",
        "        columns.append(cols)\n",
        "        \n",
        "columns"
      ],
      "execution_count": 72,
      "outputs": [
        {
          "output_type": "execute_result",
          "data": {
            "text/plain": [
              "['telekomTvOffer',\n",
              " 'newlyConst',\n",
              " 'balcony',\n",
              " 'hasKitchen',\n",
              " 'cellar',\n",
              " 'interiorQual',\n",
              " 'petsAllowed',\n",
              " 'lift',\n",
              " 'garden',\n",
              " 'regio1_edit',\n",
              " 'heatingType_edit',\n",
              " 'condition_edit',\n",
              " 'typeOfFlat_edit']"
            ]
          },
          "metadata": {
            "tags": []
          },
          "execution_count": 72
        }
      ]
    },
    {
      "cell_type": "code",
      "metadata": {
        "colab": {
          "base_uri": "https://localhost:8080/",
          "height": 224
        },
        "id": "hd1ZhsZSQFgM",
        "outputId": "8ba9e403-11a6-4810-cd25-53ace1ce3fda"
      },
      "source": [
        "dummies_feature = pd.get_dummies(df[columns])\n",
        "dummies_feature.head()"
      ],
      "execution_count": 73,
      "outputs": [
        {
          "output_type": "execute_result",
          "data": {
            "text/html": [
              "<div>\n",
              "<style scoped>\n",
              "    .dataframe tbody tr th:only-of-type {\n",
              "        vertical-align: middle;\n",
              "    }\n",
              "\n",
              "    .dataframe tbody tr th {\n",
              "        vertical-align: top;\n",
              "    }\n",
              "\n",
              "    .dataframe thead th {\n",
              "        text-align: right;\n",
              "    }\n",
              "</style>\n",
              "<table border=\"1\" class=\"dataframe\">\n",
              "  <thead>\n",
              "    <tr style=\"text-align: right;\">\n",
              "      <th></th>\n",
              "      <th>newlyConst</th>\n",
              "      <th>balcony</th>\n",
              "      <th>hasKitchen</th>\n",
              "      <th>cellar</th>\n",
              "      <th>lift</th>\n",
              "      <th>garden</th>\n",
              "      <th>telekomTvOffer_NONE</th>\n",
              "      <th>telekomTvOffer_ONE_YEAR_FREE</th>\n",
              "      <th>telekomTvOffer_ON_DEMAND</th>\n",
              "      <th>interiorQual_luxury</th>\n",
              "      <th>interiorQual_normal</th>\n",
              "      <th>interiorQual_simple</th>\n",
              "      <th>interiorQual_sophisticated</th>\n",
              "      <th>petsAllowed_negotiable</th>\n",
              "      <th>petsAllowed_no</th>\n",
              "      <th>petsAllowed_yes</th>\n",
              "      <th>regio1_edit_Baden_Württemberg</th>\n",
              "      <th>regio1_edit_Bayern</th>\n",
              "      <th>regio1_edit_Berlin</th>\n",
              "      <th>regio1_edit_Brandenburg</th>\n",
              "      <th>regio1_edit_Hessen</th>\n",
              "      <th>regio1_edit_Mecklenburg_Vorpommern</th>\n",
              "      <th>regio1_edit_Niedersachsen</th>\n",
              "      <th>regio1_edit_Nordrhein_Westfalen</th>\n",
              "      <th>regio1_edit_Rheinland_Pfalz</th>\n",
              "      <th>regio1_edit_Sachsen</th>\n",
              "      <th>regio1_edit_Sachsen_Anhalt</th>\n",
              "      <th>regio1_edit_Schleswig_Holstein</th>\n",
              "      <th>regio1_edit_Thüringen</th>\n",
              "      <th>regio1_edit_other</th>\n",
              "      <th>heatingType_edit_central_heating</th>\n",
              "      <th>heatingType_edit_district_heating</th>\n",
              "      <th>heatingType_edit_floor_heating</th>\n",
              "      <th>heatingType_edit_gas_heating</th>\n",
              "      <th>heatingType_edit_other</th>\n",
              "      <th>heatingType_edit_self_contained_central_heating</th>\n",
              "      <th>condition_edit_first_time_use</th>\n",
              "      <th>condition_edit_fully_renovated</th>\n",
              "      <th>condition_edit_mint_condition</th>\n",
              "      <th>condition_edit_modernized</th>\n",
              "      <th>condition_edit_other</th>\n",
              "      <th>condition_edit_refurbished</th>\n",
              "      <th>condition_edit_well_kept</th>\n",
              "      <th>typeOfFlat_edit_apartment</th>\n",
              "      <th>typeOfFlat_edit_ground_floor</th>\n",
              "      <th>typeOfFlat_edit_half_loft</th>\n",
              "      <th>typeOfFlat_edit_maisonette</th>\n",
              "      <th>typeOfFlat_edit_other</th>\n",
              "      <th>typeOfFlat_edit_penthouse</th>\n",
              "      <th>typeOfFlat_edit_raised_ground_floor</th>\n",
              "      <th>typeOfFlat_edit_roof_storey</th>\n",
              "      <th>typeOfFlat_edit_terraced_flat</th>\n",
              "    </tr>\n",
              "  </thead>\n",
              "  <tbody>\n",
              "    <tr>\n",
              "      <th>0</th>\n",
              "      <td>False</td>\n",
              "      <td>False</td>\n",
              "      <td>False</td>\n",
              "      <td>True</td>\n",
              "      <td>False</td>\n",
              "      <td>True</td>\n",
              "      <td>0</td>\n",
              "      <td>1</td>\n",
              "      <td>0</td>\n",
              "      <td>0</td>\n",
              "      <td>1</td>\n",
              "      <td>0</td>\n",
              "      <td>0</td>\n",
              "      <td>1</td>\n",
              "      <td>0</td>\n",
              "      <td>0</td>\n",
              "      <td>0</td>\n",
              "      <td>0</td>\n",
              "      <td>0</td>\n",
              "      <td>0</td>\n",
              "      <td>0</td>\n",
              "      <td>0</td>\n",
              "      <td>0</td>\n",
              "      <td>1</td>\n",
              "      <td>0</td>\n",
              "      <td>0</td>\n",
              "      <td>0</td>\n",
              "      <td>0</td>\n",
              "      <td>0</td>\n",
              "      <td>0</td>\n",
              "      <td>1</td>\n",
              "      <td>0</td>\n",
              "      <td>0</td>\n",
              "      <td>0</td>\n",
              "      <td>0</td>\n",
              "      <td>0</td>\n",
              "      <td>0</td>\n",
              "      <td>0</td>\n",
              "      <td>0</td>\n",
              "      <td>0</td>\n",
              "      <td>0</td>\n",
              "      <td>0</td>\n",
              "      <td>1</td>\n",
              "      <td>0</td>\n",
              "      <td>1</td>\n",
              "      <td>0</td>\n",
              "      <td>0</td>\n",
              "      <td>0</td>\n",
              "      <td>0</td>\n",
              "      <td>0</td>\n",
              "      <td>0</td>\n",
              "      <td>0</td>\n",
              "    </tr>\n",
              "    <tr>\n",
              "      <th>1</th>\n",
              "      <td>False</td>\n",
              "      <td>True</td>\n",
              "      <td>False</td>\n",
              "      <td>False</td>\n",
              "      <td>False</td>\n",
              "      <td>False</td>\n",
              "      <td>0</td>\n",
              "      <td>1</td>\n",
              "      <td>0</td>\n",
              "      <td>0</td>\n",
              "      <td>1</td>\n",
              "      <td>0</td>\n",
              "      <td>0</td>\n",
              "      <td>0</td>\n",
              "      <td>1</td>\n",
              "      <td>0</td>\n",
              "      <td>0</td>\n",
              "      <td>0</td>\n",
              "      <td>0</td>\n",
              "      <td>0</td>\n",
              "      <td>0</td>\n",
              "      <td>0</td>\n",
              "      <td>0</td>\n",
              "      <td>0</td>\n",
              "      <td>1</td>\n",
              "      <td>0</td>\n",
              "      <td>0</td>\n",
              "      <td>0</td>\n",
              "      <td>0</td>\n",
              "      <td>0</td>\n",
              "      <td>0</td>\n",
              "      <td>0</td>\n",
              "      <td>0</td>\n",
              "      <td>0</td>\n",
              "      <td>0</td>\n",
              "      <td>1</td>\n",
              "      <td>0</td>\n",
              "      <td>0</td>\n",
              "      <td>0</td>\n",
              "      <td>0</td>\n",
              "      <td>0</td>\n",
              "      <td>1</td>\n",
              "      <td>0</td>\n",
              "      <td>0</td>\n",
              "      <td>1</td>\n",
              "      <td>0</td>\n",
              "      <td>0</td>\n",
              "      <td>0</td>\n",
              "      <td>0</td>\n",
              "      <td>0</td>\n",
              "      <td>0</td>\n",
              "      <td>0</td>\n",
              "    </tr>\n",
              "    <tr>\n",
              "      <th>2</th>\n",
              "      <td>True</td>\n",
              "      <td>True</td>\n",
              "      <td>False</td>\n",
              "      <td>True</td>\n",
              "      <td>True</td>\n",
              "      <td>False</td>\n",
              "      <td>0</td>\n",
              "      <td>1</td>\n",
              "      <td>0</td>\n",
              "      <td>0</td>\n",
              "      <td>0</td>\n",
              "      <td>0</td>\n",
              "      <td>1</td>\n",
              "      <td>1</td>\n",
              "      <td>0</td>\n",
              "      <td>0</td>\n",
              "      <td>0</td>\n",
              "      <td>0</td>\n",
              "      <td>0</td>\n",
              "      <td>0</td>\n",
              "      <td>0</td>\n",
              "      <td>0</td>\n",
              "      <td>0</td>\n",
              "      <td>0</td>\n",
              "      <td>0</td>\n",
              "      <td>1</td>\n",
              "      <td>0</td>\n",
              "      <td>0</td>\n",
              "      <td>0</td>\n",
              "      <td>0</td>\n",
              "      <td>0</td>\n",
              "      <td>0</td>\n",
              "      <td>1</td>\n",
              "      <td>0</td>\n",
              "      <td>0</td>\n",
              "      <td>0</td>\n",
              "      <td>1</td>\n",
              "      <td>0</td>\n",
              "      <td>0</td>\n",
              "      <td>0</td>\n",
              "      <td>0</td>\n",
              "      <td>0</td>\n",
              "      <td>0</td>\n",
              "      <td>1</td>\n",
              "      <td>0</td>\n",
              "      <td>0</td>\n",
              "      <td>0</td>\n",
              "      <td>0</td>\n",
              "      <td>0</td>\n",
              "      <td>0</td>\n",
              "      <td>0</td>\n",
              "      <td>0</td>\n",
              "    </tr>\n",
              "    <tr>\n",
              "      <th>3</th>\n",
              "      <td>False</td>\n",
              "      <td>True</td>\n",
              "      <td>False</td>\n",
              "      <td>False</td>\n",
              "      <td>False</td>\n",
              "      <td>False</td>\n",
              "      <td>0</td>\n",
              "      <td>1</td>\n",
              "      <td>0</td>\n",
              "      <td>0</td>\n",
              "      <td>1</td>\n",
              "      <td>0</td>\n",
              "      <td>0</td>\n",
              "      <td>1</td>\n",
              "      <td>0</td>\n",
              "      <td>0</td>\n",
              "      <td>0</td>\n",
              "      <td>0</td>\n",
              "      <td>0</td>\n",
              "      <td>0</td>\n",
              "      <td>0</td>\n",
              "      <td>0</td>\n",
              "      <td>0</td>\n",
              "      <td>0</td>\n",
              "      <td>0</td>\n",
              "      <td>1</td>\n",
              "      <td>0</td>\n",
              "      <td>0</td>\n",
              "      <td>0</td>\n",
              "      <td>0</td>\n",
              "      <td>0</td>\n",
              "      <td>1</td>\n",
              "      <td>0</td>\n",
              "      <td>0</td>\n",
              "      <td>0</td>\n",
              "      <td>0</td>\n",
              "      <td>0</td>\n",
              "      <td>0</td>\n",
              "      <td>0</td>\n",
              "      <td>0</td>\n",
              "      <td>0</td>\n",
              "      <td>0</td>\n",
              "      <td>1</td>\n",
              "      <td>0</td>\n",
              "      <td>0</td>\n",
              "      <td>0</td>\n",
              "      <td>0</td>\n",
              "      <td>1</td>\n",
              "      <td>0</td>\n",
              "      <td>0</td>\n",
              "      <td>0</td>\n",
              "      <td>0</td>\n",
              "    </tr>\n",
              "    <tr>\n",
              "      <th>4</th>\n",
              "      <td>False</td>\n",
              "      <td>True</td>\n",
              "      <td>False</td>\n",
              "      <td>False</td>\n",
              "      <td>False</td>\n",
              "      <td>False</td>\n",
              "      <td>0</td>\n",
              "      <td>1</td>\n",
              "      <td>0</td>\n",
              "      <td>0</td>\n",
              "      <td>1</td>\n",
              "      <td>0</td>\n",
              "      <td>0</td>\n",
              "      <td>1</td>\n",
              "      <td>0</td>\n",
              "      <td>0</td>\n",
              "      <td>0</td>\n",
              "      <td>0</td>\n",
              "      <td>0</td>\n",
              "      <td>0</td>\n",
              "      <td>0</td>\n",
              "      <td>0</td>\n",
              "      <td>0</td>\n",
              "      <td>0</td>\n",
              "      <td>0</td>\n",
              "      <td>0</td>\n",
              "      <td>0</td>\n",
              "      <td>0</td>\n",
              "      <td>0</td>\n",
              "      <td>1</td>\n",
              "      <td>0</td>\n",
              "      <td>0</td>\n",
              "      <td>0</td>\n",
              "      <td>0</td>\n",
              "      <td>0</td>\n",
              "      <td>1</td>\n",
              "      <td>0</td>\n",
              "      <td>0</td>\n",
              "      <td>0</td>\n",
              "      <td>0</td>\n",
              "      <td>0</td>\n",
              "      <td>1</td>\n",
              "      <td>0</td>\n",
              "      <td>1</td>\n",
              "      <td>0</td>\n",
              "      <td>0</td>\n",
              "      <td>0</td>\n",
              "      <td>0</td>\n",
              "      <td>0</td>\n",
              "      <td>0</td>\n",
              "      <td>0</td>\n",
              "      <td>0</td>\n",
              "    </tr>\n",
              "  </tbody>\n",
              "</table>\n",
              "</div>"
            ],
            "text/plain": [
              "   newlyConst  balcony  hasKitchen  cellar   lift  garden  \\\n",
              "0       False    False       False    True  False    True   \n",
              "1       False     True       False   False  False   False   \n",
              "2        True     True       False    True   True   False   \n",
              "3       False     True       False   False  False   False   \n",
              "4       False     True       False   False  False   False   \n",
              "\n",
              "   telekomTvOffer_NONE  telekomTvOffer_ONE_YEAR_FREE  \\\n",
              "0                    0                             1   \n",
              "1                    0                             1   \n",
              "2                    0                             1   \n",
              "3                    0                             1   \n",
              "4                    0                             1   \n",
              "\n",
              "   telekomTvOffer_ON_DEMAND  interiorQual_luxury  interiorQual_normal  \\\n",
              "0                         0                    0                    1   \n",
              "1                         0                    0                    1   \n",
              "2                         0                    0                    0   \n",
              "3                         0                    0                    1   \n",
              "4                         0                    0                    1   \n",
              "\n",
              "   interiorQual_simple  interiorQual_sophisticated  petsAllowed_negotiable  \\\n",
              "0                    0                           0                       1   \n",
              "1                    0                           0                       0   \n",
              "2                    0                           1                       1   \n",
              "3                    0                           0                       1   \n",
              "4                    0                           0                       1   \n",
              "\n",
              "   petsAllowed_no  petsAllowed_yes  regio1_edit_Baden_Württemberg  \\\n",
              "0               0                0                              0   \n",
              "1               1                0                              0   \n",
              "2               0                0                              0   \n",
              "3               0                0                              0   \n",
              "4               0                0                              0   \n",
              "\n",
              "   regio1_edit_Bayern  regio1_edit_Berlin  regio1_edit_Brandenburg  \\\n",
              "0                   0                   0                        0   \n",
              "1                   0                   0                        0   \n",
              "2                   0                   0                        0   \n",
              "3                   0                   0                        0   \n",
              "4                   0                   0                        0   \n",
              "\n",
              "   regio1_edit_Hessen  regio1_edit_Mecklenburg_Vorpommern  \\\n",
              "0                   0                                   0   \n",
              "1                   0                                   0   \n",
              "2                   0                                   0   \n",
              "3                   0                                   0   \n",
              "4                   0                                   0   \n",
              "\n",
              "   regio1_edit_Niedersachsen  regio1_edit_Nordrhein_Westfalen  \\\n",
              "0                          0                                1   \n",
              "1                          0                                0   \n",
              "2                          0                                0   \n",
              "3                          0                                0   \n",
              "4                          0                                0   \n",
              "\n",
              "   regio1_edit_Rheinland_Pfalz  regio1_edit_Sachsen  \\\n",
              "0                            0                    0   \n",
              "1                            1                    0   \n",
              "2                            0                    1   \n",
              "3                            0                    1   \n",
              "4                            0                    0   \n",
              "\n",
              "   regio1_edit_Sachsen_Anhalt  regio1_edit_Schleswig_Holstein  \\\n",
              "0                           0                               0   \n",
              "1                           0                               0   \n",
              "2                           0                               0   \n",
              "3                           0                               0   \n",
              "4                           0                               0   \n",
              "\n",
              "   regio1_edit_Thüringen  regio1_edit_other  heatingType_edit_central_heating  \\\n",
              "0                      0                  0                                 1   \n",
              "1                      0                  0                                 0   \n",
              "2                      0                  0                                 0   \n",
              "3                      0                  0                                 0   \n",
              "4                      0                  1                                 0   \n",
              "\n",
              "   heatingType_edit_district_heating  heatingType_edit_floor_heating  \\\n",
              "0                                  0                               0   \n",
              "1                                  0                               0   \n",
              "2                                  0                               1   \n",
              "3                                  1                               0   \n",
              "4                                  0                               0   \n",
              "\n",
              "   heatingType_edit_gas_heating  heatingType_edit_other  \\\n",
              "0                             0                       0   \n",
              "1                             0                       0   \n",
              "2                             0                       0   \n",
              "3                             0                       0   \n",
              "4                             0                       0   \n",
              "\n",
              "   heatingType_edit_self_contained_central_heating  \\\n",
              "0                                                0   \n",
              "1                                                1   \n",
              "2                                                0   \n",
              "3                                                0   \n",
              "4                                                1   \n",
              "\n",
              "   condition_edit_first_time_use  condition_edit_fully_renovated  \\\n",
              "0                              0                               0   \n",
              "1                              0                               0   \n",
              "2                              1                               0   \n",
              "3                              0                               0   \n",
              "4                              0                               0   \n",
              "\n",
              "   condition_edit_mint_condition  condition_edit_modernized  \\\n",
              "0                              0                          0   \n",
              "1                              0                          0   \n",
              "2                              0                          0   \n",
              "3                              0                          0   \n",
              "4                              0                          0   \n",
              "\n",
              "   condition_edit_other  condition_edit_refurbished  condition_edit_well_kept  \\\n",
              "0                     0                           0                         1   \n",
              "1                     0                           1                         0   \n",
              "2                     0                           0                         0   \n",
              "3                     0                           0                         1   \n",
              "4                     0                           1                         0   \n",
              "\n",
              "   typeOfFlat_edit_apartment  typeOfFlat_edit_ground_floor  \\\n",
              "0                          0                             1   \n",
              "1                          0                             1   \n",
              "2                          1                             0   \n",
              "3                          0                             0   \n",
              "4                          1                             0   \n",
              "\n",
              "   typeOfFlat_edit_half_loft  typeOfFlat_edit_maisonette  \\\n",
              "0                          0                           0   \n",
              "1                          0                           0   \n",
              "2                          0                           0   \n",
              "3                          0                           0   \n",
              "4                          0                           0   \n",
              "\n",
              "   typeOfFlat_edit_other  typeOfFlat_edit_penthouse  \\\n",
              "0                      0                          0   \n",
              "1                      0                          0   \n",
              "2                      0                          0   \n",
              "3                      1                          0   \n",
              "4                      0                          0   \n",
              "\n",
              "   typeOfFlat_edit_raised_ground_floor  typeOfFlat_edit_roof_storey  \\\n",
              "0                                    0                            0   \n",
              "1                                    0                            0   \n",
              "2                                    0                            0   \n",
              "3                                    0                            0   \n",
              "4                                    0                            0   \n",
              "\n",
              "   typeOfFlat_edit_terraced_flat  \n",
              "0                              0  \n",
              "1                              0  \n",
              "2                              0  \n",
              "3                              0  \n",
              "4                              0  "
            ]
          },
          "metadata": {
            "tags": []
          },
          "execution_count": 73
        }
      ]
    },
    {
      "cell_type": "code",
      "metadata": {
        "colab": {
          "base_uri": "https://localhost:8080/"
        },
        "id": "CKr0hvv1QHfQ",
        "outputId": "a113a139-e476-473a-8914-7640219ea481"
      },
      "source": [
        "dummies_feature.shape\n"
      ],
      "execution_count": 74,
      "outputs": [
        {
          "output_type": "execute_result",
          "data": {
            "text/plain": [
              "(258253, 52)"
            ]
          },
          "metadata": {
            "tags": []
          },
          "execution_count": 74
        }
      ]
    },
    {
      "cell_type": "code",
      "metadata": {
        "colab": {
          "base_uri": "https://localhost:8080/",
          "height": 224
        },
        "id": "SWRla-yVQI4j",
        "outputId": "4f22dd28-6d69-49d3-829d-fbd3c8274cb7"
      },
      "source": [
        "df = pd.concat([df, dummies_feature], axis=1)\n",
        "df.head()"
      ],
      "execution_count": 75,
      "outputs": [
        {
          "output_type": "execute_result",
          "data": {
            "text/html": [
              "<div>\n",
              "<style scoped>\n",
              "    .dataframe tbody tr th:only-of-type {\n",
              "        vertical-align: middle;\n",
              "    }\n",
              "\n",
              "    .dataframe tbody tr th {\n",
              "        vertical-align: top;\n",
              "    }\n",
              "\n",
              "    .dataframe thead th {\n",
              "        text-align: right;\n",
              "    }\n",
              "</style>\n",
              "<table border=\"1\" class=\"dataframe\">\n",
              "  <thead>\n",
              "    <tr style=\"text-align: right;\">\n",
              "      <th></th>\n",
              "      <th>serviceCharge</th>\n",
              "      <th>telekomTvOffer</th>\n",
              "      <th>newlyConst</th>\n",
              "      <th>balcony</th>\n",
              "      <th>picturecount</th>\n",
              "      <th>pricetrend</th>\n",
              "      <th>telekomUploadSpeed</th>\n",
              "      <th>totalRent</th>\n",
              "      <th>yearConstructed</th>\n",
              "      <th>hasKitchen</th>\n",
              "      <th>cellar</th>\n",
              "      <th>yearConstructedRange</th>\n",
              "      <th>baseRent</th>\n",
              "      <th>livingSpace</th>\n",
              "      <th>interiorQual</th>\n",
              "      <th>petsAllowed</th>\n",
              "      <th>lift</th>\n",
              "      <th>baseRentRange</th>\n",
              "      <th>geo_plz</th>\n",
              "      <th>noRooms</th>\n",
              "      <th>thermalChar</th>\n",
              "      <th>floor</th>\n",
              "      <th>numberOfFloors</th>\n",
              "      <th>noRoomsRange</th>\n",
              "      <th>garden</th>\n",
              "      <th>regio1_edit</th>\n",
              "      <th>heatingType_edit</th>\n",
              "      <th>condition_edit</th>\n",
              "      <th>typeOfFlat_edit</th>\n",
              "      <th>newlyConst</th>\n",
              "      <th>balcony</th>\n",
              "      <th>hasKitchen</th>\n",
              "      <th>cellar</th>\n",
              "      <th>lift</th>\n",
              "      <th>garden</th>\n",
              "      <th>telekomTvOffer_NONE</th>\n",
              "      <th>telekomTvOffer_ONE_YEAR_FREE</th>\n",
              "      <th>telekomTvOffer_ON_DEMAND</th>\n",
              "      <th>interiorQual_luxury</th>\n",
              "      <th>interiorQual_normal</th>\n",
              "      <th>interiorQual_simple</th>\n",
              "      <th>interiorQual_sophisticated</th>\n",
              "      <th>petsAllowed_negotiable</th>\n",
              "      <th>petsAllowed_no</th>\n",
              "      <th>petsAllowed_yes</th>\n",
              "      <th>regio1_edit_Baden_Württemberg</th>\n",
              "      <th>regio1_edit_Bayern</th>\n",
              "      <th>regio1_edit_Berlin</th>\n",
              "      <th>regio1_edit_Brandenburg</th>\n",
              "      <th>regio1_edit_Hessen</th>\n",
              "      <th>regio1_edit_Mecklenburg_Vorpommern</th>\n",
              "      <th>regio1_edit_Niedersachsen</th>\n",
              "      <th>regio1_edit_Nordrhein_Westfalen</th>\n",
              "      <th>regio1_edit_Rheinland_Pfalz</th>\n",
              "      <th>regio1_edit_Sachsen</th>\n",
              "      <th>regio1_edit_Sachsen_Anhalt</th>\n",
              "      <th>regio1_edit_Schleswig_Holstein</th>\n",
              "      <th>regio1_edit_Thüringen</th>\n",
              "      <th>regio1_edit_other</th>\n",
              "      <th>heatingType_edit_central_heating</th>\n",
              "      <th>heatingType_edit_district_heating</th>\n",
              "      <th>heatingType_edit_floor_heating</th>\n",
              "      <th>heatingType_edit_gas_heating</th>\n",
              "      <th>heatingType_edit_other</th>\n",
              "      <th>heatingType_edit_self_contained_central_heating</th>\n",
              "      <th>condition_edit_first_time_use</th>\n",
              "      <th>condition_edit_fully_renovated</th>\n",
              "      <th>condition_edit_mint_condition</th>\n",
              "      <th>condition_edit_modernized</th>\n",
              "      <th>condition_edit_other</th>\n",
              "      <th>condition_edit_refurbished</th>\n",
              "      <th>condition_edit_well_kept</th>\n",
              "      <th>typeOfFlat_edit_apartment</th>\n",
              "      <th>typeOfFlat_edit_ground_floor</th>\n",
              "      <th>typeOfFlat_edit_half_loft</th>\n",
              "      <th>typeOfFlat_edit_maisonette</th>\n",
              "      <th>typeOfFlat_edit_other</th>\n",
              "      <th>typeOfFlat_edit_penthouse</th>\n",
              "      <th>typeOfFlat_edit_raised_ground_floor</th>\n",
              "      <th>typeOfFlat_edit_roof_storey</th>\n",
              "      <th>typeOfFlat_edit_terraced_flat</th>\n",
              "    </tr>\n",
              "  </thead>\n",
              "  <tbody>\n",
              "    <tr>\n",
              "      <th>0</th>\n",
              "      <td>1.182582</td>\n",
              "      <td>ONE_YEAR_FREE</td>\n",
              "      <td>False</td>\n",
              "      <td>False</td>\n",
              "      <td>-0.616843</td>\n",
              "      <td>0.697705</td>\n",
              "      <td>-1.234871</td>\n",
              "      <td>0.043970</td>\n",
              "      <td>-0.088681</td>\n",
              "      <td>False</td>\n",
              "      <td>True</td>\n",
              "      <td>-0.716696</td>\n",
              "      <td>-0.083932</td>\n",
              "      <td>86.00</td>\n",
              "      <td>normal</td>\n",
              "      <td>negotiable</td>\n",
              "      <td>False</td>\n",
              "      <td>0.126976</td>\n",
              "      <td>0.248967</td>\n",
              "      <td>1.423003</td>\n",
              "      <td>1.917976</td>\n",
              "      <td>-0.787933</td>\n",
              "      <td>-0.371019</td>\n",
              "      <td>1.539847</td>\n",
              "      <td>True</td>\n",
              "      <td>Nordrhein_Westfalen</td>\n",
              "      <td>central_heating</td>\n",
              "      <td>well_kept</td>\n",
              "      <td>ground_floor</td>\n",
              "      <td>False</td>\n",
              "      <td>False</td>\n",
              "      <td>False</td>\n",
              "      <td>True</td>\n",
              "      <td>False</td>\n",
              "      <td>True</td>\n",
              "      <td>0</td>\n",
              "      <td>1</td>\n",
              "      <td>0</td>\n",
              "      <td>0</td>\n",
              "      <td>1</td>\n",
              "      <td>0</td>\n",
              "      <td>0</td>\n",
              "      <td>1</td>\n",
              "      <td>0</td>\n",
              "      <td>0</td>\n",
              "      <td>0</td>\n",
              "      <td>0</td>\n",
              "      <td>0</td>\n",
              "      <td>0</td>\n",
              "      <td>0</td>\n",
              "      <td>0</td>\n",
              "      <td>0</td>\n",
              "      <td>1</td>\n",
              "      <td>0</td>\n",
              "      <td>0</td>\n",
              "      <td>0</td>\n",
              "      <td>0</td>\n",
              "      <td>0</td>\n",
              "      <td>0</td>\n",
              "      <td>1</td>\n",
              "      <td>0</td>\n",
              "      <td>0</td>\n",
              "      <td>0</td>\n",
              "      <td>0</td>\n",
              "      <td>0</td>\n",
              "      <td>0</td>\n",
              "      <td>0</td>\n",
              "      <td>0</td>\n",
              "      <td>0</td>\n",
              "      <td>0</td>\n",
              "      <td>0</td>\n",
              "      <td>1</td>\n",
              "      <td>0</td>\n",
              "      <td>1</td>\n",
              "      <td>0</td>\n",
              "      <td>0</td>\n",
              "      <td>0</td>\n",
              "      <td>0</td>\n",
              "      <td>0</td>\n",
              "      <td>0</td>\n",
              "      <td>0</td>\n",
              "    </tr>\n",
              "    <tr>\n",
              "      <th>1</th>\n",
              "      <td>-0.182054</td>\n",
              "      <td>ONE_YEAR_FREE</td>\n",
              "      <td>False</td>\n",
              "      <td>True</td>\n",
              "      <td>-0.258971</td>\n",
              "      <td>0.079133</td>\n",
              "      <td>-1.234871</td>\n",
              "      <td>0.162040</td>\n",
              "      <td>-2.876077</td>\n",
              "      <td>False</td>\n",
              "      <td>False</td>\n",
              "      <td>-1.129778</td>\n",
              "      <td>0.333799</td>\n",
              "      <td>89.00</td>\n",
              "      <td>normal</td>\n",
              "      <td>no</td>\n",
              "      <td>False</td>\n",
              "      <td>0.582635</td>\n",
              "      <td>1.082717</td>\n",
              "      <td>0.392039</td>\n",
              "      <td>0.063039</td>\n",
              "      <td>0.036360</td>\n",
              "      <td>0.049512</td>\n",
              "      <td>0.466722</td>\n",
              "      <td>False</td>\n",
              "      <td>Rheinland_Pfalz</td>\n",
              "      <td>self_contained_central_heating</td>\n",
              "      <td>refurbished</td>\n",
              "      <td>ground_floor</td>\n",
              "      <td>False</td>\n",
              "      <td>True</td>\n",
              "      <td>False</td>\n",
              "      <td>False</td>\n",
              "      <td>False</td>\n",
              "      <td>False</td>\n",
              "      <td>0</td>\n",
              "      <td>1</td>\n",
              "      <td>0</td>\n",
              "      <td>0</td>\n",
              "      <td>1</td>\n",
              "      <td>0</td>\n",
              "      <td>0</td>\n",
              "      <td>0</td>\n",
              "      <td>1</td>\n",
              "      <td>0</td>\n",
              "      <td>0</td>\n",
              "      <td>0</td>\n",
              "      <td>0</td>\n",
              "      <td>0</td>\n",
              "      <td>0</td>\n",
              "      <td>0</td>\n",
              "      <td>0</td>\n",
              "      <td>0</td>\n",
              "      <td>1</td>\n",
              "      <td>0</td>\n",
              "      <td>0</td>\n",
              "      <td>0</td>\n",
              "      <td>0</td>\n",
              "      <td>0</td>\n",
              "      <td>0</td>\n",
              "      <td>0</td>\n",
              "      <td>0</td>\n",
              "      <td>0</td>\n",
              "      <td>0</td>\n",
              "      <td>1</td>\n",
              "      <td>0</td>\n",
              "      <td>0</td>\n",
              "      <td>0</td>\n",
              "      <td>0</td>\n",
              "      <td>0</td>\n",
              "      <td>1</td>\n",
              "      <td>0</td>\n",
              "      <td>0</td>\n",
              "      <td>1</td>\n",
              "      <td>0</td>\n",
              "      <td>0</td>\n",
              "      <td>0</td>\n",
              "      <td>0</td>\n",
              "      <td>0</td>\n",
              "      <td>0</td>\n",
              "      <td>0</td>\n",
              "    </tr>\n",
              "    <tr>\n",
              "      <th>2</th>\n",
              "      <td>1.305523</td>\n",
              "      <td>ONE_YEAR_FREE</td>\n",
              "      <td>True</td>\n",
              "      <td>True</td>\n",
              "      <td>-0.258971</td>\n",
              "      <td>-0.324284</td>\n",
              "      <td>-1.734516</td>\n",
              "      <td>0.916191</td>\n",
              "      <td>1.512589</td>\n",
              "      <td>False</td>\n",
              "      <td>True</td>\n",
              "      <td>2.174881</td>\n",
              "      <td>0.670021</td>\n",
              "      <td>83.80</td>\n",
              "      <td>sophisticated</td>\n",
              "      <td>negotiable</td>\n",
              "      <td>True</td>\n",
              "      <td>1.038294</td>\n",
              "      <td>-1.303195</td>\n",
              "      <td>0.392039</td>\n",
              "      <td>0.063039</td>\n",
              "      <td>0.680365</td>\n",
              "      <td>0.360908</td>\n",
              "      <td>0.466722</td>\n",
              "      <td>False</td>\n",
              "      <td>Sachsen</td>\n",
              "      <td>floor_heating</td>\n",
              "      <td>first_time_use</td>\n",
              "      <td>apartment</td>\n",
              "      <td>True</td>\n",
              "      <td>True</td>\n",
              "      <td>False</td>\n",
              "      <td>True</td>\n",
              "      <td>True</td>\n",
              "      <td>False</td>\n",
              "      <td>0</td>\n",
              "      <td>1</td>\n",
              "      <td>0</td>\n",
              "      <td>0</td>\n",
              "      <td>0</td>\n",
              "      <td>0</td>\n",
              "      <td>1</td>\n",
              "      <td>1</td>\n",
              "      <td>0</td>\n",
              "      <td>0</td>\n",
              "      <td>0</td>\n",
              "      <td>0</td>\n",
              "      <td>0</td>\n",
              "      <td>0</td>\n",
              "      <td>0</td>\n",
              "      <td>0</td>\n",
              "      <td>0</td>\n",
              "      <td>0</td>\n",
              "      <td>0</td>\n",
              "      <td>1</td>\n",
              "      <td>0</td>\n",
              "      <td>0</td>\n",
              "      <td>0</td>\n",
              "      <td>0</td>\n",
              "      <td>0</td>\n",
              "      <td>0</td>\n",
              "      <td>1</td>\n",
              "      <td>0</td>\n",
              "      <td>0</td>\n",
              "      <td>0</td>\n",
              "      <td>1</td>\n",
              "      <td>0</td>\n",
              "      <td>0</td>\n",
              "      <td>0</td>\n",
              "      <td>0</td>\n",
              "      <td>0</td>\n",
              "      <td>0</td>\n",
              "      <td>1</td>\n",
              "      <td>0</td>\n",
              "      <td>0</td>\n",
              "      <td>0</td>\n",
              "      <td>0</td>\n",
              "      <td>0</td>\n",
              "      <td>0</td>\n",
              "      <td>0</td>\n",
              "      <td>0</td>\n",
              "    </tr>\n",
              "    <tr>\n",
              "      <th>3</th>\n",
              "      <td>-1.114555</td>\n",
              "      <td>ONE_YEAR_FREE</td>\n",
              "      <td>False</td>\n",
              "      <td>True</td>\n",
              "      <td>-0.080034</td>\n",
              "      <td>-0.964373</td>\n",
              "      <td>0.737411</td>\n",
              "      <td>0.162040</td>\n",
              "      <td>-0.118334</td>\n",
              "      <td>False</td>\n",
              "      <td>False</td>\n",
              "      <td>-0.716696</td>\n",
              "      <td>-0.597435</td>\n",
              "      <td>58.15</td>\n",
              "      <td>normal</td>\n",
              "      <td>negotiable</td>\n",
              "      <td>False</td>\n",
              "      <td>-0.784342</td>\n",
              "      <td>-0.997523</td>\n",
              "      <td>0.392039</td>\n",
              "      <td>-0.736137</td>\n",
              "      <td>0.680365</td>\n",
              "      <td>0.049512</td>\n",
              "      <td>0.466722</td>\n",
              "      <td>False</td>\n",
              "      <td>Sachsen</td>\n",
              "      <td>district_heating</td>\n",
              "      <td>well_kept</td>\n",
              "      <td>other</td>\n",
              "      <td>False</td>\n",
              "      <td>True</td>\n",
              "      <td>False</td>\n",
              "      <td>False</td>\n",
              "      <td>False</td>\n",
              "      <td>False</td>\n",
              "      <td>0</td>\n",
              "      <td>1</td>\n",
              "      <td>0</td>\n",
              "      <td>0</td>\n",
              "      <td>1</td>\n",
              "      <td>0</td>\n",
              "      <td>0</td>\n",
              "      <td>1</td>\n",
              "      <td>0</td>\n",
              "      <td>0</td>\n",
              "      <td>0</td>\n",
              "      <td>0</td>\n",
              "      <td>0</td>\n",
              "      <td>0</td>\n",
              "      <td>0</td>\n",
              "      <td>0</td>\n",
              "      <td>0</td>\n",
              "      <td>0</td>\n",
              "      <td>0</td>\n",
              "      <td>1</td>\n",
              "      <td>0</td>\n",
              "      <td>0</td>\n",
              "      <td>0</td>\n",
              "      <td>0</td>\n",
              "      <td>0</td>\n",
              "      <td>1</td>\n",
              "      <td>0</td>\n",
              "      <td>0</td>\n",
              "      <td>0</td>\n",
              "      <td>0</td>\n",
              "      <td>0</td>\n",
              "      <td>0</td>\n",
              "      <td>0</td>\n",
              "      <td>0</td>\n",
              "      <td>0</td>\n",
              "      <td>0</td>\n",
              "      <td>1</td>\n",
              "      <td>0</td>\n",
              "      <td>0</td>\n",
              "      <td>0</td>\n",
              "      <td>0</td>\n",
              "      <td>1</td>\n",
              "      <td>0</td>\n",
              "      <td>0</td>\n",
              "      <td>0</td>\n",
              "      <td>0</td>\n",
              "    </tr>\n",
              "    <tr>\n",
              "      <th>4</th>\n",
              "      <td>-0.132878</td>\n",
              "      <td>ONE_YEAR_FREE</td>\n",
              "      <td>False</td>\n",
              "      <td>True</td>\n",
              "      <td>1.709328</td>\n",
              "      <td>-0.464136</td>\n",
              "      <td>0.001624</td>\n",
              "      <td>0.163426</td>\n",
              "      <td>-0.533478</td>\n",
              "      <td>False</td>\n",
              "      <td>False</td>\n",
              "      <td>-1.129778</td>\n",
              "      <td>0.262479</td>\n",
              "      <td>84.97</td>\n",
              "      <td>normal</td>\n",
              "      <td>negotiable</td>\n",
              "      <td>False</td>\n",
              "      <td>0.582635</td>\n",
              "      <td>-0.328294</td>\n",
              "      <td>0.392039</td>\n",
              "      <td>2.126633</td>\n",
              "      <td>-0.787933</td>\n",
              "      <td>0.049512</td>\n",
              "      <td>0.466722</td>\n",
              "      <td>False</td>\n",
              "      <td>other</td>\n",
              "      <td>self_contained_central_heating</td>\n",
              "      <td>refurbished</td>\n",
              "      <td>apartment</td>\n",
              "      <td>False</td>\n",
              "      <td>True</td>\n",
              "      <td>False</td>\n",
              "      <td>False</td>\n",
              "      <td>False</td>\n",
              "      <td>False</td>\n",
              "      <td>0</td>\n",
              "      <td>1</td>\n",
              "      <td>0</td>\n",
              "      <td>0</td>\n",
              "      <td>1</td>\n",
              "      <td>0</td>\n",
              "      <td>0</td>\n",
              "      <td>1</td>\n",
              "      <td>0</td>\n",
              "      <td>0</td>\n",
              "      <td>0</td>\n",
              "      <td>0</td>\n",
              "      <td>0</td>\n",
              "      <td>0</td>\n",
              "      <td>0</td>\n",
              "      <td>0</td>\n",
              "      <td>0</td>\n",
              "      <td>0</td>\n",
              "      <td>0</td>\n",
              "      <td>0</td>\n",
              "      <td>0</td>\n",
              "      <td>0</td>\n",
              "      <td>0</td>\n",
              "      <td>1</td>\n",
              "      <td>0</td>\n",
              "      <td>0</td>\n",
              "      <td>0</td>\n",
              "      <td>0</td>\n",
              "      <td>0</td>\n",
              "      <td>1</td>\n",
              "      <td>0</td>\n",
              "      <td>0</td>\n",
              "      <td>0</td>\n",
              "      <td>0</td>\n",
              "      <td>0</td>\n",
              "      <td>1</td>\n",
              "      <td>0</td>\n",
              "      <td>1</td>\n",
              "      <td>0</td>\n",
              "      <td>0</td>\n",
              "      <td>0</td>\n",
              "      <td>0</td>\n",
              "      <td>0</td>\n",
              "      <td>0</td>\n",
              "      <td>0</td>\n",
              "      <td>0</td>\n",
              "    </tr>\n",
              "  </tbody>\n",
              "</table>\n",
              "</div>"
            ],
            "text/plain": [
              "   serviceCharge telekomTvOffer  newlyConst  balcony  picturecount  \\\n",
              "0       1.182582  ONE_YEAR_FREE       False    False     -0.616843   \n",
              "1      -0.182054  ONE_YEAR_FREE       False     True     -0.258971   \n",
              "2       1.305523  ONE_YEAR_FREE        True     True     -0.258971   \n",
              "3      -1.114555  ONE_YEAR_FREE       False     True     -0.080034   \n",
              "4      -0.132878  ONE_YEAR_FREE       False     True      1.709328   \n",
              "\n",
              "   pricetrend  telekomUploadSpeed  totalRent  yearConstructed  hasKitchen  \\\n",
              "0    0.697705           -1.234871   0.043970        -0.088681       False   \n",
              "1    0.079133           -1.234871   0.162040        -2.876077       False   \n",
              "2   -0.324284           -1.734516   0.916191         1.512589       False   \n",
              "3   -0.964373            0.737411   0.162040        -0.118334       False   \n",
              "4   -0.464136            0.001624   0.163426        -0.533478       False   \n",
              "\n",
              "   cellar  yearConstructedRange  baseRent  livingSpace   interiorQual  \\\n",
              "0    True             -0.716696 -0.083932        86.00         normal   \n",
              "1   False             -1.129778  0.333799        89.00         normal   \n",
              "2    True              2.174881  0.670021        83.80  sophisticated   \n",
              "3   False             -0.716696 -0.597435        58.15         normal   \n",
              "4   False             -1.129778  0.262479        84.97         normal   \n",
              "\n",
              "  petsAllowed   lift  baseRentRange   geo_plz   noRooms  thermalChar  \\\n",
              "0  negotiable  False       0.126976  0.248967  1.423003     1.917976   \n",
              "1          no  False       0.582635  1.082717  0.392039     0.063039   \n",
              "2  negotiable   True       1.038294 -1.303195  0.392039     0.063039   \n",
              "3  negotiable  False      -0.784342 -0.997523  0.392039    -0.736137   \n",
              "4  negotiable  False       0.582635 -0.328294  0.392039     2.126633   \n",
              "\n",
              "      floor  numberOfFloors  noRoomsRange  garden          regio1_edit  \\\n",
              "0 -0.787933       -0.371019      1.539847    True  Nordrhein_Westfalen   \n",
              "1  0.036360        0.049512      0.466722   False      Rheinland_Pfalz   \n",
              "2  0.680365        0.360908      0.466722   False              Sachsen   \n",
              "3  0.680365        0.049512      0.466722   False              Sachsen   \n",
              "4 -0.787933        0.049512      0.466722   False                other   \n",
              "\n",
              "                 heatingType_edit  condition_edit typeOfFlat_edit  newlyConst  \\\n",
              "0                 central_heating       well_kept    ground_floor       False   \n",
              "1  self_contained_central_heating     refurbished    ground_floor       False   \n",
              "2                   floor_heating  first_time_use       apartment        True   \n",
              "3                district_heating       well_kept           other       False   \n",
              "4  self_contained_central_heating     refurbished       apartment       False   \n",
              "\n",
              "   balcony  hasKitchen  cellar   lift  garden  telekomTvOffer_NONE  \\\n",
              "0    False       False    True  False    True                    0   \n",
              "1     True       False   False  False   False                    0   \n",
              "2     True       False    True   True   False                    0   \n",
              "3     True       False   False  False   False                    0   \n",
              "4     True       False   False  False   False                    0   \n",
              "\n",
              "   telekomTvOffer_ONE_YEAR_FREE  telekomTvOffer_ON_DEMAND  \\\n",
              "0                             1                         0   \n",
              "1                             1                         0   \n",
              "2                             1                         0   \n",
              "3                             1                         0   \n",
              "4                             1                         0   \n",
              "\n",
              "   interiorQual_luxury  interiorQual_normal  interiorQual_simple  \\\n",
              "0                    0                    1                    0   \n",
              "1                    0                    1                    0   \n",
              "2                    0                    0                    0   \n",
              "3                    0                    1                    0   \n",
              "4                    0                    1                    0   \n",
              "\n",
              "   interiorQual_sophisticated  petsAllowed_negotiable  petsAllowed_no  \\\n",
              "0                           0                       1               0   \n",
              "1                           0                       0               1   \n",
              "2                           1                       1               0   \n",
              "3                           0                       1               0   \n",
              "4                           0                       1               0   \n",
              "\n",
              "   petsAllowed_yes  regio1_edit_Baden_Württemberg  regio1_edit_Bayern  \\\n",
              "0                0                              0                   0   \n",
              "1                0                              0                   0   \n",
              "2                0                              0                   0   \n",
              "3                0                              0                   0   \n",
              "4                0                              0                   0   \n",
              "\n",
              "   regio1_edit_Berlin  regio1_edit_Brandenburg  regio1_edit_Hessen  \\\n",
              "0                   0                        0                   0   \n",
              "1                   0                        0                   0   \n",
              "2                   0                        0                   0   \n",
              "3                   0                        0                   0   \n",
              "4                   0                        0                   0   \n",
              "\n",
              "   regio1_edit_Mecklenburg_Vorpommern  regio1_edit_Niedersachsen  \\\n",
              "0                                   0                          0   \n",
              "1                                   0                          0   \n",
              "2                                   0                          0   \n",
              "3                                   0                          0   \n",
              "4                                   0                          0   \n",
              "\n",
              "   regio1_edit_Nordrhein_Westfalen  regio1_edit_Rheinland_Pfalz  \\\n",
              "0                                1                            0   \n",
              "1                                0                            1   \n",
              "2                                0                            0   \n",
              "3                                0                            0   \n",
              "4                                0                            0   \n",
              "\n",
              "   regio1_edit_Sachsen  regio1_edit_Sachsen_Anhalt  \\\n",
              "0                    0                           0   \n",
              "1                    0                           0   \n",
              "2                    1                           0   \n",
              "3                    1                           0   \n",
              "4                    0                           0   \n",
              "\n",
              "   regio1_edit_Schleswig_Holstein  regio1_edit_Thüringen  regio1_edit_other  \\\n",
              "0                               0                      0                  0   \n",
              "1                               0                      0                  0   \n",
              "2                               0                      0                  0   \n",
              "3                               0                      0                  0   \n",
              "4                               0                      0                  1   \n",
              "\n",
              "   heatingType_edit_central_heating  heatingType_edit_district_heating  \\\n",
              "0                                 1                                  0   \n",
              "1                                 0                                  0   \n",
              "2                                 0                                  0   \n",
              "3                                 0                                  1   \n",
              "4                                 0                                  0   \n",
              "\n",
              "   heatingType_edit_floor_heating  heatingType_edit_gas_heating  \\\n",
              "0                               0                             0   \n",
              "1                               0                             0   \n",
              "2                               1                             0   \n",
              "3                               0                             0   \n",
              "4                               0                             0   \n",
              "\n",
              "   heatingType_edit_other  heatingType_edit_self_contained_central_heating  \\\n",
              "0                       0                                                0   \n",
              "1                       0                                                1   \n",
              "2                       0                                                0   \n",
              "3                       0                                                0   \n",
              "4                       0                                                1   \n",
              "\n",
              "   condition_edit_first_time_use  condition_edit_fully_renovated  \\\n",
              "0                              0                               0   \n",
              "1                              0                               0   \n",
              "2                              1                               0   \n",
              "3                              0                               0   \n",
              "4                              0                               0   \n",
              "\n",
              "   condition_edit_mint_condition  condition_edit_modernized  \\\n",
              "0                              0                          0   \n",
              "1                              0                          0   \n",
              "2                              0                          0   \n",
              "3                              0                          0   \n",
              "4                              0                          0   \n",
              "\n",
              "   condition_edit_other  condition_edit_refurbished  condition_edit_well_kept  \\\n",
              "0                     0                           0                         1   \n",
              "1                     0                           1                         0   \n",
              "2                     0                           0                         0   \n",
              "3                     0                           0                         1   \n",
              "4                     0                           1                         0   \n",
              "\n",
              "   typeOfFlat_edit_apartment  typeOfFlat_edit_ground_floor  \\\n",
              "0                          0                             1   \n",
              "1                          0                             1   \n",
              "2                          1                             0   \n",
              "3                          0                             0   \n",
              "4                          1                             0   \n",
              "\n",
              "   typeOfFlat_edit_half_loft  typeOfFlat_edit_maisonette  \\\n",
              "0                          0                           0   \n",
              "1                          0                           0   \n",
              "2                          0                           0   \n",
              "3                          0                           0   \n",
              "4                          0                           0   \n",
              "\n",
              "   typeOfFlat_edit_other  typeOfFlat_edit_penthouse  \\\n",
              "0                      0                          0   \n",
              "1                      0                          0   \n",
              "2                      0                          0   \n",
              "3                      1                          0   \n",
              "4                      0                          0   \n",
              "\n",
              "   typeOfFlat_edit_raised_ground_floor  typeOfFlat_edit_roof_storey  \\\n",
              "0                                    0                            0   \n",
              "1                                    0                            0   \n",
              "2                                    0                            0   \n",
              "3                                    0                            0   \n",
              "4                                    0                            0   \n",
              "\n",
              "   typeOfFlat_edit_terraced_flat  \n",
              "0                              0  \n",
              "1                              0  \n",
              "2                              0  \n",
              "3                              0  \n",
              "4                              0  "
            ]
          },
          "metadata": {
            "tags": []
          },
          "execution_count": 75
        }
      ]
    },
    {
      "cell_type": "code",
      "metadata": {
        "colab": {
          "base_uri": "https://localhost:8080/",
          "height": 224
        },
        "id": "JwtdONR5QKG3",
        "outputId": "99addc4d-c234-4720-83c1-a4c47231dbeb"
      },
      "source": [
        "df = df.drop(columns=columns)\n",
        "df.head()"
      ],
      "execution_count": 76,
      "outputs": [
        {
          "output_type": "execute_result",
          "data": {
            "text/html": [
              "<div>\n",
              "<style scoped>\n",
              "    .dataframe tbody tr th:only-of-type {\n",
              "        vertical-align: middle;\n",
              "    }\n",
              "\n",
              "    .dataframe tbody tr th {\n",
              "        vertical-align: top;\n",
              "    }\n",
              "\n",
              "    .dataframe thead th {\n",
              "        text-align: right;\n",
              "    }\n",
              "</style>\n",
              "<table border=\"1\" class=\"dataframe\">\n",
              "  <thead>\n",
              "    <tr style=\"text-align: right;\">\n",
              "      <th></th>\n",
              "      <th>serviceCharge</th>\n",
              "      <th>picturecount</th>\n",
              "      <th>pricetrend</th>\n",
              "      <th>telekomUploadSpeed</th>\n",
              "      <th>totalRent</th>\n",
              "      <th>yearConstructed</th>\n",
              "      <th>yearConstructedRange</th>\n",
              "      <th>baseRent</th>\n",
              "      <th>livingSpace</th>\n",
              "      <th>baseRentRange</th>\n",
              "      <th>geo_plz</th>\n",
              "      <th>noRooms</th>\n",
              "      <th>thermalChar</th>\n",
              "      <th>floor</th>\n",
              "      <th>numberOfFloors</th>\n",
              "      <th>noRoomsRange</th>\n",
              "      <th>telekomTvOffer_NONE</th>\n",
              "      <th>telekomTvOffer_ONE_YEAR_FREE</th>\n",
              "      <th>telekomTvOffer_ON_DEMAND</th>\n",
              "      <th>interiorQual_luxury</th>\n",
              "      <th>interiorQual_normal</th>\n",
              "      <th>interiorQual_simple</th>\n",
              "      <th>interiorQual_sophisticated</th>\n",
              "      <th>petsAllowed_negotiable</th>\n",
              "      <th>petsAllowed_no</th>\n",
              "      <th>petsAllowed_yes</th>\n",
              "      <th>regio1_edit_Baden_Württemberg</th>\n",
              "      <th>regio1_edit_Bayern</th>\n",
              "      <th>regio1_edit_Berlin</th>\n",
              "      <th>regio1_edit_Brandenburg</th>\n",
              "      <th>regio1_edit_Hessen</th>\n",
              "      <th>regio1_edit_Mecklenburg_Vorpommern</th>\n",
              "      <th>regio1_edit_Niedersachsen</th>\n",
              "      <th>regio1_edit_Nordrhein_Westfalen</th>\n",
              "      <th>regio1_edit_Rheinland_Pfalz</th>\n",
              "      <th>regio1_edit_Sachsen</th>\n",
              "      <th>regio1_edit_Sachsen_Anhalt</th>\n",
              "      <th>regio1_edit_Schleswig_Holstein</th>\n",
              "      <th>regio1_edit_Thüringen</th>\n",
              "      <th>regio1_edit_other</th>\n",
              "      <th>heatingType_edit_central_heating</th>\n",
              "      <th>heatingType_edit_district_heating</th>\n",
              "      <th>heatingType_edit_floor_heating</th>\n",
              "      <th>heatingType_edit_gas_heating</th>\n",
              "      <th>heatingType_edit_other</th>\n",
              "      <th>heatingType_edit_self_contained_central_heating</th>\n",
              "      <th>condition_edit_first_time_use</th>\n",
              "      <th>condition_edit_fully_renovated</th>\n",
              "      <th>condition_edit_mint_condition</th>\n",
              "      <th>condition_edit_modernized</th>\n",
              "      <th>condition_edit_other</th>\n",
              "      <th>condition_edit_refurbished</th>\n",
              "      <th>condition_edit_well_kept</th>\n",
              "      <th>typeOfFlat_edit_apartment</th>\n",
              "      <th>typeOfFlat_edit_ground_floor</th>\n",
              "      <th>typeOfFlat_edit_half_loft</th>\n",
              "      <th>typeOfFlat_edit_maisonette</th>\n",
              "      <th>typeOfFlat_edit_other</th>\n",
              "      <th>typeOfFlat_edit_penthouse</th>\n",
              "      <th>typeOfFlat_edit_raised_ground_floor</th>\n",
              "      <th>typeOfFlat_edit_roof_storey</th>\n",
              "      <th>typeOfFlat_edit_terraced_flat</th>\n",
              "    </tr>\n",
              "  </thead>\n",
              "  <tbody>\n",
              "    <tr>\n",
              "      <th>0</th>\n",
              "      <td>1.182582</td>\n",
              "      <td>-0.616843</td>\n",
              "      <td>0.697705</td>\n",
              "      <td>-1.234871</td>\n",
              "      <td>0.043970</td>\n",
              "      <td>-0.088681</td>\n",
              "      <td>-0.716696</td>\n",
              "      <td>-0.083932</td>\n",
              "      <td>86.00</td>\n",
              "      <td>0.126976</td>\n",
              "      <td>0.248967</td>\n",
              "      <td>1.423003</td>\n",
              "      <td>1.917976</td>\n",
              "      <td>-0.787933</td>\n",
              "      <td>-0.371019</td>\n",
              "      <td>1.539847</td>\n",
              "      <td>0</td>\n",
              "      <td>1</td>\n",
              "      <td>0</td>\n",
              "      <td>0</td>\n",
              "      <td>1</td>\n",
              "      <td>0</td>\n",
              "      <td>0</td>\n",
              "      <td>1</td>\n",
              "      <td>0</td>\n",
              "      <td>0</td>\n",
              "      <td>0</td>\n",
              "      <td>0</td>\n",
              "      <td>0</td>\n",
              "      <td>0</td>\n",
              "      <td>0</td>\n",
              "      <td>0</td>\n",
              "      <td>0</td>\n",
              "      <td>1</td>\n",
              "      <td>0</td>\n",
              "      <td>0</td>\n",
              "      <td>0</td>\n",
              "      <td>0</td>\n",
              "      <td>0</td>\n",
              "      <td>0</td>\n",
              "      <td>1</td>\n",
              "      <td>0</td>\n",
              "      <td>0</td>\n",
              "      <td>0</td>\n",
              "      <td>0</td>\n",
              "      <td>0</td>\n",
              "      <td>0</td>\n",
              "      <td>0</td>\n",
              "      <td>0</td>\n",
              "      <td>0</td>\n",
              "      <td>0</td>\n",
              "      <td>0</td>\n",
              "      <td>1</td>\n",
              "      <td>0</td>\n",
              "      <td>1</td>\n",
              "      <td>0</td>\n",
              "      <td>0</td>\n",
              "      <td>0</td>\n",
              "      <td>0</td>\n",
              "      <td>0</td>\n",
              "      <td>0</td>\n",
              "      <td>0</td>\n",
              "    </tr>\n",
              "    <tr>\n",
              "      <th>1</th>\n",
              "      <td>-0.182054</td>\n",
              "      <td>-0.258971</td>\n",
              "      <td>0.079133</td>\n",
              "      <td>-1.234871</td>\n",
              "      <td>0.162040</td>\n",
              "      <td>-2.876077</td>\n",
              "      <td>-1.129778</td>\n",
              "      <td>0.333799</td>\n",
              "      <td>89.00</td>\n",
              "      <td>0.582635</td>\n",
              "      <td>1.082717</td>\n",
              "      <td>0.392039</td>\n",
              "      <td>0.063039</td>\n",
              "      <td>0.036360</td>\n",
              "      <td>0.049512</td>\n",
              "      <td>0.466722</td>\n",
              "      <td>0</td>\n",
              "      <td>1</td>\n",
              "      <td>0</td>\n",
              "      <td>0</td>\n",
              "      <td>1</td>\n",
              "      <td>0</td>\n",
              "      <td>0</td>\n",
              "      <td>0</td>\n",
              "      <td>1</td>\n",
              "      <td>0</td>\n",
              "      <td>0</td>\n",
              "      <td>0</td>\n",
              "      <td>0</td>\n",
              "      <td>0</td>\n",
              "      <td>0</td>\n",
              "      <td>0</td>\n",
              "      <td>0</td>\n",
              "      <td>0</td>\n",
              "      <td>1</td>\n",
              "      <td>0</td>\n",
              "      <td>0</td>\n",
              "      <td>0</td>\n",
              "      <td>0</td>\n",
              "      <td>0</td>\n",
              "      <td>0</td>\n",
              "      <td>0</td>\n",
              "      <td>0</td>\n",
              "      <td>0</td>\n",
              "      <td>0</td>\n",
              "      <td>1</td>\n",
              "      <td>0</td>\n",
              "      <td>0</td>\n",
              "      <td>0</td>\n",
              "      <td>0</td>\n",
              "      <td>0</td>\n",
              "      <td>1</td>\n",
              "      <td>0</td>\n",
              "      <td>0</td>\n",
              "      <td>1</td>\n",
              "      <td>0</td>\n",
              "      <td>0</td>\n",
              "      <td>0</td>\n",
              "      <td>0</td>\n",
              "      <td>0</td>\n",
              "      <td>0</td>\n",
              "      <td>0</td>\n",
              "    </tr>\n",
              "    <tr>\n",
              "      <th>2</th>\n",
              "      <td>1.305523</td>\n",
              "      <td>-0.258971</td>\n",
              "      <td>-0.324284</td>\n",
              "      <td>-1.734516</td>\n",
              "      <td>0.916191</td>\n",
              "      <td>1.512589</td>\n",
              "      <td>2.174881</td>\n",
              "      <td>0.670021</td>\n",
              "      <td>83.80</td>\n",
              "      <td>1.038294</td>\n",
              "      <td>-1.303195</td>\n",
              "      <td>0.392039</td>\n",
              "      <td>0.063039</td>\n",
              "      <td>0.680365</td>\n",
              "      <td>0.360908</td>\n",
              "      <td>0.466722</td>\n",
              "      <td>0</td>\n",
              "      <td>1</td>\n",
              "      <td>0</td>\n",
              "      <td>0</td>\n",
              "      <td>0</td>\n",
              "      <td>0</td>\n",
              "      <td>1</td>\n",
              "      <td>1</td>\n",
              "      <td>0</td>\n",
              "      <td>0</td>\n",
              "      <td>0</td>\n",
              "      <td>0</td>\n",
              "      <td>0</td>\n",
              "      <td>0</td>\n",
              "      <td>0</td>\n",
              "      <td>0</td>\n",
              "      <td>0</td>\n",
              "      <td>0</td>\n",
              "      <td>0</td>\n",
              "      <td>1</td>\n",
              "      <td>0</td>\n",
              "      <td>0</td>\n",
              "      <td>0</td>\n",
              "      <td>0</td>\n",
              "      <td>0</td>\n",
              "      <td>0</td>\n",
              "      <td>1</td>\n",
              "      <td>0</td>\n",
              "      <td>0</td>\n",
              "      <td>0</td>\n",
              "      <td>1</td>\n",
              "      <td>0</td>\n",
              "      <td>0</td>\n",
              "      <td>0</td>\n",
              "      <td>0</td>\n",
              "      <td>0</td>\n",
              "      <td>0</td>\n",
              "      <td>1</td>\n",
              "      <td>0</td>\n",
              "      <td>0</td>\n",
              "      <td>0</td>\n",
              "      <td>0</td>\n",
              "      <td>0</td>\n",
              "      <td>0</td>\n",
              "      <td>0</td>\n",
              "      <td>0</td>\n",
              "    </tr>\n",
              "    <tr>\n",
              "      <th>3</th>\n",
              "      <td>-1.114555</td>\n",
              "      <td>-0.080034</td>\n",
              "      <td>-0.964373</td>\n",
              "      <td>0.737411</td>\n",
              "      <td>0.162040</td>\n",
              "      <td>-0.118334</td>\n",
              "      <td>-0.716696</td>\n",
              "      <td>-0.597435</td>\n",
              "      <td>58.15</td>\n",
              "      <td>-0.784342</td>\n",
              "      <td>-0.997523</td>\n",
              "      <td>0.392039</td>\n",
              "      <td>-0.736137</td>\n",
              "      <td>0.680365</td>\n",
              "      <td>0.049512</td>\n",
              "      <td>0.466722</td>\n",
              "      <td>0</td>\n",
              "      <td>1</td>\n",
              "      <td>0</td>\n",
              "      <td>0</td>\n",
              "      <td>1</td>\n",
              "      <td>0</td>\n",
              "      <td>0</td>\n",
              "      <td>1</td>\n",
              "      <td>0</td>\n",
              "      <td>0</td>\n",
              "      <td>0</td>\n",
              "      <td>0</td>\n",
              "      <td>0</td>\n",
              "      <td>0</td>\n",
              "      <td>0</td>\n",
              "      <td>0</td>\n",
              "      <td>0</td>\n",
              "      <td>0</td>\n",
              "      <td>0</td>\n",
              "      <td>1</td>\n",
              "      <td>0</td>\n",
              "      <td>0</td>\n",
              "      <td>0</td>\n",
              "      <td>0</td>\n",
              "      <td>0</td>\n",
              "      <td>1</td>\n",
              "      <td>0</td>\n",
              "      <td>0</td>\n",
              "      <td>0</td>\n",
              "      <td>0</td>\n",
              "      <td>0</td>\n",
              "      <td>0</td>\n",
              "      <td>0</td>\n",
              "      <td>0</td>\n",
              "      <td>0</td>\n",
              "      <td>0</td>\n",
              "      <td>1</td>\n",
              "      <td>0</td>\n",
              "      <td>0</td>\n",
              "      <td>0</td>\n",
              "      <td>0</td>\n",
              "      <td>1</td>\n",
              "      <td>0</td>\n",
              "      <td>0</td>\n",
              "      <td>0</td>\n",
              "      <td>0</td>\n",
              "    </tr>\n",
              "    <tr>\n",
              "      <th>4</th>\n",
              "      <td>-0.132878</td>\n",
              "      <td>1.709328</td>\n",
              "      <td>-0.464136</td>\n",
              "      <td>0.001624</td>\n",
              "      <td>0.163426</td>\n",
              "      <td>-0.533478</td>\n",
              "      <td>-1.129778</td>\n",
              "      <td>0.262479</td>\n",
              "      <td>84.97</td>\n",
              "      <td>0.582635</td>\n",
              "      <td>-0.328294</td>\n",
              "      <td>0.392039</td>\n",
              "      <td>2.126633</td>\n",
              "      <td>-0.787933</td>\n",
              "      <td>0.049512</td>\n",
              "      <td>0.466722</td>\n",
              "      <td>0</td>\n",
              "      <td>1</td>\n",
              "      <td>0</td>\n",
              "      <td>0</td>\n",
              "      <td>1</td>\n",
              "      <td>0</td>\n",
              "      <td>0</td>\n",
              "      <td>1</td>\n",
              "      <td>0</td>\n",
              "      <td>0</td>\n",
              "      <td>0</td>\n",
              "      <td>0</td>\n",
              "      <td>0</td>\n",
              "      <td>0</td>\n",
              "      <td>0</td>\n",
              "      <td>0</td>\n",
              "      <td>0</td>\n",
              "      <td>0</td>\n",
              "      <td>0</td>\n",
              "      <td>0</td>\n",
              "      <td>0</td>\n",
              "      <td>0</td>\n",
              "      <td>0</td>\n",
              "      <td>1</td>\n",
              "      <td>0</td>\n",
              "      <td>0</td>\n",
              "      <td>0</td>\n",
              "      <td>0</td>\n",
              "      <td>0</td>\n",
              "      <td>1</td>\n",
              "      <td>0</td>\n",
              "      <td>0</td>\n",
              "      <td>0</td>\n",
              "      <td>0</td>\n",
              "      <td>0</td>\n",
              "      <td>1</td>\n",
              "      <td>0</td>\n",
              "      <td>1</td>\n",
              "      <td>0</td>\n",
              "      <td>0</td>\n",
              "      <td>0</td>\n",
              "      <td>0</td>\n",
              "      <td>0</td>\n",
              "      <td>0</td>\n",
              "      <td>0</td>\n",
              "      <td>0</td>\n",
              "    </tr>\n",
              "  </tbody>\n",
              "</table>\n",
              "</div>"
            ],
            "text/plain": [
              "   serviceCharge  picturecount  pricetrend  telekomUploadSpeed  totalRent  \\\n",
              "0       1.182582     -0.616843    0.697705           -1.234871   0.043970   \n",
              "1      -0.182054     -0.258971    0.079133           -1.234871   0.162040   \n",
              "2       1.305523     -0.258971   -0.324284           -1.734516   0.916191   \n",
              "3      -1.114555     -0.080034   -0.964373            0.737411   0.162040   \n",
              "4      -0.132878      1.709328   -0.464136            0.001624   0.163426   \n",
              "\n",
              "   yearConstructed  yearConstructedRange  baseRent  livingSpace  \\\n",
              "0        -0.088681             -0.716696 -0.083932        86.00   \n",
              "1        -2.876077             -1.129778  0.333799        89.00   \n",
              "2         1.512589              2.174881  0.670021        83.80   \n",
              "3        -0.118334             -0.716696 -0.597435        58.15   \n",
              "4        -0.533478             -1.129778  0.262479        84.97   \n",
              "\n",
              "   baseRentRange   geo_plz   noRooms  thermalChar     floor  numberOfFloors  \\\n",
              "0       0.126976  0.248967  1.423003     1.917976 -0.787933       -0.371019   \n",
              "1       0.582635  1.082717  0.392039     0.063039  0.036360        0.049512   \n",
              "2       1.038294 -1.303195  0.392039     0.063039  0.680365        0.360908   \n",
              "3      -0.784342 -0.997523  0.392039    -0.736137  0.680365        0.049512   \n",
              "4       0.582635 -0.328294  0.392039     2.126633 -0.787933        0.049512   \n",
              "\n",
              "   noRoomsRange  telekomTvOffer_NONE  telekomTvOffer_ONE_YEAR_FREE  \\\n",
              "0      1.539847                    0                             1   \n",
              "1      0.466722                    0                             1   \n",
              "2      0.466722                    0                             1   \n",
              "3      0.466722                    0                             1   \n",
              "4      0.466722                    0                             1   \n",
              "\n",
              "   telekomTvOffer_ON_DEMAND  interiorQual_luxury  interiorQual_normal  \\\n",
              "0                         0                    0                    1   \n",
              "1                         0                    0                    1   \n",
              "2                         0                    0                    0   \n",
              "3                         0                    0                    1   \n",
              "4                         0                    0                    1   \n",
              "\n",
              "   interiorQual_simple  interiorQual_sophisticated  petsAllowed_negotiable  \\\n",
              "0                    0                           0                       1   \n",
              "1                    0                           0                       0   \n",
              "2                    0                           1                       1   \n",
              "3                    0                           0                       1   \n",
              "4                    0                           0                       1   \n",
              "\n",
              "   petsAllowed_no  petsAllowed_yes  regio1_edit_Baden_Württemberg  \\\n",
              "0               0                0                              0   \n",
              "1               1                0                              0   \n",
              "2               0                0                              0   \n",
              "3               0                0                              0   \n",
              "4               0                0                              0   \n",
              "\n",
              "   regio1_edit_Bayern  regio1_edit_Berlin  regio1_edit_Brandenburg  \\\n",
              "0                   0                   0                        0   \n",
              "1                   0                   0                        0   \n",
              "2                   0                   0                        0   \n",
              "3                   0                   0                        0   \n",
              "4                   0                   0                        0   \n",
              "\n",
              "   regio1_edit_Hessen  regio1_edit_Mecklenburg_Vorpommern  \\\n",
              "0                   0                                   0   \n",
              "1                   0                                   0   \n",
              "2                   0                                   0   \n",
              "3                   0                                   0   \n",
              "4                   0                                   0   \n",
              "\n",
              "   regio1_edit_Niedersachsen  regio1_edit_Nordrhein_Westfalen  \\\n",
              "0                          0                                1   \n",
              "1                          0                                0   \n",
              "2                          0                                0   \n",
              "3                          0                                0   \n",
              "4                          0                                0   \n",
              "\n",
              "   regio1_edit_Rheinland_Pfalz  regio1_edit_Sachsen  \\\n",
              "0                            0                    0   \n",
              "1                            1                    0   \n",
              "2                            0                    1   \n",
              "3                            0                    1   \n",
              "4                            0                    0   \n",
              "\n",
              "   regio1_edit_Sachsen_Anhalt  regio1_edit_Schleswig_Holstein  \\\n",
              "0                           0                               0   \n",
              "1                           0                               0   \n",
              "2                           0                               0   \n",
              "3                           0                               0   \n",
              "4                           0                               0   \n",
              "\n",
              "   regio1_edit_Thüringen  regio1_edit_other  heatingType_edit_central_heating  \\\n",
              "0                      0                  0                                 1   \n",
              "1                      0                  0                                 0   \n",
              "2                      0                  0                                 0   \n",
              "3                      0                  0                                 0   \n",
              "4                      0                  1                                 0   \n",
              "\n",
              "   heatingType_edit_district_heating  heatingType_edit_floor_heating  \\\n",
              "0                                  0                               0   \n",
              "1                                  0                               0   \n",
              "2                                  0                               1   \n",
              "3                                  1                               0   \n",
              "4                                  0                               0   \n",
              "\n",
              "   heatingType_edit_gas_heating  heatingType_edit_other  \\\n",
              "0                             0                       0   \n",
              "1                             0                       0   \n",
              "2                             0                       0   \n",
              "3                             0                       0   \n",
              "4                             0                       0   \n",
              "\n",
              "   heatingType_edit_self_contained_central_heating  \\\n",
              "0                                                0   \n",
              "1                                                1   \n",
              "2                                                0   \n",
              "3                                                0   \n",
              "4                                                1   \n",
              "\n",
              "   condition_edit_first_time_use  condition_edit_fully_renovated  \\\n",
              "0                              0                               0   \n",
              "1                              0                               0   \n",
              "2                              1                               0   \n",
              "3                              0                               0   \n",
              "4                              0                               0   \n",
              "\n",
              "   condition_edit_mint_condition  condition_edit_modernized  \\\n",
              "0                              0                          0   \n",
              "1                              0                          0   \n",
              "2                              0                          0   \n",
              "3                              0                          0   \n",
              "4                              0                          0   \n",
              "\n",
              "   condition_edit_other  condition_edit_refurbished  condition_edit_well_kept  \\\n",
              "0                     0                           0                         1   \n",
              "1                     0                           1                         0   \n",
              "2                     0                           0                         0   \n",
              "3                     0                           0                         1   \n",
              "4                     0                           1                         0   \n",
              "\n",
              "   typeOfFlat_edit_apartment  typeOfFlat_edit_ground_floor  \\\n",
              "0                          0                             1   \n",
              "1                          0                             1   \n",
              "2                          1                             0   \n",
              "3                          0                             0   \n",
              "4                          1                             0   \n",
              "\n",
              "   typeOfFlat_edit_half_loft  typeOfFlat_edit_maisonette  \\\n",
              "0                          0                           0   \n",
              "1                          0                           0   \n",
              "2                          0                           0   \n",
              "3                          0                           0   \n",
              "4                          0                           0   \n",
              "\n",
              "   typeOfFlat_edit_other  typeOfFlat_edit_penthouse  \\\n",
              "0                      0                          0   \n",
              "1                      0                          0   \n",
              "2                      0                          0   \n",
              "3                      1                          0   \n",
              "4                      0                          0   \n",
              "\n",
              "   typeOfFlat_edit_raised_ground_floor  typeOfFlat_edit_roof_storey  \\\n",
              "0                                    0                            0   \n",
              "1                                    0                            0   \n",
              "2                                    0                            0   \n",
              "3                                    0                            0   \n",
              "4                                    0                            0   \n",
              "\n",
              "   typeOfFlat_edit_terraced_flat  \n",
              "0                              0  \n",
              "1                              0  \n",
              "2                              0  \n",
              "3                              0  \n",
              "4                              0  "
            ]
          },
          "metadata": {
            "tags": []
          },
          "execution_count": 76
        }
      ]
    },
    {
      "cell_type": "code",
      "metadata": {
        "colab": {
          "base_uri": "https://localhost:8080/"
        },
        "id": "Kck8C_SVQLcL",
        "outputId": "e5425dee-fd3d-4e24-f4dc-e312698951e6"
      },
      "source": [
        "y = df['livingSpace'].values\n",
        "x = df.drop(columns = ['livingSpace']).values\n",
        "\n",
        "print(x.shape)\n",
        "print(y.shape)"
      ],
      "execution_count": 77,
      "outputs": [
        {
          "output_type": "stream",
          "text": [
            "(258253, 61)\n",
            "(258253,)\n"
          ],
          "name": "stdout"
        }
      ]
    },
    {
      "cell_type": "code",
      "metadata": {
        "colab": {
          "base_uri": "https://localhost:8080/"
        },
        "id": "BcuZ11JBQNew",
        "outputId": "70057ab1-db91-4095-aec0-136fb4307835"
      },
      "source": [
        "train_size = int(0.8 * x.shape[0])\n",
        "train_size"
      ],
      "execution_count": 78,
      "outputs": [
        {
          "output_type": "execute_result",
          "data": {
            "text/plain": [
              "206602"
            ]
          },
          "metadata": {
            "tags": []
          },
          "execution_count": 78
        }
      ]
    },
    {
      "cell_type": "code",
      "metadata": {
        "colab": {
          "base_uri": "https://localhost:8080/"
        },
        "id": "qm6-2ogjQOqV",
        "outputId": "b7180828-d874-43a9-8d3e-a62cd3a9616c"
      },
      "source": [
        "x_train = x[:train_size]\n",
        "y_train = y[:train_size]\n",
        "\n",
        "print(x_train.shape)\n",
        "print(y_train.shape)\n",
        "\n",
        "x_test = x[train_size:]\n",
        "y_test = y[train_size:]\n",
        "\n",
        "print(x_test.shape)\n",
        "print(y_test.shape)"
      ],
      "execution_count": 79,
      "outputs": [
        {
          "output_type": "stream",
          "text": [
            "(206602, 61)\n",
            "(206602,)\n",
            "(51651, 61)\n",
            "(51651,)\n"
          ],
          "name": "stdout"
        }
      ]
    },
    {
      "cell_type": "code",
      "metadata": {
        "colab": {
          "base_uri": "https://localhost:8080/"
        },
        "id": "N3xUsQw4QQCy",
        "outputId": "7e163b91-28bd-4948-c128-de5d4aad1069"
      },
      "source": [
        "from sklearn.decomposition import PCA\n",
        "pca = PCA(0.90)\n",
        "x_pca = pca.fit_transform(x)\n",
        "x_pca.shape"
      ],
      "execution_count": 80,
      "outputs": [
        {
          "output_type": "execute_result",
          "data": {
            "text/plain": [
              "(258253, 18)"
            ]
          },
          "metadata": {
            "tags": []
          },
          "execution_count": 80
        }
      ]
    },
    {
      "cell_type": "code",
      "metadata": {
        "colab": {
          "base_uri": "https://localhost:8080/"
        },
        "id": "HemCHfZPQR5W",
        "outputId": "71a5a0bd-f313-4585-c11f-dcec82281f94"
      },
      "source": [
        "x_pca_train = x_pca[:train_size]\n",
        "print(x_pca_train.shape)\n",
        "x_pca_test = x_pca[train_size:]\n",
        "print(x_pca_test.shape)"
      ],
      "execution_count": 81,
      "outputs": [
        {
          "output_type": "stream",
          "text": [
            "(206602, 18)\n",
            "(51651, 18)\n"
          ],
          "name": "stdout"
        }
      ]
    },
    {
      "cell_type": "code",
      "metadata": {
        "colab": {
          "base_uri": "https://localhost:8080/"
        },
        "id": "T_DGphWTQTXf",
        "outputId": "b756b858-e4cf-468e-e48e-725930f3b370"
      },
      "source": [
        "x_train[:,0].shape\n"
      ],
      "execution_count": 82,
      "outputs": [
        {
          "output_type": "execute_result",
          "data": {
            "text/plain": [
              "(206602,)"
            ]
          },
          "metadata": {
            "tags": []
          },
          "execution_count": 82
        }
      ]
    },
    {
      "cell_type": "code",
      "metadata": {
        "colab": {
          "base_uri": "https://localhost:8080/"
        },
        "id": "_vRGWUO4QVch",
        "outputId": "4a81025b-db20-42de-fe43-0ef1ed0a5f25"
      },
      "source": [
        "# Initializes parameters \"w\" and \"b\" randomly\n",
        "np.random.seed(42)\n",
        "b = np.random.randn(1)\n",
        "w = np.random.randn(61)\n",
        "n = x_train.shape[0]\n",
        "\n",
        "# Sets learning rate\n",
        "lr = 0.001\n",
        "\n",
        "# Defines number of epochs\n",
        "n_epochs = 500\n",
        "\n",
        "test_error =  y_test - np.sum((w * x_test) + b , axis = 1)\n",
        "test_mse = (test_error**2).mean()           \n",
        "print('init MSE : ',test_mse)\n",
        "              \n",
        "for epoch in range(n_epochs):\n",
        "    error = y_train - np.sum((w * x_train) + b , axis = 1)\n",
        "    \n",
        "    if epoch % 100 == 0:    \n",
        "        print('epoch {} , MSE : {}'.format(epoch,(error**2).mean()))\n",
        "    \n",
        "    w_grad = [0] * x_train.shape[1]\n",
        "    b_grad = 0\n",
        "    \n",
        "    for i in range(x_train.shape[1]):\n",
        "        w_grad[i] = -1 * (x_train[:,i] * error).mean()\n",
        "        w[i] = w[i] - (lr * w_grad[i])\n",
        "        \n",
        "    b_grad = -1 * error.mean()\n",
        "    b = b - (lr*b_grad)\n",
        "              \n",
        "\n",
        "test_error = y_test - np.sum((w * x_test) + b , axis = 1)\n",
        "test_mse = (test_error**2).mean() \n",
        "print('Final MSE : ',test_mse)"
      ],
      "execution_count": 83,
      "outputs": [
        {
          "output_type": "stream",
          "text": [
            "init MSE :  2864.533572022381\n",
            "epoch 0 , MSE : 2846.6155515364417\n",
            "epoch 100 , MSE : 602.1839163153286\n",
            "epoch 200 , MSE : 412.22047341757184\n",
            "epoch 300 , MSE : 322.15188707155835\n",
            "epoch 400 , MSE : 276.1402746510592\n",
            "Final MSE :  244.22078702705832\n"
          ],
          "name": "stdout"
        }
      ]
    },
    {
      "cell_type": "code",
      "metadata": {
        "colab": {
          "base_uri": "https://localhost:8080/",
          "height": 204
        },
        "id": "R1GCIMS3QXjp",
        "outputId": "0a596af7-9ae5-4008-9d92-e872917b8522"
      },
      "source": [
        "y_pred = np.sum((w * x_test) + b , axis = 1)\n",
        "temp = pd.DataFrame({'test':y_test,'pred':y_pred})\n",
        "temp.head()"
      ],
      "execution_count": 84,
      "outputs": [
        {
          "output_type": "execute_result",
          "data": {
            "text/html": [
              "<div>\n",
              "<style scoped>\n",
              "    .dataframe tbody tr th:only-of-type {\n",
              "        vertical-align: middle;\n",
              "    }\n",
              "\n",
              "    .dataframe tbody tr th {\n",
              "        vertical-align: top;\n",
              "    }\n",
              "\n",
              "    .dataframe thead th {\n",
              "        text-align: right;\n",
              "    }\n",
              "</style>\n",
              "<table border=\"1\" class=\"dataframe\">\n",
              "  <thead>\n",
              "    <tr style=\"text-align: right;\">\n",
              "      <th></th>\n",
              "      <th>test</th>\n",
              "      <th>pred</th>\n",
              "    </tr>\n",
              "  </thead>\n",
              "  <tbody>\n",
              "    <tr>\n",
              "      <th>0</th>\n",
              "      <td>60.59</td>\n",
              "      <td>72.642983</td>\n",
              "    </tr>\n",
              "    <tr>\n",
              "      <th>1</th>\n",
              "      <td>63.85</td>\n",
              "      <td>66.896139</td>\n",
              "    </tr>\n",
              "    <tr>\n",
              "      <th>2</th>\n",
              "      <td>65.30</td>\n",
              "      <td>60.469956</td>\n",
              "    </tr>\n",
              "    <tr>\n",
              "      <th>3</th>\n",
              "      <td>77.70</td>\n",
              "      <td>79.202794</td>\n",
              "    </tr>\n",
              "    <tr>\n",
              "      <th>4</th>\n",
              "      <td>66.07</td>\n",
              "      <td>78.363092</td>\n",
              "    </tr>\n",
              "  </tbody>\n",
              "</table>\n",
              "</div>"
            ],
            "text/plain": [
              "    test       pred\n",
              "0  60.59  72.642983\n",
              "1  63.85  66.896139\n",
              "2  65.30  60.469956\n",
              "3  77.70  79.202794\n",
              "4  66.07  78.363092"
            ]
          },
          "metadata": {
            "tags": []
          },
          "execution_count": 84
        }
      ]
    },
    {
      "cell_type": "code",
      "metadata": {
        "colab": {
          "base_uri": "https://localhost:8080/"
        },
        "id": "0s73pNAhQZCP",
        "outputId": "c8c671e1-5a0e-42ea-c9c5-363aec7eb001"
      },
      "source": [
        "temp['upper_range'] = temp['test'] * 1.2\n",
        "temp['lower_range'] = temp['test'] * 0.8\n",
        "\n",
        "temp[(temp['upper_range'] >=temp['pred']) & (temp['pred'] >= temp['lower_range'])].shape[0] * 100/temp.shape[0]"
      ],
      "execution_count": 85,
      "outputs": [
        {
          "output_type": "execute_result",
          "data": {
            "text/plain": [
              "74.37997328222106"
            ]
          },
          "metadata": {
            "tags": []
          },
          "execution_count": 85
        }
      ]
    },
    {
      "cell_type": "code",
      "metadata": {
        "colab": {
          "base_uri": "https://localhost:8080/"
        },
        "id": "e2JwFLVFQbRm",
        "outputId": "94570a22-0912-489d-e50f-2d3e46bd6fd0"
      },
      "source": [
        "# Initializes parameters \"w\" and \"b\" randomly\n",
        "np.random.seed(42)\n",
        "b = np.random.randn(1)\n",
        "w = np.random.randn(61)\n",
        "n = x_train.shape[0]\n",
        "\n",
        "# Sets learning rate\n",
        "lr = 0.01\n",
        "\n",
        "# Defines number of epochs\n",
        "n_epochs = 500\n",
        "\n",
        "test_error =  y_test - np.sum((w * x_test) + b , axis = 1)\n",
        "test_mse = (test_error**2).mean()           \n",
        "print('init MSE : ',test_mse)\n",
        "              \n",
        "for epoch in range(n_epochs):\n",
        "    error = y_train - np.sum((w * x_train) + b , axis = 1)\n",
        "    \n",
        "    if epoch % 100 == 0:    \n",
        "        print('epoch {} , MSE : {}'.format(epoch,(error**2).mean()))\n",
        "    \n",
        "    w_grad = [0] * x_train.shape[1]\n",
        "    b_grad = 0\n",
        "    \n",
        "    for i in range(x_train.shape[1]):\n",
        "        w_grad[i] = -1 * (x_train[:,i] * error).mean()\n",
        "        w[i] = w[i] - (lr * w_grad[i])\n",
        "        \n",
        "    b_grad = -1 * error.mean()\n",
        "    b = b - (lr*b_grad)\n",
        "              \n",
        "\n",
        "test_error = y_test - np.sum((w * x_test) + b , axis = 1)\n",
        "test_mse = (test_error**2).mean() \n",
        "print('Final MSE : ',test_mse)"
      ],
      "execution_count": 86,
      "outputs": [
        {
          "output_type": "stream",
          "text": [
            "init MSE :  2864.533572022381\n",
            "epoch 0 , MSE : 2846.6155515364417\n",
            "epoch 100 , MSE : 211.6692117847213\n",
            "epoch 200 , MSE : 201.22744883910778\n",
            "epoch 300 , MSE : 198.07700745123987\n",
            "epoch 400 , MSE : 196.16167356993242\n",
            "Final MSE :  189.41889087442718\n"
          ],
          "name": "stdout"
        }
      ]
    },
    {
      "cell_type": "code",
      "metadata": {
        "colab": {
          "base_uri": "https://localhost:8080/",
          "height": 204
        },
        "id": "wiBOGl7NQdKQ",
        "outputId": "952effc1-20f3-4d39-fff0-89fb4ea40e1e"
      },
      "source": [
        "y_pred = np.sum((w * x_test) + b , axis = 1)\n",
        "temp = pd.DataFrame({'test':y_test,'pred':y_pred})\n",
        "temp.head()"
      ],
      "execution_count": 87,
      "outputs": [
        {
          "output_type": "execute_result",
          "data": {
            "text/html": [
              "<div>\n",
              "<style scoped>\n",
              "    .dataframe tbody tr th:only-of-type {\n",
              "        vertical-align: middle;\n",
              "    }\n",
              "\n",
              "    .dataframe tbody tr th {\n",
              "        vertical-align: top;\n",
              "    }\n",
              "\n",
              "    .dataframe thead th {\n",
              "        text-align: right;\n",
              "    }\n",
              "</style>\n",
              "<table border=\"1\" class=\"dataframe\">\n",
              "  <thead>\n",
              "    <tr style=\"text-align: right;\">\n",
              "      <th></th>\n",
              "      <th>test</th>\n",
              "      <th>pred</th>\n",
              "    </tr>\n",
              "  </thead>\n",
              "  <tbody>\n",
              "    <tr>\n",
              "      <th>0</th>\n",
              "      <td>60.59</td>\n",
              "      <td>67.071252</td>\n",
              "    </tr>\n",
              "    <tr>\n",
              "      <th>1</th>\n",
              "      <td>63.85</td>\n",
              "      <td>72.416894</td>\n",
              "    </tr>\n",
              "    <tr>\n",
              "      <th>2</th>\n",
              "      <td>65.30</td>\n",
              "      <td>64.696226</td>\n",
              "    </tr>\n",
              "    <tr>\n",
              "      <th>3</th>\n",
              "      <td>77.70</td>\n",
              "      <td>76.365242</td>\n",
              "    </tr>\n",
              "    <tr>\n",
              "      <th>4</th>\n",
              "      <td>66.07</td>\n",
              "      <td>81.645825</td>\n",
              "    </tr>\n",
              "  </tbody>\n",
              "</table>\n",
              "</div>"
            ],
            "text/plain": [
              "    test       pred\n",
              "0  60.59  67.071252\n",
              "1  63.85  72.416894\n",
              "2  65.30  64.696226\n",
              "3  77.70  76.365242\n",
              "4  66.07  81.645825"
            ]
          },
          "metadata": {
            "tags": []
          },
          "execution_count": 87
        }
      ]
    },
    {
      "cell_type": "code",
      "metadata": {
        "colab": {
          "base_uri": "https://localhost:8080/"
        },
        "id": "6D3x5rHgQekp",
        "outputId": "7baac846-4739-48dd-838d-4aec16228578"
      },
      "source": [
        "temp['upper_range'] = temp['test'] * 1.2\n",
        "temp['lower_range'] = temp['test'] * 0.8\n",
        "\n",
        "temp[(temp['upper_range'] >=temp['pred']) & (temp['pred'] >= temp['lower_range'])].shape[0] * 100/temp.shape[0]"
      ],
      "execution_count": 88,
      "outputs": [
        {
          "output_type": "execute_result",
          "data": {
            "text/plain": [
              "77.10596116241699"
            ]
          },
          "metadata": {
            "tags": []
          },
          "execution_count": 88
        }
      ]
    },
    {
      "cell_type": "code",
      "metadata": {
        "id": "0Gi46XsDQgPi"
      },
      "source": [
        "from sklearn.linear_model import LinearRegression\n",
        "from sklearn.metrics import mean_squared_error\n",
        "Linear = LinearRegression()"
      ],
      "execution_count": 89,
      "outputs": []
    },
    {
      "cell_type": "code",
      "metadata": {
        "colab": {
          "base_uri": "https://localhost:8080/"
        },
        "id": "m-hHik8sQjSb",
        "outputId": "eb7f5480-4526-443e-8600-20219e962c45"
      },
      "source": [
        "Linear.fit(x_train,y_train)\n",
        "print(Linear.coef_)\n",
        "print(Linear.intercept_)"
      ],
      "execution_count": 90,
      "outputs": [
        {
          "output_type": "stream",
          "text": [
            "[ 6.42959370e+00  4.06229079e-01 -2.19429218e+00 -2.82513362e-01\n",
            "  9.10989583e-01 -1.31499230e+00  6.90091801e-01  6.16799354e+00\n",
            "  7.60939298e+00  7.44810080e-01  1.59141256e+01 -1.28676873e-02\n",
            " -1.60441236e-01 -1.01850659e+00 -1.70702711e+00  8.01688262e+10\n",
            "  8.01688262e+10  8.01688262e+10  8.47028687e+11  8.47028687e+11\n",
            "  8.47028687e+11  8.47028687e+11  3.36998480e+11  3.36998480e+11\n",
            "  3.36998480e+11 -8.78007701e+11 -8.78007701e+11 -8.78007701e+11\n",
            " -8.78007701e+11 -8.78007701e+11 -8.78007701e+11 -8.78007701e+11\n",
            " -8.78007701e+11 -8.78007701e+11 -8.78007701e+11 -8.78007701e+11\n",
            " -8.78007701e+11 -8.78007701e+11 -8.78007701e+11 -3.13436036e+11\n",
            " -3.13436036e+11 -3.13436036e+11 -3.13436036e+11 -3.13436036e+11\n",
            " -3.13436036e+11  3.33408294e+10  3.33408294e+10  3.33408294e+10\n",
            "  3.33408294e+10  3.33408294e+10  3.33408294e+10  3.33408294e+10\n",
            " -3.32451317e+11 -3.32451317e+11 -3.32451317e+11 -3.32451317e+11\n",
            " -3.32451317e+11 -3.32451317e+11 -3.32451317e+11 -3.32451317e+11\n",
            " -3.32451317e+11]\n",
            "226358232685.13773\n"
          ],
          "name": "stdout"
        }
      ]
    },
    {
      "cell_type": "code",
      "metadata": {
        "id": "Ytq4ozxuQktT"
      },
      "source": [
        "y_pred = Linear.predict(x_test)\n"
      ],
      "execution_count": 91,
      "outputs": []
    },
    {
      "cell_type": "code",
      "metadata": {
        "colab": {
          "base_uri": "https://localhost:8080/"
        },
        "id": "7gVsrQm8Ql99",
        "outputId": "0268b467-745e-476c-f6d5-2b776df4d83d"
      },
      "source": [
        "mean_squared_error(y_pred,y_test)\n"
      ],
      "execution_count": 92,
      "outputs": [
        {
          "output_type": "execute_result",
          "data": {
            "text/plain": [
              "179.21044699978748"
            ]
          },
          "metadata": {
            "tags": []
          },
          "execution_count": 92
        }
      ]
    },
    {
      "cell_type": "code",
      "metadata": {
        "colab": {
          "base_uri": "https://localhost:8080/",
          "height": 204
        },
        "id": "4pOFcIgyQnMf",
        "outputId": "c27386d4-dfa6-4485-9993-2ae6ac704111"
      },
      "source": [
        "temp = pd.DataFrame({'test':y_test,'pred':y_pred})\n",
        "temp.head()"
      ],
      "execution_count": 93,
      "outputs": [
        {
          "output_type": "execute_result",
          "data": {
            "text/html": [
              "<div>\n",
              "<style scoped>\n",
              "    .dataframe tbody tr th:only-of-type {\n",
              "        vertical-align: middle;\n",
              "    }\n",
              "\n",
              "    .dataframe tbody tr th {\n",
              "        vertical-align: top;\n",
              "    }\n",
              "\n",
              "    .dataframe thead th {\n",
              "        text-align: right;\n",
              "    }\n",
              "</style>\n",
              "<table border=\"1\" class=\"dataframe\">\n",
              "  <thead>\n",
              "    <tr style=\"text-align: right;\">\n",
              "      <th></th>\n",
              "      <th>test</th>\n",
              "      <th>pred</th>\n",
              "    </tr>\n",
              "  </thead>\n",
              "  <tbody>\n",
              "    <tr>\n",
              "      <th>0</th>\n",
              "      <td>60.59</td>\n",
              "      <td>68.312653</td>\n",
              "    </tr>\n",
              "    <tr>\n",
              "      <th>1</th>\n",
              "      <td>63.85</td>\n",
              "      <td>70.966125</td>\n",
              "    </tr>\n",
              "    <tr>\n",
              "      <th>2</th>\n",
              "      <td>65.30</td>\n",
              "      <td>64.768646</td>\n",
              "    </tr>\n",
              "    <tr>\n",
              "      <th>3</th>\n",
              "      <td>77.70</td>\n",
              "      <td>78.026367</td>\n",
              "    </tr>\n",
              "    <tr>\n",
              "      <th>4</th>\n",
              "      <td>66.07</td>\n",
              "      <td>81.726105</td>\n",
              "    </tr>\n",
              "  </tbody>\n",
              "</table>\n",
              "</div>"
            ],
            "text/plain": [
              "    test       pred\n",
              "0  60.59  68.312653\n",
              "1  63.85  70.966125\n",
              "2  65.30  64.768646\n",
              "3  77.70  78.026367\n",
              "4  66.07  81.726105"
            ]
          },
          "metadata": {
            "tags": []
          },
          "execution_count": 93
        }
      ]
    },
    {
      "cell_type": "code",
      "metadata": {
        "colab": {
          "base_uri": "https://localhost:8080/"
        },
        "id": "JxcxBE8FQoiw",
        "outputId": "5db5ef02-4fe6-45db-b8b2-66d33b143d08"
      },
      "source": [
        "temp['upper_range'] = temp['test'] * 1.2\n",
        "temp['lower_range'] = temp['test'] * 0.8\n",
        "\n",
        "temp[(temp['upper_range'] >=temp['pred']) & (temp['pred'] >= temp['lower_range'])].shape[0] * 100/temp.shape[0]"
      ],
      "execution_count": 94,
      "outputs": [
        {
          "output_type": "execute_result",
          "data": {
            "text/plain": [
              "77.94040773653947"
            ]
          },
          "metadata": {
            "tags": []
          },
          "execution_count": 94
        }
      ]
    },
    {
      "cell_type": "code",
      "metadata": {
        "colab": {
          "base_uri": "https://localhost:8080/"
        },
        "id": "zsVFWYqdQqDS",
        "outputId": "38435f6b-f622-4338-f096-0c43686b0366"
      },
      "source": [
        "x_pca_train.shape\n"
      ],
      "execution_count": 95,
      "outputs": [
        {
          "output_type": "execute_result",
          "data": {
            "text/plain": [
              "(206602, 18)"
            ]
          },
          "metadata": {
            "tags": []
          },
          "execution_count": 95
        }
      ]
    },
    {
      "cell_type": "code",
      "metadata": {
        "colab": {
          "base_uri": "https://localhost:8080/"
        },
        "id": "XsXZF-ZPQrWd",
        "outputId": "65e54a06-254a-4de6-ce73-1507f85a309f"
      },
      "source": [
        "# Initializes parameters \"w\" and \"b\" randomly\n",
        "np.random.seed(42)\n",
        "b = np.random.randn(1)\n",
        "w = np.random.randn(x_pca_train.shape[1])\n",
        "n = x_pca_train.shape[0]\n",
        "\n",
        "# Sets learning rate\n",
        "lr = 0.01\n",
        "\n",
        "# Defines number of epochs\n",
        "n_epochs = 500\n",
        "\n",
        "test_error =  y_test - np.sum((w * x_pca_test) + b , axis = 1)\n",
        "test_mse = (test_error**2).mean()           \n",
        "print('init MSE : ',test_mse)\n",
        "              \n",
        "for epoch in range(n_epochs):\n",
        "    error = y_train - np.sum((w * x_pca_train) + b , axis = 1)\n",
        "    \n",
        "    if epoch % 100 == 0:    \n",
        "        print('epoch {} , MSE : {}'.format(epoch,(error**2).mean()))\n",
        "    \n",
        "    w_grad = [0] * x_pca_train.shape[1]\n",
        "    b_grad = 0\n",
        "    \n",
        "    for i in range(x_pca_train.shape[1]):\n",
        "        w_grad[i] = -1 * (x_pca_train[:,i] * error).mean()\n",
        "        w[i] = w[i] - (lr * w_grad[i])\n",
        "        \n",
        "    b_grad = -1 * error.mean()\n",
        "    b = b - (lr*b_grad)\n",
        "              \n",
        "\n",
        "test_error = y_test - np.sum((w * x_pca_test) + b , axis = 1)\n",
        "test_mse = (test_error**2).mean() \n",
        "print('Final MSE : ',test_mse)"
      ],
      "execution_count": 96,
      "outputs": [
        {
          "output_type": "stream",
          "text": [
            "init MSE :  5114.318076291239\n",
            "epoch 0 , MSE : 5044.977261424031\n",
            "epoch 100 , MSE : 204.517477437801\n",
            "epoch 200 , MSE : 198.93790580630957\n",
            "epoch 300 , MSE : 197.62750203158876\n",
            "epoch 400 , MSE : 196.95600714334154\n",
            "Final MSE :  191.4811726465628\n"
          ],
          "name": "stdout"
        }
      ]
    },
    {
      "cell_type": "code",
      "metadata": {
        "colab": {
          "base_uri": "https://localhost:8080/",
          "height": 204
        },
        "id": "X1sqZP1VQtXe",
        "outputId": "502d381c-a259-411d-f541-23e3d76704b7"
      },
      "source": [
        "y_pred = np.sum((w * x_pca_test) + b , axis = 1)\n",
        "temp = pd.DataFrame({'test':y_test,'pred':y_pred})\n",
        "temp.head()"
      ],
      "execution_count": 97,
      "outputs": [
        {
          "output_type": "execute_result",
          "data": {
            "text/html": [
              "<div>\n",
              "<style scoped>\n",
              "    .dataframe tbody tr th:only-of-type {\n",
              "        vertical-align: middle;\n",
              "    }\n",
              "\n",
              "    .dataframe tbody tr th {\n",
              "        vertical-align: top;\n",
              "    }\n",
              "\n",
              "    .dataframe thead th {\n",
              "        text-align: right;\n",
              "    }\n",
              "</style>\n",
              "<table border=\"1\" class=\"dataframe\">\n",
              "  <thead>\n",
              "    <tr style=\"text-align: right;\">\n",
              "      <th></th>\n",
              "      <th>test</th>\n",
              "      <th>pred</th>\n",
              "    </tr>\n",
              "  </thead>\n",
              "  <tbody>\n",
              "    <tr>\n",
              "      <th>0</th>\n",
              "      <td>60.59</td>\n",
              "      <td>68.182875</td>\n",
              "    </tr>\n",
              "    <tr>\n",
              "      <th>1</th>\n",
              "      <td>63.85</td>\n",
              "      <td>73.256896</td>\n",
              "    </tr>\n",
              "    <tr>\n",
              "      <th>2</th>\n",
              "      <td>65.30</td>\n",
              "      <td>64.583441</td>\n",
              "    </tr>\n",
              "    <tr>\n",
              "      <th>3</th>\n",
              "      <td>77.70</td>\n",
              "      <td>75.126008</td>\n",
              "    </tr>\n",
              "    <tr>\n",
              "      <th>4</th>\n",
              "      <td>66.07</td>\n",
              "      <td>81.897331</td>\n",
              "    </tr>\n",
              "  </tbody>\n",
              "</table>\n",
              "</div>"
            ],
            "text/plain": [
              "    test       pred\n",
              "0  60.59  68.182875\n",
              "1  63.85  73.256896\n",
              "2  65.30  64.583441\n",
              "3  77.70  75.126008\n",
              "4  66.07  81.897331"
            ]
          },
          "metadata": {
            "tags": []
          },
          "execution_count": 97
        }
      ]
    },
    {
      "cell_type": "code",
      "metadata": {
        "colab": {
          "base_uri": "https://localhost:8080/"
        },
        "id": "CFkQWFssQuyW",
        "outputId": "db093eea-8f80-4905-f20e-bfe751f940e4"
      },
      "source": [
        "temp['upper_range'] = temp['test'] * 1.2\n",
        "temp['lower_range'] = temp['test'] * 0.8\n",
        "\n",
        "temp[(temp['upper_range'] >=temp['pred']) & (temp['pred'] >= temp['lower_range'])].shape[0] * 100/temp.shape[0]"
      ],
      "execution_count": 98,
      "outputs": [
        {
          "output_type": "execute_result",
          "data": {
            "text/plain": [
              "76.98398869334572"
            ]
          },
          "metadata": {
            "tags": []
          },
          "execution_count": 98
        }
      ]
    },
    {
      "cell_type": "code",
      "metadata": {
        "colab": {
          "base_uri": "https://localhost:8080/",
          "height": 224
        },
        "id": "SKk3US0uQwb7",
        "outputId": "926c36d1-e120-4e4a-c4ba-8e55b38e9a12"
      },
      "source": [
        "df.head()\n"
      ],
      "execution_count": 99,
      "outputs": [
        {
          "output_type": "execute_result",
          "data": {
            "text/html": [
              "<div>\n",
              "<style scoped>\n",
              "    .dataframe tbody tr th:only-of-type {\n",
              "        vertical-align: middle;\n",
              "    }\n",
              "\n",
              "    .dataframe tbody tr th {\n",
              "        vertical-align: top;\n",
              "    }\n",
              "\n",
              "    .dataframe thead th {\n",
              "        text-align: right;\n",
              "    }\n",
              "</style>\n",
              "<table border=\"1\" class=\"dataframe\">\n",
              "  <thead>\n",
              "    <tr style=\"text-align: right;\">\n",
              "      <th></th>\n",
              "      <th>serviceCharge</th>\n",
              "      <th>picturecount</th>\n",
              "      <th>pricetrend</th>\n",
              "      <th>telekomUploadSpeed</th>\n",
              "      <th>totalRent</th>\n",
              "      <th>yearConstructed</th>\n",
              "      <th>yearConstructedRange</th>\n",
              "      <th>baseRent</th>\n",
              "      <th>livingSpace</th>\n",
              "      <th>baseRentRange</th>\n",
              "      <th>geo_plz</th>\n",
              "      <th>noRooms</th>\n",
              "      <th>thermalChar</th>\n",
              "      <th>floor</th>\n",
              "      <th>numberOfFloors</th>\n",
              "      <th>noRoomsRange</th>\n",
              "      <th>telekomTvOffer_NONE</th>\n",
              "      <th>telekomTvOffer_ONE_YEAR_FREE</th>\n",
              "      <th>telekomTvOffer_ON_DEMAND</th>\n",
              "      <th>interiorQual_luxury</th>\n",
              "      <th>interiorQual_normal</th>\n",
              "      <th>interiorQual_simple</th>\n",
              "      <th>interiorQual_sophisticated</th>\n",
              "      <th>petsAllowed_negotiable</th>\n",
              "      <th>petsAllowed_no</th>\n",
              "      <th>petsAllowed_yes</th>\n",
              "      <th>regio1_edit_Baden_Württemberg</th>\n",
              "      <th>regio1_edit_Bayern</th>\n",
              "      <th>regio1_edit_Berlin</th>\n",
              "      <th>regio1_edit_Brandenburg</th>\n",
              "      <th>regio1_edit_Hessen</th>\n",
              "      <th>regio1_edit_Mecklenburg_Vorpommern</th>\n",
              "      <th>regio1_edit_Niedersachsen</th>\n",
              "      <th>regio1_edit_Nordrhein_Westfalen</th>\n",
              "      <th>regio1_edit_Rheinland_Pfalz</th>\n",
              "      <th>regio1_edit_Sachsen</th>\n",
              "      <th>regio1_edit_Sachsen_Anhalt</th>\n",
              "      <th>regio1_edit_Schleswig_Holstein</th>\n",
              "      <th>regio1_edit_Thüringen</th>\n",
              "      <th>regio1_edit_other</th>\n",
              "      <th>heatingType_edit_central_heating</th>\n",
              "      <th>heatingType_edit_district_heating</th>\n",
              "      <th>heatingType_edit_floor_heating</th>\n",
              "      <th>heatingType_edit_gas_heating</th>\n",
              "      <th>heatingType_edit_other</th>\n",
              "      <th>heatingType_edit_self_contained_central_heating</th>\n",
              "      <th>condition_edit_first_time_use</th>\n",
              "      <th>condition_edit_fully_renovated</th>\n",
              "      <th>condition_edit_mint_condition</th>\n",
              "      <th>condition_edit_modernized</th>\n",
              "      <th>condition_edit_other</th>\n",
              "      <th>condition_edit_refurbished</th>\n",
              "      <th>condition_edit_well_kept</th>\n",
              "      <th>typeOfFlat_edit_apartment</th>\n",
              "      <th>typeOfFlat_edit_ground_floor</th>\n",
              "      <th>typeOfFlat_edit_half_loft</th>\n",
              "      <th>typeOfFlat_edit_maisonette</th>\n",
              "      <th>typeOfFlat_edit_other</th>\n",
              "      <th>typeOfFlat_edit_penthouse</th>\n",
              "      <th>typeOfFlat_edit_raised_ground_floor</th>\n",
              "      <th>typeOfFlat_edit_roof_storey</th>\n",
              "      <th>typeOfFlat_edit_terraced_flat</th>\n",
              "    </tr>\n",
              "  </thead>\n",
              "  <tbody>\n",
              "    <tr>\n",
              "      <th>0</th>\n",
              "      <td>1.182582</td>\n",
              "      <td>-0.616843</td>\n",
              "      <td>0.697705</td>\n",
              "      <td>-1.234871</td>\n",
              "      <td>0.043970</td>\n",
              "      <td>-0.088681</td>\n",
              "      <td>-0.716696</td>\n",
              "      <td>-0.083932</td>\n",
              "      <td>86.00</td>\n",
              "      <td>0.126976</td>\n",
              "      <td>0.248967</td>\n",
              "      <td>1.423003</td>\n",
              "      <td>1.917976</td>\n",
              "      <td>-0.787933</td>\n",
              "      <td>-0.371019</td>\n",
              "      <td>1.539847</td>\n",
              "      <td>0</td>\n",
              "      <td>1</td>\n",
              "      <td>0</td>\n",
              "      <td>0</td>\n",
              "      <td>1</td>\n",
              "      <td>0</td>\n",
              "      <td>0</td>\n",
              "      <td>1</td>\n",
              "      <td>0</td>\n",
              "      <td>0</td>\n",
              "      <td>0</td>\n",
              "      <td>0</td>\n",
              "      <td>0</td>\n",
              "      <td>0</td>\n",
              "      <td>0</td>\n",
              "      <td>0</td>\n",
              "      <td>0</td>\n",
              "      <td>1</td>\n",
              "      <td>0</td>\n",
              "      <td>0</td>\n",
              "      <td>0</td>\n",
              "      <td>0</td>\n",
              "      <td>0</td>\n",
              "      <td>0</td>\n",
              "      <td>1</td>\n",
              "      <td>0</td>\n",
              "      <td>0</td>\n",
              "      <td>0</td>\n",
              "      <td>0</td>\n",
              "      <td>0</td>\n",
              "      <td>0</td>\n",
              "      <td>0</td>\n",
              "      <td>0</td>\n",
              "      <td>0</td>\n",
              "      <td>0</td>\n",
              "      <td>0</td>\n",
              "      <td>1</td>\n",
              "      <td>0</td>\n",
              "      <td>1</td>\n",
              "      <td>0</td>\n",
              "      <td>0</td>\n",
              "      <td>0</td>\n",
              "      <td>0</td>\n",
              "      <td>0</td>\n",
              "      <td>0</td>\n",
              "      <td>0</td>\n",
              "    </tr>\n",
              "    <tr>\n",
              "      <th>1</th>\n",
              "      <td>-0.182054</td>\n",
              "      <td>-0.258971</td>\n",
              "      <td>0.079133</td>\n",
              "      <td>-1.234871</td>\n",
              "      <td>0.162040</td>\n",
              "      <td>-2.876077</td>\n",
              "      <td>-1.129778</td>\n",
              "      <td>0.333799</td>\n",
              "      <td>89.00</td>\n",
              "      <td>0.582635</td>\n",
              "      <td>1.082717</td>\n",
              "      <td>0.392039</td>\n",
              "      <td>0.063039</td>\n",
              "      <td>0.036360</td>\n",
              "      <td>0.049512</td>\n",
              "      <td>0.466722</td>\n",
              "      <td>0</td>\n",
              "      <td>1</td>\n",
              "      <td>0</td>\n",
              "      <td>0</td>\n",
              "      <td>1</td>\n",
              "      <td>0</td>\n",
              "      <td>0</td>\n",
              "      <td>0</td>\n",
              "      <td>1</td>\n",
              "      <td>0</td>\n",
              "      <td>0</td>\n",
              "      <td>0</td>\n",
              "      <td>0</td>\n",
              "      <td>0</td>\n",
              "      <td>0</td>\n",
              "      <td>0</td>\n",
              "      <td>0</td>\n",
              "      <td>0</td>\n",
              "      <td>1</td>\n",
              "      <td>0</td>\n",
              "      <td>0</td>\n",
              "      <td>0</td>\n",
              "      <td>0</td>\n",
              "      <td>0</td>\n",
              "      <td>0</td>\n",
              "      <td>0</td>\n",
              "      <td>0</td>\n",
              "      <td>0</td>\n",
              "      <td>0</td>\n",
              "      <td>1</td>\n",
              "      <td>0</td>\n",
              "      <td>0</td>\n",
              "      <td>0</td>\n",
              "      <td>0</td>\n",
              "      <td>0</td>\n",
              "      <td>1</td>\n",
              "      <td>0</td>\n",
              "      <td>0</td>\n",
              "      <td>1</td>\n",
              "      <td>0</td>\n",
              "      <td>0</td>\n",
              "      <td>0</td>\n",
              "      <td>0</td>\n",
              "      <td>0</td>\n",
              "      <td>0</td>\n",
              "      <td>0</td>\n",
              "    </tr>\n",
              "    <tr>\n",
              "      <th>2</th>\n",
              "      <td>1.305523</td>\n",
              "      <td>-0.258971</td>\n",
              "      <td>-0.324284</td>\n",
              "      <td>-1.734516</td>\n",
              "      <td>0.916191</td>\n",
              "      <td>1.512589</td>\n",
              "      <td>2.174881</td>\n",
              "      <td>0.670021</td>\n",
              "      <td>83.80</td>\n",
              "      <td>1.038294</td>\n",
              "      <td>-1.303195</td>\n",
              "      <td>0.392039</td>\n",
              "      <td>0.063039</td>\n",
              "      <td>0.680365</td>\n",
              "      <td>0.360908</td>\n",
              "      <td>0.466722</td>\n",
              "      <td>0</td>\n",
              "      <td>1</td>\n",
              "      <td>0</td>\n",
              "      <td>0</td>\n",
              "      <td>0</td>\n",
              "      <td>0</td>\n",
              "      <td>1</td>\n",
              "      <td>1</td>\n",
              "      <td>0</td>\n",
              "      <td>0</td>\n",
              "      <td>0</td>\n",
              "      <td>0</td>\n",
              "      <td>0</td>\n",
              "      <td>0</td>\n",
              "      <td>0</td>\n",
              "      <td>0</td>\n",
              "      <td>0</td>\n",
              "      <td>0</td>\n",
              "      <td>0</td>\n",
              "      <td>1</td>\n",
              "      <td>0</td>\n",
              "      <td>0</td>\n",
              "      <td>0</td>\n",
              "      <td>0</td>\n",
              "      <td>0</td>\n",
              "      <td>0</td>\n",
              "      <td>1</td>\n",
              "      <td>0</td>\n",
              "      <td>0</td>\n",
              "      <td>0</td>\n",
              "      <td>1</td>\n",
              "      <td>0</td>\n",
              "      <td>0</td>\n",
              "      <td>0</td>\n",
              "      <td>0</td>\n",
              "      <td>0</td>\n",
              "      <td>0</td>\n",
              "      <td>1</td>\n",
              "      <td>0</td>\n",
              "      <td>0</td>\n",
              "      <td>0</td>\n",
              "      <td>0</td>\n",
              "      <td>0</td>\n",
              "      <td>0</td>\n",
              "      <td>0</td>\n",
              "      <td>0</td>\n",
              "    </tr>\n",
              "    <tr>\n",
              "      <th>3</th>\n",
              "      <td>-1.114555</td>\n",
              "      <td>-0.080034</td>\n",
              "      <td>-0.964373</td>\n",
              "      <td>0.737411</td>\n",
              "      <td>0.162040</td>\n",
              "      <td>-0.118334</td>\n",
              "      <td>-0.716696</td>\n",
              "      <td>-0.597435</td>\n",
              "      <td>58.15</td>\n",
              "      <td>-0.784342</td>\n",
              "      <td>-0.997523</td>\n",
              "      <td>0.392039</td>\n",
              "      <td>-0.736137</td>\n",
              "      <td>0.680365</td>\n",
              "      <td>0.049512</td>\n",
              "      <td>0.466722</td>\n",
              "      <td>0</td>\n",
              "      <td>1</td>\n",
              "      <td>0</td>\n",
              "      <td>0</td>\n",
              "      <td>1</td>\n",
              "      <td>0</td>\n",
              "      <td>0</td>\n",
              "      <td>1</td>\n",
              "      <td>0</td>\n",
              "      <td>0</td>\n",
              "      <td>0</td>\n",
              "      <td>0</td>\n",
              "      <td>0</td>\n",
              "      <td>0</td>\n",
              "      <td>0</td>\n",
              "      <td>0</td>\n",
              "      <td>0</td>\n",
              "      <td>0</td>\n",
              "      <td>0</td>\n",
              "      <td>1</td>\n",
              "      <td>0</td>\n",
              "      <td>0</td>\n",
              "      <td>0</td>\n",
              "      <td>0</td>\n",
              "      <td>0</td>\n",
              "      <td>1</td>\n",
              "      <td>0</td>\n",
              "      <td>0</td>\n",
              "      <td>0</td>\n",
              "      <td>0</td>\n",
              "      <td>0</td>\n",
              "      <td>0</td>\n",
              "      <td>0</td>\n",
              "      <td>0</td>\n",
              "      <td>0</td>\n",
              "      <td>0</td>\n",
              "      <td>1</td>\n",
              "      <td>0</td>\n",
              "      <td>0</td>\n",
              "      <td>0</td>\n",
              "      <td>0</td>\n",
              "      <td>1</td>\n",
              "      <td>0</td>\n",
              "      <td>0</td>\n",
              "      <td>0</td>\n",
              "      <td>0</td>\n",
              "    </tr>\n",
              "    <tr>\n",
              "      <th>4</th>\n",
              "      <td>-0.132878</td>\n",
              "      <td>1.709328</td>\n",
              "      <td>-0.464136</td>\n",
              "      <td>0.001624</td>\n",
              "      <td>0.163426</td>\n",
              "      <td>-0.533478</td>\n",
              "      <td>-1.129778</td>\n",
              "      <td>0.262479</td>\n",
              "      <td>84.97</td>\n",
              "      <td>0.582635</td>\n",
              "      <td>-0.328294</td>\n",
              "      <td>0.392039</td>\n",
              "      <td>2.126633</td>\n",
              "      <td>-0.787933</td>\n",
              "      <td>0.049512</td>\n",
              "      <td>0.466722</td>\n",
              "      <td>0</td>\n",
              "      <td>1</td>\n",
              "      <td>0</td>\n",
              "      <td>0</td>\n",
              "      <td>1</td>\n",
              "      <td>0</td>\n",
              "      <td>0</td>\n",
              "      <td>1</td>\n",
              "      <td>0</td>\n",
              "      <td>0</td>\n",
              "      <td>0</td>\n",
              "      <td>0</td>\n",
              "      <td>0</td>\n",
              "      <td>0</td>\n",
              "      <td>0</td>\n",
              "      <td>0</td>\n",
              "      <td>0</td>\n",
              "      <td>0</td>\n",
              "      <td>0</td>\n",
              "      <td>0</td>\n",
              "      <td>0</td>\n",
              "      <td>0</td>\n",
              "      <td>0</td>\n",
              "      <td>1</td>\n",
              "      <td>0</td>\n",
              "      <td>0</td>\n",
              "      <td>0</td>\n",
              "      <td>0</td>\n",
              "      <td>0</td>\n",
              "      <td>1</td>\n",
              "      <td>0</td>\n",
              "      <td>0</td>\n",
              "      <td>0</td>\n",
              "      <td>0</td>\n",
              "      <td>0</td>\n",
              "      <td>1</td>\n",
              "      <td>0</td>\n",
              "      <td>1</td>\n",
              "      <td>0</td>\n",
              "      <td>0</td>\n",
              "      <td>0</td>\n",
              "      <td>0</td>\n",
              "      <td>0</td>\n",
              "      <td>0</td>\n",
              "      <td>0</td>\n",
              "      <td>0</td>\n",
              "    </tr>\n",
              "  </tbody>\n",
              "</table>\n",
              "</div>"
            ],
            "text/plain": [
              "   serviceCharge  picturecount  pricetrend  telekomUploadSpeed  totalRent  \\\n",
              "0       1.182582     -0.616843    0.697705           -1.234871   0.043970   \n",
              "1      -0.182054     -0.258971    0.079133           -1.234871   0.162040   \n",
              "2       1.305523     -0.258971   -0.324284           -1.734516   0.916191   \n",
              "3      -1.114555     -0.080034   -0.964373            0.737411   0.162040   \n",
              "4      -0.132878      1.709328   -0.464136            0.001624   0.163426   \n",
              "\n",
              "   yearConstructed  yearConstructedRange  baseRent  livingSpace  \\\n",
              "0        -0.088681             -0.716696 -0.083932        86.00   \n",
              "1        -2.876077             -1.129778  0.333799        89.00   \n",
              "2         1.512589              2.174881  0.670021        83.80   \n",
              "3        -0.118334             -0.716696 -0.597435        58.15   \n",
              "4        -0.533478             -1.129778  0.262479        84.97   \n",
              "\n",
              "   baseRentRange   geo_plz   noRooms  thermalChar     floor  numberOfFloors  \\\n",
              "0       0.126976  0.248967  1.423003     1.917976 -0.787933       -0.371019   \n",
              "1       0.582635  1.082717  0.392039     0.063039  0.036360        0.049512   \n",
              "2       1.038294 -1.303195  0.392039     0.063039  0.680365        0.360908   \n",
              "3      -0.784342 -0.997523  0.392039    -0.736137  0.680365        0.049512   \n",
              "4       0.582635 -0.328294  0.392039     2.126633 -0.787933        0.049512   \n",
              "\n",
              "   noRoomsRange  telekomTvOffer_NONE  telekomTvOffer_ONE_YEAR_FREE  \\\n",
              "0      1.539847                    0                             1   \n",
              "1      0.466722                    0                             1   \n",
              "2      0.466722                    0                             1   \n",
              "3      0.466722                    0                             1   \n",
              "4      0.466722                    0                             1   \n",
              "\n",
              "   telekomTvOffer_ON_DEMAND  interiorQual_luxury  interiorQual_normal  \\\n",
              "0                         0                    0                    1   \n",
              "1                         0                    0                    1   \n",
              "2                         0                    0                    0   \n",
              "3                         0                    0                    1   \n",
              "4                         0                    0                    1   \n",
              "\n",
              "   interiorQual_simple  interiorQual_sophisticated  petsAllowed_negotiable  \\\n",
              "0                    0                           0                       1   \n",
              "1                    0                           0                       0   \n",
              "2                    0                           1                       1   \n",
              "3                    0                           0                       1   \n",
              "4                    0                           0                       1   \n",
              "\n",
              "   petsAllowed_no  petsAllowed_yes  regio1_edit_Baden_Württemberg  \\\n",
              "0               0                0                              0   \n",
              "1               1                0                              0   \n",
              "2               0                0                              0   \n",
              "3               0                0                              0   \n",
              "4               0                0                              0   \n",
              "\n",
              "   regio1_edit_Bayern  regio1_edit_Berlin  regio1_edit_Brandenburg  \\\n",
              "0                   0                   0                        0   \n",
              "1                   0                   0                        0   \n",
              "2                   0                   0                        0   \n",
              "3                   0                   0                        0   \n",
              "4                   0                   0                        0   \n",
              "\n",
              "   regio1_edit_Hessen  regio1_edit_Mecklenburg_Vorpommern  \\\n",
              "0                   0                                   0   \n",
              "1                   0                                   0   \n",
              "2                   0                                   0   \n",
              "3                   0                                   0   \n",
              "4                   0                                   0   \n",
              "\n",
              "   regio1_edit_Niedersachsen  regio1_edit_Nordrhein_Westfalen  \\\n",
              "0                          0                                1   \n",
              "1                          0                                0   \n",
              "2                          0                                0   \n",
              "3                          0                                0   \n",
              "4                          0                                0   \n",
              "\n",
              "   regio1_edit_Rheinland_Pfalz  regio1_edit_Sachsen  \\\n",
              "0                            0                    0   \n",
              "1                            1                    0   \n",
              "2                            0                    1   \n",
              "3                            0                    1   \n",
              "4                            0                    0   \n",
              "\n",
              "   regio1_edit_Sachsen_Anhalt  regio1_edit_Schleswig_Holstein  \\\n",
              "0                           0                               0   \n",
              "1                           0                               0   \n",
              "2                           0                               0   \n",
              "3                           0                               0   \n",
              "4                           0                               0   \n",
              "\n",
              "   regio1_edit_Thüringen  regio1_edit_other  heatingType_edit_central_heating  \\\n",
              "0                      0                  0                                 1   \n",
              "1                      0                  0                                 0   \n",
              "2                      0                  0                                 0   \n",
              "3                      0                  0                                 0   \n",
              "4                      0                  1                                 0   \n",
              "\n",
              "   heatingType_edit_district_heating  heatingType_edit_floor_heating  \\\n",
              "0                                  0                               0   \n",
              "1                                  0                               0   \n",
              "2                                  0                               1   \n",
              "3                                  1                               0   \n",
              "4                                  0                               0   \n",
              "\n",
              "   heatingType_edit_gas_heating  heatingType_edit_other  \\\n",
              "0                             0                       0   \n",
              "1                             0                       0   \n",
              "2                             0                       0   \n",
              "3                             0                       0   \n",
              "4                             0                       0   \n",
              "\n",
              "   heatingType_edit_self_contained_central_heating  \\\n",
              "0                                                0   \n",
              "1                                                1   \n",
              "2                                                0   \n",
              "3                                                0   \n",
              "4                                                1   \n",
              "\n",
              "   condition_edit_first_time_use  condition_edit_fully_renovated  \\\n",
              "0                              0                               0   \n",
              "1                              0                               0   \n",
              "2                              1                               0   \n",
              "3                              0                               0   \n",
              "4                              0                               0   \n",
              "\n",
              "   condition_edit_mint_condition  condition_edit_modernized  \\\n",
              "0                              0                          0   \n",
              "1                              0                          0   \n",
              "2                              0                          0   \n",
              "3                              0                          0   \n",
              "4                              0                          0   \n",
              "\n",
              "   condition_edit_other  condition_edit_refurbished  condition_edit_well_kept  \\\n",
              "0                     0                           0                         1   \n",
              "1                     0                           1                         0   \n",
              "2                     0                           0                         0   \n",
              "3                     0                           0                         1   \n",
              "4                     0                           1                         0   \n",
              "\n",
              "   typeOfFlat_edit_apartment  typeOfFlat_edit_ground_floor  \\\n",
              "0                          0                             1   \n",
              "1                          0                             1   \n",
              "2                          1                             0   \n",
              "3                          0                             0   \n",
              "4                          1                             0   \n",
              "\n",
              "   typeOfFlat_edit_half_loft  typeOfFlat_edit_maisonette  \\\n",
              "0                          0                           0   \n",
              "1                          0                           0   \n",
              "2                          0                           0   \n",
              "3                          0                           0   \n",
              "4                          0                           0   \n",
              "\n",
              "   typeOfFlat_edit_other  typeOfFlat_edit_penthouse  \\\n",
              "0                      0                          0   \n",
              "1                      0                          0   \n",
              "2                      0                          0   \n",
              "3                      1                          0   \n",
              "4                      0                          0   \n",
              "\n",
              "   typeOfFlat_edit_raised_ground_floor  typeOfFlat_edit_roof_storey  \\\n",
              "0                                    0                            0   \n",
              "1                                    0                            0   \n",
              "2                                    0                            0   \n",
              "3                                    0                            0   \n",
              "4                                    0                            0   \n",
              "\n",
              "   typeOfFlat_edit_terraced_flat  \n",
              "0                              0  \n",
              "1                              0  \n",
              "2                              0  \n",
              "3                              0  \n",
              "4                              0  "
            ]
          },
          "metadata": {
            "tags": []
          },
          "execution_count": 99
        }
      ]
    },
    {
      "cell_type": "code",
      "metadata": {
        "colab": {
          "base_uri": "https://localhost:8080/"
        },
        "id": "0QUbK4wNQyJZ",
        "outputId": "a65dfb6e-756d-4b34-a545-22a8d717c4db"
      },
      "source": [
        "X = df['noRooms'].values\n",
        "X.shape"
      ],
      "execution_count": 100,
      "outputs": [
        {
          "output_type": "execute_result",
          "data": {
            "text/plain": [
              "(258253,)"
            ]
          },
          "metadata": {
            "tags": []
          },
          "execution_count": 100
        }
      ]
    },
    {
      "cell_type": "code",
      "metadata": {
        "colab": {
          "base_uri": "https://localhost:8080/"
        },
        "id": "rGPL-z1CQzu2",
        "outputId": "7192b11d-5bce-4f6c-b939-ba456c73577e"
      },
      "source": [
        "X_train = X[:train_size]\n",
        "print(X_train.shape)\n",
        "X_test = X[train_size:]\n",
        "print(X_test.shape)"
      ],
      "execution_count": 101,
      "outputs": [
        {
          "output_type": "stream",
          "text": [
            "(206602,)\n",
            "(51651,)\n"
          ],
          "name": "stdout"
        }
      ]
    },
    {
      "cell_type": "code",
      "metadata": {
        "colab": {
          "base_uri": "https://localhost:8080/"
        },
        "id": "XLvTCrkFQ07B",
        "outputId": "34dc7acf-929f-4bcf-a3e1-c5158d6dc792"
      },
      "source": [
        "# Initializes parameters \"w\" and \"b\" randomly\n",
        "np.random.seed(42)\n",
        "b = np.random.randn(1)\n",
        "w = np.random.randn(1)\n",
        "n = X_train.shape[0]\n",
        "\n",
        "# Sets learning rate\n",
        "lr = 0.1\n",
        "\n",
        "# Defines number of epochs\n",
        "n_epochs = 500\n",
        "\n",
        "test_error =  y_test - ((w * X_test) + b)\n",
        "test_mse = (test_error**2).mean()           \n",
        "print('init MSE : ',test_mse)\n",
        "print('init learning rate : ',lr)\n",
        "              \n",
        "for epoch in range(n_epochs):\n",
        "    error = y_train - ((w * X_train) + b)\n",
        "    \n",
        "    if epoch % 100 == 0:    \n",
        "        print('epoch {} , MSE : {}'.format(epoch,(error**2).mean()))\n",
        "     \n",
        "    # adoptive learning rate\n",
        "    if epoch % 200 == 0:\n",
        "        lr = lr * 0.1\n",
        "        \n",
        "    \n",
        "    w_grad = 0 \n",
        "    b_grad = 0\n",
        "    \n",
        "    w_grad = -1 * (X_train * error).mean()\n",
        "    w = w - (lr * w_grad)\n",
        "        \n",
        "    b_grad = -1 * error.mean()\n",
        "    b = b - (lr*b_grad)\n",
        "              \n",
        "\n",
        "test_error = y_test - ((w * X_test) + b)\n",
        "test_mse = (test_error**2).mean() \n",
        "print('Final MSE : ',test_mse)\n",
        "print('Final learning rate : ',lr)"
      ],
      "execution_count": 102,
      "outputs": [
        {
          "output_type": "stream",
          "text": [
            "init MSE :  6279.427436261649\n",
            "init learning rate :  0.1\n",
            "epoch 0 , MSE : 6221.168635240242\n",
            "epoch 100 , MSE : 1172.9280553706399\n",
            "epoch 200 , MSE : 495.5630475635506\n",
            "epoch 300 , MSE : 476.5386639197813\n",
            "epoch 400 , MSE : 460.96207637695414\n",
            "Final MSE :  455.37908807328665\n",
            "Final learning rate :  0.00010000000000000003\n"
          ],
          "name": "stdout"
        }
      ]
    },
    {
      "cell_type": "code",
      "metadata": {
        "colab": {
          "base_uri": "https://localhost:8080/",
          "height": 204
        },
        "id": "BSCfWmgHQ3Os",
        "outputId": "ac86be44-2e90-46b0-ed93-810c0edde587"
      },
      "source": [
        "y_pred = (w * X_test) + b\n",
        "temp = pd.DataFrame({'test':y_test,'pred':y_pred})\n",
        "temp.head()"
      ],
      "execution_count": 103,
      "outputs": [
        {
          "output_type": "execute_result",
          "data": {
            "text/html": [
              "<div>\n",
              "<style scoped>\n",
              "    .dataframe tbody tr th:only-of-type {\n",
              "        vertical-align: middle;\n",
              "    }\n",
              "\n",
              "    .dataframe tbody tr th {\n",
              "        vertical-align: top;\n",
              "    }\n",
              "\n",
              "    .dataframe thead th {\n",
              "        text-align: right;\n",
              "    }\n",
              "</style>\n",
              "<table border=\"1\" class=\"dataframe\">\n",
              "  <thead>\n",
              "    <tr style=\"text-align: right;\">\n",
              "      <th></th>\n",
              "      <th>test</th>\n",
              "      <th>pred</th>\n",
              "    </tr>\n",
              "  </thead>\n",
              "  <tbody>\n",
              "    <tr>\n",
              "      <th>0</th>\n",
              "      <td>60.59</td>\n",
              "      <td>62.409355</td>\n",
              "    </tr>\n",
              "    <tr>\n",
              "      <th>1</th>\n",
              "      <td>63.85</td>\n",
              "      <td>73.470603</td>\n",
              "    </tr>\n",
              "    <tr>\n",
              "      <th>2</th>\n",
              "      <td>65.30</td>\n",
              "      <td>73.470603</td>\n",
              "    </tr>\n",
              "    <tr>\n",
              "      <th>3</th>\n",
              "      <td>77.70</td>\n",
              "      <td>73.470603</td>\n",
              "    </tr>\n",
              "    <tr>\n",
              "      <th>4</th>\n",
              "      <td>66.07</td>\n",
              "      <td>73.470603</td>\n",
              "    </tr>\n",
              "  </tbody>\n",
              "</table>\n",
              "</div>"
            ],
            "text/plain": [
              "    test       pred\n",
              "0  60.59  62.409355\n",
              "1  63.85  73.470603\n",
              "2  65.30  73.470603\n",
              "3  77.70  73.470603\n",
              "4  66.07  73.470603"
            ]
          },
          "metadata": {
            "tags": []
          },
          "execution_count": 103
        }
      ]
    },
    {
      "cell_type": "code",
      "metadata": {
        "colab": {
          "base_uri": "https://localhost:8080/"
        },
        "id": "xAdOCROiQ5KN",
        "outputId": "4a3f1dc2-9b46-4e8d-f55a-0738fd71142a"
      },
      "source": [
        "temp['upper_range'] = temp['test'] * 1.2\n",
        "temp['lower_range'] = temp['test'] * 0.8\n",
        "\n",
        "temp[(temp['upper_range'] >=temp['pred']) & (temp['pred'] >= temp['lower_range'])].shape[0] * 100/temp.shape[0]"
      ],
      "execution_count": 104,
      "outputs": [
        {
          "output_type": "execute_result",
          "data": {
            "text/plain": [
              "61.18371377127258"
            ]
          },
          "metadata": {
            "tags": []
          },
          "execution_count": 104
        }
      ]
    },
    {
      "cell_type": "code",
      "metadata": {
        "id": "gtHOH2OtQ6hE"
      },
      "source": [
        ""
      ],
      "execution_count": null,
      "outputs": []
    }
  ]
}